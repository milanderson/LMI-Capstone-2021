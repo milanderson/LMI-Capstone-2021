{
 "cells": [
  {
   "cell_type": "code",
   "execution_count": 1,
   "metadata": {},
   "outputs": [],
   "source": [
    "import conceptsWrapper as cw\n",
    "import pandas as pd\n",
    "import nltk"
   ]
  },
  {
   "cell_type": "code",
   "execution_count": 2,
   "metadata": {},
   "outputs": [
    {
     "name": "stdout",
     "output_type": "stream",
     "text": [
      "10:54:29 - 1...\n"
     ]
    }
   ],
   "source": [
    "cw.logEvents(\"1...\")\n",
    "conceptList = []\n",
    "conceptList = cw.CreateConcepts()"
   ]
  },
  {
   "cell_type": "code",
   "execution_count": 3,
   "metadata": {},
   "outputs": [],
   "source": [
    "data = {'doc_name' : 'dummyText.txt',\n",
    "            'doc_type' : 'test_type',\n",
    "            'cocept_id' : 0,\n",
    "            'phrase_type' : 'testLable',\n",
    "            'phrase_text' : 'test Phrase',\n",
    "            'time_stamp' : '01-01-1900 01:01:01'}\n",
    "dataDF = pd.DataFrame(data,index=[0])"
   ]
  },
  {
   "cell_type": "code",
   "execution_count": 4,
   "metadata": {},
   "outputs": [
    {
     "name": "stdout",
     "output_type": "stream",
     "text": [
      "10:54:44 - Start the iteration...0\n",
      "10:54:46 - Read the data...\n",
      "10:54:46 - Tokenized the data...\n",
      "10:56:05 - Processed All lables...\n",
      "10:56:05 - Start the iteration...1\n",
      "10:56:06 - Read the data...\n",
      "10:56:06 - Tokenized the data...\n",
      "10:56:27 - Processed All lables...\n",
      "10:56:27 - Start the iteration...2\n",
      "10:56:29 - Read the data...\n",
      "10:56:29 - Tokenized the data...\n",
      "10:56:44 - Processed All lables...\n",
      "10:56:44 - Start the iteration...3\n",
      "10:56:46 - Read the data...\n",
      "10:56:46 - Tokenized the data...\n",
      "10:57:08 - Processed All lables...\n",
      "10:57:08 - Start the iteration...4\n",
      "10:57:09 - Read the data...\n",
      "10:57:10 - Tokenized the data...\n",
      "10:57:49 - Processed All lables...\n",
      "10:57:49 - Printed Concept Objects...\n"
     ]
    }
   ],
   "source": [
    "\n",
    "for i in range(0,5,1):\n",
    "    cw.logEvents(\"Start the iteration...\" + str(i))\n",
    "    docName,data,docType = cw.ReadData(i)\n",
    "\n",
    "    cw.logEvents(\"Read the data...\")\n",
    "    data.replace(r\"\\n\", \" \")\n",
    "\n",
    "    # Create tokens\n",
    "    nltk_tokens = nltk.word_tokenize(data)\n",
    "\n",
    "    cw.logEvents(\"Tokenized the data...\")\n",
    "    # PG: If you directly access the fields in the concept object, I think this can be simplified even more:\n",
    "    #cw.UpdateConcepts(\"allLabels\", conceptList,nltk_tokens)\n",
    "    #cw.UpdateConcepts(\"allLabels\",conceptList,nltk_tokens,dataDF,docName)   \n",
    "\n",
    "    df = cw.UpdateConcepts(\"allLabels\",conceptList,nltk_tokens,docName,docType)\n",
    "    dataDF = dataDF.append(df)\n",
    "        \n",
    "    cw.logEvents(\"Processed All lables...\")\n",
    "\n",
    "    \n",
    "    # Acronyms\n",
    "    #cw.UpdateConcepts(\"acronym\", conceptList,nltk_tokens)\n",
    "    #cw.logEvents(\"Processed Acronyms...\")\n",
    "    # prefLabel\n",
    "    #cw.UpdateConcepts(\"prefLabel\",conceptList,nltk_tokens)\n",
    "    #cw.logEvents(\"Processed preflabels...\")\n",
    "    # AltLables\n",
    "    #cw.UpdateConcepts(\"altLabel\",conceptList,nltk_tokens)\n",
    "    #cw.logEvents(\"Processed altlabels...\")\n",
    "\n",
    "# Print the Cocepts List\n",
    "#cw.PrintConcepts(conceptList)\n",
    "cw.logEvents(\"Printed Concept Objects...\")"
   ]
  },
  {
   "cell_type": "code",
   "execution_count": 17,
   "metadata": {},
   "outputs": [
    {
     "data": {
      "text/html": [
       "<div>\n",
       "<style scoped>\n",
       "    .dataframe tbody tr th:only-of-type {\n",
       "        vertical-align: middle;\n",
       "    }\n",
       "\n",
       "    .dataframe tbody tr th {\n",
       "        vertical-align: top;\n",
       "    }\n",
       "\n",
       "    .dataframe thead th {\n",
       "        text-align: right;\n",
       "    }\n",
       "</style>\n",
       "<table border=\"1\" class=\"dataframe\">\n",
       "  <thead>\n",
       "    <tr style=\"text-align: right;\">\n",
       "      <th></th>\n",
       "      <th>doc_name</th>\n",
       "      <th>doc_type</th>\n",
       "      <th>cocept_id</th>\n",
       "      <th>phrase_type</th>\n",
       "      <th>phrase_text</th>\n",
       "      <th>time_stamp</th>\n",
       "      <th>phrase_count</th>\n",
       "    </tr>\n",
       "  </thead>\n",
       "  <tbody>\n",
       "    <tr>\n",
       "      <th>0</th>\n",
       "      <td>dummyText.txt</td>\n",
       "      <td>test_type</td>\n",
       "      <td>0</td>\n",
       "      <td>testLable</td>\n",
       "      <td>test Phrase</td>\n",
       "      <td>01-01-1900 01:01:01</td>\n",
       "      <td>NaN</td>\n",
       "    </tr>\n",
       "    <tr>\n",
       "      <th>0</th>\n",
       "      <td>dummyText.txt</td>\n",
       "      <td>test_type</td>\n",
       "      <td>0</td>\n",
       "      <td>testLable</td>\n",
       "      <td>test Phrase</td>\n",
       "      <td>01-01-1900 01:01:01</td>\n",
       "      <td>0.0</td>\n",
       "    </tr>\n",
       "    <tr>\n",
       "      <th>0</th>\n",
       "      <td>AI08_2016.txt</td>\n",
       "      <td>admin%20instructions</td>\n",
       "      <td>64</td>\n",
       "      <td>prefLabel</td>\n",
       "      <td>activity</td>\n",
       "      <td>2021-11-20 10:56:04.898274</td>\n",
       "      <td>2.0</td>\n",
       "    </tr>\n",
       "    <tr>\n",
       "      <th>0</th>\n",
       "      <td>AI08_2016.txt</td>\n",
       "      <td>admin%20instructions</td>\n",
       "      <td>80</td>\n",
       "      <td>prefLabel</td>\n",
       "      <td>agreement</td>\n",
       "      <td>2021-11-20 10:56:04.901259</td>\n",
       "      <td>2.0</td>\n",
       "    </tr>\n",
       "    <tr>\n",
       "      <th>0</th>\n",
       "      <td>AI08_2016.txt</td>\n",
       "      <td>admin%20instructions</td>\n",
       "      <td>108</td>\n",
       "      <td>altLabel</td>\n",
       "      <td>aircraft</td>\n",
       "      <td>2021-11-20 10:56:04.903253</td>\n",
       "      <td>1.0</td>\n",
       "    </tr>\n",
       "    <tr>\n",
       "      <th>...</th>\n",
       "      <td>...</td>\n",
       "      <td>...</td>\n",
       "      <td>...</td>\n",
       "      <td>...</td>\n",
       "      <td>...</td>\n",
       "      <td>...</td>\n",
       "      <td>...</td>\n",
       "    </tr>\n",
       "    <tr>\n",
       "      <th>0</th>\n",
       "      <td>a023p.txt</td>\n",
       "      <td>admin%20instructions</td>\n",
       "      <td>2564</td>\n",
       "      <td>altLabel</td>\n",
       "      <td>Under Secretary of Defense</td>\n",
       "      <td>2021-11-20 10:57:49.893271</td>\n",
       "      <td>2.0</td>\n",
       "    </tr>\n",
       "    <tr>\n",
       "      <th>0</th>\n",
       "      <td>a023p.txt</td>\n",
       "      <td>admin%20instructions</td>\n",
       "      <td>2589</td>\n",
       "      <td>altLabel</td>\n",
       "      <td>United States</td>\n",
       "      <td>2021-11-20 10:57:49.896263</td>\n",
       "      <td>2.0</td>\n",
       "    </tr>\n",
       "    <tr>\n",
       "      <th>0</th>\n",
       "      <td>a023p.txt</td>\n",
       "      <td>admin%20instructions</td>\n",
       "      <td>2589</td>\n",
       "      <td>acronym</td>\n",
       "      <td>U.S.</td>\n",
       "      <td>2021-11-20 10:57:49.898263</td>\n",
       "      <td>2.0</td>\n",
       "    </tr>\n",
       "    <tr>\n",
       "      <th>0</th>\n",
       "      <td>a023p.txt</td>\n",
       "      <td>admin%20instructions</td>\n",
       "      <td>2604</td>\n",
       "      <td>altLabel</td>\n",
       "      <td>United States Code</td>\n",
       "      <td>2021-11-20 10:57:49.900217</td>\n",
       "      <td>1.0</td>\n",
       "    </tr>\n",
       "    <tr>\n",
       "      <th>0</th>\n",
       "      <td>a023p.txt</td>\n",
       "      <td>admin%20instructions</td>\n",
       "      <td>2717</td>\n",
       "      <td>prefLabel</td>\n",
       "      <td>will</td>\n",
       "      <td>2021-11-20 10:57:49.903245</td>\n",
       "      <td>1.0</td>\n",
       "    </tr>\n",
       "  </tbody>\n",
       "</table>\n",
       "<p>273 rows × 7 columns</p>\n",
       "</div>"
      ],
      "text/plain": [
       "         doc_name              doc_type  cocept_id phrase_type  \\\n",
       "0   dummyText.txt             test_type          0   testLable   \n",
       "0   dummyText.txt             test_type          0   testLable   \n",
       "0   AI08_2016.txt  admin%20instructions         64   prefLabel   \n",
       "0   AI08_2016.txt  admin%20instructions         80   prefLabel   \n",
       "0   AI08_2016.txt  admin%20instructions        108    altLabel   \n",
       "..            ...                   ...        ...         ...   \n",
       "0       a023p.txt  admin%20instructions       2564    altLabel   \n",
       "0       a023p.txt  admin%20instructions       2589    altLabel   \n",
       "0       a023p.txt  admin%20instructions       2589     acronym   \n",
       "0       a023p.txt  admin%20instructions       2604    altLabel   \n",
       "0       a023p.txt  admin%20instructions       2717   prefLabel   \n",
       "\n",
       "                   phrase_text                  time_stamp  phrase_count  \n",
       "0                  test Phrase         01-01-1900 01:01:01           NaN  \n",
       "0                  test Phrase         01-01-1900 01:01:01           0.0  \n",
       "0                     activity  2021-11-20 10:56:04.898274           2.0  \n",
       "0                    agreement  2021-11-20 10:56:04.901259           2.0  \n",
       "0                     aircraft  2021-11-20 10:56:04.903253           1.0  \n",
       "..                         ...                         ...           ...  \n",
       "0   Under Secretary of Defense  2021-11-20 10:57:49.893271           2.0  \n",
       "0                United States  2021-11-20 10:57:49.896263           2.0  \n",
       "0                         U.S.  2021-11-20 10:57:49.898263           2.0  \n",
       "0           United States Code  2021-11-20 10:57:49.900217           1.0  \n",
       "0                         will  2021-11-20 10:57:49.903245           1.0  \n",
       "\n",
       "[273 rows x 7 columns]"
      ]
     },
     "execution_count": 17,
     "metadata": {},
     "output_type": "execute_result"
    }
   ],
   "source": [
    "dataDF"
   ]
  },
  {
   "cell_type": "code",
   "execution_count": null,
   "metadata": {},
   "outputs": [],
   "source": [
    "\n",
    "dataDF.to_csv('concepts_data_1233_to_1325.csv')"
   ]
  },
  {
   "cell_type": "code",
   "execution_count": null,
   "metadata": {},
   "outputs": [],
   "source": [
    "cw.PrintConcepts(conceptList)"
   ]
  },
  {
   "cell_type": "code",
   "execution_count": null,
   "metadata": {},
   "outputs": [],
   "source": [
    "testDF = pd.read_csv('concepts_data_200_to_500.csv')"
   ]
  },
  {
   "cell_type": "code",
   "execution_count": null,
   "metadata": {},
   "outputs": [],
   "source": [
    "testDF"
   ]
  },
  {
   "cell_type": "code",
   "execution_count": null,
   "metadata": {},
   "outputs": [],
   "source": [
    "testDF.query(\"doc_name == '510576p.txt'\").groupby('doc_name').count()"
   ]
  },
  {
   "cell_type": "code",
   "execution_count": null,
   "metadata": {},
   "outputs": [],
   "source": [
    "testDF.groupby(['doc_name'])['min','max']"
   ]
  },
  {
   "cell_type": "code",
   "execution_count": null,
   "metadata": {},
   "outputs": [],
   "source": [
    "testDF.query(\"doc_name == '510576p.txt'\")['time_stamp'].max()"
   ]
  },
  {
   "cell_type": "code",
   "execution_count": null,
   "metadata": {},
   "outputs": [],
   "source": [
    "fullDF = pd.read_csv(\"full_dataframe.csv\")"
   ]
  },
  {
   "cell_type": "code",
   "execution_count": null,
   "metadata": {},
   "outputs": [],
   "source": [
    "testDF"
   ]
  },
  {
   "cell_type": "code",
   "execution_count": null,
   "metadata": {},
   "outputs": [],
   "source": [
    "fullDF\n"
   ]
  },
  {
   "cell_type": "code",
   "execution_count": null,
   "metadata": {},
   "outputs": [],
   "source": [
    "pd.merge(testDF, fullDF, left_on=\"doc_name\",right_on='file_name')"
   ]
  },
  {
   "cell_type": "code",
   "execution_count": null,
   "metadata": {},
   "outputs": [],
   "source": []
  }
 ],
 "metadata": {
  "kernelspec": {
   "display_name": "Python 3",
   "language": "python",
   "name": "python3"
  },
  "language_info": {
   "codemirror_mode": {
    "name": "ipython",
    "version": 3
   },
   "file_extension": ".py",
   "mimetype": "text/x-python",
   "name": "python",
   "nbconvert_exporter": "python",
   "pygments_lexer": "ipython3",
   "version": "3.8.5"
  }
 },
 "nbformat": 4,
 "nbformat_minor": 4
}
