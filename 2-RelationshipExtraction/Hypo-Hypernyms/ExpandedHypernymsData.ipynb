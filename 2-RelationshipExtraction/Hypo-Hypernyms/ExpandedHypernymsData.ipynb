{
 "cells": [
  {
   "cell_type": "code",
   "execution_count": 34,
   "id": "02720613-7607-44ee-aa08-1384bc3b8385",
   "metadata": {},
   "outputs": [
    {
     "name": "stdout",
     "output_type": "stream",
     "text": [
      "Requirement already satisfied: rdflib in c:\\users\\katie\\anaconda3\\lib\\site-packages (6.1.1)\n",
      "Requirement already satisfied: importlib-metadata in c:\\users\\katie\\anaconda3\\lib\\site-packages (from rdflib) (4.8.1)\n",
      "Requirement already satisfied: pyparsing in c:\\users\\katie\\anaconda3\\lib\\site-packages (from rdflib) (2.4.7)\n",
      "Requirement already satisfied: setuptools in c:\\users\\katie\\anaconda3\\lib\\site-packages (from rdflib) (58.0.4)\n",
      "Requirement already satisfied: isodate in c:\\users\\katie\\anaconda3\\lib\\site-packages (from rdflib) (0.6.1)\n",
      "Requirement already satisfied: zipp>=0.5 in c:\\users\\katie\\anaconda3\\lib\\site-packages (from importlib-metadata->rdflib) (3.5.0)\n",
      "Requirement already satisfied: typing-extensions>=3.6.4 in c:\\users\\katie\\anaconda3\\lib\\site-packages (from importlib-metadata->rdflib) (3.10.0.2)\n",
      "Requirement already satisfied: six in c:\\users\\katie\\anaconda3\\lib\\site-packages (from isodate->rdflib) (1.16.0)\n"
     ]
    }
   ],
   "source": [
    "!pip install rdflib"
   ]
  },
  {
   "cell_type": "code",
   "execution_count": 35,
   "id": "8067a854-a201-49cb-bd1b-a823e6a35f32",
   "metadata": {},
   "outputs": [],
   "source": [
    "from rdflib.graph import Graph\n",
    "from rdflib import URIRef"
   ]
  },
  {
   "cell_type": "code",
   "execution_count": 36,
   "id": "e3106404-9c76-4ecf-9d76-ae2d7cb79656",
   "metadata": {},
   "outputs": [
    {
     "data": {
      "text/plain": [
       "<Graph identifier=N44c41e84bf3047aea5c388c9e13ed2b4 (<class 'rdflib.graph.Graph'>)>"
      ]
     },
     "execution_count": 36,
     "metadata": {},
     "output_type": "execute_result"
    }
   ],
   "source": [
    "g = Graph()\n",
    "g.parse(\"en.lhd.raw.2016-04.nt\", format=\"nt\")"
   ]
  },
  {
   "cell_type": "code",
   "execution_count": 37,
   "id": "fd5a8d02-5b81-429d-9073-4bc4318472da",
   "metadata": {},
   "outputs": [
    {
     "name": "stdout",
     "output_type": "stream",
     "text": [
      "i: 2324; Error: Can't split 'http://dbpedia.org/Hangin''\n",
      "i: 3942; Error: Can't split 'http://dbpedia.org/Tillandsia_'Cooroy''\n",
      "i: 6027; Error: Can't split 'http://dbpedia.org/Tillandsia_'Amigo''\n",
      "i: 7378; Error: Can't split 'http://dbpedia.org/Triathlon_at_the_2010_Summer_Youth_Olympics_–_Girls''\n",
      "i: 7475; Error: Can't split 'http://dbpedia.org/Takeshis''\n"
     ]
    },
    {
     "ename": "KeyboardInterrupt",
     "evalue": "",
     "output_type": "error",
     "traceback": [
      "\u001b[1;31m---------------------------------------------------------------------------\u001b[0m",
      "\u001b[1;31mKeyboardInterrupt\u001b[0m                         Traceback (most recent call last)",
      "\u001b[1;32m<ipython-input-37-12c67fca585c>\u001b[0m in \u001b[0;36m<module>\u001b[1;34m\u001b[0m\n\u001b[0;32m      8\u001b[0m     \u001b[1;32mfor\u001b[0m \u001b[0mx\u001b[0m \u001b[1;32min\u001b[0m \u001b[1;33m[\u001b[0m\u001b[0ms\u001b[0m\u001b[1;33m,\u001b[0m \u001b[0mp\u001b[0m\u001b[1;33m,\u001b[0m \u001b[0mo\u001b[0m\u001b[1;33m]\u001b[0m\u001b[1;33m:\u001b[0m\u001b[1;33m\u001b[0m\u001b[1;33m\u001b[0m\u001b[0m\n\u001b[0;32m      9\u001b[0m         \u001b[1;32mtry\u001b[0m\u001b[1;33m:\u001b[0m\u001b[1;33m\u001b[0m\u001b[1;33m\u001b[0m\u001b[0m\n\u001b[1;32m---> 10\u001b[1;33m             \u001b[0mto_append\u001b[0m\u001b[1;33m.\u001b[0m\u001b[0mappend\u001b[0m\u001b[1;33m(\u001b[0m\u001b[0mg\u001b[0m\u001b[1;33m.\u001b[0m\u001b[0mqname\u001b[0m\u001b[1;33m(\u001b[0m\u001b[0mx\u001b[0m\u001b[1;33m)\u001b[0m \u001b[1;32mif\u001b[0m \u001b[0misinstance\u001b[0m\u001b[1;33m(\u001b[0m\u001b[0mx\u001b[0m\u001b[1;33m,\u001b[0m \u001b[0mURIRef\u001b[0m\u001b[1;33m)\u001b[0m \u001b[1;32melse\u001b[0m \u001b[0mx\u001b[0m\u001b[1;33m)\u001b[0m\u001b[1;33m\u001b[0m\u001b[1;33m\u001b[0m\u001b[0m\n\u001b[0m\u001b[0;32m     11\u001b[0m         \u001b[1;32mexcept\u001b[0m \u001b[0mException\u001b[0m \u001b[1;32mas\u001b[0m \u001b[0me\u001b[0m\u001b[1;33m:\u001b[0m\u001b[1;33m\u001b[0m\u001b[1;33m\u001b[0m\u001b[0m\n\u001b[0;32m     12\u001b[0m             \u001b[0mprint\u001b[0m\u001b[1;33m(\u001b[0m\u001b[1;34mf\"i: {i}; Error: {e}\"\u001b[0m\u001b[1;33m)\u001b[0m\u001b[1;33m\u001b[0m\u001b[1;33m\u001b[0m\u001b[0m\n",
      "\u001b[1;32m~\\anaconda3\\lib\\site-packages\\rdflib\\graph.py\u001b[0m in \u001b[0;36mqname\u001b[1;34m(self, uri)\u001b[0m\n\u001b[0;32m    998\u001b[0m \u001b[1;33m\u001b[0m\u001b[0m\n\u001b[0;32m    999\u001b[0m     \u001b[1;32mdef\u001b[0m \u001b[0mqname\u001b[0m\u001b[1;33m(\u001b[0m\u001b[0mself\u001b[0m\u001b[1;33m,\u001b[0m \u001b[0muri\u001b[0m\u001b[1;33m)\u001b[0m\u001b[1;33m:\u001b[0m\u001b[1;33m\u001b[0m\u001b[1;33m\u001b[0m\u001b[0m\n\u001b[1;32m-> 1000\u001b[1;33m         \u001b[1;32mreturn\u001b[0m \u001b[0mself\u001b[0m\u001b[1;33m.\u001b[0m\u001b[0mnamespace_manager\u001b[0m\u001b[1;33m.\u001b[0m\u001b[0mqname\u001b[0m\u001b[1;33m(\u001b[0m\u001b[0muri\u001b[0m\u001b[1;33m)\u001b[0m\u001b[1;33m\u001b[0m\u001b[1;33m\u001b[0m\u001b[0m\n\u001b[0m\u001b[0;32m   1001\u001b[0m \u001b[1;33m\u001b[0m\u001b[0m\n\u001b[0;32m   1002\u001b[0m     \u001b[1;32mdef\u001b[0m \u001b[0mcompute_qname\u001b[0m\u001b[1;33m(\u001b[0m\u001b[0mself\u001b[0m\u001b[1;33m,\u001b[0m \u001b[0muri\u001b[0m\u001b[1;33m,\u001b[0m \u001b[0mgenerate\u001b[0m\u001b[1;33m=\u001b[0m\u001b[1;32mTrue\u001b[0m\u001b[1;33m)\u001b[0m\u001b[1;33m:\u001b[0m\u001b[1;33m\u001b[0m\u001b[1;33m\u001b[0m\u001b[0m\n",
      "\u001b[1;32m~\\anaconda3\\lib\\site-packages\\rdflib\\namespace\\__init__.py\u001b[0m in \u001b[0;36mqname\u001b[1;34m(self, uri)\u001b[0m\n\u001b[0;32m    384\u001b[0m \u001b[1;33m\u001b[0m\u001b[0m\n\u001b[0;32m    385\u001b[0m     \u001b[1;32mdef\u001b[0m \u001b[0mqname\u001b[0m\u001b[1;33m(\u001b[0m\u001b[0mself\u001b[0m\u001b[1;33m,\u001b[0m \u001b[0muri\u001b[0m\u001b[1;33m)\u001b[0m\u001b[1;33m:\u001b[0m\u001b[1;33m\u001b[0m\u001b[1;33m\u001b[0m\u001b[0m\n\u001b[1;32m--> 386\u001b[1;33m         \u001b[0mprefix\u001b[0m\u001b[1;33m,\u001b[0m \u001b[0mnamespace\u001b[0m\u001b[1;33m,\u001b[0m \u001b[0mname\u001b[0m \u001b[1;33m=\u001b[0m \u001b[0mself\u001b[0m\u001b[1;33m.\u001b[0m\u001b[0mcompute_qname\u001b[0m\u001b[1;33m(\u001b[0m\u001b[0muri\u001b[0m\u001b[1;33m)\u001b[0m\u001b[1;33m\u001b[0m\u001b[1;33m\u001b[0m\u001b[0m\n\u001b[0m\u001b[0;32m    387\u001b[0m         \u001b[1;32mif\u001b[0m \u001b[0mprefix\u001b[0m \u001b[1;33m==\u001b[0m \u001b[1;34m\"\"\u001b[0m\u001b[1;33m:\u001b[0m\u001b[1;33m\u001b[0m\u001b[1;33m\u001b[0m\u001b[0m\n\u001b[0;32m    388\u001b[0m             \u001b[1;32mreturn\u001b[0m \u001b[0mname\u001b[0m\u001b[1;33m\u001b[0m\u001b[1;33m\u001b[0m\u001b[0m\n",
      "\u001b[1;32m~\\anaconda3\\lib\\site-packages\\rdflib\\namespace\\__init__.py\u001b[0m in \u001b[0;36mcompute_qname\u001b[1;34m(self, uri, generate)\u001b[0m\n\u001b[0;32m    424\u001b[0m     \u001b[1;32mdef\u001b[0m \u001b[0mcompute_qname\u001b[0m\u001b[1;33m(\u001b[0m\u001b[0mself\u001b[0m\u001b[1;33m,\u001b[0m \u001b[0muri\u001b[0m\u001b[1;33m,\u001b[0m \u001b[0mgenerate\u001b[0m\u001b[1;33m=\u001b[0m\u001b[1;32mTrue\u001b[0m\u001b[1;33m)\u001b[0m\u001b[1;33m:\u001b[0m\u001b[1;33m\u001b[0m\u001b[1;33m\u001b[0m\u001b[0m\n\u001b[0;32m    425\u001b[0m \u001b[1;33m\u001b[0m\u001b[0m\n\u001b[1;32m--> 426\u001b[1;33m         \u001b[1;32mif\u001b[0m \u001b[1;32mnot\u001b[0m \u001b[0m_is_valid_uri\u001b[0m\u001b[1;33m(\u001b[0m\u001b[0muri\u001b[0m\u001b[1;33m)\u001b[0m\u001b[1;33m:\u001b[0m\u001b[1;33m\u001b[0m\u001b[1;33m\u001b[0m\u001b[0m\n\u001b[0m\u001b[0;32m    427\u001b[0m             raise ValueError(\n\u001b[0;32m    428\u001b[0m                 '\"{}\" does not look like a valid URI, cannot serialize this. Did you want to urlencode it?'.format(\n",
      "\u001b[1;31mKeyboardInterrupt\u001b[0m: "
     ]
    }
   ],
   "source": [
    "# Code adapted from:\n",
    "# https://stackoverflow.com/questions/69887338/how-do-i-convert-a-rdflib-term-uriref-back-into-a-string-that-includes-a-namespa\n",
    "data = []\n",
    "i = 0\n",
    "\n",
    "for s, p, o in g:\n",
    "    to_append = []\n",
    "    for x in [s, p, o]:\n",
    "        try:\n",
    "            to_append.append(g.qname(x) if isinstance(x, URIRef) else x)\n",
    "        except Exception as e:\n",
    "            print(f\"i: {i}; Error: {e}\")\n",
    "            continue  \n",
    "    i += 1\n",
    "    data.append(to_append)\n",
    "    if len(data) == 100000:\n",
    "        break"
   ]
  },
  {
   "cell_type": "code",
   "execution_count": null,
   "id": "783cce70-3393-4802-8101-41d78ae2ec64",
   "metadata": {},
   "outputs": [],
   "source": [
    "len(data)"
   ]
  },
  {
   "cell_type": "code",
   "execution_count": null,
   "id": "4abbb19d-a330-42f2-8426-69a5d6e682ef",
   "metadata": {},
   "outputs": [],
   "source": [
    "import pandas as pd\n",
    "df = pd.DataFrame(data, columns=[\"hyponym\", \"relationship\", \"hypernym\"])\n",
    "df.head()"
   ]
  },
  {
   "cell_type": "code",
   "execution_count": null,
   "id": "51cf4928-1797-41ff-9752-5283309ac7ee",
   "metadata": {},
   "outputs": [],
   "source": [
    "hyponym = df[\"hyponym\"].map(lambda x: x.lstrip(\"ns1:\"))"
   ]
  },
  {
   "cell_type": "code",
   "execution_count": null,
   "id": "61b751a3-491d-457f-9d04-fe9a1c961e30",
   "metadata": {},
   "outputs": [],
   "source": [
    "hyponym = hyponym.map(lambda x: \" \".join(x.split(\"_\")))"
   ]
  },
  {
   "cell_type": "code",
   "execution_count": null,
   "id": "e53fe3e9-2342-494e-926a-5e0327fc4914",
   "metadata": {},
   "outputs": [],
   "source": [
    "hyponym.head()"
   ]
  },
  {
   "cell_type": "code",
   "execution_count": null,
   "id": "12ea42f7-d7e9-42de-b2ff-d4bf27bd4474",
   "metadata": {},
   "outputs": [],
   "source": [
    "relationship = df[\"relationship\"].map(lambda x: x.lstrip(\"ns2:\"))\n",
    "relationship.head()"
   ]
  },
  {
   "cell_type": "code",
   "execution_count": null,
   "id": "96f9d02b-cb5b-44fc-a8c1-31f81bd91482",
   "metadata": {},
   "outputs": [],
   "source": [
    "df[\"hyponym\"] = hyponym\n",
    "df[\"relationship\"] = relationship\n",
    "df.head()"
   ]
  },
  {
   "cell_type": "code",
   "execution_count": null,
   "id": "c684d44f-e672-4a4c-97b9-076696fc3f32",
   "metadata": {},
   "outputs": [],
   "source": [
    "df = df.str.lower()"
   ]
  },
  {
   "cell_type": "code",
   "execution_count": null,
   "id": "002fea08-92ad-4d46-921a-d59734da2662",
   "metadata": {},
   "outputs": [],
   "source": [
    "final_df = df[df[\"relationship\"] == \"hypernym\"]\n",
    "len(final_df)"
   ]
  },
  {
   "cell_type": "code",
   "execution_count": null,
   "id": "b3dfe52d-212c-4fd4-a658-7c87e76dcfa1",
   "metadata": {},
   "outputs": [],
   "source": []
  },
  {
   "cell_type": "code",
   "execution_count": null,
   "id": "125382e9-2ce5-4310-8634-27236be46547",
   "metadata": {},
   "outputs": [],
   "source": []
  },
  {
   "cell_type": "code",
   "execution_count": null,
   "id": "475f2c22-74dc-4491-b6cd-3d9fe3904892",
   "metadata": {},
   "outputs": [],
   "source": []
  },
  {
   "cell_type": "code",
   "execution_count": null,
   "id": "1e072374-a611-48bf-8a83-b67b783b1d3e",
   "metadata": {},
   "outputs": [],
   "source": []
  },
  {
   "cell_type": "code",
   "execution_count": null,
   "id": "462f5109-4442-4bc0-99ea-eef932cc69f9",
   "metadata": {},
   "outputs": [],
   "source": []
  },
  {
   "cell_type": "code",
   "execution_count": 32,
   "id": "31e4dead-19d1-4571-923e-967de78ccde2",
   "metadata": {},
   "outputs": [],
   "source": [
    "import pickle"
   ]
  },
  {
   "cell_type": "code",
   "execution_count": 33,
   "id": "7bb13f24-872f-4df7-801b-be618455e77b",
   "metadata": {},
   "outputs": [],
   "source": [
    "with open(\"./embeddings/expanded_hypernyms.pkl\", \"wb\") as file:\n",
    "    pickle.dump(df, file)"
   ]
  },
  {
   "cell_type": "code",
   "execution_count": null,
   "id": "eae84fab-0525-4251-a242-7fc607ed8f35",
   "metadata": {},
   "outputs": [],
   "source": []
  }
 ],
 "metadata": {
  "kernelspec": {
   "display_name": "Python 3",
   "language": "python",
   "name": "python3"
  },
  "language_info": {
   "codemirror_mode": {
    "name": "ipython",
    "version": 3
   },
   "file_extension": ".py",
   "mimetype": "text/x-python",
   "name": "python",
   "nbconvert_exporter": "python",
   "pygments_lexer": "ipython3",
   "version": "3.7.11"
  }
 },
 "nbformat": 4,
 "nbformat_minor": 5
}
