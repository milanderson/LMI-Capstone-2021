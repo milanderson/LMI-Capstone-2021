{
 "cells": [
  {
   "cell_type": "markdown",
   "id": "4e463a13-2df7-4af3-bdd9-65339060dac6",
   "metadata": {},
   "source": [
    "# Hearst Pattern Classifier"
   ]
  },
  {
   "cell_type": "markdown",
   "id": "fdf2a429-8fee-4037-b1ef-7fcd90609335",
   "metadata": {},
   "source": [
    "This Jupyter Notebook is broken up into several sections to complete the following tasks:\n",
    "\n",
    "* Read in and clean $\\textit{hearst_pattern_extraction.csv}$ data containing the labelled and unlabelled hypo/hypernym word pairs created from $\\textit{Hearst.py}$.\n",
    "* Load word embedding model and convert labelled word pairs into vectors of length 400.\n",
    "* Train several classification models on the labelled data.\n",
    "* Export proposed hypo/hypernym word pairs for SME scoring.\n",
    "* Create graphs and tables for the final report."
   ]
  },
  {
   "cell_type": "markdown",
   "id": "13d027f8-65e6-42ec-a437-a00b72020187",
   "metadata": {},
   "source": [
    "## 1. Import Required Packages"
   ]
  },
  {
   "cell_type": "code",
   "execution_count": 1,
   "id": "99b3962c-f5b9-4b0c-96f7-fc0373a899a5",
   "metadata": {},
   "outputs": [
    {
     "name": "stderr",
     "output_type": "stream",
     "text": [
      "C:\\Users\\Katie\\anaconda3\\lib\\site-packages\\gensim\\similarities\\__init__.py:15: UserWarning: The gensim.similarities.levenshtein submodule is disabled, because the optional Levenshtein package <https://pypi.org/project/python-Levenshtein/> is unavailable. Install Levenhstein (e.g. `pip install python-Levenshtein`) to suppress this warning.\n",
      "  warnings.warn(msg)\n"
     ]
    }
   ],
   "source": [
    "import pandas as pd\n",
    "from gensim.models import KeyedVectors\n",
    "from gensim.models import Phrases\n",
    "import csv\n",
    "import sys\n",
    "import pandas as pd\n",
    "from ast import literal_eval\n",
    "import re\n",
    "import sys\n",
    "from sklearn import model_selection, naive_bayes, svm\n",
    "import codecs\n",
    "from sklearn.metrics import confusion_matrix\n",
    "import numpy as np\n",
    "import pickle\n",
    "from sklearn import metrics\n",
    "\n",
    "import matplotlib as mpl\n",
    "import matplotlib.pyplot as plt"
   ]
  },
  {
   "cell_type": "markdown",
   "id": "a1a2b30d-2377-4ed4-9eee-bc20e7d87bbc",
   "metadata": {},
   "source": [
    "## 2. Data Cleaning and Preparation"
   ]
  },
  {
   "cell_type": "code",
   "execution_count": 2,
   "id": "efcd5cc4-56e1-43b2-ab75-e120ccf68b2e",
   "metadata": {},
   "outputs": [
    {
     "data": {
      "text/html": [
       "<div>\n",
       "<style scoped>\n",
       "    .dataframe tbody tr th:only-of-type {\n",
       "        vertical-align: middle;\n",
       "    }\n",
       "\n",
       "    .dataframe tbody tr th {\n",
       "        vertical-align: top;\n",
       "    }\n",
       "\n",
       "    .dataframe thead th {\n",
       "        text-align: right;\n",
       "    }\n",
       "</style>\n",
       "<table border=\"1\" class=\"dataframe\">\n",
       "  <thead>\n",
       "    <tr style=\"text-align: right;\">\n",
       "      <th></th>\n",
       "      <th>index</th>\n",
       "      <th>randnum</th>\n",
       "      <th>hyponym</th>\n",
       "      <th>hypernym</th>\n",
       "      <th>tag</th>\n",
       "      <th>contains_relation</th>\n",
       "      <th>match</th>\n",
       "      <th>sentence</th>\n",
       "    </tr>\n",
       "  </thead>\n",
       "  <tbody>\n",
       "    <tr>\n",
       "      <th>0</th>\n",
       "      <td>0</td>\n",
       "      <td>0.039061</td>\n",
       "      <td>the proper process</td>\n",
       "      <td>supervisory and management official on discipl...</td>\n",
       "      <td>NaN</td>\n",
       "      <td>NaN</td>\n",
       "      <td>&lt;re.Match object; span=(222, 232), match=', in...</td>\n",
       "      <td>under NP_the_authority, NP_direction, and NP_c...</td>\n",
       "    </tr>\n",
       "    <tr>\n",
       "      <th>1</th>\n",
       "      <td>1</td>\n",
       "      <td>0.440877</td>\n",
       "      <td>procedure</td>\n",
       "      <td>supervisory and management official on discipl...</td>\n",
       "      <td>NaN</td>\n",
       "      <td>NaN</td>\n",
       "      <td>&lt;re.Match object; span=(222, 232), match=', in...</td>\n",
       "      <td>under NP_the_authority, NP_direction, and NP_c...</td>\n",
       "    </tr>\n",
       "    <tr>\n",
       "      <th>2</th>\n",
       "      <td>2</td>\n",
       "      <td>0.860673</td>\n",
       "      <td>a write reprimand</td>\n",
       "      <td>a formal disciplinary action</td>\n",
       "      <td>NaN</td>\n",
       "      <td>NaN</td>\n",
       "      <td>&lt;re.Match object; span=(31, 40), match=' inclu...</td>\n",
       "      <td>NP_a_formal_disciplinary_action include NP_a_w...</td>\n",
       "    </tr>\n",
       "    <tr>\n",
       "      <th>3</th>\n",
       "      <td>3</td>\n",
       "      <td>0.998941</td>\n",
       "      <td>reference to previous counseling</td>\n",
       "      <td>the reason for selection of the penalty</td>\n",
       "      <td>NaN</td>\n",
       "      <td>NaN</td>\n",
       "      <td>&lt;re.Match object; span=(148, 158), match=', in...</td>\n",
       "      <td>guide by NP_the_Douglas_NP_factor outline in N...</td>\n",
       "    </tr>\n",
       "    <tr>\n",
       "      <th>4</th>\n",
       "      <td>4</td>\n",
       "      <td>0.928205</td>\n",
       "      <td>disciplinary action</td>\n",
       "      <td>the reason for selection of the penalty</td>\n",
       "      <td>NaN</td>\n",
       "      <td>NaN</td>\n",
       "      <td>&lt;re.Match object; span=(148, 158), match=', in...</td>\n",
       "      <td>guide by NP_the_Douglas_NP_factor outline in N...</td>\n",
       "    </tr>\n",
       "  </tbody>\n",
       "</table>\n",
       "</div>"
      ],
      "text/plain": [
       "   index   randnum                           hyponym  \\\n",
       "0      0  0.039061                the proper process   \n",
       "1      1  0.440877                         procedure   \n",
       "2      2  0.860673                 a write reprimand   \n",
       "3      3  0.998941  reference to previous counseling   \n",
       "4      4  0.928205               disciplinary action   \n",
       "\n",
       "                                            hypernym  tag  contains_relation  \\\n",
       "0  supervisory and management official on discipl...  NaN                NaN   \n",
       "1  supervisory and management official on discipl...  NaN                NaN   \n",
       "2                       a formal disciplinary action  NaN                NaN   \n",
       "3            the reason for selection of the penalty  NaN                NaN   \n",
       "4            the reason for selection of the penalty  NaN                NaN   \n",
       "\n",
       "                                               match  \\\n",
       "0  <re.Match object; span=(222, 232), match=', in...   \n",
       "1  <re.Match object; span=(222, 232), match=', in...   \n",
       "2  <re.Match object; span=(31, 40), match=' inclu...   \n",
       "3  <re.Match object; span=(148, 158), match=', in...   \n",
       "4  <re.Match object; span=(148, 158), match=', in...   \n",
       "\n",
       "                                            sentence  \n",
       "0  under NP_the_authority, NP_direction, and NP_c...  \n",
       "1  under NP_the_authority, NP_direction, and NP_c...  \n",
       "2  NP_a_formal_disciplinary_action include NP_a_w...  \n",
       "3  guide by NP_the_Douglas_NP_factor outline in N...  \n",
       "4  guide by NP_the_Douglas_NP_factor outline in N...  "
      ]
     },
     "execution_count": 2,
     "metadata": {},
     "output_type": "execute_result"
    }
   ],
   "source": [
    "raw_hearst_patterns = pd.read_csv(\"../hearst_pattern_extraction.csv\")\n",
    "raw_hearst_patterns.head()"
   ]
  },
  {
   "cell_type": "code",
   "execution_count": 3,
   "id": "7c0550f6-0102-40a2-bdce-9fb9c0da04f2",
   "metadata": {},
   "outputs": [],
   "source": [
    "# Ensure all data is lowercase for embedding model\n",
    "raw_hearst_patterns[\"hyponym\"] = raw_hearst_patterns[\"hyponym\"].str.lower()\n",
    "raw_hearst_patterns[\"hypernym\"] = raw_hearst_patterns[\"hypernym\"].str.lower()"
   ]
  },
  {
   "cell_type": "code",
   "execution_count": 4,
   "id": "6e2ada47-90ed-437d-8e1b-9dc06923a7b5",
   "metadata": {},
   "outputs": [],
   "source": [
    "# # Test case for simplifying the classification to binary rather than multiclass\n",
    "# dictionary = {1: 0, 2: 1}\n",
    "# raw_hearst_patterns[\"tag\"] = raw_hearst_patterns[\"tag\"].replace(dictionary)\n",
    "# raw_hearst_patterns[\"tag\"].unique()"
   ]
  },
  {
   "cell_type": "code",
   "execution_count": 5,
   "id": "a6c84b19-4183-47b0-b35f-f67906c794a3",
   "metadata": {},
   "outputs": [],
   "source": [
    "# Separate labeled and unlabeled data\n",
    "labeled_set = raw_hearst_patterns[[\"hyponym\", \"hypernym\", \"tag\"]].dropna()\n",
    "unlabeled_set = raw_hearst_patterns[[\"hyponym\", \"hypernym\"]][raw_hearst_patterns[[\"hyponym\", \"hypernym\", \"tag\"]].isna().values]"
   ]
  },
  {
   "cell_type": "code",
   "execution_count": 6,
   "id": "6a32715f-576d-4c6a-925f-c255b7fc8f26",
   "metadata": {},
   "outputs": [
    {
     "data": {
      "text/plain": [
       "13253"
      ]
     },
     "execution_count": 6,
     "metadata": {},
     "output_type": "execute_result"
    }
   ],
   "source": [
    "len(unlabeled_set)"
   ]
  },
  {
   "cell_type": "code",
   "execution_count": 7,
   "id": "36acc8de-cc54-4e87-b4e2-0fccdb56e5e3",
   "metadata": {},
   "outputs": [],
   "source": [
    "# Reading in more hypernyms from pickle\n",
    "# with open(\"expanded_hypernyms.pkl\", \"rb\") as file:\n",
    "#     extra_data = pickle.load(file)"
   ]
  },
  {
   "cell_type": "code",
   "execution_count": 8,
   "id": "ee13756d-9c6b-4116-8309-391d358bb6bf",
   "metadata": {},
   "outputs": [],
   "source": [
    "# len(extra_data)"
   ]
  },
  {
   "cell_type": "code",
   "execution_count": 9,
   "id": "f0f60467-42a6-4478-a5bb-b8fd57a01aca",
   "metadata": {},
   "outputs": [],
   "source": [
    "# extra_data = extra_data[extra_data[\"relationship\"] == \"hypernym\"].loc[:,[\"hyponym\", \"hypernym\"]]\n",
    "# print(len(extra_data))\n",
    "# extra_data[\"hypernym\"] = extra_data[\"hypernym\"].str.lower()\n",
    "# extra_data[\"hyponym\"] = extra_data[\"hyponym\"].str.lower()\n",
    "# extra_data.head()"
   ]
  },
  {
   "cell_type": "markdown",
   "id": "cf3930a1-6219-4492-b029-a876e2a85ce2",
   "metadata": {},
   "source": [
    "## 3. Created Word-Pair Embedding Vectors"
   ]
  },
  {
   "cell_type": "code",
   "execution_count": 10,
   "id": "e4686e44-3422-46af-843d-8162754e1361",
   "metadata": {},
   "outputs": [],
   "source": [
    "model = KeyedVectors.load(\"custom_word_embeddings.bin\")"
   ]
  },
  {
   "cell_type": "code",
   "execution_count": 11,
   "id": "bf8a2864-4652-4609-8047-b3b11cb3aebc",
   "metadata": {},
   "outputs": [],
   "source": [
    "X = labeled_set[[\"hyponym\", \"hypernym\"]]\n",
    "y = labeled_set[\"tag\"]\n",
    "\n",
    "X_train, X_test, y_train, y_test = model_selection.train_test_split(X, y, test_size=0.20, random_state=42)"
   ]
  },
  {
   "cell_type": "code",
   "execution_count": 12,
   "id": "f7e46e5f-8118-4511-a01d-615bb2c5fab5",
   "metadata": {},
   "outputs": [
    {
     "data": {
      "text/html": [
       "<div>\n",
       "<style scoped>\n",
       "    .dataframe tbody tr th:only-of-type {\n",
       "        vertical-align: middle;\n",
       "    }\n",
       "\n",
       "    .dataframe tbody tr th {\n",
       "        vertical-align: top;\n",
       "    }\n",
       "\n",
       "    .dataframe thead th {\n",
       "        text-align: right;\n",
       "    }\n",
       "</style>\n",
       "<table border=\"1\" class=\"dataframe\">\n",
       "  <thead>\n",
       "    <tr style=\"text-align: right;\">\n",
       "      <th></th>\n",
       "      <th>hyponym</th>\n",
       "      <th>hypernym</th>\n",
       "    </tr>\n",
       "  </thead>\n",
       "  <tbody>\n",
       "    <tr>\n",
       "      <th>612</th>\n",
       "      <td>focus area from the joint staff</td>\n",
       "      <td>the cbrn mcrs</td>\n",
       "    </tr>\n",
       "    <tr>\n",
       "      <th>6914</th>\n",
       "      <td>appointment of hipaa privacy</td>\n",
       "      <td>responsibility in this issuance</td>\n",
       "    </tr>\n",
       "    <tr>\n",
       "      <th>11776</th>\n",
       "      <td>operating building</td>\n",
       "      <td>facility</td>\n",
       "    </tr>\n",
       "    <tr>\n",
       "      <th>8811</th>\n",
       "      <td>cartridge</td>\n",
       "      <td>roll microform</td>\n",
       "    </tr>\n",
       "    <tr>\n",
       "      <th>2262</th>\n",
       "      <td>a rigorous system of internal review</td>\n",
       "      <td>mcsc</td>\n",
       "    </tr>\n",
       "  </tbody>\n",
       "</table>\n",
       "</div>"
      ],
      "text/plain": [
       "                                    hyponym                         hypernym\n",
       "612         focus area from the joint staff                    the cbrn mcrs\n",
       "6914           appointment of hipaa privacy  responsibility in this issuance\n",
       "11776                    operating building                         facility\n",
       "8811                              cartridge                   roll microform\n",
       "2262   a rigorous system of internal review                             mcsc"
      ]
     },
     "execution_count": 12,
     "metadata": {},
     "output_type": "execute_result"
    }
   ],
   "source": [
    "X_train.head()"
   ]
  },
  {
   "cell_type": "code",
   "execution_count": 13,
   "id": "d3de9bb0-4bcf-4c9f-b88b-44c2f8c12559",
   "metadata": {},
   "outputs": [],
   "source": [
    "# Holds the word-pair embedding vectors\n",
    "train_x = []\n",
    "\n",
    "# Holds the indices to pull out the correct labels\n",
    "x_indices = []\n",
    "\n",
    "# Holds unmatched words to inspect for potential errors\n",
    "unmatched = []\n",
    "\n",
    "for i in range(len(X_train)-1):\n",
    "    try:\n",
    "        # Try to take the words as they are\n",
    "        train_x.append(list(model[X_train.iloc[i,0]]) + list(model[X_train.iloc[i,1]]))\n",
    "        x_indices.append(i)\n",
    "    except:\n",
    "        # Check if the first word has more than one word\n",
    "        if len(X_train.iloc[i,0].split()) > 1:\n",
    "            # If so, average the word embedding arrays\n",
    "            word_list1 = X_train.iloc[i,0].split()\n",
    "            try:\n",
    "                vector_array1 = np.array([list(model[word]) for word in word_list1])\n",
    "                final_array1 = list(np.average(vector_array1, axis=0))\n",
    "            except:\n",
    "                vector_list1 = []\n",
    "                for word in word_list1:\n",
    "                    try:\n",
    "                        vector_list1.append(model[word])\n",
    "                    except:\n",
    "                        vector_list1.append(np.full(200, .001))\n",
    "                vector_array1 = np.array(vector_list1)\n",
    "                final_array1 = list(np.average(vector_array1, axis=0))\n",
    "        else:\n",
    "            # Otherwise, try to take the embedding as is\n",
    "            try:\n",
    "                final_array1 = list(model[X_train.iloc[i,0]])\n",
    "            except:\n",
    "                unmatched.append(X_train.iloc[i,0] + \" - \" + X_train.iloc[i,1])\n",
    "                continue\n",
    "        # Check if the second word has more than one word\n",
    "        if len(X_train.iloc[i,1].split()) > 1:\n",
    "            # If so, average the word embedding arrays\n",
    "            word_list2 = X_train.iloc[i,1].split()\n",
    "            try:\n",
    "                vector_array2 = np.array([list(model[word]) for word in word_list2])\n",
    "                final_array2 = list(np.average(vector_array2, axis=0))\n",
    "            except:\n",
    "                vector_list2 = []\n",
    "                for word in word_list2:\n",
    "                    try:\n",
    "                        vector_list2.append(model[word])\n",
    "                    except:\n",
    "                        vector_list2.append(np.full(200, .001))\n",
    "                vector_array2 = np.array(vector_list2)\n",
    "                final_array2 = list(np.average(vector_array2, axis=0))\n",
    "        else:\n",
    "            # Otherwise, try to take the embedding as is\n",
    "            try:\n",
    "                final_array2 = list(model[X_train.iloc[i,1]])\n",
    "            except:\n",
    "                unmatched.append(X_train.iloc[i,0] + \" - \" + X_train.iloc[i,1])\n",
    "                continue\n",
    "        \n",
    "        train_x.append(final_array1 + final_array2)\n",
    "        x_indices.append(i)\n",
    "        \n",
    "            \n",
    "train_y = list(y_train.iloc[x_indices])"
   ]
  },
  {
   "cell_type": "code",
   "execution_count": 14,
   "id": "75039391-d61b-4c5a-b851-88b76d9c5f50",
   "metadata": {
    "tags": []
   },
   "outputs": [
    {
     "data": {
      "text/plain": [
       "318"
      ]
     },
     "execution_count": 14,
     "metadata": {},
     "output_type": "execute_result"
    }
   ],
   "source": [
    "len(train_x)"
   ]
  },
  {
   "cell_type": "code",
   "execution_count": 15,
   "id": "7354f1cc-3047-4d09-afce-65c160f84329",
   "metadata": {},
   "outputs": [
    {
     "data": {
      "text/plain": [
       "318"
      ]
     },
     "execution_count": 15,
     "metadata": {},
     "output_type": "execute_result"
    }
   ],
   "source": [
    "len(train_y)"
   ]
  },
  {
   "cell_type": "code",
   "execution_count": 16,
   "id": "b57ca37c-e2a8-4438-b679-05ef616ef10b",
   "metadata": {},
   "outputs": [
    {
     "data": {
      "text/plain": [
       "1"
      ]
     },
     "execution_count": 16,
     "metadata": {},
     "output_type": "execute_result"
    }
   ],
   "source": [
    "len(unmatched)"
   ]
  },
  {
   "cell_type": "code",
   "execution_count": 17,
   "id": "4310445a-29c3-4789-9aa5-0c8853e04141",
   "metadata": {},
   "outputs": [
    {
     "data": {
      "text/plain": [
       "['rug - sound absorbing material']"
      ]
     },
     "execution_count": 17,
     "metadata": {},
     "output_type": "execute_result"
    }
   ],
   "source": [
    "unmatched"
   ]
  },
  {
   "cell_type": "code",
   "execution_count": 18,
   "id": "22eaad3a-fa8e-46d4-b350-4f15c3d7a279",
   "metadata": {},
   "outputs": [],
   "source": [
    "train_x = train_x # + train_extended\n",
    "train_y = train_y # + train_y_extended"
   ]
  },
  {
   "cell_type": "code",
   "execution_count": 19,
   "id": "d6ed6940-ba8a-44ce-bff6-1b564eb9e902",
   "metadata": {},
   "outputs": [
    {
     "data": {
      "text/plain": [
       "0.5125786163522013"
      ]
     },
     "execution_count": 19,
     "metadata": {},
     "output_type": "execute_result"
    }
   ],
   "source": [
    "zero_class = train_y.count(0)/len(train_y)\n",
    "zero_class"
   ]
  },
  {
   "cell_type": "code",
   "execution_count": 20,
   "id": "5feaf15e-7cf4-4867-9f31-8de1606c68a2",
   "metadata": {},
   "outputs": [
    {
     "data": {
      "text/plain": [
       "0.1918238993710692"
      ]
     },
     "execution_count": 20,
     "metadata": {},
     "output_type": "execute_result"
    }
   ],
   "source": [
    "one_class = train_y.count(1)/len(train_y)\n",
    "one_class"
   ]
  },
  {
   "cell_type": "code",
   "execution_count": 21,
   "id": "872eb45d-13b7-4942-8d71-ca76b14500b7",
   "metadata": {},
   "outputs": [
    {
     "data": {
      "text/plain": [
       "0.29559748427672955"
      ]
     },
     "execution_count": 21,
     "metadata": {},
     "output_type": "execute_result"
    }
   ],
   "source": [
    "two_class = train_y.count(2)/len(train_y)\n",
    "two_class"
   ]
  },
  {
   "cell_type": "code",
   "execution_count": 22,
   "id": "654d5287-0e4b-4a2f-989c-0605b34967b4",
   "metadata": {},
   "outputs": [],
   "source": [
    "test_x = []\n",
    "xtest_indices = []\n",
    "unmatched_test = []\n",
    "\n",
    "for i in range(len(X_test)-1):\n",
    "    try:\n",
    "        test_x.append(list(model[X_test.iloc[i,0]]) + list(model[X_test.iloc[i,1]]))\n",
    "        xtest_indices.append(i)\n",
    "    except:\n",
    "        # Check if the first word has more than one word\n",
    "        if len(X_test.iloc[i,0].split()) > 1:\n",
    "            # If so, average the word embedding arrays\n",
    "            word_list1 = X_test.iloc[i,0].split()\n",
    "            try:\n",
    "                vector_array1 = np.array([list(model[word]) for word in word_list1])\n",
    "                final_array1 = list(np.average(vector_array1, axis=0))\n",
    "            except:\n",
    "                vector_list1 = []\n",
    "                for word in word_list1:\n",
    "                    try:\n",
    "                        vector_list1.append(model[word])\n",
    "                    except:\n",
    "                        vector_list1.append(np.full(200, .001))\n",
    "                vector_array1 = np.array(vector_list1)\n",
    "                final_array1 = list(np.average(vector_array1, axis=0))\n",
    "        else:\n",
    "            # Otherwise, try to take the embedding as is\n",
    "            try:\n",
    "                final_array1 = list(model[X_test.iloc[i,0]])\n",
    "            except:\n",
    "                unmatched_test.append(X_test.iloc[i,0] + \" - \" + X_test.iloc[i,1])\n",
    "                continue\n",
    "        # Check if the second word has more than one word\n",
    "        if len(X_test.iloc[i,1].split()) > 1:\n",
    "            # If so, average the word embedding arrays\n",
    "            word_list2 = X_test.iloc[i,1].split()\n",
    "            try:\n",
    "                vector_array2 = np.array([list(model[word]) for word in word_list2])\n",
    "                final_array2 = list(np.average(vector_array2, axis=0))\n",
    "            except:\n",
    "                vector_list2 = []\n",
    "                for word in word_list2:\n",
    "                    try:\n",
    "                        vector_list2.append(model[word])\n",
    "                    except:\n",
    "                        vector_list2.append(np.full(200, .001))\n",
    "                vector_array2 = np.array(vector_list2)\n",
    "                final_array2 = list(np.average(vector_array2, axis=0))\n",
    "        else:\n",
    "            # Otherwise, try to take the embedding as is\n",
    "            try:\n",
    "                final_array2 = list(model[X_test.iloc[i,1]])\n",
    "            except:\n",
    "                unmatched_test.append(X_test.iloc[i,0] + \" - \" + X_test.iloc[i,1])\n",
    "                continue\n",
    "        \n",
    "        test_x.append(final_array1 + final_array2)\n",
    "        xtest_indices.append(i)\n",
    "\n",
    "test_y = list(y_test.iloc[xtest_indices])"
   ]
  },
  {
   "cell_type": "code",
   "execution_count": 23,
   "id": "39e3d0c2-e7bc-4593-8873-9b9470a466d4",
   "metadata": {},
   "outputs": [
    {
     "data": {
      "text/plain": [
       "80"
      ]
     },
     "execution_count": 23,
     "metadata": {},
     "output_type": "execute_result"
    }
   ],
   "source": [
    "len(test_x)"
   ]
  },
  {
   "cell_type": "code",
   "execution_count": 24,
   "id": "0cea9c9c-0bbb-42c8-b4e6-8ed813215cc6",
   "metadata": {},
   "outputs": [
    {
     "data": {
      "text/plain": [
       "0"
      ]
     },
     "execution_count": 24,
     "metadata": {},
     "output_type": "execute_result"
    }
   ],
   "source": [
    "len(unmatched_test)"
   ]
  },
  {
   "cell_type": "markdown",
   "id": "2401ac7f-0f46-4481-9ae8-80fe16c3b979",
   "metadata": {},
   "source": [
    "## Support Vector Machine (SVM)"
   ]
  },
  {
   "cell_type": "code",
   "execution_count": 25,
   "id": "ba7e3bb6-38e0-46d5-8a2f-12298e304a13",
   "metadata": {},
   "outputs": [],
   "source": [
    "SVM = svm.SVC(C=0.1, kernel='linear',\n",
    "              class_weight={0: zero_class, 1: one_class, 2: two_class})\n",
    "# SVM = svm.SVC(C=0.1, kernel='linear',\n",
    "#               class_weight={0: zero_class, 1: two_class})"
   ]
  },
  {
   "cell_type": "code",
   "execution_count": 26,
   "id": "61a6b8cf-ed23-4ec4-b910-170fa25a3228",
   "metadata": {},
   "outputs": [
    {
     "data": {
      "text/plain": [
       "SVC(C=0.1,\n",
       "    class_weight={0: 0.5125786163522013, 1: 0.1918238993710692,\n",
       "                  2: 0.29559748427672955},\n",
       "    kernel='linear')"
      ]
     },
     "execution_count": 26,
     "metadata": {},
     "output_type": "execute_result"
    }
   ],
   "source": [
    "SVM.fit(train_x, train_y)"
   ]
  },
  {
   "cell_type": "code",
   "execution_count": 27,
   "id": "d0c75c83-b839-49cb-90ae-13b59162cb6d",
   "metadata": {},
   "outputs": [
    {
     "name": "stdout",
     "output_type": "stream",
     "text": [
      "(80,)\n"
     ]
    }
   ],
   "source": [
    "svm_preds = SVM.predict(test_x)\n",
    "print(svm_preds.shape)"
   ]
  },
  {
   "cell_type": "code",
   "execution_count": 28,
   "id": "f2601a21-fd3b-4141-b241-0176006cd5fa",
   "metadata": {},
   "outputs": [],
   "source": [
    "results_svm = confusion_matrix(test_y, svm_preds)"
   ]
  },
  {
   "cell_type": "code",
   "execution_count": 29,
   "id": "17405816-683b-49e2-9ef8-95065a82e089",
   "metadata": {},
   "outputs": [
    {
     "data": {
      "text/plain": [
       "array([[40,  0,  3],\n",
       "       [14,  1,  5],\n",
       "       [ 7,  1,  9]], dtype=int64)"
      ]
     },
     "execution_count": 29,
     "metadata": {},
     "output_type": "execute_result"
    }
   ],
   "source": [
    "results_svm"
   ]
  },
  {
   "cell_type": "code",
   "execution_count": 30,
   "id": "bd6159d5-78ca-4f1e-b4b3-e77b27cb3a6d",
   "metadata": {},
   "outputs": [],
   "source": [
    "svm_accuracy = (results_svm[0][0]+results_svm[1][1]+results_svm[2][2])/results_svm.sum()\n",
    "# (results[0][0]+results[1][1])/results.sum()"
   ]
  },
  {
   "cell_type": "code",
   "execution_count": 31,
   "id": "d5c40352-b60e-4518-b8a1-1314f58e549b",
   "metadata": {},
   "outputs": [],
   "source": [
    "svm_precision = metrics.precision_score(test_y, svm_preds, average='macro')"
   ]
  },
  {
   "cell_type": "code",
   "execution_count": 32,
   "id": "9870bd5b-a576-4635-a290-a8ec85bbd1e2",
   "metadata": {},
   "outputs": [],
   "source": [
    "svm_recall = metrics.recall_score(test_y, svm_preds, average='macro')"
   ]
  },
  {
   "cell_type": "code",
   "execution_count": 33,
   "id": "cfba5dc4-09a3-49ac-830a-a40253656692",
   "metadata": {},
   "outputs": [],
   "source": [
    "svm_f1score = metrics.f1_score(test_y, svm_preds, average = 'macro')"
   ]
  },
  {
   "cell_type": "code",
   "execution_count": 34,
   "id": "470ca3a2-f05b-4c0d-99b1-b4573ad38908",
   "metadata": {},
   "outputs": [],
   "source": [
    "from sklearn.metrics import roc_auc_score\n",
    "\n",
    "# Used from: https://www.kaggle.com/code/nkitgupta/evaluation-metrics-for-multi-class-classification/notebook\n",
    "\n",
    "def roc_auc_score_multiclass(actual_class, pred_class, average = \"macro\"):\n",
    "    \n",
    "    #creating a set of all the unique classes using the actual class list\n",
    "    unique_class = set(actual_class)\n",
    "    roc_auc_dict = {}\n",
    "    for per_class in unique_class:\n",
    "        \n",
    "        #creating a list of all the classes except the current class \n",
    "        other_class = [x for x in unique_class if x != per_class]\n",
    "\n",
    "        #marking the current class as 1 and all other classes as 0\n",
    "        new_actual_class = [0 if x in other_class else 1 for x in actual_class]\n",
    "        new_pred_class = [0 if x in other_class else 1 for x in pred_class]\n",
    "\n",
    "        #using the sklearn metrics method to calculate the roc_auc_score\n",
    "        roc_auc = roc_auc_score(new_actual_class, new_pred_class, average = average)\n",
    "        roc_auc_dict[per_class] = roc_auc\n",
    "\n",
    "    return roc_auc_dict"
   ]
  },
  {
   "cell_type": "code",
   "execution_count": 35,
   "id": "3613a222-a347-4c3c-b4d0-2e4ed3e26092",
   "metadata": {},
   "outputs": [],
   "source": [
    "svm_auc = roc_auc_score_multiclass(test_y, svm_preds)"
   ]
  },
  {
   "cell_type": "code",
   "execution_count": 36,
   "id": "468a1606-08f1-4193-9731-b97c250b2a97",
   "metadata": {},
   "outputs": [],
   "source": [
    "# full_test_data = X_test\n",
    "# acc_test = full_test_data.iloc[xtest_indices,:]\n",
    "# acc_test[\"preds\"] = preds\n",
    "# acc_test[\"label\"] = test_y\n",
    "# acc_test[acc_test[\"label\"] == 1].sample(10)"
   ]
  },
  {
   "cell_type": "markdown",
   "id": "fa52a743-2d8a-41a9-992d-0f3e8c13dce0",
   "metadata": {},
   "source": [
    "## Neural Network Approach"
   ]
  },
  {
   "cell_type": "code",
   "execution_count": 37,
   "id": "cd423f1a-c58a-4e2b-b887-42e68ef9c4d3",
   "metadata": {},
   "outputs": [],
   "source": [
    "import tensorflow as tf\n",
    "from tensorflow import keras"
   ]
  },
  {
   "cell_type": "code",
   "execution_count": 38,
   "id": "13a3f3d7-9bc6-4fcb-9aa4-b0a720afb51a",
   "metadata": {},
   "outputs": [
    {
     "name": "stdout",
     "output_type": "stream",
     "text": [
      "(318, 400)\n",
      "(318,)\n"
     ]
    }
   ],
   "source": [
    "[[train_x[0][:1000], train_x[0][1000:]]]\n",
    "\n",
    "nn_train_x = np.array(train_x)\n",
    "print(nn_train_x.shape)\n",
    "nn_train_y = np.array(train_y)\n",
    "print(nn_train_y.shape)"
   ]
  },
  {
   "cell_type": "code",
   "execution_count": 39,
   "id": "4b5af517-5933-4473-ab20-63035fde682f",
   "metadata": {},
   "outputs": [
    {
     "name": "stdout",
     "output_type": "stream",
     "text": [
      "(80, 400)\n",
      "(80,)\n"
     ]
    }
   ],
   "source": [
    "nn_test_x = np.array(test_x)\n",
    "print(nn_test_x.shape)\n",
    "nn_test_y = np.array(test_y)\n",
    "print(nn_test_y.shape)"
   ]
  },
  {
   "cell_type": "code",
   "execution_count": 40,
   "id": "be06b993-f1bf-4653-8a5c-21e784f0967b",
   "metadata": {},
   "outputs": [
    {
     "name": "stdout",
     "output_type": "stream",
     "text": [
      "Epoch 1/100\n",
      "8/8 [==============================] - 3s 50ms/step - loss: 0.3808 - accuracy: 0.4882 - val_loss: 1.1832 - val_accuracy: 0.4844\n",
      "Epoch 2/100\n",
      "8/8 [==============================] - 0s 16ms/step - loss: 0.2185 - accuracy: 0.6417 - val_loss: 1.1993 - val_accuracy: 0.5625\n",
      "Epoch 3/100\n",
      "8/8 [==============================] - 0s 16ms/step - loss: 0.1535 - accuracy: 0.8268 - val_loss: 1.4026 - val_accuracy: 0.5000\n",
      "Epoch 4/100\n",
      "8/8 [==============================] - 0s 32ms/step - loss: 0.1142 - accuracy: 0.7992 - val_loss: 1.2230 - val_accuracy: 0.4844\n"
     ]
    }
   ],
   "source": [
    "from functools import partial\n",
    "\n",
    "keras.backend.clear_session()\n",
    "tf.random.set_seed(42)\n",
    "\n",
    "model = keras.models.Sequential([\n",
    "    keras.layers.InputLayer((400,)),\n",
    "    keras.layers.Dense(1200, activation=\"relu\"),\n",
    "    #keras.layers.Dropout(0.1),\n",
    "    keras.layers.Dense(3, activation=\"softmax\")\n",
    "])\n",
    "\n",
    "opt = keras.optimizers.Adam(learning_rate=.001)\n",
    "model.compile(loss=\"sparse_categorical_crossentropy\", optimizer=opt, metrics=[\"accuracy\"])\n",
    "\n",
    "callback = tf.keras.callbacks.EarlyStopping(monitor='val_loss', patience=3)\n",
    "checkpoint_filepath = './tmp/checkpoint'\n",
    "model_checkpoint = tf.keras.callbacks.ModelCheckpoint(\n",
    "    filepath=checkpoint_filepath,\n",
    "    save_weights_only=True,\n",
    "    monitor='val_loss',\n",
    "    mode='max',\n",
    "    save_best_only=True)\n",
    "\n",
    "history = model.fit(nn_train_x, nn_train_y, validation_split=0.2, epochs=100, callbacks=[callback, model_checkpoint],\n",
    "                    class_weight={0: zero_class, 1: one_class, 2: two_class})"
   ]
  },
  {
   "cell_type": "code",
   "execution_count": 41,
   "id": "b8064406-e9c7-4b67-ae98-1f520c1532ff",
   "metadata": {},
   "outputs": [],
   "source": [
    "def plot_hist(hist):\n",
    "    plt.plot(hist.history[\"accuracy\"])\n",
    "    plt.plot(hist.history[\"val_accuracy\"])\n",
    "    plt.title(\"model accuracy\")\n",
    "    plt.ylabel(\"accuracy\")\n",
    "    plt.xlabel(\"epoch\")\n",
    "    plt.legend([\"train\", \"validation\"], loc=\"upper left\")\n",
    "    plt.show()"
   ]
  },
  {
   "cell_type": "code",
   "execution_count": 42,
   "id": "dc9d3c4e-576c-4e69-bb80-40f519da2622",
   "metadata": {},
   "outputs": [
    {
     "data": {
      "image/png": "[encoded data removed]",
      "text/plain": [
       "<Figure size 432x288 with 1 Axes>"
      ]
     },
     "metadata": {
      "needs_background": "light"
     },
     "output_type": "display_data"
    }
   ],
   "source": [
    "plot_hist(history)"
   ]
  },
  {
   "cell_type": "code",
   "execution_count": 43,
   "id": "49686d54-b657-4440-b0c8-de8ab20a8f36",
   "metadata": {},
   "outputs": [
    {
     "name": "stdout",
     "output_type": "stream",
     "text": [
      "3/3 [==============================] - 0s 10ms/step - loss: 1.1199 - accuracy: 0.5375\n"
     ]
    },
    {
     "data": {
      "text/plain": [
       "[1.119899034500122, 0.5375000238418579]"
      ]
     },
     "execution_count": 43,
     "metadata": {},
     "output_type": "execute_result"
    }
   ],
   "source": [
    "results_nn = model.evaluate(nn_test_x, nn_test_y)\n",
    "results_nn"
   ]
  },
  {
   "cell_type": "code",
   "execution_count": 44,
   "id": "5b6ea7b2-cb9e-4582-a535-75a7f99df7f9",
   "metadata": {},
   "outputs": [],
   "source": [
    "nn_preds = model.predict(nn_test_x)"
   ]
  },
  {
   "cell_type": "code",
   "execution_count": 45,
   "id": "3103d375-bc0f-447a-a42c-ecc86bf5cda6",
   "metadata": {},
   "outputs": [],
   "source": [
    "from sklearn import metrics\n",
    "nn_matrix = metrics.confusion_matrix(nn_test_y, nn_preds.argmax(axis=1))"
   ]
  },
  {
   "cell_type": "code",
   "execution_count": 46,
   "id": "1ec14891-c3c4-4179-a40e-b57700d2d1f0",
   "metadata": {},
   "outputs": [
    {
     "data": {
      "text/plain": [
       "array([[36,  0,  7],\n",
       "       [14,  1,  5],\n",
       "       [11,  0,  6]], dtype=int64)"
      ]
     },
     "execution_count": 46,
     "metadata": {},
     "output_type": "execute_result"
    }
   ],
   "source": [
    "nn_matrix"
   ]
  },
  {
   "cell_type": "code",
   "execution_count": 47,
   "id": "b48d6422-0c60-4e66-b907-9bf10b3bd7a4",
   "metadata": {},
   "outputs": [],
   "source": [
    "nn_accuracy = (nn_matrix[0][0]+nn_matrix[1][1]+nn_matrix[2][2])/nn_matrix.sum()"
   ]
  },
  {
   "cell_type": "code",
   "execution_count": 48,
   "id": "c063fe97-8667-45f4-9460-d9ec9bd2d668",
   "metadata": {},
   "outputs": [],
   "source": [
    "nn_precision = metrics.precision_score(nn_test_y, nn_preds.argmax(axis=1), average='macro')"
   ]
  },
  {
   "cell_type": "code",
   "execution_count": 49,
   "id": "9824c7f6-4332-465b-a2a7-2786ac2aef75",
   "metadata": {},
   "outputs": [],
   "source": [
    "nn_recall = metrics.recall_score(nn_test_y, nn_preds.argmax(axis=1), average='macro')"
   ]
  },
  {
   "cell_type": "code",
   "execution_count": 50,
   "id": "0eec3b0c-62f7-402f-920c-3cb3c878e45d",
   "metadata": {},
   "outputs": [],
   "source": [
    "nn_f1score = metrics.f1_score(nn_test_y, nn_preds.argmax(axis=1), average = 'macro')"
   ]
  },
  {
   "cell_type": "code",
   "execution_count": 51,
   "id": "20e8e3cb-2f2a-4040-bbf1-48b3425403bb",
   "metadata": {},
   "outputs": [],
   "source": [
    "nn_auc = roc_auc_score_multiclass(nn_test_y, nn_preds.argmax(axis=1))"
   ]
  },
  {
   "cell_type": "markdown",
   "id": "41940fdf-c788-4952-baa1-81f0c745b8c4",
   "metadata": {},
   "source": [
    "## K Nearest Neighbors"
   ]
  },
  {
   "cell_type": "code",
   "execution_count": 52,
   "id": "d162a99d-b03f-41d6-aa6f-8ccc89020a3e",
   "metadata": {},
   "outputs": [
    {
     "data": {
      "text/plain": [
       "KNeighborsClassifier(n_neighbors=3)"
      ]
     },
     "execution_count": 52,
     "metadata": {},
     "output_type": "execute_result"
    }
   ],
   "source": [
    "from sklearn.neighbors import KNeighborsClassifier\n",
    "\n",
    "knn = KNeighborsClassifier(n_neighbors=3)\n",
    "knn.fit(train_x, train_y)"
   ]
  },
  {
   "cell_type": "code",
   "execution_count": 53,
   "id": "4365b747-9351-4e04-ab86-1bd2dc24ed88",
   "metadata": {},
   "outputs": [],
   "source": [
    "knn_preds = knn.predict(test_x)"
   ]
  },
  {
   "cell_type": "code",
   "execution_count": 54,
   "id": "b9968d40-2f14-46d3-ae70-a51f2f0295aa",
   "metadata": {},
   "outputs": [
    {
     "data": {
      "text/plain": [
       "array([[31,  3,  9],\n",
       "       [11,  1,  8],\n",
       "       [11,  0,  6]], dtype=int64)"
      ]
     },
     "execution_count": 54,
     "metadata": {},
     "output_type": "execute_result"
    }
   ],
   "source": [
    "knn_results = metrics.confusion_matrix(test_y, knn_preds)\n",
    "knn_results"
   ]
  },
  {
   "cell_type": "code",
   "execution_count": 55,
   "id": "0f949aa2-be06-4ca2-a56a-23ccd183dda3",
   "metadata": {},
   "outputs": [],
   "source": [
    "knn_accuracy = (knn_results[0][0]+knn_results[1][1]+knn_results[2][2])/knn_results.sum()"
   ]
  },
  {
   "cell_type": "code",
   "execution_count": 56,
   "id": "9c55aa02-27d4-4367-bbdf-65351cf27245",
   "metadata": {},
   "outputs": [],
   "source": [
    "knn_precision = metrics.precision_score(test_y, knn_preds, average='macro')"
   ]
  },
  {
   "cell_type": "code",
   "execution_count": 57,
   "id": "efa6db4a-38c2-47ef-b23a-9610cd608434",
   "metadata": {},
   "outputs": [],
   "source": [
    "knn_recall = metrics.recall_score(test_y, knn_preds, average='macro')"
   ]
  },
  {
   "cell_type": "code",
   "execution_count": 58,
   "id": "e98a8d89-7564-4e1b-8139-66be7a81f76d",
   "metadata": {},
   "outputs": [],
   "source": [
    "knn_f1score = metrics.f1_score(test_y, knn_preds, average = 'macro')"
   ]
  },
  {
   "cell_type": "code",
   "execution_count": 59,
   "id": "34aee940-1d81-4f7a-aa36-eff42bc37962",
   "metadata": {},
   "outputs": [],
   "source": [
    "knn_auc = roc_auc_score_multiclass(test_y, knn_preds)"
   ]
  },
  {
   "cell_type": "markdown",
   "id": "4e865e24-9e2e-4d33-a6f8-a4e811724f0c",
   "metadata": {},
   "source": [
    "## Random Forest Classifier"
   ]
  },
  {
   "cell_type": "code",
   "execution_count": 60,
   "id": "79c9a181-c924-4c2a-8742-e9578148fe16",
   "metadata": {},
   "outputs": [
    {
     "data": {
      "text/plain": [
       "RandomForestClassifier(class_weight={0: 0.5125786163522013,\n",
       "                                     1: 0.1918238993710692,\n",
       "                                     2: 0.29559748427672955},\n",
       "                       max_depth=4, n_estimators=500)"
      ]
     },
     "execution_count": 60,
     "metadata": {},
     "output_type": "execute_result"
    }
   ],
   "source": [
    "from sklearn.ensemble import RandomForestClassifier\n",
    "\n",
    "rf = RandomForestClassifier(500, max_depth=4, class_weight={0: zero_class, 1: one_class, 2: two_class})\n",
    "rf.fit(train_x, train_y)"
   ]
  },
  {
   "cell_type": "code",
   "execution_count": 61,
   "id": "fec3a2d8-7153-4b27-9fbc-e5cf5654e503",
   "metadata": {},
   "outputs": [],
   "source": [
    "rf_preds = rf.predict(test_x)"
   ]
  },
  {
   "cell_type": "code",
   "execution_count": 62,
   "id": "caa491bc-b27c-4724-b893-43da36904a5e",
   "metadata": {},
   "outputs": [
    {
     "data": {
      "text/plain": [
       "array([[42,  0,  1],\n",
       "       [18,  0,  2],\n",
       "       [16,  0,  1]], dtype=int64)"
      ]
     },
     "execution_count": 62,
     "metadata": {},
     "output_type": "execute_result"
    }
   ],
   "source": [
    "rf_results = metrics.confusion_matrix(test_y, rf_preds)\n",
    "rf_results"
   ]
  },
  {
   "cell_type": "code",
   "execution_count": 63,
   "id": "420df032-4c76-4878-b3e3-9c7073fc4999",
   "metadata": {},
   "outputs": [],
   "source": [
    "rf_accuracy = (rf_results[0][0]+rf_results[1][1]+rf_results[2][2])/rf_results.sum()"
   ]
  },
  {
   "cell_type": "code",
   "execution_count": 64,
   "id": "bb8dfdbd-1d7d-4c4c-8f06-58375804676c",
   "metadata": {},
   "outputs": [
    {
     "name": "stderr",
     "output_type": "stream",
     "text": [
      "C:\\Users\\Katie\\anaconda3\\lib\\site-packages\\sklearn\\metrics\\_classification.py:1318: UndefinedMetricWarning: Precision is ill-defined and being set to 0.0 in labels with no predicted samples. Use `zero_division` parameter to control this behavior.\n",
      "  _warn_prf(average, modifier, msg_start, len(result))\n"
     ]
    }
   ],
   "source": [
    "rf_precision = metrics.precision_score(test_y, rf_preds, average='macro')"
   ]
  },
  {
   "cell_type": "code",
   "execution_count": 65,
   "id": "92adc470-69e2-4426-9d3d-bf74250ef3f0",
   "metadata": {},
   "outputs": [],
   "source": [
    "rf_recall = metrics.recall_score(test_y, rf_preds, average='macro')"
   ]
  },
  {
   "cell_type": "code",
   "execution_count": 66,
   "id": "ccc438ad-17d3-43a0-a3b3-54b96b14769a",
   "metadata": {},
   "outputs": [],
   "source": [
    "rf_f1score = metrics.f1_score(test_y, rf_preds, average = 'macro')"
   ]
  },
  {
   "cell_type": "code",
   "execution_count": 67,
   "id": "27008470-764a-4ccc-a064-2903d1ff735e",
   "metadata": {},
   "outputs": [],
   "source": [
    "rf_auc = roc_auc_score_multiclass(test_y, rf_preds)"
   ]
  },
  {
   "cell_type": "markdown",
   "id": "70d2b5a5-f761-4567-b869-bd83c136dcef",
   "metadata": {},
   "source": [
    "## Gradient Boosting"
   ]
  },
  {
   "cell_type": "code",
   "execution_count": 68,
   "id": "26bbefa0-0c54-495f-91c3-d4b850eb3adf",
   "metadata": {},
   "outputs": [],
   "source": [
    "from sklearn.ensemble import GradientBoostingClassifier\n",
    "\n",
    "gb = GradientBoostingClassifier(learning_rate=.01, n_estimators=200,\n",
    "                                #class_weight={0: zero_class, 1: one_class, 2: two_class},\n",
    "                                validation_fraction=.2, n_iter_no_change=20)"
   ]
  },
  {
   "cell_type": "code",
   "execution_count": 69,
   "id": "e454f2d1-7f5e-49cc-b504-80a2d8477bf6",
   "metadata": {},
   "outputs": [
    {
     "data": {
      "text/plain": [
       "GradientBoostingClassifier(learning_rate=0.01, n_estimators=200,\n",
       "                           n_iter_no_change=20, validation_fraction=0.2)"
      ]
     },
     "execution_count": 69,
     "metadata": {},
     "output_type": "execute_result"
    }
   ],
   "source": [
    "gb.fit(train_x, train_y)"
   ]
  },
  {
   "cell_type": "code",
   "execution_count": 70,
   "id": "9ea9cc8b-6aff-42ed-870f-6b216e79f66c",
   "metadata": {},
   "outputs": [],
   "source": [
    "gb_preds = gb.predict(test_x)"
   ]
  },
  {
   "cell_type": "code",
   "execution_count": 71,
   "id": "036e2311-2e41-4c48-8e0e-7d1883fb6219",
   "metadata": {},
   "outputs": [
    {
     "data": {
      "text/plain": [
       "array([[43,  0,  0],\n",
       "       [20,  0,  0],\n",
       "       [17,  0,  0]], dtype=int64)"
      ]
     },
     "execution_count": 71,
     "metadata": {},
     "output_type": "execute_result"
    }
   ],
   "source": [
    "gb_results = metrics.confusion_matrix(test_y, gb_preds)\n",
    "gb_results"
   ]
  },
  {
   "cell_type": "code",
   "execution_count": 72,
   "id": "ea8b5155-d5e7-40f0-b38e-6c43ba888d04",
   "metadata": {},
   "outputs": [],
   "source": [
    "gb_accuracy = (gb_results[0][0]+gb_results[1][1]+gb_results[2][2])/gb_results.sum()"
   ]
  },
  {
   "cell_type": "code",
   "execution_count": 73,
   "id": "964e1407-44a4-492e-8d62-2f4b7ef5f263",
   "metadata": {},
   "outputs": [
    {
     "name": "stderr",
     "output_type": "stream",
     "text": [
      "C:\\Users\\Katie\\anaconda3\\lib\\site-packages\\sklearn\\metrics\\_classification.py:1318: UndefinedMetricWarning: Precision is ill-defined and being set to 0.0 in labels with no predicted samples. Use `zero_division` parameter to control this behavior.\n",
      "  _warn_prf(average, modifier, msg_start, len(result))\n"
     ]
    }
   ],
   "source": [
    "gb_precision = metrics.precision_score(test_y, gb_preds, average='macro')"
   ]
  },
  {
   "cell_type": "code",
   "execution_count": 74,
   "id": "3aca2817-61fc-45b9-ad54-304e848109d3",
   "metadata": {},
   "outputs": [],
   "source": [
    "gb_recall = metrics.recall_score(test_y, gb_preds, average='macro')"
   ]
  },
  {
   "cell_type": "code",
   "execution_count": 75,
   "id": "f635e45e-5bff-4ed5-98e6-d32e943354f2",
   "metadata": {},
   "outputs": [],
   "source": [
    "gb_f1score = metrics.f1_score(test_y, gb_preds, average = 'macro')"
   ]
  },
  {
   "cell_type": "code",
   "execution_count": 76,
   "id": "87d9ac2e-f66d-4961-b54c-5f1712f725eb",
   "metadata": {},
   "outputs": [],
   "source": [
    "gb_auc = roc_auc_score_multiclass(test_y, gb_preds)"
   ]
  },
  {
   "cell_type": "markdown",
   "id": "403be487-bb03-46a6-97ce-2c435e2592f4",
   "metadata": {},
   "source": [
    "## Complement Naive Bayes"
   ]
  },
  {
   "cell_type": "code",
   "execution_count": 77,
   "id": "53c7ee1a-6294-45c6-9e71-8d40162291c2",
   "metadata": {},
   "outputs": [],
   "source": [
    "from sklearn.naive_bayes import ComplementNB\n",
    "\n",
    "from sklearn.preprocessing import MinMaxScaler #fixed import\n",
    "\n",
    "scaler = MinMaxScaler()\n",
    "cnb_train = scaler.fit_transform(train_x)\n",
    "cnb_test = scaler.transform(test_x)"
   ]
  },
  {
   "cell_type": "code",
   "execution_count": 78,
   "id": "08579683-6f8d-4419-9023-792ea93334a0",
   "metadata": {},
   "outputs": [
    {
     "data": {
      "text/plain": [
       "ComplementNB()"
      ]
     },
     "execution_count": 78,
     "metadata": {},
     "output_type": "execute_result"
    }
   ],
   "source": [
    "cnb = ComplementNB()\n",
    "cnb.fit(cnb_train, train_y)"
   ]
  },
  {
   "cell_type": "code",
   "execution_count": 79,
   "id": "b7ace730-250c-4e96-83b6-4407419cffbe",
   "metadata": {},
   "outputs": [],
   "source": [
    "cnb_preds = cnb.predict(cnb_test)"
   ]
  },
  {
   "cell_type": "code",
   "execution_count": 80,
   "id": "05b56288-6c6f-4964-bb48-bdcc1b85161b",
   "metadata": {},
   "outputs": [
    {
     "data": {
      "text/plain": [
       "array([[30,  1, 12],\n",
       "       [11,  2,  7],\n",
       "       [ 8,  0,  9]], dtype=int64)"
      ]
     },
     "execution_count": 80,
     "metadata": {},
     "output_type": "execute_result"
    }
   ],
   "source": [
    "cnb_results = metrics.confusion_matrix(test_y, cnb_preds)\n",
    "cnb_results"
   ]
  },
  {
   "cell_type": "code",
   "execution_count": 81,
   "id": "545f8295-6887-4bea-8c8f-be663db61b30",
   "metadata": {},
   "outputs": [],
   "source": [
    "cnb_accuracy = (cnb_results[0][0]+cnb_results[1][1]+cnb_results[2][2])/cnb_results.sum()"
   ]
  },
  {
   "cell_type": "code",
   "execution_count": 82,
   "id": "d061b5f7-2bc3-4d96-ad3b-02d2b8618ecf",
   "metadata": {},
   "outputs": [],
   "source": [
    "cnb_precision = metrics.precision_score(test_y, cnb_preds, average='macro')"
   ]
  },
  {
   "cell_type": "code",
   "execution_count": 83,
   "id": "856ed084-6c98-4ed8-a08e-197efe0500a3",
   "metadata": {},
   "outputs": [],
   "source": [
    "cnb_recall = metrics.recall_score(test_y, cnb_preds, average='macro')"
   ]
  },
  {
   "cell_type": "code",
   "execution_count": 84,
   "id": "576b9f16-8a42-4e58-b420-379d24798a7e",
   "metadata": {},
   "outputs": [],
   "source": [
    "cnb_f1score = metrics.f1_score(test_y, cnb_preds, average = 'macro')"
   ]
  },
  {
   "cell_type": "code",
   "execution_count": 85,
   "id": "61506245-e391-4fd7-ab29-f7204e3f7b94",
   "metadata": {},
   "outputs": [],
   "source": [
    "cnb_auc = roc_auc_score_multiclass(test_y, cnb_preds)"
   ]
  },
  {
   "cell_type": "markdown",
   "id": "0f9f5958-1529-4aa2-86a8-9e38142d3514",
   "metadata": {},
   "source": [
    "## Multinomial Naive Bayes"
   ]
  },
  {
   "cell_type": "code",
   "execution_count": 86,
   "id": "8be437e0-0137-45c9-ba3f-97eee93911be",
   "metadata": {},
   "outputs": [
    {
     "data": {
      "text/plain": [
       "MultinomialNB()"
      ]
     },
     "execution_count": 86,
     "metadata": {},
     "output_type": "execute_result"
    }
   ],
   "source": [
    "from sklearn.naive_bayes import MultinomialNB\n",
    "\n",
    "clf = MultinomialNB()\n",
    "clf.fit(cnb_train, train_y)"
   ]
  },
  {
   "cell_type": "code",
   "execution_count": 87,
   "id": "66004923-c971-404e-8e23-1ddc28eb46e5",
   "metadata": {},
   "outputs": [],
   "source": [
    "mnb_preds = clf.predict(test_x)"
   ]
  },
  {
   "cell_type": "code",
   "execution_count": 88,
   "id": "3d488f7f-d32f-4602-89d7-4c13e501808f",
   "metadata": {},
   "outputs": [
    {
     "data": {
      "text/plain": [
       "array([[41,  2,  0],\n",
       "       [18,  2,  0],\n",
       "       [15,  2,  0]], dtype=int64)"
      ]
     },
     "execution_count": 88,
     "metadata": {},
     "output_type": "execute_result"
    }
   ],
   "source": [
    "mnb_results = metrics.confusion_matrix(test_y, mnb_preds)\n",
    "mnb_results"
   ]
  },
  {
   "cell_type": "code",
   "execution_count": 89,
   "id": "1c4818af-fe89-467b-8497-99d49418c725",
   "metadata": {},
   "outputs": [],
   "source": [
    "mnb_accuracy = (mnb_results[0][0]+mnb_results[1][1]+mnb_results[2][2])/mnb_results.sum()"
   ]
  },
  {
   "cell_type": "code",
   "execution_count": 90,
   "id": "50e31ec3-e207-4432-b5f5-7d7388d62214",
   "metadata": {},
   "outputs": [
    {
     "name": "stderr",
     "output_type": "stream",
     "text": [
      "C:\\Users\\Katie\\anaconda3\\lib\\site-packages\\sklearn\\metrics\\_classification.py:1318: UndefinedMetricWarning: Precision is ill-defined and being set to 0.0 in labels with no predicted samples. Use `zero_division` parameter to control this behavior.\n",
      "  _warn_prf(average, modifier, msg_start, len(result))\n"
     ]
    }
   ],
   "source": [
    "mnb_precision = metrics.precision_score(test_y, mnb_preds, average='macro')"
   ]
  },
  {
   "cell_type": "code",
   "execution_count": 91,
   "id": "961e85d6-5a01-4eb5-8a10-2e5f480daf5a",
   "metadata": {},
   "outputs": [],
   "source": [
    "mnb_recall = metrics.recall_score(test_y, mnb_preds, average='macro')"
   ]
  },
  {
   "cell_type": "code",
   "execution_count": 92,
   "id": "eab48cd1-94f6-4a66-b9ae-595c93cb7210",
   "metadata": {},
   "outputs": [],
   "source": [
    "mnb_f1score = metrics.f1_score(test_y, mnb_preds, average = 'macro')"
   ]
  },
  {
   "cell_type": "code",
   "execution_count": 93,
   "id": "921987ef-8f4b-460e-9faa-827364a50da9",
   "metadata": {},
   "outputs": [],
   "source": [
    "mnb_auc = roc_auc_score_multiclass(test_y, mnb_preds)"
   ]
  },
  {
   "cell_type": "markdown",
   "id": "35f82ac4-3c7e-4a77-8afd-7a77b6a732d8",
   "metadata": {},
   "source": [
    "# Creating Bar Graph for Model Comparison"
   ]
  },
  {
   "cell_type": "code",
   "execution_count": 94,
   "id": "e3ada90f-bb6f-45a3-94d5-8042104ab140",
   "metadata": {},
   "outputs": [
    {
     "data": {
      "text/plain": [
       "list"
      ]
     },
     "execution_count": 94,
     "metadata": {},
     "output_type": "execute_result"
    }
   ],
   "source": [
    "type(test_y)"
   ]
  },
  {
   "cell_type": "code",
   "execution_count": 95,
   "id": "8ec900a9-e80d-43a9-870e-ea3df53b9d72",
   "metadata": {},
   "outputs": [],
   "source": [
    "count = 0\n",
    "true_zeros = sum([count + 1 for item in test_y if item == 0])"
   ]
  },
  {
   "cell_type": "code",
   "execution_count": 96,
   "id": "a9cd1718-362c-4091-b47b-087d3c0141f8",
   "metadata": {},
   "outputs": [],
   "source": [
    "count = 0\n",
    "true_ones = sum([count + 1 for item in test_y if item == 1])"
   ]
  },
  {
   "cell_type": "code",
   "execution_count": 97,
   "id": "6b19231e-a752-4352-82aa-fab3df479fdd",
   "metadata": {},
   "outputs": [],
   "source": [
    "count = 0\n",
    "true_twos = sum([count + 1 for item in test_y if item == 2])"
   ]
  },
  {
   "cell_type": "code",
   "execution_count": 98,
   "id": "cc6a77bf-42c1-4fa8-a6ee-87a6af21c9f8",
   "metadata": {},
   "outputs": [],
   "source": [
    "svm_zeros = results_svm[0][0] + results_svm[1][0] + results_svm[2][0]\n",
    "svm_ones = results_svm[0][1] + results_svm[1][1] + results_svm[2][1]\n",
    "svm_twos = results_svm[0][2] + results_svm[1][2] + results_svm[2][2]"
   ]
  },
  {
   "cell_type": "code",
   "execution_count": 99,
   "id": "874353a3-85c1-4420-a5ae-6f023e0653a9",
   "metadata": {},
   "outputs": [],
   "source": [
    "nn_zeros = nn_matrix[0][0] + nn_matrix[1][0] + nn_matrix[2][0]\n",
    "nn_ones = nn_matrix[0][1] + nn_matrix[1][1] + nn_matrix[2][1]\n",
    "nn_twos = nn_matrix[0][2] + nn_matrix[1][2] + nn_matrix[2][2]"
   ]
  },
  {
   "cell_type": "code",
   "execution_count": 100,
   "id": "7b344665-e43b-4733-bbf0-65b07f6e9eb2",
   "metadata": {},
   "outputs": [],
   "source": [
    "knn_zeros = knn_results[0][0] + knn_results[1][0] + knn_results[2][0]\n",
    "knn_ones = knn_results[0][1] + knn_results[1][1] + knn_results[2][1]\n",
    "knn_twos = knn_results[0][2] + knn_results[1][2] + knn_results[2][2]"
   ]
  },
  {
   "cell_type": "code",
   "execution_count": 101,
   "id": "4bedc4d7-8ea4-4944-afd1-7957ade81e2f",
   "metadata": {},
   "outputs": [],
   "source": [
    "rf_zeros = rf_results[0][0] + rf_results[1][0] + rf_results[2][0]\n",
    "rf_ones = rf_results[0][1] + rf_results[1][1] + rf_results[2][1]\n",
    "rf_twos = rf_results[0][2] + rf_results[1][2] + rf_results[2][2]"
   ]
  },
  {
   "cell_type": "code",
   "execution_count": 102,
   "id": "cfb13a9f-bfd8-4aa0-8b01-c6fabfba7d56",
   "metadata": {},
   "outputs": [],
   "source": [
    "gb_zeros = gb_results[0][0] + gb_results[1][0] + gb_results[2][0]\n",
    "gb_ones = gb_results[0][1] + gb_results[1][1] + gb_results[2][1]\n",
    "gb_twos = gb_results[0][2] + gb_results[1][2] + gb_results[2][2]"
   ]
  },
  {
   "cell_type": "code",
   "execution_count": 103,
   "id": "36efdd4d-88e2-4291-bede-c5c0021e8d78",
   "metadata": {},
   "outputs": [],
   "source": [
    "cnb_zeros = cnb_results[0][0] + cnb_results[1][0] + cnb_results[2][0]\n",
    "cnb_ones = cnb_results[0][1] + cnb_results[1][1] + cnb_results[2][1]\n",
    "cnb_twos = cnb_results[0][2] + cnb_results[1][2] + cnb_results[2][2]"
   ]
  },
  {
   "cell_type": "code",
   "execution_count": 104,
   "id": "89cee371-8307-40cd-a162-16ac50342b07",
   "metadata": {},
   "outputs": [],
   "source": [
    "mnb_zeros = mnb_results[0][0] + mnb_results[1][0] + mnb_results[2][0]\n",
    "mnb_ones = mnb_results[0][1] + mnb_results[1][1] + mnb_results[2][1]\n",
    "mnb_twos = mnb_results[0][2] + mnb_results[1][2] + mnb_results[2][2]"
   ]
  },
  {
   "cell_type": "code",
   "execution_count": 105,
   "id": "64bcc129-952f-4ab6-a539-f04f325cdc60",
   "metadata": {},
   "outputs": [],
   "source": [
    "labels = [\"Incorrect\", \"Contextual\", \"Correct\"]\n",
    "\n",
    "true_counts = [true_zeros, true_ones, true_twos]\n",
    "svm_counts = [svm_zeros, svm_ones, svm_twos]\n",
    "nn_counts = [nn_zeros, nn_ones, nn_twos]\n",
    "knn_counts = [knn_zeros, knn_ones, knn_twos]\n",
    "rf_counts = [rf_zeros, rf_ones, rf_twos]\n",
    "gb_counts = [gb_zeros, gb_ones, gb_twos]\n",
    "cnb_counts = [cnb_zeros, cnb_ones, cnb_twos]\n",
    "mnb_counts = [mnb_zeros, mnb_ones, mnb_twos]"
   ]
  },
  {
   "cell_type": "code",
   "execution_count": 133,
   "id": "27249bda-1295-41f7-896a-be5fefd04571",
   "metadata": {},
   "outputs": [
    {
     "data": {
      "text/plain": [
       "<Figure size 1080x720 with 0 Axes>"
      ]
     },
     "metadata": {},
     "output_type": "display_data"
    },
    {
     "data": {
      "image/png": "[encoded data removed]",
      "text/plain": [
       "<Figure size 432x288 with 1 Axes>"
      ]
     },
     "metadata": {
      "needs_background": "light"
     },
     "output_type": "display_data"
    }
   ],
   "source": [
    "x = np.arange(len(labels))\n",
    "width = .25\n",
    "\n",
    "plt.figure(figsize=(15,10))\n",
    "\n",
    "fig, ax = plt.subplots()\n",
    "rects0 = ax.bar(x-width, true_counts, width/4, label=\"True Values\")\n",
    "rects1 = ax.bar(x-3*width/4, svm_counts, width/4, label=\"SVM\")\n",
    "rects2 = ax.bar(x-2*width/4, nn_counts, width/4, label=\"Simple Neural Net\")\n",
    "rects3 = ax.bar(x-width/4, knn_counts, width/4, label=\"KNN\")\n",
    "rects4 = ax.bar(x, rf_counts, width/4, label=\"Random Forest\")\n",
    "rects5 = ax.bar(x+width/4, gb_counts, width/4, label=\"XGBoost\")\n",
    "rects6 = ax.bar(x+2*width/4, cnb_counts, width/4, label=\"Complement Naive Bayes\")\n",
    "rects7 = ax.bar(x+3*width/4, mnb_counts, width/4, label=\"Multinomial Naive Bayes\")\n",
    "\n",
    "ax.set_ylabel(\"Count\")\n",
    "ax.set_title(\"Count of Hyponym Predictions by Model with True Value Reference\")\n",
    "ax.set_xticks(x)\n",
    "ax.set_xticklabels(labels)\n",
    "ax.legend()\n",
    "\n",
    "fig.tight_layout()\n",
    "\n",
    "plt.savefig(\"hyponym_te.png\")\n",
    "\n",
    "plt.show()"
   ]
  },
  {
   "cell_type": "markdown",
   "id": "cc06b9a4-a392-4880-abd5-8aecd970dfe1",
   "metadata": {},
   "source": [
    "# Creating Table for Paper"
   ]
  },
  {
   "cell_type": "code",
   "execution_count": 107,
   "id": "2d4b5e7d-3af2-4297-b480-405a0bea610a",
   "metadata": {},
   "outputs": [],
   "source": [
    "import dataframe_image as dfi"
   ]
  },
  {
   "cell_type": "code",
   "execution_count": 108,
   "id": "0d7a1347-6329-4dd0-b25d-0d69265f823d",
   "metadata": {},
   "outputs": [],
   "source": [
    "models = [\"SVM\", \"Simple Neural Net\", \"KNN\", \"Random Forest\", \"XGBoost\",\n",
    "          \"Complement Naive Bayes\", \"Multinomial Naive Bayes\"]\n",
    "all_results = {\"Accuracy\": [svm_accuracy, nn_accuracy, knn_accuracy, rf_accuracy,\n",
    "                            gb_accuracy, cnb_accuracy, mnb_accuracy], \n",
    "               \"Precision\": [svm_precision, nn_precision, knn_precision,\n",
    "                             rf_precision, gb_precision, cnb_precision, mnb_precision],\n",
    "               \"Recall\": [svm_recall, nn_recall, knn_recall, rf_recall,\n",
    "                          gb_recall, cnb_recall, mnb_recall],\n",
    "               \"Incorrect Precision\": [svm_auc[0], nn_auc[0], knn_auc[0], rf_auc[0],\n",
    "                                  gb_auc[0], cnb_auc[0], mnb_auc[0]],\n",
    "               \"Contextual Precision\": [svm_auc[1], nn_auc[1], knn_auc[1], rf_auc[1],\n",
    "                                  gb_auc[1], cnb_auc[1], mnb_auc[1]],\n",
    "               \"Correct Precision\": [svm_auc[2], nn_auc[2], knn_auc[2], rf_auc[2],\n",
    "                                  gb_auc[2], cnb_auc[2], mnb_auc[2]],\n",
    "               \"F1 Score\": [svm_f1score, nn_f1score, knn_f1score, rf_f1score, \n",
    "                            gb_f1score, cnb_f1score, mnb_f1score]}"
   ]
  },
  {
   "cell_type": "code",
   "execution_count": 109,
   "id": "6286fb8c-679e-4c77-935b-e6c3a9620be9",
   "metadata": {},
   "outputs": [
    {
     "data": {
      "text/html": [
       "<div>\n",
       "<style scoped>\n",
       "    .dataframe tbody tr th:only-of-type {\n",
       "        vertical-align: middle;\n",
       "    }\n",
       "\n",
       "    .dataframe tbody tr th {\n",
       "        vertical-align: top;\n",
       "    }\n",
       "\n",
       "    .dataframe thead th {\n",
       "        text-align: right;\n",
       "    }\n",
       "</style>\n",
       "<table border=\"1\" class=\"dataframe\">\n",
       "  <thead>\n",
       "    <tr style=\"text-align: right;\">\n",
       "      <th></th>\n",
       "      <th>Accuracy</th>\n",
       "      <th>Precision</th>\n",
       "      <th>Recall</th>\n",
       "      <th>Incorrect Precision</th>\n",
       "      <th>Contextual Precision</th>\n",
       "      <th>Correct Precision</th>\n",
       "      <th>F1 Score</th>\n",
       "    </tr>\n",
       "  </thead>\n",
       "  <tbody>\n",
       "    <tr>\n",
       "      <th>SVM</th>\n",
       "      <td>0.625</td>\n",
       "      <td>0.562</td>\n",
       "      <td>0.503</td>\n",
       "      <td>0.681</td>\n",
       "      <td>0.517</td>\n",
       "      <td>0.701</td>\n",
       "      <td>0.463</td>\n",
       "    </tr>\n",
       "    <tr>\n",
       "      <th>Simple Neural Net</th>\n",
       "      <td>0.538</td>\n",
       "      <td>0.641</td>\n",
       "      <td>0.413</td>\n",
       "      <td>0.581</td>\n",
       "      <td>0.525</td>\n",
       "      <td>0.581</td>\n",
       "      <td>0.377</td>\n",
       "    </tr>\n",
       "    <tr>\n",
       "      <th>KNN</th>\n",
       "      <td>0.475</td>\n",
       "      <td>0.365</td>\n",
       "      <td>0.375</td>\n",
       "      <td>0.563</td>\n",
       "      <td>0.500</td>\n",
       "      <td>0.542</td>\n",
       "      <td>0.343</td>\n",
       "    </tr>\n",
       "    <tr>\n",
       "      <th>Random Forest</th>\n",
       "      <td>0.538</td>\n",
       "      <td>0.268</td>\n",
       "      <td>0.345</td>\n",
       "      <td>0.529</td>\n",
       "      <td>0.500</td>\n",
       "      <td>0.506</td>\n",
       "      <td>0.267</td>\n",
       "    </tr>\n",
       "    <tr>\n",
       "      <th>XGBoost</th>\n",
       "      <td>0.538</td>\n",
       "      <td>0.179</td>\n",
       "      <td>0.333</td>\n",
       "      <td>0.500</td>\n",
       "      <td>0.500</td>\n",
       "      <td>0.500</td>\n",
       "      <td>0.233</td>\n",
       "    </tr>\n",
       "  </tbody>\n",
       "</table>\n",
       "</div>"
      ],
      "text/plain": [
       "                   Accuracy  Precision  Recall  Incorrect Precision  \\\n",
       "SVM                   0.625      0.562   0.503                0.681   \n",
       "Simple Neural Net     0.538      0.641   0.413                0.581   \n",
       "KNN                   0.475      0.365   0.375                0.563   \n",
       "Random Forest         0.538      0.268   0.345                0.529   \n",
       "XGBoost               0.538      0.179   0.333                0.500   \n",
       "\n",
       "                   Contextual Precision  Correct Precision  F1 Score  \n",
       "SVM                               0.517              0.701     0.463  \n",
       "Simple Neural Net                 0.525              0.581     0.377  \n",
       "KNN                               0.500              0.542     0.343  \n",
       "Random Forest                     0.500              0.506     0.267  \n",
       "XGBoost                           0.500              0.500     0.233  "
      ]
     },
     "execution_count": 109,
     "metadata": {},
     "output_type": "execute_result"
    }
   ],
   "source": [
    "results_df = pd.DataFrame(all_results, index=models)\n",
    "results_df = results_df.round(3)\n",
    "results_df.head()"
   ]
  },
  {
   "cell_type": "code",
   "execution_count": 110,
   "id": "8f0d4444-a182-4d11-bcb5-92b98647299d",
   "metadata": {},
   "outputs": [],
   "source": [
    "results_df.dfi.export('hyponym_results.png')"
   ]
  },
  {
   "cell_type": "markdown",
   "id": "1b95b563-6d00-454b-bed5-8129e5d91426",
   "metadata": {},
   "source": [
    "# Hyponym SME Results"
   ]
  },
  {
   "cell_type": "code",
   "execution_count": 111,
   "id": "dd57330d-b386-456f-b9cb-9f78f309438b",
   "metadata": {},
   "outputs": [],
   "source": [
    "sme_results = pd.read_excel(\"extracted_terms_3_28 - gc edits.xlsx\", sheet_name=\"hyponyms\")"
   ]
  },
  {
   "cell_type": "code",
   "execution_count": 112,
   "id": "51c37384-293d-4162-a235-879af854b162",
   "metadata": {},
   "outputs": [
    {
     "data": {
      "text/html": [
       "<div>\n",
       "<style scoped>\n",
       "    .dataframe tbody tr th:only-of-type {\n",
       "        vertical-align: middle;\n",
       "    }\n",
       "\n",
       "    .dataframe tbody tr th {\n",
       "        vertical-align: top;\n",
       "    }\n",
       "\n",
       "    .dataframe thead th {\n",
       "        text-align: right;\n",
       "    }\n",
       "</style>\n",
       "<table border=\"1\" class=\"dataframe\">\n",
       "  <thead>\n",
       "    <tr style=\"text-align: right;\">\n",
       "      <th></th>\n",
       "      <th>proposed\\nlabel</th>\n",
       "      <th>Manual\\nScore</th>\n",
       "      <th>hyponym</th>\n",
       "      <th>hypernym</th>\n",
       "      <th>Unnamed: 4</th>\n",
       "    </tr>\n",
       "  </thead>\n",
       "  <tbody>\n",
       "    <tr>\n",
       "      <th>0</th>\n",
       "      <td>0</td>\n",
       "      <td>NaN</td>\n",
       "      <td>the proper process</td>\n",
       "      <td>supervisory and management official on discipl...</td>\n",
       "      <td>NaN</td>\n",
       "    </tr>\n",
       "    <tr>\n",
       "      <th>1</th>\n",
       "      <td>0</td>\n",
       "      <td>NaN</td>\n",
       "      <td>procedure</td>\n",
       "      <td>supervisory and management official on discipl...</td>\n",
       "      <td>NaN</td>\n",
       "    </tr>\n",
       "    <tr>\n",
       "      <th>2</th>\n",
       "      <td>0</td>\n",
       "      <td>NaN</td>\n",
       "      <td>a write reprimand</td>\n",
       "      <td>a formal disciplinary action</td>\n",
       "      <td>NaN</td>\n",
       "    </tr>\n",
       "    <tr>\n",
       "      <th>3</th>\n",
       "      <td>0</td>\n",
       "      <td>NaN</td>\n",
       "      <td>reference to previous counseling</td>\n",
       "      <td>the reason for selection of the penalty</td>\n",
       "      <td>NaN</td>\n",
       "    </tr>\n",
       "    <tr>\n",
       "      <th>4</th>\n",
       "      <td>0</td>\n",
       "      <td>NaN</td>\n",
       "      <td>disciplinary action</td>\n",
       "      <td>the reason for selection of the penalty</td>\n",
       "      <td>NaN</td>\n",
       "    </tr>\n",
       "  </tbody>\n",
       "</table>\n",
       "</div>"
      ],
      "text/plain": [
       "   proposed\\nlabel  Manual\\nScore                           hyponym  \\\n",
       "0                0            NaN                the proper process   \n",
       "1                0            NaN                         procedure   \n",
       "2                0            NaN                 a write reprimand   \n",
       "3                0            NaN  reference to previous counseling   \n",
       "4                0            NaN               disciplinary action   \n",
       "\n",
       "                                            hypernym Unnamed: 4  \n",
       "0  supervisory and management official on discipl...        NaN  \n",
       "1  supervisory and management official on discipl...        NaN  \n",
       "2                       a formal disciplinary action        NaN  \n",
       "3            the reason for selection of the penalty        NaN  \n",
       "4            the reason for selection of the penalty        NaN  "
      ]
     },
     "execution_count": 112,
     "metadata": {},
     "output_type": "execute_result"
    }
   ],
   "source": [
    "sme_results.head()"
   ]
  },
  {
   "cell_type": "code",
   "execution_count": 113,
   "id": "50fe1c1d-2e01-49d7-a4e6-f008d7850222",
   "metadata": {},
   "outputs": [],
   "source": [
    "sme_results.drop(\"Unnamed: 4\", inplace=True, axis=1)"
   ]
  },
  {
   "cell_type": "code",
   "execution_count": 114,
   "id": "de8a225e-da6f-49e4-8bb5-46b48967770e",
   "metadata": {},
   "outputs": [
    {
     "data": {
      "text/html": [
       "<div>\n",
       "<style scoped>\n",
       "    .dataframe tbody tr th:only-of-type {\n",
       "        vertical-align: middle;\n",
       "    }\n",
       "\n",
       "    .dataframe tbody tr th {\n",
       "        vertical-align: top;\n",
       "    }\n",
       "\n",
       "    .dataframe thead th {\n",
       "        text-align: right;\n",
       "    }\n",
       "</style>\n",
       "<table border=\"1\" class=\"dataframe\">\n",
       "  <thead>\n",
       "    <tr style=\"text-align: right;\">\n",
       "      <th></th>\n",
       "      <th>proposed\\nlabel</th>\n",
       "      <th>Manual\\nScore</th>\n",
       "      <th>hyponym</th>\n",
       "      <th>hypernym</th>\n",
       "    </tr>\n",
       "  </thead>\n",
       "  <tbody>\n",
       "    <tr>\n",
       "      <th>0</th>\n",
       "      <td>0</td>\n",
       "      <td>NaN</td>\n",
       "      <td>the proper process</td>\n",
       "      <td>supervisory and management official on discipl...</td>\n",
       "    </tr>\n",
       "    <tr>\n",
       "      <th>1</th>\n",
       "      <td>0</td>\n",
       "      <td>NaN</td>\n",
       "      <td>procedure</td>\n",
       "      <td>supervisory and management official on discipl...</td>\n",
       "    </tr>\n",
       "    <tr>\n",
       "      <th>2</th>\n",
       "      <td>0</td>\n",
       "      <td>NaN</td>\n",
       "      <td>a write reprimand</td>\n",
       "      <td>a formal disciplinary action</td>\n",
       "    </tr>\n",
       "    <tr>\n",
       "      <th>3</th>\n",
       "      <td>0</td>\n",
       "      <td>NaN</td>\n",
       "      <td>reference to previous counseling</td>\n",
       "      <td>the reason for selection of the penalty</td>\n",
       "    </tr>\n",
       "    <tr>\n",
       "      <th>4</th>\n",
       "      <td>0</td>\n",
       "      <td>NaN</td>\n",
       "      <td>disciplinary action</td>\n",
       "      <td>the reason for selection of the penalty</td>\n",
       "    </tr>\n",
       "  </tbody>\n",
       "</table>\n",
       "</div>"
      ],
      "text/plain": [
       "   proposed\\nlabel  Manual\\nScore                           hyponym  \\\n",
       "0                0            NaN                the proper process   \n",
       "1                0            NaN                         procedure   \n",
       "2                0            NaN                 a write reprimand   \n",
       "3                0            NaN  reference to previous counseling   \n",
       "4                0            NaN               disciplinary action   \n",
       "\n",
       "                                            hypernym  \n",
       "0  supervisory and management official on discipl...  \n",
       "1  supervisory and management official on discipl...  \n",
       "2                       a formal disciplinary action  \n",
       "3            the reason for selection of the penalty  \n",
       "4            the reason for selection of the penalty  "
      ]
     },
     "execution_count": 114,
     "metadata": {},
     "output_type": "execute_result"
    }
   ],
   "source": [
    "sme_results.head()"
   ]
  },
  {
   "cell_type": "code",
   "execution_count": 115,
   "id": "4ec6d03f-6153-4561-9f7c-258fb6793699",
   "metadata": {},
   "outputs": [
    {
     "data": {
      "text/html": [
       "<div>\n",
       "<style scoped>\n",
       "    .dataframe tbody tr th:only-of-type {\n",
       "        vertical-align: middle;\n",
       "    }\n",
       "\n",
       "    .dataframe tbody tr th {\n",
       "        vertical-align: top;\n",
       "    }\n",
       "\n",
       "    .dataframe thead th {\n",
       "        text-align: right;\n",
       "    }\n",
       "</style>\n",
       "<table border=\"1\" class=\"dataframe\">\n",
       "  <thead>\n",
       "    <tr style=\"text-align: right;\">\n",
       "      <th></th>\n",
       "      <th>proposed\\nlabel</th>\n",
       "      <th>Manual\\nScore</th>\n",
       "      <th>hyponym</th>\n",
       "      <th>hypernym</th>\n",
       "    </tr>\n",
       "  </thead>\n",
       "  <tbody>\n",
       "    <tr>\n",
       "      <th>6</th>\n",
       "      <td>0</td>\n",
       "      <td>2.0</td>\n",
       "      <td>a union representative</td>\n",
       "      <td>representative</td>\n",
       "    </tr>\n",
       "    <tr>\n",
       "      <th>13</th>\n",
       "      <td>0</td>\n",
       "      <td>2.0</td>\n",
       "      <td>badge</td>\n",
       "      <td>dod identification</td>\n",
       "    </tr>\n",
       "    <tr>\n",
       "      <th>15</th>\n",
       "      <td>2</td>\n",
       "      <td>0.0</td>\n",
       "      <td>the concealment</td>\n",
       "      <td>information</td>\n",
       "    </tr>\n",
       "    <tr>\n",
       "      <th>16</th>\n",
       "      <td>2</td>\n",
       "      <td>0.0</td>\n",
       "      <td>removal</td>\n",
       "      <td>information</td>\n",
       "    </tr>\n",
       "    <tr>\n",
       "      <th>25</th>\n",
       "      <td>0</td>\n",
       "      <td>2.0</td>\n",
       "      <td>harassment</td>\n",
       "      <td>the offense</td>\n",
       "    </tr>\n",
       "  </tbody>\n",
       "</table>\n",
       "</div>"
      ],
      "text/plain": [
       "    proposed\\nlabel  Manual\\nScore                 hyponym            hypernym\n",
       "6                 0            2.0  a union representative      representative\n",
       "13                0            2.0                   badge  dod identification\n",
       "15                2            0.0         the concealment         information\n",
       "16                2            0.0                 removal         information\n",
       "25                0            2.0              harassment         the offense"
      ]
     },
     "execution_count": 115,
     "metadata": {},
     "output_type": "execute_result"
    }
   ],
   "source": [
    "sme_results = sme_results.dropna()\n",
    "sme_results.head()"
   ]
  },
  {
   "cell_type": "code",
   "execution_count": 116,
   "id": "343288f9-ffc3-49b8-8519-f73427446330",
   "metadata": {},
   "outputs": [],
   "source": [
    "sme_results.loc[:, \"Manual\\nScore\"] = sme_results[\"Manual\\nScore\"].astype(int, copy=False)"
   ]
  },
  {
   "cell_type": "code",
   "execution_count": 117,
   "id": "fe4a4bf0-f872-4773-9f52-249adc6e5844",
   "metadata": {},
   "outputs": [
    {
     "data": {
      "text/html": [
       "<div>\n",
       "<style scoped>\n",
       "    .dataframe tbody tr th:only-of-type {\n",
       "        vertical-align: middle;\n",
       "    }\n",
       "\n",
       "    .dataframe tbody tr th {\n",
       "        vertical-align: top;\n",
       "    }\n",
       "\n",
       "    .dataframe thead th {\n",
       "        text-align: right;\n",
       "    }\n",
       "</style>\n",
       "<table border=\"1\" class=\"dataframe\">\n",
       "  <thead>\n",
       "    <tr style=\"text-align: right;\">\n",
       "      <th></th>\n",
       "      <th>proposed\\nlabel</th>\n",
       "      <th>Manual\\nScore</th>\n",
       "      <th>hyponym</th>\n",
       "      <th>hypernym</th>\n",
       "    </tr>\n",
       "  </thead>\n",
       "  <tbody>\n",
       "    <tr>\n",
       "      <th>6</th>\n",
       "      <td>0</td>\n",
       "      <td>2</td>\n",
       "      <td>a union representative</td>\n",
       "      <td>representative</td>\n",
       "    </tr>\n",
       "    <tr>\n",
       "      <th>13</th>\n",
       "      <td>0</td>\n",
       "      <td>2</td>\n",
       "      <td>badge</td>\n",
       "      <td>dod identification</td>\n",
       "    </tr>\n",
       "    <tr>\n",
       "      <th>15</th>\n",
       "      <td>2</td>\n",
       "      <td>0</td>\n",
       "      <td>the concealment</td>\n",
       "      <td>information</td>\n",
       "    </tr>\n",
       "    <tr>\n",
       "      <th>16</th>\n",
       "      <td>2</td>\n",
       "      <td>0</td>\n",
       "      <td>removal</td>\n",
       "      <td>information</td>\n",
       "    </tr>\n",
       "    <tr>\n",
       "      <th>25</th>\n",
       "      <td>0</td>\n",
       "      <td>2</td>\n",
       "      <td>harassment</td>\n",
       "      <td>the offense</td>\n",
       "    </tr>\n",
       "  </tbody>\n",
       "</table>\n",
       "</div>"
      ],
      "text/plain": [
       "    proposed\\nlabel  Manual\\nScore                 hyponym            hypernym\n",
       "6                 0              2  a union representative      representative\n",
       "13                0              2                   badge  dod identification\n",
       "15                2              0         the concealment         information\n",
       "16                2              0                 removal         information\n",
       "25                0              2              harassment         the offense"
      ]
     },
     "execution_count": 117,
     "metadata": {},
     "output_type": "execute_result"
    }
   ],
   "source": [
    "sme_results.head()"
   ]
  },
  {
   "cell_type": "code",
   "execution_count": 118,
   "id": "47b54ed8-0d76-47da-9a52-d94d135a48a7",
   "metadata": {},
   "outputs": [
    {
     "data": {
      "text/plain": [
       "2    57\n",
       "0    42\n",
       "1    14\n",
       "Name: Manual\\nScore, dtype: int64"
      ]
     },
     "execution_count": 118,
     "metadata": {},
     "output_type": "execute_result"
    }
   ],
   "source": [
    "sme_results[\"Manual\\nScore\"].value_counts()"
   ]
  },
  {
   "cell_type": "code",
   "execution_count": 119,
   "id": "997f8b53-11e6-445d-92d6-e53c13605ede",
   "metadata": {},
   "outputs": [],
   "source": [
    "sme_matrix = metrics.confusion_matrix(sme_results[\"Manual\\nScore\"], sme_results[\"proposed\\nlabel\"])"
   ]
  },
  {
   "cell_type": "code",
   "execution_count": 120,
   "id": "c9422e58-1e2a-4167-95aa-3cdd7e77c619",
   "metadata": {},
   "outputs": [
    {
     "data": {
      "text/plain": [
       "array([[ 0,  6, 36],\n",
       "       [13,  0,  1],\n",
       "       [55,  0,  2]], dtype=int64)"
      ]
     },
     "execution_count": 120,
     "metadata": {},
     "output_type": "execute_result"
    }
   ],
   "source": [
    "sme_matrix"
   ]
  },
  {
   "cell_type": "code",
   "execution_count": 121,
   "id": "ce241ad3-98c1-4803-8e95-6f5a11477cd3",
   "metadata": {},
   "outputs": [
    {
     "data": {
      "image/png": "[encoded data removed]",
      "text/plain": [
       "<Figure size 432x288 with 2 Axes>"
      ]
     },
     "metadata": {
      "needs_background": "light"
     },
     "output_type": "display_data"
    }
   ],
   "source": [
    "disp = metrics.ConfusionMatrixDisplay(confusion_matrix=sme_matrix,\n",
    "                                      display_labels=[\"Incorrect\", \"Contextual\", \"Correct\"])\n",
    "disp.plot()\n",
    "\n",
    "plt.savefig(\"hyponym_cm.png\")\n",
    "plt.show()"
   ]
  },
  {
   "cell_type": "markdown",
   "id": "659a29ff-dac0-4955-8cab-0502f0b75c57",
   "metadata": {
    "jp-MarkdownHeadingCollapsed": true,
    "tags": []
   },
   "source": [
    "# Saving SVM Unlabeled Results to CSV"
   ]
  },
  {
   "cell_type": "code",
   "execution_count": 122,
   "id": "6a85f86c-bb4e-4428-a6d4-5503d87b36f2",
   "metadata": {},
   "outputs": [],
   "source": [
    "unlabeled_x = []\n",
    "indices = []\n",
    "\n",
    "for i in range(len(unlabeled_set)-1):\n",
    "    try:\n",
    "        unlabeled_x.append(list(model[unlabeled_set.iloc[i,0]]) + list(model[unlabeled_set.iloc[i,1]]))\n",
    "        indices.append(i)\n",
    "    except:\n",
    "        # Check if the first word has more than one word\n",
    "        if len(unlabeled_set.iloc[i,0].split()) > 1:\n",
    "            # If so, average the word embedding arrays\n",
    "            word_list1 = unlabeled_set.iloc[i,0].split()\n",
    "            try:\n",
    "                vector_array1 = np.array([list(model[word]) for word in word_list1])\n",
    "                final_array1 = list(np.average(vector_array1, axis=0))\n",
    "            except:\n",
    "                vector_list1 = []\n",
    "                for word in word_list1:\n",
    "                    try:\n",
    "                        vector_list1.append(model[word])\n",
    "                    except:\n",
    "                        vector_list1.append(np.full(200, .001))\n",
    "                vector_array1 = np.array(vector_list1)\n",
    "                final_array1 = list(np.average(vector_array1, axis=0))\n",
    "        else:\n",
    "            # Otherwise, try to take the embedding as is\n",
    "            try:\n",
    "                final_array1 = list(model[unlabeled_set.iloc[i,0]])\n",
    "            except:\n",
    "                continue\n",
    "        # Check if the second word has more than one word\n",
    "        if len(unlabeled_set.iloc[i,1].split()) > 1:\n",
    "            # If so, average the word embedding arrays\n",
    "            word_list2 = unlabeled_set.iloc[i,1].split()\n",
    "            try:\n",
    "                vector_array2 = np.array([list(model[word]) for word in word_list2])\n",
    "                final_array2 = list(np.average(vector_array2, axis=0))\n",
    "            except:\n",
    "                vector_list2 = []\n",
    "                for word in word_list2:\n",
    "                    try:\n",
    "                        vector_list2.append(model[word])\n",
    "                    except:\n",
    "                        vector_list2.append(np.full(200, .001))\n",
    "                vector_array2 = np.array(vector_list2)\n",
    "                final_array2 = list(np.average(vector_array2, axis=0))\n",
    "        else:\n",
    "            # Otherwise, try to take the embedding as is\n",
    "            try:\n",
    "                final_array2 = list(model[unlabeled_set.iloc[i,1]])\n",
    "            except:\n",
    "                continue\n",
    "        \n",
    "        unlabeled_x.append(final_array1 + final_array2)\n",
    "        indices.append(i)"
   ]
  },
  {
   "cell_type": "code",
   "execution_count": 123,
   "id": "5d914a7d-cd93-4ea0-b04a-1592e060d2e3",
   "metadata": {},
   "outputs": [
    {
     "data": {
      "text/plain": [
       "6710"
      ]
     },
     "execution_count": 123,
     "metadata": {},
     "output_type": "execute_result"
    }
   ],
   "source": [
    "len(unlabeled_x)"
   ]
  },
  {
   "cell_type": "code",
   "execution_count": 124,
   "id": "e34a532f-7571-49f3-9e19-37f4d38d8245",
   "metadata": {},
   "outputs": [],
   "source": [
    "unlabeled_preds = SVM.predict(unlabeled_x)"
   ]
  },
  {
   "cell_type": "code",
   "execution_count": 125,
   "id": "ae63aaf8-61df-420f-907f-9323cc8b7259",
   "metadata": {},
   "outputs": [
    {
     "data": {
      "text/plain": [
       "6710"
      ]
     },
     "execution_count": 125,
     "metadata": {},
     "output_type": "execute_result"
    }
   ],
   "source": [
    "proposed_labeled_hyponyms = unlabeled_set.iloc[indices,:]\n",
    "len(proposed_labeled_hyponyms)"
   ]
  },
  {
   "cell_type": "code",
   "execution_count": 126,
   "id": "a39c8216-08ed-446e-8d8d-374542eb2d62",
   "metadata": {},
   "outputs": [
    {
     "name": "stderr",
     "output_type": "stream",
     "text": [
      "C:\\Users\\Katie\\anaconda3\\lib\\site-packages\\ipykernel_launcher.py:1: SettingWithCopyWarning: \n",
      "A value is trying to be set on a copy of a slice from a DataFrame.\n",
      "Try using .loc[row_indexer,col_indexer] = value instead\n",
      "\n",
      "See the caveats in the documentation: https://pandas.pydata.org/pandas-docs/stable/user_guide/indexing.html#returning-a-view-versus-a-copy\n",
      "  \"\"\"Entry point for launching an IPython kernel.\n"
     ]
    }
   ],
   "source": [
    "proposed_labeled_hyponyms[\"proposed_label\"] = unlabeled_preds"
   ]
  },
  {
   "cell_type": "code",
   "execution_count": 127,
   "id": "a3701ba5-76a1-45ee-bbc1-3e08b8a4ec76",
   "metadata": {},
   "outputs": [
    {
     "data": {
      "text/html": [
       "<div>\n",
       "<style scoped>\n",
       "    .dataframe tbody tr th:only-of-type {\n",
       "        vertical-align: middle;\n",
       "    }\n",
       "\n",
       "    .dataframe tbody tr th {\n",
       "        vertical-align: top;\n",
       "    }\n",
       "\n",
       "    .dataframe thead th {\n",
       "        text-align: right;\n",
       "    }\n",
       "</style>\n",
       "<table border=\"1\" class=\"dataframe\">\n",
       "  <thead>\n",
       "    <tr style=\"text-align: right;\">\n",
       "      <th></th>\n",
       "      <th>hyponym</th>\n",
       "      <th>hypernym</th>\n",
       "      <th>proposed_label</th>\n",
       "    </tr>\n",
       "  </thead>\n",
       "  <tbody>\n",
       "    <tr>\n",
       "      <th>0</th>\n",
       "      <td>the proper process</td>\n",
       "      <td>supervisory and management official on discipl...</td>\n",
       "      <td>2.0</td>\n",
       "    </tr>\n",
       "    <tr>\n",
       "      <th>2</th>\n",
       "      <td>a write reprimand</td>\n",
       "      <td>a formal disciplinary action</td>\n",
       "      <td>2.0</td>\n",
       "    </tr>\n",
       "    <tr>\n",
       "      <th>3</th>\n",
       "      <td>reference to previous counseling</td>\n",
       "      <td>the reason for selection of the penalty</td>\n",
       "      <td>2.0</td>\n",
       "    </tr>\n",
       "    <tr>\n",
       "      <th>4</th>\n",
       "      <td>disciplinary action</td>\n",
       "      <td>the reason for selection of the penalty</td>\n",
       "      <td>2.0</td>\n",
       "    </tr>\n",
       "    <tr>\n",
       "      <th>12</th>\n",
       "      <td>lending identification card</td>\n",
       "      <td>dod identification</td>\n",
       "      <td>2.0</td>\n",
       "    </tr>\n",
       "  </tbody>\n",
       "</table>\n",
       "</div>"
      ],
      "text/plain": [
       "                             hyponym  \\\n",
       "0                 the proper process   \n",
       "2                  a write reprimand   \n",
       "3   reference to previous counseling   \n",
       "4                disciplinary action   \n",
       "12       lending identification card   \n",
       "\n",
       "                                             hypernym  proposed_label  \n",
       "0   supervisory and management official on discipl...             2.0  \n",
       "2                        a formal disciplinary action             2.0  \n",
       "3             the reason for selection of the penalty             2.0  \n",
       "4             the reason for selection of the penalty             2.0  \n",
       "12                                 dod identification             2.0  "
      ]
     },
     "execution_count": 127,
     "metadata": {},
     "output_type": "execute_result"
    }
   ],
   "source": [
    "proposed_labeled_hyponyms.head()"
   ]
  },
  {
   "cell_type": "code",
   "execution_count": 128,
   "id": "b04aebce-c5b1-4979-ab8f-5bd7ed78233d",
   "metadata": {},
   "outputs": [
    {
     "data": {
      "text/plain": [
       "6710"
      ]
     },
     "execution_count": 128,
     "metadata": {},
     "output_type": "execute_result"
    }
   ],
   "source": [
    "len(proposed_labeled_hyponyms[proposed_labeled_hyponyms[\"proposed_label\"] == 2])"
   ]
  },
  {
   "cell_type": "code",
   "execution_count": 129,
   "id": "a6104a9a-6f5e-4936-9482-e793289a48e7",
   "metadata": {},
   "outputs": [
    {
     "data": {
      "text/plain": [
       "0"
      ]
     },
     "execution_count": 129,
     "metadata": {},
     "output_type": "execute_result"
    }
   ],
   "source": [
    "len(proposed_labeled_hyponyms[proposed_labeled_hyponyms[\"proposed_label\"] == 1])"
   ]
  },
  {
   "cell_type": "code",
   "execution_count": 130,
   "id": "ea1f71b8-84c6-46ae-b832-2924ec3ad61f",
   "metadata": {},
   "outputs": [
    {
     "data": {
      "text/plain": [
       "0"
      ]
     },
     "execution_count": 130,
     "metadata": {},
     "output_type": "execute_result"
    }
   ],
   "source": [
    "len(proposed_labeled_hyponyms[proposed_labeled_hyponyms[\"proposed_label\"] == 0])"
   ]
  },
  {
   "cell_type": "code",
   "execution_count": 131,
   "id": "8f8b1602-c248-4ebb-a4b5-814c436564ee",
   "metadata": {},
   "outputs": [
    {
     "data": {
      "text/html": [
       "<div>\n",
       "<style scoped>\n",
       "    .dataframe tbody tr th:only-of-type {\n",
       "        vertical-align: middle;\n",
       "    }\n",
       "\n",
       "    .dataframe tbody tr th {\n",
       "        vertical-align: top;\n",
       "    }\n",
       "\n",
       "    .dataframe thead th {\n",
       "        text-align: right;\n",
       "    }\n",
       "</style>\n",
       "<table border=\"1\" class=\"dataframe\">\n",
       "  <thead>\n",
       "    <tr style=\"text-align: right;\">\n",
       "      <th></th>\n",
       "      <th>hyponym</th>\n",
       "      <th>hypernym</th>\n",
       "      <th>proposed_label</th>\n",
       "    </tr>\n",
       "  </thead>\n",
       "  <tbody>\n",
       "    <tr>\n",
       "      <th>2120</th>\n",
       "      <td>pre adoptive child</td>\n",
       "      <td>dependent child</td>\n",
       "      <td>2.0</td>\n",
       "    </tr>\n",
       "    <tr>\n",
       "      <th>13299</th>\n",
       "      <td>board certification</td>\n",
       "      <td>professional qualification</td>\n",
       "      <td>2.0</td>\n",
       "    </tr>\n",
       "    <tr>\n",
       "      <th>6527</th>\n",
       "      <td>support staff</td>\n",
       "      <td>service member to gme program</td>\n",
       "      <td>2.0</td>\n",
       "    </tr>\n",
       "    <tr>\n",
       "      <th>12968</th>\n",
       "      <td>the dod cover entity</td>\n",
       "      <td>surgeon general of the navy</td>\n",
       "      <td>2.0</td>\n",
       "    </tr>\n",
       "    <tr>\n",
       "      <th>10890</th>\n",
       "      <td>biological agents</td>\n",
       "      <td>toxicological agents</td>\n",
       "      <td>2.0</td>\n",
       "    </tr>\n",
       "    <tr>\n",
       "      <th>2403</th>\n",
       "      <td>civil right organization</td>\n",
       "      <td>local community resource</td>\n",
       "      <td>2.0</td>\n",
       "    </tr>\n",
       "    <tr>\n",
       "      <th>9117</th>\n",
       "      <td>electrical connection</td>\n",
       "      <td>external difference</td>\n",
       "      <td>2.0</td>\n",
       "    </tr>\n",
       "    <tr>\n",
       "      <th>11325</th>\n",
       "      <td>canvas mail sack</td>\n",
       "      <td>excess mte</td>\n",
       "      <td>2.0</td>\n",
       "    </tr>\n",
       "    <tr>\n",
       "      <th>4762</th>\n",
       "      <td>foreign military aircraft</td>\n",
       "      <td>lawful use of airspace under international law...</td>\n",
       "      <td>2.0</td>\n",
       "    </tr>\n",
       "    <tr>\n",
       "      <th>5986</th>\n",
       "      <td>information sharing</td>\n",
       "      <td>ditmac activity</td>\n",
       "      <td>2.0</td>\n",
       "    </tr>\n",
       "  </tbody>\n",
       "</table>\n",
       "</div>"
      ],
      "text/plain": [
       "                         hyponym  \\\n",
       "2120          pre adoptive child   \n",
       "13299        board certification   \n",
       "6527               support staff   \n",
       "12968       the dod cover entity   \n",
       "10890          biological agents   \n",
       "2403    civil right organization   \n",
       "9117       electrical connection   \n",
       "11325           canvas mail sack   \n",
       "4762   foreign military aircraft   \n",
       "5986         information sharing   \n",
       "\n",
       "                                                hypernym  proposed_label  \n",
       "2120                                     dependent child             2.0  \n",
       "13299                         professional qualification             2.0  \n",
       "6527                       service member to gme program             2.0  \n",
       "12968                        surgeon general of the navy             2.0  \n",
       "10890                               toxicological agents             2.0  \n",
       "2403                            local community resource             2.0  \n",
       "9117                                 external difference             2.0  \n",
       "11325                                         excess mte             2.0  \n",
       "4762   lawful use of airspace under international law...             2.0  \n",
       "5986                                     ditmac activity             2.0  "
      ]
     },
     "execution_count": 131,
     "metadata": {},
     "output_type": "execute_result"
    }
   ],
   "source": [
    "proposed_labeled_hyponyms[proposed_labeled_hyponyms[\"proposed_label\"] == 2].sample(10)"
   ]
  },
  {
   "cell_type": "code",
   "execution_count": 132,
   "id": "f136fcb2-1bd7-4903-8296-2548b1ba0231",
   "metadata": {},
   "outputs": [],
   "source": [
    "proposed_labeled_hyponyms.to_csv(\"proposed_hyponym_labelsv2.csv\")"
   ]
  },
  {
   "cell_type": "code",
   "execution_count": null,
   "id": "61acea16-a4c0-41cb-8020-2c0784831860",
   "metadata": {},
   "outputs": [],
   "source": []
  }
 ],
 "metadata": {
  "kernelspec": {
   "display_name": "Python 3",
   "language": "python",
   "name": "python3"
  },
  "language_info": {
   "codemirror_mode": {
    "name": "ipython",
    "version": 3
   },
   "file_extension": ".py",
   "mimetype": "text/x-python",
   "name": "python",
   "nbconvert_exporter": "python",
   "pygments_lexer": "ipython3",
   "version": "3.7.11"
  }
 },
 "nbformat": 4,
 "nbformat_minor": 5
}
