{
 "cells": [
  {
   "cell_type": "code",
   "execution_count": 48,
   "metadata": {},
   "outputs": [],
   "source": [
    "import pandas as pd\n",
    "import spacy\n",
    "from ast import literal_eval"
   ]
  },
  {
   "cell_type": "code",
   "execution_count": 49,
   "metadata": {},
   "outputs": [],
   "source": [
    "nlp = spacy.load(\"en_core_web_sm\")"
   ]
  },
  {
   "cell_type": "code",
   "execution_count": 51,
   "metadata": {},
   "outputs": [],
   "source": [
    "df = pd.read_csv(\"final_syns1.csv\")"
   ]
  },
  {
   "cell_type": "code",
   "execution_count": 83,
   "metadata": {},
   "outputs": [
    {
     "data": {
      "text/plain": [
       "\"\\nfiltered_df = []\\nfor index, row in df.iterrows():\\n    first_doc = nlp(row['First Term'])\\n    second_doc = nlp(row['Second Term'])\\n    for token in first_doc:\\n        first_POS = token.pos_\\n    for token in second_doc:\\n        second_POS = token.pos_\\n    if first_POS == second_POS:\\n        filtered_df.append((row['First Term'], row['Second Term']))\\n\""
      ]
     },
     "execution_count": 83,
     "metadata": {},
     "output_type": "execute_result"
    }
   ],
   "source": [
    "'''\n",
    "filtered_df = []\n",
    "for index, row in df.iterrows():\n",
    "    first_doc = nlp(row['First Term'])\n",
    "    second_doc = nlp(row['Second Term'])\n",
    "    for token in first_doc:\n",
    "        first_POS = token.pos_\n",
    "    for token in second_doc:\n",
    "        second_POS = token.pos_\n",
    "    if first_POS == second_POS:\n",
    "        filtered_df.append((row['First Term'], row['Second Term']))\n",
    "'''"
   ]
  },
  {
   "cell_type": "code",
   "execution_count": 84,
   "metadata": {},
   "outputs": [],
   "source": [
    "# print(len(filtered_df))"
   ]
  },
  {
   "cell_type": "code",
   "execution_count": 85,
   "metadata": {},
   "outputs": [],
   "source": [
    "# filtered_df[:50]"
   ]
  },
  {
   "cell_type": "code",
   "execution_count": 55,
   "metadata": {},
   "outputs": [],
   "source": [
    "# read in corpus\n",
    "corpus_df = pd.read_csv(\"full_custom_tokenized_df.csv\", index_col = 0)\n",
    "corpus_df['doc_type'].replace('admin%20instructions', 'admin instructions', inplace=True)\n",
    "corpus_df['custom_tokenized_sentences'] = corpus_df['custom_tokenized_sentences'].apply(literal_eval)"
   ]
  },
  {
   "cell_type": "code",
   "execution_count": 63,
   "metadata": {},
   "outputs": [],
   "source": [
    "count = 0\n",
    "first_filter = []\n",
    "for index, row in df.iterrows():\n",
    "    for doc in corpus_df['custom_tokenized_sentences']:\n",
    "        if row['First Term'] in doc[0] and row['Second Term'] in doc[0]:\n",
    "            first_filter.append((row['First Term'], row['Second Term']))"
   ]
  },
  {
   "cell_type": "code",
   "execution_count": 70,
   "metadata": {},
   "outputs": [
    {
     "name": "stdout",
     "output_type": "stream",
     "text": [
      "611\n"
     ]
    }
   ],
   "source": [
    "print(len(set(first_filter)))"
   ]
  },
  {
   "cell_type": "code",
   "execution_count": 72,
   "metadata": {},
   "outputs": [],
   "source": [
    "final_list = list(set(first_filter))"
   ]
  },
  {
   "cell_type": "code",
   "execution_count": 78,
   "metadata": {},
   "outputs": [],
   "source": [
    "this_this_list = []\n",
    "for pair in final_list:\n",
    "    if pair[0] == pair[1]:\n",
    "        continue\n",
    "    else:\n",
    "        this_this_list.append(pair)"
   ]
  },
  {
   "cell_type": "code",
   "execution_count": 79,
   "metadata": {},
   "outputs": [
    {
     "name": "stdout",
     "output_type": "stream",
     "text": [
      "599\n"
     ]
    }
   ],
   "source": [
    "print(len(this_this_list))"
   ]
  },
  {
   "cell_type": "code",
   "execution_count": 80,
   "metadata": {},
   "outputs": [],
   "source": [
    "clean_df = pd.DataFrame(this_this_list, columns = ['First Term', 'Second Term'])"
   ]
  },
  {
   "cell_type": "code",
   "execution_count": 82,
   "metadata": {},
   "outputs": [],
   "source": [
    "clean_df.to_csv(\"final_synonyms.csv\")"
   ]
  },
  {
   "cell_type": "code",
   "execution_count": null,
   "metadata": {},
   "outputs": [],
   "source": []
  }
 ],
 "metadata": {
  "kernelspec": {
   "display_name": "Python 3",
   "language": "python",
   "name": "python3"
  },
  "language_info": {
   "codemirror_mode": {
    "name": "ipython",
    "version": 3
   },
   "file_extension": ".py",
   "mimetype": "text/x-python",
   "name": "python",
   "nbconvert_exporter": "python",
   "pygments_lexer": "ipython3",
   "version": "3.7.4"
  }
 },
 "nbformat": 4,
 "nbformat_minor": 2
}
