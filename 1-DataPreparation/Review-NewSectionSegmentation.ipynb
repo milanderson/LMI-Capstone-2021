{
 "cells": [
  {
   "cell_type": "code",
   "execution_count": 1,
   "id": "ee6eee55-c6b8-4d14-91bf-5ff5baff8329",
   "metadata": {},
   "outputs": [],
   "source": [
    "from NewSectionSegmentation import SectionSegmentation\n",
    "import pandas as pd\n",
    "import string\n",
    "import re\n",
    "import random"
   ]
  },
  {
   "cell_type": "code",
   "execution_count": 2,
   "id": "08b012e5-1d21-4506-bc92-a98347cf191c",
   "metadata": {},
   "outputs": [
    {
     "name": "stdout",
     "output_type": "stream",
     "text": [
      "['GLOSSARY']\n",
      "['PART I', 'PART II']\n",
      "['GLOSSARY']\n",
      "['PART I', 'PART II']\n",
      "['GLOSSARY']\n",
      "['PART I', 'PART II']\n",
      "['GLOSSARY']\n",
      "['PART I', 'PART II']\n",
      "['GLOSSARY']\n",
      "['PART I', 'PART II']\n",
      "['GLOSSARY']\n",
      "['PART I', 'PART II']\n",
      "['GLOSSARY']\n",
      "['PART I', 'PART II']\n",
      "['GLOSSARY']\n",
      "['PART I', ' PART II', 'PART II']\n",
      "['GLOSSARY']\n",
      "['PART I', 'PART II']\n",
      "['GLOSSARY']\n",
      "['PART I', 'PART II']\n",
      "['GLOSSARY']\n",
      "['PART I', 'PART II']\n",
      "['GLOSSARY']\n",
      "['PART I', 'PART II']\n",
      "['GLOSSARY']\n",
      "[' PART I', ' PART II', 'PART I', 'PART II']\n",
      "['GLOSSARY']\n",
      "['PART I', 'PART II']\n",
      "['GLOSSARY']\n",
      "['PART I', 'PART II']\n",
      "['GLOSSARY']\n",
      "['PART I', 'PART II']\n",
      "['GLOSSARY']\n",
      "['PART I', 'PART II']\n",
      "['GLOSSARY']\n",
      "['PART I', 'PART II']\n",
      "['GLOSSARY']\n",
      "['PART I', 'PART II']\n",
      "['GLOSSARY']\n",
      "['PART I', 'PART II']\n",
      "['GLOSSARY']\n",
      "['    PART I', '    PART II', 'PART I', 'PART II']\n",
      "['GLOSSARY']\n",
      "['PART I', 'PART II']\n",
      "['GLOSSARY']\n",
      "['PART I', 'PART II']\n",
      "['GLOSSARY']\n",
      "['PART I', 'PART II']\n",
      "['GLOSSARY']\n",
      "['PART I', 'PART II']\n",
      "['GLOSSARY']\n",
      "['PART I', 'PART II']\n",
      "['GLOSSARY']\n",
      "['PART I', 'PART II']\n",
      "['GLOSSARY']\n",
      "['PART I', 'PART II']\n",
      "['GLOSSARY']\n",
      "['PART I', 'PART II']\n",
      "['GLOSSARY']\n",
      "['PART I', 'PART II']\n",
      "['GLOSSARY']\n",
      "['PART I', 'PART II']\n",
      "['GLOSSARY']\n",
      "['PART I', 'PART II']\n",
      "['GLOSSARY']\n",
      "['PART I', 'PART II']\n",
      "['GLOSSARY']\n",
      "['PART I', 'PART II']\n",
      "['GLOSSARY']\n",
      "['PART I', 'PART II']\n",
      "['GLOSSARY']\n",
      "['PART I', 'PART II']\n",
      "['GLOSSARY']\n",
      "['PART I', 'PART II']\n",
      "['GLOSSARY']\n",
      "['PART I', 'PART II']\n",
      "['GLOSSARY']\n",
      "['PART I', 'PART II']\n",
      "['GLOSSARY']\n",
      "['PART I', 'PART II']\n",
      "['GLOSSARY']\n",
      "['PART I', 'PART II']\n",
      "['GLOSSARY']\n",
      "['PART I', 'PART II']\n",
      "['GLOSSARY']\n",
      "['PART I', 'PART II']\n",
      "['GLOSSARY']\n",
      "['PART I', 'PART II']\n",
      "['GLOSSARY']\n",
      "['PART I', 'PART II']\n",
      "['GLOSSARY']\n",
      "['PART I', 'PART II']\n",
      "['GLOSSARY']\n",
      "['PART I', 'PART II']\n",
      "['  GLOSSARY', 'GLOSSARY']\n",
      "['PART I', 'PART II']\n",
      "['GLOSSARY']\n",
      "['PART I', 'PART II']\n",
      "['GLOSSARY']\n",
      "['PART I', 'PART II']\n",
      "['GLOSSARY']\n",
      "['PART I', 'PART II']\n",
      "['GLOSSARY']\n",
      "['PART I', 'PART II']\n",
      "['GLOSSARY']\n",
      "['PART I', 'PART II']\n",
      "['GLOSSARY']\n",
      "['PART I', 'PART II']\n",
      "['GLOSSARY']\n",
      "['PART I', 'PART II']\n",
      "['GLOSSARY']\n",
      "['PART I', 'PART II']\n",
      "['GLOSSARY']\n",
      "['PART I', 'PART II']\n",
      "['GLOSSARY']\n",
      "['PART I', 'PART II']\n",
      "['GLOSSARY']\n",
      "['PART I', 'PART II']\n",
      "['GLOSSARY']\n",
      "['PART I', 'PART II']\n",
      "['GLOSSARY']\n",
      "['PART I', 'PART II']\n",
      "[]\n",
      "['PART I', 'PART II']\n",
      "['GLOSSARY']\n",
      "['PART I']\n",
      "['GLOSSARY']\n",
      "['PART I', 'PART II']\n",
      "['GLOSSARY']\n",
      "['PART I', 'PART II']\n",
      "['GLOSSARY']\n",
      "['PART I', 'PART II']\n",
      "['GLOSSARY']\n",
      "['PART I', 'PART II']\n",
      "['GLOSSARY']\n",
      "['PART I', 'PART II']\n",
      "['GLOSSARY']\n",
      "['PART I', 'PART II']\n",
      "['GLOSSARY']\n",
      "['PART I', 'PART II']\n",
      "[' GLOSSARY']\n",
      "['PART I', 'PART II']\n",
      "['GLOSSARY']\n",
      "['PART I', 'PART II']\n",
      "['GLOSSARY']\n",
      "['PART I', 'PART II']\n",
      "['GLOSSARY']\n",
      "['PART I', 'PART II']\n",
      "['GLOSSARY']\n",
      "['PART I', 'PART II']\n",
      "['GLOSSARY']\n",
      "['PART I', 'PART II']\n",
      "['GLOSSARY']\n",
      "['PART I', 'PART II']\n",
      "['GLOSSARY']\n",
      "['PART I', 'PART II']\n",
      "['GLOSSARY']\n",
      "['PART I', 'PART II']\n",
      "['GLOSSARY']\n",
      "['PART I', 'PART II']\n",
      "['GLOSSARY']\n",
      "['PART I', 'PART II']\n",
      "['GLOSSARY']\n",
      "['PART I', 'PART II']\n",
      "['GLOSSARY']\n",
      "['PART I', 'PART II']\n",
      "['GLOSSARY']\n",
      "['PART I', 'PART II']\n",
      "['GLOSSARY']\n",
      "['PART I', 'PART II']\n",
      "['GLOSSARY']\n",
      "['PART I', 'PART II']\n",
      "['GLOSSARY']\n",
      "['PART I', 'PART II']\n",
      "['GLOSSARY']\n",
      "['PART I', 'PART II']\n",
      "['GLOSSARY']\n",
      "['PART I', 'PART II']\n",
      "['GLOSSARY']\n",
      "['PART I', 'PART II']\n",
      "['GLOSSARY']\n",
      "['PART I', 'PART II']\n",
      "['GLOSSARY']\n",
      "['PART I', 'PART II']\n",
      "['GLOSSARY']\n",
      "['PART I', 'PART II']\n",
      "['GLOSSARY']\n",
      "['PART I', 'PART II']\n",
      "['GLOSSARY']\n",
      "['PART I', 'PART II']\n",
      "['GLOSSARY']\n",
      "['PART I', 'PART II']\n",
      "[]\n",
      "['PART I', 'PART II']\n",
      "['GLOSSARY']\n",
      "['PART I', 'PART II']\n",
      "['GLOSSARY']\n",
      "['PART I', 'PART II']\n",
      "['GLOSSARY']\n",
      "['PART I', 'PART II']\n",
      "['GLOSSARY']\n",
      "['PART I', 'PART II']\n",
      "['GLOSSARY']\n",
      "['PART I', 'PART II']\n",
      "['GLOSSARY']\n",
      "['PART I', 'PART II']\n",
      "['GLOSSARY']\n",
      "['PART I', 'PART II']\n",
      "['GLOSSARY']\n",
      "['PART I', 'PART II']\n",
      "['GLOSSARY']\n",
      "['PART I', 'PART II']\n",
      "['GLOSSARY']\n",
      "['PART I', 'PART II']\n",
      "['GLOSSARY']\n",
      "['PART I', 'PART II']\n",
      "['GLOSSARY']\n",
      "['PART I', 'PART II']\n",
      "['GLOSSARY']\n",
      "['      PART I', '      PART II', 'PART I', 'PART II']\n",
      "['GLOSSARY']\n",
      "['PART I', 'PART II']\n",
      "['GLOSSARY']\n",
      "['PART I', 'PART II']\n",
      "['GLOSSARY']\n",
      "['PART I', 'PART II']\n",
      "['GLOSSARY 7 ', 'GLOSSARY']\n",
      "['PART I', 'PART II']\n",
      "['GLOSSARY']\n",
      "['PART I', 'PART II']\n",
      "['GLOSSARY']\n",
      "['PART I', 'PART II']\n",
      "['GLOSSARY']\n",
      "['PART I', 'PART II']\n",
      "['GLOSSARY']\n",
      "['PART I', 'PART II']\n",
      "['GLOSSARY']\n",
      "['PART I', 'PART II']\n",
      "['GLOSSARY']\n",
      "['PART I', 'PART II']\n",
      "['GLOSSARY']\n",
      "['PART I', 'PART II']\n",
      "['GLOSSARY']\n",
      "['PART I', 'PART II']\n",
      "['GLOSSARY']\n",
      "['PART I', 'PART II']\n",
      "['GLOSSARY']\n",
      "['PART I', 'PART II']\n",
      "['GLOSSARY']\n",
      "['PART I', 'PART II']\n",
      "['GLOSSARY']\n",
      "['PART I', 'PART II']\n",
      "['GLOSSARY']\n",
      "['PART I', 'PART II']\n",
      "['GLOSSARY']\n",
      "['PART I', 'PART II']\n",
      "['GLOSSARY']\n",
      "['PART I', 'PART II']\n",
      "['GLOSSARY']\n",
      "['PART I', 'PART II']\n",
      "['GLOSSARY']\n",
      "['PART I', 'PART II']\n",
      "['GLOSSARY']\n",
      "['PART I', 'PART II']\n",
      "['GLOSSARY']\n",
      "['PART I', 'PART II']\n",
      "['GLOSSARY']\n",
      "['PART I', 'PART II']\n",
      "['GLOSSARY']\n",
      "['PART I', 'PART II']\n",
      "['GLOSSARY']\n",
      "[' PART I', ' PART II', 'PART I', 'PART II']\n",
      "['GLOSSARY']\n",
      "['PART I', 'PART II']\n",
      "['GLOSSARY']\n",
      "['PART I', 'PART II']\n",
      "['GLOSSARY']\n",
      "['PART I', 'PART II']\n",
      "['GLOSSARY']\n",
      "['PART I', 'PART II']\n",
      "['GLOSSARY']\n",
      "['PART I', 'PART II']\n",
      "['GLOSSARY']\n",
      "['PART I', 'PART II']\n",
      "['GLOSSARY']\n",
      "['PART I', 'PART II']\n",
      "['GLOSSARY']\n",
      "['PART I', 'PART II']\n",
      "['GLOSSARY']\n",
      "['PART I', 'PART II']\n",
      "['GLOSSARY']\n",
      "['PART I', 'PART II']\n",
      "['GLOSSARY']\n",
      "['PART I', 'PART II']\n",
      "['GLOSSARY']\n",
      "['PART I', 'PART II']\n",
      "['GLOSSARY']\n",
      "['PART I', 'PART II']\n",
      "['GLOSSARY']\n",
      "['PART I', 'PART II']\n",
      "['GLOSSARY']\n",
      "['PART I', 'PART II']\n",
      "['GLOSSARY']\n",
      "['PART I', 'PART II']\n",
      "['GLOSSARY']\n",
      "['PART I', 'PART II']\n",
      "['GLOSSARY']\n",
      "[' PART I', ' PART II', 'PART I', 'PART II']\n",
      "['GLOSSARY']\n",
      "['PART I', 'PART II']\n",
      "['GLOSSARY']\n",
      "['PART I', 'PART II']\n",
      "['GLOSSARY']\n",
      "['PART I', 'PART II']\n",
      "['GLOSSARY']\n",
      "['PART I', 'PART II']\n",
      "['GLOSSARY']\n",
      "['PART I', 'PART II']\n",
      "['GLOSSARY']\n",
      "['PART I', 'PART II']\n",
      "['GLOSSARY']\n",
      "['PART I', 'PART II']\n",
      "['GLOSSARY']\n",
      "[' PART I', ' PART II', 'PART I', 'PART II']\n",
      "['GLOSSARY']\n",
      "['PART I', 'PART II']\n",
      "['GLOSSARY']\n",
      "['PART I', 'PART II']\n",
      "['GLOSSARY']\n",
      "['PART I', 'PART II']\n",
      "['GLOSSARY']\n",
      "['PART I', 'PART II']\n",
      "['GLOSSARY']\n",
      "[' PART I', ' PART II', 'PART I', 'PART II']\n",
      "['GLOSSARY']\n",
      "[' PART I', ' PART II', 'PART I', 'PART II']\n",
      "['GLOSSARY']\n",
      "['PART I', 'PART II']\n",
      "['GLOSSARY']\n",
      "['PART I', 'PART II']\n",
      "['GLOSSARY']\n",
      "['PART I', 'PART II']\n",
      "['GLOSSARY']\n",
      "['PART I', 'PART II']\n",
      "['GLOSSARY']\n",
      "['PART I', 'PART II']\n",
      "['GLOSSARY']\n",
      "['PART I', 'PART II']\n",
      "['GLOSSARY']\n",
      "['PART I', 'PART II']\n",
      "['GLOSSARY']\n",
      "['PART I', 'PART II']\n",
      "['GLOSSARY']\n",
      "['PART I', 'PART II']\n",
      "['GLOSSARY']\n",
      "['PART I', 'PART II']\n",
      "['GLOSSARY']\n",
      "['PART I', 'PART II']\n",
      "['GLOSSARY']\n",
      "['PART I', 'PART II']\n",
      "['GLOSSARY', ' GLOSSARY']\n",
      "['PART I', 'PART II']\n",
      "['GLOSSARY']\n",
      "['PART I', 'PART II']\n",
      "['GLOSSARY']\n",
      "['PART I', 'PART II']\n",
      "['GLOSSARY']\n",
      "['PART I', 'PART II']\n",
      "['GLOSSARY']\n",
      "['PART I', 'PART II']\n",
      "['GLOSSARY']\n",
      "[' PART I', ' PART II', 'PART I', 'PART II']\n",
      "['GLOSSARY']\n",
      "[' PART I', ' PART II', 'PART I', 'PART II']\n",
      "['GLOSSARY']\n",
      "['PART I', 'PART II']\n",
      "['GLOSSARY']\n",
      "['PART I', 'PART II']\n",
      "['GLOSSARY']\n",
      "['PART I', 'PART II']\n",
      "['GLOSSARY']\n",
      "['PART I', 'PART II']\n",
      "['GLOSSARY']\n",
      "['PART I', 'PART II']\n",
      "['GLOSSARY']\n",
      "['PART I', 'PART II']\n",
      "['GLOSSARY']\n",
      "['PART I', 'PART II']\n",
      "['GLOSSARY']\n",
      "[' PART I', ' PART II', 'PART I', 'PART II']\n",
      "['GLOSSARY']\n",
      "['PART I', 'PART II']\n",
      "['GLOSSARY']\n",
      "['PART I', 'PART II']\n",
      "['GLOSSARY']\n",
      "['PART I', 'PART II']\n",
      "['GLOSSARY']\n",
      "[' PART I', ' PART II', 'PART I', 'PART II']\n",
      "['GLOSSARY']\n",
      "['PART I', 'PART II']\n",
      "['GLOSSARY']\n",
      "['PART I', 'PART II']\n",
      "['GLOSSARY']\n",
      "['PART I', 'PART II']\n",
      "[]\n",
      "['PART I', 'PART II']\n",
      "['GLOSSARY']\n",
      "[' PART I', ' PART II', 'PART I', 'PART II']\n",
      "['GLOSSARY']\n",
      "['PART I', 'PART II']\n",
      "['GLOSSARY']\n",
      "['PART I', 'PART II']\n",
      "['GLOSSARY']\n",
      "['PART I', 'PART II']\n",
      "['GLOSSARY']\n",
      "['PART I', 'PART II']\n",
      "['GLOSSARY']\n",
      "['PART I', 'PART II']\n",
      "['GLOSSARY']\n",
      "['PART I', 'PART II']\n",
      "['GLOSSARY']\n",
      "['PART I', 'PART II']\n",
      "['GLOSSARY']\n",
      "['PART I', 'PART II']\n",
      "['GLOSSARY']\n",
      "['PART I', 'PART II']\n",
      "['GLOSSARY']\n",
      "['PART I', 'PART II']\n",
      "['GLOSSARY']\n",
      "['PART I', 'PART II']\n",
      "['GLOSSARY']\n",
      "[' PART I', ' PART II', 'PART I', 'PART II']\n",
      "['GLOSSARY']\n",
      "['PART I', 'PART II']\n",
      "['GLOSSARY']\n",
      "['PART I', 'PART II']\n",
      "['GLOSSARY']\n",
      "['PART I', 'PART II']\n",
      "['GLOSSARY']\n",
      "['PART I', 'PART II']\n",
      "['GLOSSARY']\n",
      "['PART I', 'PART II']\n",
      "['GLOSSARY']\n",
      "['PART I', 'PART II']\n",
      "['GLOSSARY']\n",
      "['PART I', 'PART II']\n",
      "['GLOSSARY']\n",
      "['PART I', 'PART II']\n",
      "['GLOSSARY']\n",
      "['PART I', 'PART II']\n",
      "['GLOSSARY']\n",
      "['PART I', 'PART II']\n",
      "['GLOSSARY']\n",
      "['PART I', 'PART II']\n",
      "['GLOSSARY']\n",
      "['PART I', 'PART II']\n",
      "['GLOSSARY']\n",
      "['PART I', 'PART II']\n",
      "['GLOSSARY']\n",
      "['PART I', 'PART II']\n",
      "['GLOSSARY']\n",
      "['PART I', 'PART II']\n",
      "['GLOSSARY']\n",
      "['PART I', 'PART II']\n",
      "['GLOSSARY']\n",
      "['PART I', 'PART II']\n",
      "['GLOSSARY']\n",
      "['PART I', 'PART II']\n",
      "['GLOSSARY']\n",
      "['PART I', 'PART II']\n",
      "['GLOSSARY']\n",
      "['PART I', 'PART II']\n",
      "['GLOSSARY']\n",
      "['PART I', 'PART II']\n",
      "['GLOSSARY']\n",
      "['PART I', 'PART II']\n",
      "['GLOSSARY']\n",
      "['PART I', 'PART II']\n",
      "['GLOSSARY']\n",
      "['PART I', 'PART II']\n",
      "['GLOSSARY']\n",
      "['PART I', 'PART II']\n"
     ]
    },
    {
     "name": "stdout",
     "output_type": "stream",
     "text": [
      "['GLOSSARY']\n",
      "['PART I', 'PART II']\n",
      "['GLOSSARY']\n",
      "['PART I', 'PART II']\n",
      "['GLOSSARY']\n",
      "['PART I', 'PART II']\n",
      "['GLOSSARY']\n",
      "['PART I', 'PART II']\n",
      "['GLOSSARY']\n",
      "['PART I', 'PART II']\n",
      "['GLOSSARY']\n",
      "['PART I', 'PART II']\n",
      "['GLOSSARY']\n",
      "['PART I', 'PART II']\n",
      "['GLOSSARY']\n",
      "['PART I', 'PART II']\n",
      "['GLOSSARY']\n",
      "['PART I', 'PART II']\n",
      "['GLOSSARY']\n",
      "['PART I', 'PART II']\n",
      "['GLOSSARY']\n",
      "['PART I', 'PART II']\n",
      "['GLOSSARY']\n",
      "['PART I', 'PART II']\n",
      "['GLOSSARY']\n",
      "['PART I', 'PART II']\n",
      "['GLOSSARY']\n",
      "['PART I', 'PART II']\n",
      "['GLOSSARY']\n",
      "[' PART I', ' PART II', 'PART I', 'PART II']\n",
      "['GLOSSARY']\n",
      "['PART I', 'PART II']\n",
      "['GLOSSARY']\n",
      "['PART I', 'PART II']\n",
      "['GLOSSARY']\n",
      "['PART I', 'PART II']\n",
      "['GLOSSARY']\n",
      "['PART I', 'PART II']\n",
      "['GLOSSARY']\n",
      "[' PART I', ' PART II', 'PART I', 'PART II']\n",
      "['GLOSSARY']\n",
      "['PART I', 'PART II']\n",
      "['GLOSSARY']\n",
      "['PART I', 'PART II']\n",
      "['GLOSSARY']\n",
      "['PART I', 'PART II']\n",
      "['GLOSSARY']\n",
      "['PART I', 'PART II']\n",
      "['GLOSSARY']\n",
      "['PART I', 'PART II']\n",
      "['GLOSSARY']\n",
      "['PART I', 'PART II']\n",
      "['GLOSSARY']\n",
      "['PART I', 'PART II']\n",
      "['GLOSSARY']\n",
      "['PART I', 'PART II']\n",
      "['GLOSSARY']\n",
      "['PART I', 'PART II']\n",
      "['GLOSSARY']\n",
      "['PART I', 'PART II']\n",
      "['GLOSSARY']\n",
      "['PART I', 'PART II']\n",
      "['GLOSSARY']\n",
      "['PART I', 'PART II']\n",
      "['GLOSSARY']\n",
      "['PART I', 'PART II']\n",
      "['GLOSSARY']\n",
      "[' PART I', ' PART II', 'PART I', 'PART II']\n",
      "['GLOSSARY']\n",
      "[' PART I', ' PART II', 'PART I', 'PART II']\n",
      "['GLOSSARY']\n",
      "['PART I', 'PART II']\n",
      "['GLOSSARY']\n",
      "['PART I', 'PART II']\n",
      "['GLOSSARY']\n",
      "[' PART I', ' PART II', 'PART I', 'PART II']\n",
      "['GLOSSARY']\n",
      "[' PART I', ' PART II', 'PART I', 'PART II']\n",
      "['GLOSSARY']\n",
      "['PART I', 'PART II']\n",
      "['GLOSSARY']\n",
      "['PART I', 'PART II']\n",
      "['GLOSSARY']\n",
      "['PART I', 'PART II']\n",
      "['GLOSSARY']\n",
      "[' PART I', ' PART II', 'PART I', 'PART II']\n",
      "['GLOSSARY']\n",
      "['PART I']\n",
      "['GLOSSARY']\n",
      "[' PART I', ' PART II', 'PART I', 'PART II']\n",
      "['GLOSSARY']\n",
      "['PART I', 'PART II']\n",
      "['GLOSSARY']\n",
      "['PART I', 'PART II']\n",
      "['GLOSSARY']\n",
      "[' PART I', ' PART II', 'PART I', 'PART II']\n",
      "['GLOSSARY']\n",
      "['PART I', 'PART II']\n",
      "['GLOSSARY']\n",
      "['PART I', 'PART II']\n",
      "['GLOSSARY']\n",
      "['PART I', 'PART II']\n",
      "['GLOSSARY']\n",
      "['PART I', 'PART II']\n",
      "['GLOSSARY']\n",
      "['PART I', 'PART II']\n",
      "['GLOSSARY']\n",
      "['PART I', 'PART II']\n",
      "['GLOSSARY']\n",
      "['PART I', 'PART II']\n",
      "['GLOSSARY']\n",
      "[' PART I', ' PART II', 'PART I', 'PART II']\n",
      "['GLOSSARY']\n",
      "['PART I', 'PART II']\n",
      "['GLOSSARY']\n",
      "['PART I', 'PART II']\n",
      "['GLOSSARY']\n",
      "[' PART I', ' PART II', 'PART I', 'PART II']\n",
      "['GLOSSARY']\n",
      "['PART I', 'PART II']\n",
      "['GLOSSARY']\n",
      "['PART I', 'PART II']\n",
      "['GLOSSARY']\n",
      "['PART I', 'PART II']\n",
      "['GLOSSARY']\n",
      "['PART I', 'PART II']\n",
      "['GLOSSARY']\n",
      "['PART I', 'PART II']\n",
      "['GLOSSARY']\n",
      "['PART I', 'PART II']\n",
      "['GLOSSARY']\n",
      "[' PART I', ' PART II', 'PART I', 'PART II']\n",
      "['GLOSSARY']\n",
      "['PART I', 'PART II']\n",
      "['GLOSSARY']\n",
      "['PART I', 'PART II']\n",
      "['GLOSSARY', 'GLOSSARY 8 ']\n",
      "[' PART I', ' PART II', 'PART I', 'PART II']\n",
      "['GLOSSARY']\n",
      "['PART I', 'PART II']\n",
      "['GLOSSARY', 'GLOSSARY 8 ']\n",
      "['PART I', 'PART II']\n",
      "['GLOSSARY']\n",
      "['PART I', 'PART II']\n",
      "['GLOSSARY']\n",
      "['PART I', 'PART II']\n",
      "['GLOSSARY']\n",
      "['PART I', 'PART II']\n",
      "['GLOSSARY']\n",
      "['PART I', 'PART II']\n",
      "['GLOSSARY']\n",
      "['PART I', 'PART II']\n",
      "['GLOSSARY']\n",
      "['PART I', 'PART II']\n",
      "['GLOSSARY']\n",
      "['PART I', 'PART II']\n",
      "['GLOSSARY']\n",
      "['PART I', 'PART II']\n",
      "['GLOSSARY']\n",
      "[' PART I', ' PART II', 'PART I', 'PART II']\n",
      "['GLOSSARY']\n",
      "['PART I', 'PART II']\n",
      "['GLOSSARY']\n",
      "['PART I', 'PART II']\n",
      "['GLOSSARY']\n",
      "['PART I', 'PART II']\n",
      "['GLOSSARY']\n",
      "[' PART I', ' PART II', 'PART I', 'PART II']\n",
      "['GLOSSARY']\n",
      "['PART I', 'PART II']\n",
      "['GLOSSARY']\n",
      "['PART I']\n",
      "['GLOSSARY']\n",
      "['PART I', 'PART II']\n",
      "['GLOSSARY']\n",
      "['PART I', 'PART II']\n",
      "['GLOSSARY']\n",
      "[' PART I', ' PART II', 'PART I', 'PART II']\n",
      "['GLOSSARY']\n",
      "['PART I', 'PART II']\n",
      "['GLOSSARY']\n",
      "['PART I', 'PART II']\n",
      "['GLOSSARY']\n",
      "['PART I', 'PART II']\n",
      "['GLOSSARY']\n",
      "['PART I', 'PART II']\n",
      "['GLOSSARY']\n",
      "['PART I', 'PART II']\n",
      "['GLOSSARY']\n",
      "['PART I', 'PART II']\n",
      "['GLOSSARY']\n",
      "['PART I', 'PART II']\n",
      "['GLOSSARY']\n",
      "['PART I', 'PART II']\n",
      "['GLOSSARY']\n",
      "['PART I', 'PART II']\n",
      "['GLOSSARY']\n",
      "['PART I', 'PART II']\n",
      "['GLOSSARY']\n",
      "['PART I', 'PART II']\n",
      "['GLOSSARY']\n",
      "['PART I', 'PART II']\n",
      "['GLOSSARY']\n",
      "['PART I', 'PART II']\n",
      "['GLOSSARY']\n",
      "['PART I', 'PART II']\n",
      "['GLOSSARY 8 ', 'GLOSSARY', 'GLOSSARY 9 ']\n",
      "['PART I', 'PART II']\n",
      "['GLOSSARY']\n",
      "['PART I', 'PART II']\n",
      "['GLOSSARY']\n",
      "['PART I', 'PART II']\n",
      "['GLOSSARY']\n",
      "['PART I', 'PART II']\n",
      "['GLOSSARY']\n",
      "['PART I', 'PART II']\n",
      "['GLOSSARY']\n",
      "['PART I', 'PART II']\n",
      "['GLOSSARY']\n",
      "['PART I', 'PART II']\n",
      "['GLOSSARY']\n",
      "['PART I', 'PART II']\n",
      "['GLOSSARY']\n",
      "[' PART I', ' PART II', 'PART I', 'PART II']\n",
      "['GLOSSARY']\n",
      "['PART I', 'PART II']\n",
      "['GLOSSARY']\n",
      "['PART I', 'PART II']\n",
      "['GLOSSARY']\n",
      "['PART I', 'PART II']\n",
      "['GLOSSARY']\n",
      "['PART I', 'PART II']\n",
      "['GLOSSARY']\n",
      "['PART I', 'PART II']\n",
      "['GLOSSARY']\n",
      "['PART I', 'PART II']\n",
      "['GLOSSARY']\n",
      "['PART I', 'PART II']\n",
      "['GLOSSARY']\n",
      "['PART I', 'PART II']\n",
      "['GLOSSARY']\n",
      "['PART I', 'PART II']\n",
      "['GLOSSARY']\n",
      "['PART I', 'PART II']\n",
      "['GLOSSARY']\n",
      "['PART I', 'PART II']\n",
      "['GLOSSARY']\n",
      "['PART I', 'PART II']\n",
      "['GLOSSARY']\n",
      "['PART I', 'PART II']\n",
      "['GLOSSARY']\n",
      "['PART I', 'PART II']\n",
      "['GLOSSARY']\n",
      "['PART I', 'PART II']\n",
      "['GLOSSARY']\n",
      "['PART I', 'PART II']\n",
      "['GLOSSARY']\n",
      "['PART I', 'PART II']\n",
      "['GLOSSARY']\n",
      "['PART I', 'PART II']\n",
      "['GLOSSARY']\n",
      "['PART I', 'PART II']\n",
      "['GLOSSARY']\n",
      "['PART I', 'PART II']\n",
      "['GLOSSARY']\n",
      "[' PART I', ' PART II', 'PART I', 'PART II']\n",
      "['GLOSSARY']\n",
      "['PART I', 'PART II']\n",
      "['GLOSSARY']\n",
      "[' PART I', ' PART II', 'PART I', 'PART II']\n",
      "['GLOSSARY']\n",
      "['PART I', 'PART II']\n",
      "['GLOSSARY']\n",
      "['PART I']\n",
      "['GLOSSARY']\n",
      "['PART I', 'PART II']\n",
      "['GLOSSARY']\n",
      "['PART I', 'PART II']\n",
      "[' GLOSSARY', 'GLOSSARY']\n",
      "['PART I', 'PART II']\n",
      "['GLOSSARY']\n",
      "['PART I', 'PART II']\n",
      "['GLOSSARY']\n",
      "['PART I', 'PART II']\n",
      "['GLOSSARY']\n",
      "['PART I', 'PART II']\n",
      "['GLOSSARY']\n",
      "['PART I', 'PART II']\n",
      "['GLOSSARY']\n",
      "['PART I', 'PART II']\n",
      "['GLOSSARY']\n",
      "['PART I', 'PART II']\n",
      "['GLOSSARY']\n",
      "['PART I', 'PART II']\n",
      "['GLOSSARY']\n",
      "['PART I', 'PART II']\n",
      "['GLOSSARY']\n",
      "['PART I', 'PART II']\n",
      "['GLOSSARY']\n",
      "['PART I', 'PART II']\n",
      "['GLOSSARY']\n",
      "['PART I', 'PART II']\n",
      "['GLOSSARY']\n",
      "['PART I', 'PART II']\n",
      "['GLOSSARY']\n",
      "['PART I', 'PART II']\n",
      "['GLOSSARY']\n",
      "['PART I', 'PART II']\n",
      "['GLOSSARY']\n",
      "['PART I', 'PART II']\n",
      "['GLOSSARY']\n",
      "['PART I', 'PART II']\n",
      "['GLOSSARY']\n",
      "['PART I', 'PART II']\n",
      "['GLOSSARY']\n",
      "['PART I', 'PART II']\n",
      "['GLOSSARY']\n",
      "['PART I', 'PART II']\n",
      "['GLOSSARY']\n",
      "['PART I', 'PART II']\n",
      "['GLOSSARY']\n",
      "['PART I', 'PART II']\n",
      "['GLOSSARY']\n",
      "['PART I', 'PART II']\n",
      "['GLOSSARY']\n",
      "['PART I', 'PART II']\n",
      "['GLOSSARY']\n",
      "['PART I', 'PART II']\n",
      "['GLOSSARY']\n",
      "['PART I', 'PART II']\n",
      "['GLOSSARY']\n",
      "['PART I', 'PART II']\n",
      "['GLOSSARY']\n",
      "['PART I', 'PART II']\n",
      "['GLOSSARY']\n",
      "['PART I', 'PART II']\n",
      "['GLOSSARY']\n",
      "[' PART I', ' PART II', 'PART I', 'PART II']\n",
      "['GLOSSARY']\n",
      "['PART I', 'PART II']\n",
      "['GLOSSARY']\n",
      "[' PART I', ' PART II', 'PART I', 'PART II']\n",
      "['GLOSSARY']\n",
      "['PART I', 'PART II']\n",
      "['GLOSSARY']\n",
      "['PART I', 'PART II']\n",
      "['GLOSSARY']\n",
      "[' PART I', ' PART II', 'PART I', 'PART II']\n",
      "['GLOSSARY']\n",
      "['PART I', 'PART II']\n",
      "['GLOSSARY']\n",
      "['PART I', 'PART II']\n",
      "['GLOSSARY']\n",
      "['PART I', 'PART II']\n",
      "['GLOSSARY']\n",
      "[' PART I', ' PART II', 'PART I', 'PART II']\n",
      "['GLOSSARY']\n",
      "['PART I', 'PART II']\n",
      "['GLOSSARY']\n",
      "['PART I', 'PART II']\n",
      "['GLOSSARY']\n",
      "['PART I', 'PART II']\n",
      "['GLOSSARY']\n",
      "['PART I', 'PART II']\n",
      "['GLOSSARY']\n",
      "[' PART I', ' PART II', 'PART I', 'PART II']\n",
      "['GLOSSARY']\n",
      "['PART I', 'PART II']\n",
      "['GLOSSARY']\n",
      "[' PART I', ' PART II', 'PART I', 'PART II']\n",
      "['GLOSSARY']\n",
      "[' PART I', ' PART II', 'PART I', 'PART II']\n",
      "['GLOSSARY']\n",
      "['PART I', 'PART II']\n",
      "['GLOSSARY']\n",
      "['PART I', 'PART II']\n",
      "['GLOSSARY']\n",
      "['PART I', 'PART II']\n",
      "['GLOSSARY']\n",
      "['PART I', 'PART II']\n",
      "['GLOSSARY']\n",
      "['PART I', 'PART II']\n",
      "['GLOSSARY']\n",
      "['PART I', 'PART II']\n",
      "['GLOSSARY']\n",
      "['PART I', 'PART II']\n",
      "['GLOSSARY']\n",
      "['PART I', 'PART II']\n",
      "['GLOSSARY']\n",
      "['PART I', 'PART II']\n",
      "['GLOSSARY']\n",
      "['PART I', 'PART II']\n",
      "['GLOSSARY']\n",
      "['PART I', 'PART II']\n",
      "['GLOSSARY']\n",
      "[' PART I', ' PART II', 'PART I', 'PART II']\n",
      "['GLOSSARY']\n",
      "['PART I', 'PART II']\n",
      "['GLOSSARY']\n",
      "['PART I', 'PART II']\n",
      "['GLOSSARY']\n",
      "['PART I', 'PART II']\n",
      "['GLOSSARY']\n",
      "['PART I', 'PART II']\n",
      "['GLOSSARY']\n",
      "['PART I', 'PART II']\n",
      "['GLOSSARY']\n",
      "['PART I', 'PART II']\n",
      "['GLOSSARY']\n",
      "[' PART I', ' PART II', 'PART I', 'PART II']\n",
      "['GLOSSARY']\n",
      "['PART I', 'PART II']\n",
      "['GLOSSARY']\n",
      "['PART I', 'PART II']\n",
      "['GLOSSARY']\n",
      "[' PART I', ' PART II', 'PART I', 'PART II']\n",
      "['GLOSSARY']\n",
      "['PART I', 'PART II']\n",
      "['GLOSSARY']\n",
      "[' PART I', ' PART II', 'PART I', 'PART II']\n",
      "['GLOSSARY']\n",
      "['PART I', 'PART II']\n",
      "['GLOSSARY']\n",
      "['PART I', 'PART II']\n",
      "['GLOSSARY']\n",
      "[' PART I', ' PART II', 'PART I', 'PART II']\n",
      "['GLOSSARY']\n",
      "['PART I', 'PART II']\n",
      "['GLOSSARY']\n",
      "[' PART I', ' PART II', 'PART I', 'PART II']\n",
      "['GLOSSARY']\n",
      "['PART I', 'PART II']\n",
      "['GLOSSARY']\n",
      "['PART I', 'PART II']\n",
      "['GLOSSARY']\n",
      "[' PART I', ' PART II', 'PART I', 'PART II']\n",
      "['GLOSSARY']\n",
      "['PART I', 'PART II']\n",
      "['GLOSSARY', '  GLOSSARY']\n",
      "['PART I', 'PART II']\n"
     ]
    },
    {
     "name": "stdout",
     "output_type": "stream",
     "text": [
      "['GLOSSARY']\n",
      "['PART I', 'PART II']\n",
      "['GLOSSARY']\n",
      "['PART I', 'PART II']\n",
      "['GLOSSARY']\n",
      "[' PART I', ' PART II', 'PART I', 'PART II']\n",
      "['GLOSSARY']\n",
      "['PART I', 'PART II']\n",
      "['GLOSSARY']\n",
      "['PART I', 'PART II']\n",
      "['GLOSSARY']\n",
      "[' PART I', ' PART II', 'PART I', 'PART II']\n",
      "['GLOSSARY']\n",
      "[' PART I', ' PART II', 'PART I', 'PART II']\n",
      "['GLOSSARY']\n",
      "['PART I', 'PART II']\n",
      "['GLOSSARY']\n",
      "['PART I', 'PART II']\n",
      "['GLOSSARY']\n",
      "['PART I', 'PART II']\n",
      "['GLOSSARY']\n",
      "[' PART I', ' PART II', 'PART I', 'PART II']\n",
      "['GLOSSARY']\n",
      "['PART I', 'PART II']\n",
      "['GLOSSARY']\n",
      "['PART I', 'PART II']\n",
      "['GLOSSARY']\n",
      "['PART I', 'PART II']\n",
      "['GLOSSARY']\n",
      "['PART I', 'PART II']\n",
      "['GLOSSARY']\n",
      "['PART I', 'PART II']\n",
      "['GLOSSARY']\n",
      "['PART I', 'PART II']\n",
      "['GLOSSARY']\n",
      "['PART I', 'PART II']\n",
      "['GLOSSARY']\n",
      "['PART I', 'PART II']\n",
      "['GLOSSARY']\n",
      "['PART I', 'PART II']\n",
      "['GLOSSARY']\n",
      "[' PART I', ' PART II', 'PART I', 'PART II']\n",
      "['GLOSSARY']\n",
      "['PART I', 'PART II']\n",
      "['GLOSSARY']\n",
      "['PART I', 'PART II']\n",
      "['GLOSSARY']\n",
      "[' PART I', ' PART II', 'PART I', 'PART II']\n",
      "['GLOSSARY']\n",
      "['PART I', 'PART II']\n",
      "['GLOSSARY']\n",
      "['PART I', 'PART II']\n",
      "['GLOSSARY']\n",
      "['PART I', 'PART II']\n",
      "['GLOSSARY']\n",
      "['PART I', 'PART II']\n",
      "['GLOSSARY']\n",
      "[' PART I', ' PART II', 'PART I', 'PART II']\n",
      "['GLOSSARY']\n",
      "['PART I', 'PART II']\n",
      "['GLOSSARY']\n",
      "['PART I', 'PART II']\n",
      "['GLOSSARY']\n",
      "['PART I', 'PART II']\n",
      "['GLOSSARY']\n",
      "[' PART I', ' PART II', 'PART I', 'PART II']\n",
      "['GLOSSARY']\n",
      "['PART I', 'PART II']\n",
      "['GLOSSARY']\n",
      "['PART I', 'PART II']\n",
      "['GLOSSARY']\n",
      "['PART I', 'PART II']\n",
      "['GLOSSARY']\n",
      "['PART I', 'PART II']\n",
      "['GLOSSARY']\n",
      "['PART I', 'PART II']\n",
      "['GLOSSARY']\n",
      "['PART I', 'PART II']\n",
      "['GLOSSARY']\n",
      "['PART I', 'PART II']\n",
      "['GLOSSARY']\n",
      "['PART I', 'PART II']\n",
      "['GLOSSARY']\n",
      "['PART I', 'PART II']\n",
      "['GLOSSARY']\n",
      "['PART I', 'PART II']\n",
      "['GLOSSARY']\n",
      "['PART I', 'PART II']\n",
      "['GLOSSARY']\n",
      "['PART I', 'PART II']\n",
      "['GLOSSARY']\n",
      "['PART I', 'PART II']\n",
      "['GLOSSARY']\n",
      "['PART I', 'PART II']\n",
      "['GLOSSARY']\n",
      "['PART I', 'PART II']\n",
      "['GLOSSARY']\n",
      "['PART I', 'PART II']\n",
      "['GLOSSARY']\n",
      "['PART I', 'PART II']\n",
      "['GLOSSARY']\n",
      "['PART I', 'PART II']\n",
      "['GLOSSARY']\n",
      "['PART I']\n",
      "['GLOSSARY']\n",
      "['PART I', 'PART II']\n",
      "['GLOSSARY']\n",
      "['PART I', 'PART II']\n",
      "['GLOSSARY']\n",
      "['PART I', 'PART II']\n",
      "['GLOSSARY']\n",
      "['PART I', 'PART II']\n",
      "['GLOSSARY']\n",
      "['PART I', 'PART II']\n",
      "['GLOSSARY']\n",
      "['PART I', 'PART II']\n"
     ]
    }
   ],
   "source": [
    "allDocs = pd.read_csv(\"full_dataframe.csv\")\n",
    "\n",
    "segmented = SectionSegmentation()\n",
    "segmented.documents(allDocs)\n",
    "segmented.sectionSegmentation()"
   ]
  },
  {
   "cell_type": "code",
   "execution_count": 3,
   "id": "753fdcf8-223e-46a7-a2d7-c3c9f1b6ad54",
   "metadata": {},
   "outputs": [
    {
     "data": {
      "text/plain": [
       "69"
      ]
     },
     "execution_count": 3,
     "metadata": {},
     "output_type": "execute_result"
    }
   ],
   "source": [
    "segmented.unsegmented_docs"
   ]
  },
  {
   "cell_type": "code",
   "execution_count": 4,
   "id": "2c4b60df-4182-4645-829a-585b4c0c5b5a",
   "metadata": {},
   "outputs": [
    {
     "data": {
      "text/plain": [
       "1326"
      ]
     },
     "execution_count": 4,
     "metadata": {},
     "output_type": "execute_result"
    }
   ],
   "source": [
    "len(allDocs)"
   ]
  },
  {
   "cell_type": "code",
   "execution_count": 5,
   "id": "107922cb-17a8-4fde-9f0f-3059737af6dd",
   "metadata": {},
   "outputs": [],
   "source": [
    "keys = list(segmented.segmented_docs.keys())"
   ]
  },
  {
   "cell_type": "code",
   "execution_count": 6,
   "id": "ca649580-cb4f-428f-a7ba-3e38eac98bc8",
   "metadata": {},
   "outputs": [],
   "source": [
    "has_glossary = []\n",
    "for key in keys:\n",
    "    doc = segmented.segmented_docs[key]\n",
    "    doc_keys = list(doc.keys())\n",
    "    match = [doc_key for doc_key in doc_keys if re.search(\"glossary|acronyms|definitions|part\", doc_key, flags=re.IGNORECASE)]\n",
    "    if match:\n",
    "        has_glossary.append(key)"
   ]
  },
  {
   "cell_type": "code",
   "execution_count": 7,
   "id": "fb29910e-d3f9-464d-b746-4b8c9e69dbf5",
   "metadata": {},
   "outputs": [],
   "source": [
    "with_glossary = len(has_glossary)"
   ]
  },
  {
   "cell_type": "code",
   "execution_count": 8,
   "id": "b6451e5e-53d7-4a16-ba1d-a2cf2dd0ea4c",
   "metadata": {},
   "outputs": [
    {
     "data": {
      "text/plain": [
       "999"
      ]
     },
     "execution_count": 8,
     "metadata": {},
     "output_type": "execute_result"
    }
   ],
   "source": [
    "with_glossary"
   ]
  },
  {
   "cell_type": "code",
   "execution_count": 9,
   "id": "150667b8-cdf1-45f4-9de6-8fe68f5289bb",
   "metadata": {},
   "outputs": [],
   "source": [
    "total_docs = len(allDocs)"
   ]
  },
  {
   "cell_type": "code",
   "execution_count": 10,
   "id": "67b47d67-12d0-497f-993c-29b247ad4035",
   "metadata": {},
   "outputs": [
    {
     "data": {
      "text/plain": [
       "0.753393665158371"
      ]
     },
     "execution_count": 10,
     "metadata": {},
     "output_type": "execute_result"
    }
   ],
   "source": [
    "with_glossary / total_docs"
   ]
  },
  {
   "cell_type": "code",
   "execution_count": 11,
   "id": "02db9523-7e3c-483f-99bc-d9763cf25b0f",
   "metadata": {},
   "outputs": [],
   "source": [
    "random.seed(1234)\n",
    "random_gen = [random.randint(0, with_glossary - 1) for i in range(15)]"
   ]
  },
  {
   "cell_type": "code",
   "execution_count": 12,
   "id": "cc5b2bb4-75f1-4563-b31c-c19b45cb92e0",
   "metadata": {},
   "outputs": [
    {
     "name": "stdout",
     "output_type": "stream",
     "text": [
      "[989, 796, 451, 119, 7, 92, 932, 965, 961, 826, 596, 35, 687, 709, 85]\n"
     ]
    }
   ],
   "source": [
    "print(random_gen)"
   ]
  },
  {
   "cell_type": "code",
   "execution_count": 13,
   "id": "6f9cd2d9-013b-49f9-9ef0-564067a14359",
   "metadata": {},
   "outputs": [],
   "source": [
    "random_docs = [segmented.segmented_docs[has_glossary[i]] for i in random_gen]"
   ]
  },
  {
   "cell_type": "markdown",
   "id": "b2c2bc57-49b2-469e-97c6-26dbe9853447",
   "metadata": {
    "tags": []
   },
   "source": [
    "## Random Document 1"
   ]
  },
  {
   "cell_type": "code",
   "execution_count": 14,
   "id": "9cae8e96-d17c-4e46-9cf2-9f2f8cef1be7",
   "metadata": {},
   "outputs": [
    {
     "data": {
      "text/plain": [
       "'DTM-20-001.txt'"
      ]
     },
     "execution_count": 14,
     "metadata": {},
     "output_type": "execute_result"
    }
   ],
   "source": [
    "has_glossary[random_gen[0]]"
   ]
  },
  {
   "cell_type": "code",
   "execution_count": 15,
   "id": "754f7b1d-357c-4bee-8e38-c36e5d6e7128",
   "metadata": {},
   "outputs": [
    {
     "data": {
      "text/plain": [
       "dict_keys(['Preamble', 'GLOSSARY'])"
      ]
     },
     "execution_count": 15,
     "metadata": {},
     "output_type": "execute_result"
    }
   ],
   "source": [
    "random_docs[0].keys()"
   ]
  },
  {
   "cell_type": "code",
   "execution_count": 16,
   "id": "c3f09b8e-aeda-4a3c-b4aa-99264ad0881f",
   "metadata": {},
   "outputs": [
    {
     "data": {
      "text/plain": [
       "'DTM-20-001, \"Policy Revisions for the Disability Evaluation System (DES),\" February 12, 2020, Incoporating Change 1, April 19, 2021   OFFICE OF THE UNDER SECRETARY OF DEFENSE  4000 DEFENSE PENTAGON   WASHINGTON, D.C. 20301-4000                PERSONNEL AND       READINESS           Wednesday, February 12, 2020   MEMORANDUM FOR CHIEF MANAGEMENT OFFICER OF THE DEPARTMENT OF   DEFENSE  SECRETARIES OF THE MILITARY DEPARTMENTS  CHAIRMAN OF THE JOINT CHIEFS OF STAFF  UNDER SECRETARIES OF DEFENSE  CHIEF OF THE NATIONAL GUARD BUREAU  GENERAL COUNSEL OF THE DEPARTMENT OF DEFENSE  DIRECTOR OF COST ASSESSMENT AND PROGRAM   EVALUATION  INSPECTOR GENERAL OF THE DEPARTMENT OF DEFENSE  DIRECTOR OF OPERATIONAL TEST AND EVALUATION  CHIEF INFORMATION OFFICER OF THE DEPARTMENT OF   DEFENSE  ASSISTANT SECRETARY OF DEFENSE FOR LEGISLATIVE   AFFAIRS  ASSISTANT TO THE SECRETARY OF DEFENSE FOR PUBLIC   AFFAIRS  DIRECTOR OF NET ASSESSMENT   DIRECTORS OF THE DEFENSE AGENCIES  DIRECTORS OF THE DOD FIELD ACTIVITIES     SUBJECT: Directive-type Memorandum (DTM)-20-001  Policy Revisions for the Disability   Evaluation System (DES)    References: DoD Directive 5124.02, Under Secretary of Defense for Personnel and Readiness  (USD(P&R)), June 23, 2008    DoD Instruction 1332.18, Disability Evaluation System (DES), August 5, 2014,  as amended    DoD Manual 1332.18, Volume 1, Disability Evaluation System (DES) Manual:  General Information and Legacy Disability Evaluation System (LDES) Time  Standards, August 5, 2014    DoD Manual 1332.18, Volume 2, Disability Evaluation System (DES) Manual:   Integrated Disability Evaluation System (IDES), August 5, 2014    United States Code, Title 10     Purpose.  In accordance with the authority in DoD Directive 5124.02, this DTM:      2    Establishes policy and implements DES business process improvements  developed under the guidance of the Medical Personnel Executive Steering  Committee as approved on May 3, 2019.      Supersedes any inconsistent guidance in DoD Instruction 1332.18 and  Volumes 1 and 2 of DoD Manual 1332.18.    This DTM is effective February 12, 2020; it will be incorporated into DoD  Instruction 1332.18, and Volumes 1 and 2 of DoD Manual 1332.18.  This  DTM will expire effective February 12, 2022.   Applicability.  This DTM applies to OSD, the Military Departments, the Office of the  Chairman of the Joint Chiefs of Staff and the Joint Staff, the Combatant Commands, the Office  of the Inspector General of the Department of Defense, the Defense Agencies, the DoD Field  Activities, and all other organizational entities within the Department of Defense.   Definitions.  See Glossary.   Policy.  It is DoD policy that:    The requirement to offer an appeal of the recommendation of the Formal  Physical Evaluation Board is eliminated from the DES process for all cases  referred after March 1, 2020.  This change applies to both the Legacy DES  (LDES) and Integrated DES (IDES) processes.  This change does not affect a  Service members ability to appeal the Formal Physical Evaluation Board  decision to the Board for the Correction of Military/Naval Records of the  Military Department concerned.      A multi-disciplinary briefing (MDB) should be completed prior to the Service  member meeting individually with the Department of Veterans Affairs (VA)  Military Service Coordinator or within 10 days of referral into the LDES.  The  MDB will:     o Establish Service member expectations.   o Prepare Service members for each stage of the DES process.   o Inform Service members of what is expected of them during the DES  process.     The MDB must be included for all cases referred after March 1, 2020.  This  change applies to both the LDES and IDES processes.    The Military Departments will determine Service member fitness.  In parallel,  the VA will assign ratings to all referred and claimed conditions and provide  the recommended ratings to the Military Department upon completion.  This      3   process change applies only to the IDES and will be implemented  incrementally, reaching full implementation by December 31, 2020.       Responsibilities.    Assistant Secretary of Defense for Health Affairs.  Under the authority,  direction, and control of the Under Secretary of Defense for Personnel and  Readiness, the Assistant Secretary of Defense for Health Affairs:    o Provides the minimum standards for the MDB.   o Collaborates with the Under Secretary for Benefits, Department of  Veterans Affairs, to provide detailed guidance regarding parallel  processing implementation.     Secretaries of the Military Departments.  The Secretaries of the Military  Departments:   o Develop and utilize a standardized briefing based on, but not limited  to, the minimum requirements for the MDB.   o Develop and implement the necessary procedures to implement  parallel processing.    Summary of Change 1.  This administrative change updates the expiration date to  February 12, 2022.   Releasability.  Cleared for public release.  Available on the Directives Division Website  at https://www.esd.whs.mil/DD/.             Matthew P. Donovan  Performing the Duties of the Under Secretary of   Defense for Personnel and Readiness             4 Glossary  '"
      ]
     },
     "execution_count": 16,
     "metadata": {},
     "output_type": "execute_result"
    }
   ],
   "source": [
    "random_docs[0][\"Preamble\"]"
   ]
  },
  {
   "cell_type": "code",
   "execution_count": 17,
   "id": "f53b381a-392f-47ab-b226-7baa393b72e9",
   "metadata": {},
   "outputs": [
    {
     "data": {
      "text/plain": [
       "\"PART I.  ABBREVIATIONS AND ACRONYMS   DES Disability Evaluation System  DTM directive-type memorandum     IDES Integrated Disability Evaluation System     LDES Legacy Disability Evaluation System     MDB multi-disciplinary briefing     VA Department of Veterans Affairs  PART II.  DEFINITIONS   Unless otherwise noted, these terms and their definitions are for the purpose of this issuance.   DES.  The DoD mechanism for determining fitness for duty, separation, or retirement of Service  members because of disability in accordance with Chapter 61 of Title 10, United States Code.    IDES.  The joint DoD-VA process by which DoD determines whether ill or injured Service  members are fit for continued service and DoD and VA determine appropriate benefits for  Service members who are separated or retired for disability.    LDES.  A DoD-only disability evaluation mechanism to assess ill or injured Service members  fitness for continued military service and, if unfit, the appropriate disability disposition.  Service  members processed through the LDES must be afforded the opportunity to apply for veterans  disability benefits through the VA pre-discharge Benefits Delivery at Discharge program.   MDB.  A briefing that establishes Service member expectations, prepares Service members for  each stage of the DES process, and informs Service members of what is expected of them during  the DES process.    \\\\tGlossary \\\\tPART I.  ABBREVIATIONS AND ACRONYMS \\\\tpart ii.  Definitions'\""
      ]
     },
     "execution_count": 17,
     "metadata": {},
     "output_type": "execute_result"
    }
   ],
   "source": [
    "random_docs[0][\"GLOSSARY\"]"
   ]
  },
  {
   "cell_type": "markdown",
   "id": "4716cd8c-e3ab-4653-a1cc-ae32377f120a",
   "metadata": {
    "tags": []
   },
   "source": [
    "## Random Document 2"
   ]
  },
  {
   "cell_type": "code",
   "execution_count": 18,
   "id": "f131fff2-db39-4b24-88b2-14de8c04893f",
   "metadata": {},
   "outputs": [
    {
     "data": {
      "text/plain": [
       "'817001p.txt'"
      ]
     },
     "execution_count": 18,
     "metadata": {},
     "output_type": "execute_result"
    }
   ],
   "source": [
    "has_glossary[random_gen[1]]"
   ]
  },
  {
   "cell_type": "code",
   "execution_count": 19,
   "id": "f9ceb7f8-f2a7-46df-83c8-df78d099d97b",
   "metadata": {},
   "outputs": [
    {
     "data": {
      "text/plain": [
       "dict_keys(['Preamble', 'TABLE OF CONTENTS', 'SECTION 1', '1.1.  ', '1.2.  ', '1.3.  ', 'SECTION 2', '2.1.  ', '2.2.  ', '2.3.  ', '2.4.  ', '2.5.  ', '2.6.  ', '2.7.  ', '2.8.  ', 'SECTION 3', '3.1.  ', '3.2.  ', '3.3.  ', '3.4.  ', '3.5.  ', '3.6.  ', '3.7.  ', '3.8.  ', '3.9.  ', '3.10.  ', '3.11.  ', '3.12.  ', '3.13.   ', '3.14.  ', '3.15.  ', '3.16.  ', '3.17.  ', '3.18.  ', '3.19.  ', '3.20.  ', '3.21.  ', '3.22.  ', '3.23.  ', '3.24.  ', '3.25.  ', '3.26.  ', '3.27.  ', '3.28.  ', '3.29.  ', '3.30.  ', '3.31.  ', '3.32.  ', '3.33.  ', '3.34.  ', '3.35.  ', 'GLOSSARY', 'REFERENCES', '3.33. ', '1.  ', '2.  ', '3.  ', '4.  ', '5.  ', '6.  ', '7.  ', '8.  '])"
      ]
     },
     "execution_count": 19,
     "metadata": {},
     "output_type": "execute_result"
    }
   ],
   "source": [
    "random_docs[1].keys()"
   ]
  },
  {
   "cell_type": "code",
   "execution_count": 20,
   "id": "5c65caf9-1080-4b50-866a-b23f9dd6acea",
   "metadata": {},
   "outputs": [
    {
     "data": {
      "text/plain": [
       "'GLOSSARY   G.1.  ACRONYMS.   API application programming interface  ATSD(PA) Assistant to the Secretary of Defense for Public Affairs     CIO Chief Information Officer     DA&M Director of Administration and Management  DAP Digital Analytics Program  DISA Defense Information Systems Agency  DoD CIO DoD Chief Information Officer  DoDD DoD directive  DoDI DoD instruction  DoDM DoD manual     EOP external official presence     IDA information distribution activity     GSA General Services Administration     OMB Office of Management and Budget  OPSEC operations security     PAS Privacy Act statement  PIA privacy impact assessment  PII personally identifiable information  PL public law  PRA Paperwork Reduction Act     SAOP Senior Agency Official for Privacy     ToS terms of service     U.S.C. United States Code  USG U.S. Government     WMCT Web measurement and customization technologies          G.2.  DEFINITIONS.  Unless otherwise noted, these terms and their definitions are for the  purpose of this issuance.   access control.  Technical measure or physical process used to grant or deny specific requests to  obtain and use information and related information processing services.  Also includes the use of  a technical measure to enable customization or enhancement of a single users experience.    advertisement or advertising.  Material or information, regardless of media, publicly  distributed in exchange for any remuneration or intended to promote any service, facility, or  product of non-USG entities.   affected persons.  Individuals who may benefit, be harmed, or otherwise be affected by publicly  distributed information.  This includes individuals seeking to address information about  themselves, as well as individuals who use publicly distributed information.   agency.  Any executive department, military department, government corporation, government- controlled corporation, or other establishment in the executive branch of the Federal  Government, or any independent regulatory agency.  Within the Executive Office of the  President, the term includes only OMB and the Office of Administration.   cybersecurity.  Defined in DoDI 8500.01.   Defense Information System Network.  Defined in DoD Dictionary of Military and Associated  Terms.   decoupling data and presentation.  Describing data clearly, and exposing it to other computers  in a machine-readable format (commonly known as providing Web APIs).  The datas  description should ensure it has sound taxonomy (making it searchable) and adequate metadata  (making it authoritative).  Once the structure of the data is sound, various mechanisms can be  built to present it to customers (e.g., websites, mobile applications, and internal tools) or raw data  can be released directly to developers and entrepreneurs outside the organization.   distribute.  To broadcast, publish, or to take other action to ensure availability beyond the  control of the originating source or organization responsible for control of the information.   DoD-controlled.  Defined in DoDI 8500.01.   DoD employee.  Defined in DoD 5500.07-R.   DoD personnel.  DoD employees, DoD contractor employees and non-DoD entities that are  supporting DoD mission-related activities.   DoD website.  Defined in DoD Dictionary of Military and Associated Terms.   electronic messaging.  Online communication, including the exchange of Internet media,  conducted via electronic messaging services.      electronic messaging services.  Online communication capabilities, including websites,  electronic mail, texting, chat, and related online communications methods.   EOP.  Official public affairs activities, as defined in DoDI 5400.13, conducted on non-DoD- controlled electronic messaging services (e.g., Combatant Commands on Facebook).   exposure.  Defined in DoDI 8320.02.   IDA.  Any organization, office, entity, or activity, not limited to the public affairs activity that  provides official information directly to the public.   influential.  When used in the context of scientific, financial, or statistical information, the clear  and substantial impact that public distribution of the information will have or does have on  important public policies or private sector decisions.  Each Component is authorized to define  influential in ways appropriate, given the nature and multiplicity of issues for which the  Component is responsible.   information-centric.  Managing discrete pieces of open data and content which can be tagged,  shared, secured and presented in the way that is most useful for the consumer of that information.   incident.  Defined in OMB Memorandum M-17-12.   information.  Defined in OMB Circular A-130.   information management.  Defined in Joint Publication 3-0.   information technology.  Defined in Joint Publication 3-0.   integrity.  Refers to the security of information; namely, the protection of information from  unauthorized access or revision, to ensure that the information is not compromised through  corruption or falsification.   Internet media.  Files or messages delivered or acquired using any Internet protocol or  supporting technology (e.g., Web pages, data or text, e-mail, video, audio, graphic, instant  messages, chat).   metadata.  Defined in DoDI 8320.02   mobile optimization.  The process of ensuring electronic messaging services, data and  information are usable on mobile devices such as smartphones and tablets.   nonofficial electronic messaging services.  Online communication capabilities that are not  intended to be used for official DoD information and are not owned, operated or controlled by  the DoD.  Examples include so-called free services such as Gmail and Hotmail, and  purchased services such as Verizon and Comcast that an individual uses for his or her private,  personal communications (i.e., for personal electronic messaging).   nonpublic information.  Defined in DoD 5500.07-R.      objectivity.  A measure of information quality related to accuracy, clarity, completeness, and  unbiasedness and presented in the proper context.  Sources of information are identified.   Supporting data and models and errors and statistical ranges are included.     official use.  Authorized communication or activities conducted as an assigned DoD personnel  function.  Official use includes emergency communications and communications that the DoD  Component determines are necessary in the interest of the USG.  Official use may include, when  approved by theater commanders in the interest of morale and welfare, communications by  military members and other DoD personnel who are deployed for extended periods away from  home on official DoD business.   official accounts.  Capabilities specifically created and authorized for the primary purpose of  exchanging official DoD information.   official DoD information.  Defined in DoDI 5230.09.   online.  Hosted on or conducted via the Internet, telecommunication networks, and computer  systems.   PAS.  Defined in DoD 5400.11-R.   personal electronic messaging.  Individual communication or activity that is not conducted as  an assigned DoD personnel function.   persons.  Includes groups, organizations, and corporations as defined by the PRA of 1995.    PII.  Defined in OMB Circular No. A-130.   private DoD electronic messaging service.  An online DoD communication capability with  access controls in place to limit availability of nonpublic information or exchanges of nonpublic  information to specific audiences.   prohibited activity.  Download, installation, or use of unauthorized software (e.g., applications,  games, peer-to-peer software, movies, music videos, files); accessing pornography; posting  comments and material that denigrates any military or civilian member of the DoD; unofficial  advertising, selling, or soliciting; sending chain letters, offensive letters, mass e-mails, jokes,  unnecessary pictures, and inspirational stories; improperly handling classified information; using  DoD ISs to gain unauthorized access to other systems or networks; endorsing non-USG products  or services; participating in any lobbying activity or engaging in any prohibited partisan activity;  posting DoD information to external newsgroups, bulletin boards, or other public forums without  authorization; and other uses incompatible with public service.   prohibited content.  Applications, data, documents, files, software, or other information or  materials acquired as a result of prohibited activity.   public DoD electronic messaging service.  An online DoD communication capability used to  collect, distribute, store, or otherwise process information that has been cleared and authorized  for release to the public.      public DoD website.  A DoD website used to collect, distribute, store, or otherwise process  information that has been cleared and authorized for release to the public.   quality.  An encompassing term comprising utility, objectivity, and integrity.   record.  Defined in DoDI 5015.02.   responsive design.  Defined in OMB Memorandum M-17-06.   review for clearance.  Defined in DoDI 5230.09.   system of records.  Defined in DoD 5400.11-R.   ToS.  An agreement between a user and an electronic messaging service provider establishing  the rights and responsibilities of the parties with respect to the use of the service.  These  agreements do not include procurement contracts and do not create financial obligations or  liabilities on behalf of the USG.   utility.  Refers to the relevance and timeliness of information to its intended users, including the  public.  In assessing the usefulness of information that a DoD Component distributes to the  public, the Component needs to consider the uses of the information not only from the  perspective of the Component but also from the perspective of the public.   website.  A set of interconnected pages, services, and associated Internet media available at a  uniform resource locator and prepared and maintained as a collection of information and services  by a person, group, or organization.       '"
      ]
     },
     "execution_count": 20,
     "metadata": {},
     "output_type": "execute_result"
    }
   ],
   "source": [
    "random_docs[1][\"GLOSSARY\"]"
   ]
  },
  {
   "cell_type": "markdown",
   "id": "3fd1f5dc-e516-4de6-b025-a1bbc6c205a6",
   "metadata": {
    "tags": []
   },
   "source": [
    "## Random Document 3"
   ]
  },
  {
   "cell_type": "code",
   "execution_count": 21,
   "id": "c5808574-3edb-4825-b607-d0a133cd60e9",
   "metadata": {},
   "outputs": [
    {
     "data": {
      "text/plain": [
       "'322203p.txt'"
      ]
     },
     "execution_count": 21,
     "metadata": {},
     "output_type": "execute_result"
    }
   ],
   "source": [
    "has_glossary[random_gen[2]]"
   ]
  },
  {
   "cell_type": "code",
   "execution_count": 22,
   "id": "5f351a67-94f6-4edf-8104-a2311790a8fc",
   "metadata": {},
   "outputs": [
    {
     "data": {
      "text/plain": [
       "dict_keys(['Preamble', 'TABLE OF CONTENTS', 'GLOSSARY', '1.  ', '2.  ', 'ENCLOSURE 1 ', 'REFERENCES', 'ENCLOSURE 2 ', '1. ', '2. ', '3. ', '4. ', '5. ', '6. ', 'ENCLOSURE 3 ', '7. ', '8. ', '9. ', '10. ', 'ENCLOSURE 4 ', '3.  ', '4.  ', '5.  ', 'ENCLOSURE 5 ', 'ENCLOSURE 6 ', '6.  '])"
      ]
     },
     "execution_count": 22,
     "metadata": {},
     "output_type": "execute_result"
    }
   ],
   "source": [
    "random_docs[2].keys()"
   ]
  },
  {
   "cell_type": "code",
   "execution_count": 23,
   "id": "cd46dd2a-8a62-4f79-9257-57810a74de62",
   "metadata": {},
   "outputs": [
    {
     "data": {
      "text/plain": [
       "\"PART I.  ABBREVIATIONS AND ACRONYMS       AS acquisition strategy  ASD(NCB) Assistant Secretary of Defense for Nuclear, Chemical, and Biological   Defense Programs     CDD capability development document  CDR critical design review  CJCS Chairman of the Joint Chiefs of Staff  CPD capability production document  CREW counter radio-controlled improvised explosive device electronic warfare  CTS commercial telecommunications services     DAS Defense Acquisition System  DASD(DT&E) Deputy Assistant Secretary of Defense for Developmental Test and   Evaluation  dB decibel  DIRNSA/CHCSS Director, National Security Agency/Chief, Central Security Service  DISA Defense Information Systems Agency  DoD CIO DoD Chief Information Officer  DoDD Department of Defense directive  DoDI  Department of Defense instruction  DOT&E Director, Operational Test and Evaluation  DSO Defense Spectrum Organization  DT&E developmental test and evaluation     E3 electromagnetic environmental effects  EID  electrically initiated device  EM electromagnetic  EMC electromagnetic compatibility  EMCS electromagnetic compatibility standardization  EME electromagnetic environment  EMI electromagnetic interference  EMOE electromagnetic operational environment       EMP electromagnetic pulse  EMR electromagnetic radiation  En energy     FOC full operational capability  FOT&E follow-on operational test and evaluation  FRP full rate production     HERF hazards of electromagnetic radiation to fuel  HERO hazards of electromagnetic radiation to ordnance  HERP hazards of electromagnetic radiation to personnel  HoD heads of delegation  Hz hertz     ICD initial capabilities document  IOT&E initial operational test and evaluation  IPT integrated product team  ISP information support plan  ISR intelligence, surveillance, and reconnaissance     k kilo     JCIDS Joint Capabilities Integration and Development System     LRIP low rate initial production  LSA lead standardization activity      micro, mathematical symbol  m meter  M mega  MATDEV materiel developer  MDD materiel development decision  MIL-HDBK military handbook  MIL-STD military standard  MS milestone          NATO North Atlantic Treaty Organization     OT&E operational test and evaluation     PDR preliminary design review  PM program manager     RF radio frequency     SDS spectrum-dependent system  SSRA spectrum supportability risk assessment  STANAG standardization agreement     T&E test and evaluation  TEMP test and evaluation master plan  TTPs tactics, techniques, and procedures     USD(AT&L) Under Secretary of Defense for Acquisition, Technology, and Logistics     V volt         PART II.  DEFINITIONS     Unless otherwise noted, these terms and their definitions are for the purpose of this instruction.       E3.  The impact of the EME on the operational capability of military forces, equipment, systems,  and platforms.  E3 encompasses the electromagnetic effects addressed by the disciplines of  EMC, EMI, EM vulnerability, EM pulse, electronic protection, electrostatic discharge, and EMR  hazards to personnel, ordnance, and fuels or volatile materials.  E3 includes the effects generated  by all EME contributors including RF systems, ultra-wideband devices, high-power microwave  systems, lightning, and precipitation static.  This term and its definition are proposed for  modification in the next edition of the DoD Dictionary of Military and Associated Terms  (Reference (v)).      E3 control.  Mitigating the effects of the EME such that an operational mission is not degraded,  capabilities are not significantly reduced, or system vulnerability is not increased.  This term and  its definition are proposed for addition in the next edition of Reference (v).           EME.  Defined in Reference (v).      EMOE  Defined in Reference (v).    EMP.  Defined in Reference (v).    high-power microwave.  A threat that radiates high-peak power EM pulses intended to disrupt or  damage electronic systems.     SDS.  All electronic systems, subsystems, devices, and equipment that depend on the use of the  spectrum to properly accomplish their function(s), regardless of how they were acquired (e.g.,  full acquisition, rapid acquisition, Joint Concept Technology Demonstration) or procured (e.g.,  commercial off-the-shelf, government off-the-shelf, non-developmental items).      SSRA.  Risk assessment performed by DoD Components for all SDS to identify regulatory,  technical, operational spectrum, and E3 risks as early as possible and affect design and  procurement decisions.  These risks are reviewed at acquisition milestones and are managed  throughout the systems life cycle.       \\\\tINSTRUCTION'\""
      ]
     },
     "execution_count": 23,
     "metadata": {},
     "output_type": "execute_result"
    }
   ],
   "source": [
    "random_docs[2][\"GLOSSARY\"]"
   ]
  },
  {
   "cell_type": "markdown",
   "id": "cf942b10-808d-4e43-9009-63854e3e8089",
   "metadata": {
    "tags": []
   },
   "source": [
    "## Random Document 4"
   ]
  },
  {
   "cell_type": "code",
   "execution_count": 24,
   "id": "182850d1-5c32-42bd-a3d8-941d99270b45",
   "metadata": {},
   "outputs": [
    {
     "data": {
      "text/plain": [
       "'510560p.txt'"
      ]
     },
     "execution_count": 24,
     "metadata": {},
     "output_type": "execute_result"
    }
   ],
   "source": [
    "has_glossary[random_gen[3]]"
   ]
  },
  {
   "cell_type": "code",
   "execution_count": 25,
   "id": "4600e5d3-cedb-43e3-9caf-49314c183c2b",
   "metadata": {},
   "outputs": [
    {
     "data": {
      "text/plain": [
       "dict_keys(['Preamble', '1.  ', '2.  ', '3.  ', '4.  ', '5.  ', '6.  ', '7.  ', '8.  ', '9.  ', '10.  ', '11.  ', 'ENCLOSURE 1 ', 'REFERENCES', 'ENCLOSURE 2 ', 'GLOSSARY'])"
      ]
     },
     "execution_count": 25,
     "metadata": {},
     "output_type": "execute_result"
    }
   ],
   "source": [
    "random_docs[3].keys()"
   ]
  },
  {
   "cell_type": "code",
   "execution_count": 26,
   "id": "53c38a5d-c831-47f2-8310-d8fc052e567e",
   "metadata": {},
   "outputs": [
    {
     "data": {
      "text/plain": [
       "\"PART I.  ABBREVIATIONS AND ACRONYMS    DA&M    Director of Administration and Management  DCID    Director of Central Intelligence Directive  DDI    Director of Defense Intelligence  DIOCC    Defense Intelligence Operations Coordination Center   DoDD    Department of Defense Directive  DoDI    Department of Defense Instruction  DNI    Director of National Intelligence    E.O.    Executive order    GEOINT    geospatial intelligence    IC    Intelligence Community  ICD    Intelligence Community Directive    MDA    Milestone Decision Authority  MIP    Military Intelligence Program    NIP    National Intelligence Program  NGA    National Geospatial-Intelligence Agency  NSG    National System for Geospatial Intelligence    ODNI    Office of the Director of National Intelligence  OPM    Office of Personnel and Management    RDT&E    research, development, test, and evaluation    SCI    Sensitive Compartmented Information    U.S.C.    United States Code  USD(AT&L)   Under Secretary of Defense for Acquisition, Technology, and Logistics  USD(I)    Under Secretary of Defense for Intelligence  USG    United States Government  USSTRATCOM  United States Strategic Command          PART II.  DEFINITIONS    Unless otherwise noted, these terms and their definitions are for the purpose of this Directive.    direct tasking.  Authoritative tasking of systems and resources dedicated to a GEOINT collection  capability to fulfill GEOINT requirements.    Functional Manager.  Pursuant to E.O. 12333, Functional Managers shall report to the DNI  concerning the extent of their duties as Functional Managers, and may be charged with  developing and implementing strategic guidance, policies, and procedures for activities related to  a specific intelligence discipline or set of intelligence activities; setting training and tradecraft  standards; and ensuring coordination within and across intelligence disciplines and IC elements  and with related non-intelligence activities.  Functional Managers may also advise on resource  management; policies and procedures; collection capabilities and gaps; intelligence processing  and dissemination; technical architectures; and other issues or activities, as applicable.    GEOINT.  The exploitation and analysis of imagery and geospatial information to describe,  assess, and visually depict physical features and geographically referenced activities on the  Earth.  GEOINT consists of imagery, imagery intelligence, and geospatial information (section  467 of Reference (a)).  GEOINT collection encompasses all aspects of:  literal, infrared (IR), and  synthetic aperture radar (SAR) imagery; overhead persistent infrared capabilities; and geospatial  information and services.  The terms imagery intelligence and advanced geospatial intelligence  are encompassed within this definition of GEOINT.  GEOINT includes the exploitation and  analysis of electro-optical, IR, and radar imagery; and of geospatial, spectral, laser, IR,  radiometric, SAR phase history, polarimetric, spatial, and temporal data.  It employs all ancillary  data, signature information, and fused data products, as necessary.  Integrated GEOINT products  may also include data and information from collateral sources.     geospatial information.  Defined in sections 455(c) and 467 of Reference (a).    geospatial information and services.  The collection, information extraction, storage,  dissemination, and exploitation of geodetic, geomagnetic, imagery (both commercial and  national source), gravimetric, aeronautical, topographic, hydrographic, littoral, cultural, and  toponymic data accurately referenced to a precise location on the surface of the Earth.   Geospatial services include tools that enable users to access and manipulate data, and also  include instruction, training, laboratory support, and guidance for the use of geospatial data.    imagery.  Defined in section 467 of Reference (a).    imagery intelligence.  Defined in section 467 of Reference (a).    National Geospatial Intelligence Program.  Imagery, imagery intelligence, and geospatial fiscal  and personnel resources program within the NIP for which Director, NGA, is Program Manager.     NSG.  The combination of technology, policies, capabilities, doctrine, activities, people, data,  and organizations necessary to produce GEOINT.  The NSG community consists of geospatial-      intelligence-related members of the IC, Military Departments, Joint Staff, Combatant  Commands, and other USG departments and agencies, including the Central Intelligence  Agency, the Federal Bureau of Investigation, and the Department of Homeland Security, with  contributions from international entities, private industry, academia, and defense or civil  community service providers.'\""
      ]
     },
     "execution_count": 26,
     "metadata": {},
     "output_type": "execute_result"
    }
   ],
   "source": [
    "random_docs[3][\"GLOSSARY\"]"
   ]
  },
  {
   "cell_type": "markdown",
   "id": "68e3cabf-87ff-4bac-8f24-8e4599d23d53",
   "metadata": {
    "tags": []
   },
   "source": [
    "## Random Document 5"
   ]
  },
  {
   "cell_type": "code",
   "execution_count": 27,
   "id": "cf946efa-7ae7-4981-9f11-59b9caa1cecb",
   "metadata": {},
   "outputs": [
    {
     "data": {
      "text/plain": [
       "'a082p.txt'"
      ]
     },
     "execution_count": 27,
     "metadata": {},
     "output_type": "execute_result"
    }
   ],
   "source": [
    "has_glossary[random_gen[4]]"
   ]
  },
  {
   "cell_type": "code",
   "execution_count": 28,
   "id": "d5186328-a9ac-4821-9dc6-8d9e266f7dea",
   "metadata": {},
   "outputs": [
    {
     "data": {
      "text/plain": [
       "dict_keys(['Preamble', 'TABLE OF CONTENTS', 'SECTION 1', '1.1.  ', '1.2.  ', '1.3.  ', 'SECTION 2', '2.1.  ', '2.2.  ', '2.3.  ', 'SECTION 3', '3.1.  ', '3.2.  ', '3.3.  ', '3.4.  ', '3.5.  ', '3.6.  ', 'GLOSSARY', 'REFERENCES'])"
      ]
     },
     "execution_count": 28,
     "metadata": {},
     "output_type": "execute_result"
    }
   ],
   "source": [
    "random_docs[4].keys()"
   ]
  },
  {
   "cell_type": "code",
   "execution_count": 29,
   "id": "8183bf15-3749-4e7f-b9c6-c3f8a15c7676",
   "metadata": {},
   "outputs": [
    {
     "data": {
      "text/plain": [
       "'GLOSSARY   G.1.  ACRONYMS.   HRD Human Resources Directorate     WHS Washington Headquarters Services         '"
      ]
     },
     "execution_count": 29,
     "metadata": {},
     "output_type": "execute_result"
    }
   ],
   "source": [
    "random_docs[4][\"GLOSSARY\"]"
   ]
  },
  {
   "cell_type": "code",
   "execution_count": 30,
   "id": "50ee3fef-0a7a-41bc-ac6d-02995eb749ff",
   "metadata": {},
   "outputs": [
    {
     "data": {
      "text/plain": [
       "\"REFERENCES  Director, Administration and Management Memorandum, Establishment of Administrative   Instruction 82, Senior and Junior Enlisted Members of the Year, June 20, 2006  DoD Directive 5110.04, Washington Headquarters Services (WHS), March 27, 2013  DoD Manual 8910.01, Volume 1, DoD Information Collections Manual:  Procedures for DoD   Internal Information Collections, June 30, 2014, as amended    \\\\tSection 1:  General Issuance Information \\\\t1.1.  Applicability. \\\\t1.2.  Policy. \\\\t1.3.  Information Collections.  \\\\tSection 2:  Responsibilities \\\\t2.1.  Director, HRD. \\\\t2.2.  Assistant Director, Military Personnel Division, HRD. \\\\t2.3.  WHS-Serviced Component Heads.  \\\\tSection 3:  Procedures \\\\t3.1.  Eligibility. \\\\t3.2.  Criteria. \\\\t3.3.  Selection Board. \\\\t3.4.  Nominations. \\\\t3.5.  Board Uniform Guidelines. \\\\t3.6.  Selection.  \\\\tGlossary \\\\tG.1.  Acronyms.  \\\\tReferences'\""
      ]
     },
     "execution_count": 30,
     "metadata": {},
     "output_type": "execute_result"
    }
   ],
   "source": [
    "random_docs[4][\"REFERENCES\"]"
   ]
  },
  {
   "cell_type": "markdown",
   "id": "f8d5e4a9-9ad3-4474-9cd8-de0c29fb4a1e",
   "metadata": {
    "tags": []
   },
   "source": [
    "## Random Document 6"
   ]
  },
  {
   "cell_type": "code",
   "execution_count": 31,
   "id": "529b0056-8c87-4a00-a2e8-d05c382df272",
   "metadata": {},
   "outputs": [
    {
     "data": {
      "text/plain": [
       "'465005p.txt'"
      ]
     },
     "execution_count": 31,
     "metadata": {},
     "output_type": "execute_result"
    }
   ],
   "source": [
    "has_glossary[random_gen[5]]"
   ]
  },
  {
   "cell_type": "code",
   "execution_count": 32,
   "id": "7162d226-5d46-4e9e-ae22-2b026db1bad6",
   "metadata": {},
   "outputs": [
    {
     "data": {
      "text/plain": [
       "dict_keys(['Preamble', 'TABLE OF CONTENTS', 'SECTION 1', '1.1.  ', '1.2.  ', '1.3.  ', 'SECTION 2', '2.1.  ', '2.2.  ', '2.3.  ', '2.4.  ', '2.5.  ', '2.6.  ', '2.8.  ', '2.9.  ', '2.10.  ', '2.11.  ', '2.12.  ', '2.13.  ', '2.14.  ', '2.15.  ', '2.16.  ', '2.17.  ', 'SECTION 3', '3.1.  ', '3.2.  ', 'GLOSSARY', 'REFERENCES'])"
      ]
     },
     "execution_count": 32,
     "metadata": {},
     "output_type": "execute_result"
    }
   ],
   "source": [
    "random_docs[5].keys()"
   ]
  },
  {
   "cell_type": "code",
   "execution_count": 33,
   "id": "b1e52b9c-772b-46a7-99fc-f7a46c478eb8",
   "metadata": {},
   "outputs": [
    {
     "data": {
      "text/plain": [
       "'GLOSSARY EMB Executive Management Board     NAVWAR navigation warfare     PNT positioning, navigation, and timing        '"
      ]
     },
     "execution_count": 33,
     "metadata": {},
     "output_type": "execute_result"
    }
   ],
   "source": [
    "random_docs[5][\"GLOSSARY\"]"
   ]
  },
  {
   "cell_type": "code",
   "execution_count": 34,
   "id": "8af37dfa-0729-4e44-b268-15bf5b8622d2",
   "metadata": {},
   "outputs": [
    {
     "data": {
      "text/plain": [
       "\"REFERENCES  DoD Directive 5105.79, DoD Senior Governance Councils, May 19, 2008  DoD Directive 5144.02, DoD Chief Information Officer (DoD CIO), November 21, 2014, as   amended  DoD Instruction 4650.08, Positioning, Navigation, and Timing and Navigation Warfare   (NAVWAR), December 27, 2018, as amended  National Security Presidential Directive 39, U.S. Space-Based Positioning, Navigation, and   Timing Policy, December 15, 2004  United States Code, Title 10, Section 2281    \\\\tPositioning, Navigation, and Timing \\\\tSection 1:  General Issuance Information \\\\t1.1.  Applicability. \\\\t1.2.  Policy. \\\\t1.3.  Summary of Change 2.  \\\\tSection 2:  Responsibilities \\\\t2.1.  DoD Chief Information Officer. \\\\t2.2.  Under Secretary of Defense for Acquisition and Sustainment. \\\\t2.3.  Under Secretary of Defense for Research and Engineering. \\\\t2.4.  Director of Operational Test and Evaluation. \\\\t2.5.  Under Secretary of Defense (Comptroller)/DoD Chief Financial Officer, Department of Defense. \\\\t2.6.  Under Secretary of Defense for Intelligence and Security. \\\\t2.7  Director, National Security Agency/Chief, Central Security Service. \\\\t2.8.  Director, National Geospatial-Intelligence Agency. \\\\t2.9.  Director, National Reconnassiance Office. \\\\t2.10.  Under Secretary of Defense for Policy. \\\\t2.11.  Director of Cost Assessment and Program Evaluation. \\\\t2.12.  Secretaries of the Military Departments. \\\\t2.13.  Vice Chairman of the Joint Chiefs of Staff. \\\\t2.14.  Commander, United States Space Command. \\\\t2.15.  Commander, United States Strategic Command. \\\\t2.16.  Commander, United States Northern Command. \\\\t2.17.  Commander, United States Cyber Command.  \\\\tSection 3:  PNT Oversight Council \\\\t3.1.  PNT Oversight Council Composition. \\\\t3.2.  PNT Oversight Council Function.  \\\\tGlossary \\\\tReferences'\""
      ]
     },
     "execution_count": 34,
     "metadata": {},
     "output_type": "execute_result"
    }
   ],
   "source": [
    "random_docs[5][\"REFERENCES\"]"
   ]
  },
  {
   "cell_type": "markdown",
   "id": "5ea08ffa-9a7c-495a-b7fc-93421c02ba7d",
   "metadata": {
    "tags": []
   },
   "source": [
    "## Random Document 7"
   ]
  },
  {
   "cell_type": "code",
   "execution_count": 35,
   "id": "6e57ebc1-7d4f-444e-9dd4-cb44d87d2517",
   "metadata": {},
   "outputs": [
    {
     "data": {
      "text/plain": [
       "'520001m_vol2.txt'"
      ]
     },
     "execution_count": 35,
     "metadata": {},
     "output_type": "execute_result"
    }
   ],
   "source": [
    "has_glossary[random_gen[6]]"
   ]
  },
  {
   "cell_type": "code",
   "execution_count": 36,
   "id": "d38ad118-2544-453b-a5f7-47a6da5eef18",
   "metadata": {},
   "outputs": [
    {
     "data": {
      "text/plain": [
       "dict_keys(['Preamble', 'TABLE OF CONTENTS', 'REFERENCES', '1. ', '2.  ', 'GLOSSARY', '1.  ', '3.  ', '4.  ', '5.  ', '6.  ', '7.  ', '8.  ', '9.  ', '10.  ', '11.  ', '12.  ', '13.  ', '14.  ', '15.  ', '16.  ', '17.  ', '18.  ', '19.  ', '20.  ', '21.  ', '22.  ', '23.  ', '24.  ', '25.  ', '26.  ', '27.  ', '28.  ', '29.  ', '30.  ', '31.  ', '32.  ', '33.  ', '34.  ', '35.  ', '36.  ', '37.  ', '38.  ', '39.  ', '40.  ', '41.  ', '42.  ', '43.  ', '44.  ', '45.  ', '46.  ', '47.  ', '48.  ', '49.  ', '50.  ', '51.  ', '52.  ', '53.  ', '54.  ', '55.  ', '56.  ', '57.  ', '58.  ', '59.  ', '60.  ', '61.  ', '62.  ', '63.  ', '64.  ', '65.  ', 'ENCLOSURE 1 ', 'ENCLOSURE 2 ', '2. ', '3. ', '4. ', '5. ', '6. ', 'ENCLOSURE 3 ', '7. ', '8. ', '9. ', '10. ', '11. ', '12. ', '13. ', '14. ', '15. ', '16. ', '17. ', '18. ', '19. ', '20. ', '21. ', '22. ', '23. ', 'ENCLOSURE 4 ', 'APPENDIX 1 ', 'APPENDIX 2 '])"
      ]
     },
     "execution_count": 36,
     "metadata": {},
     "output_type": "execute_result"
    }
   ],
   "source": [
    "random_docs[6].keys()"
   ]
  },
  {
   "cell_type": "code",
   "execution_count": 37,
   "id": "f25554b2-1b80-4824-9b7a-f98f7433cbb2",
   "metadata": {},
   "outputs": [
    {
     "data": {
      "text/plain": [
       "\"PART I.  ABBREVIATIONS AND ACRONYMS   ACCM  AEA   alternative compensatory control measures  Atomic Energy Act   C Confidential  CAPCO  CDO  CNWDI  CTS  CUI   Controlled Access Program Coordination Office  controlling DoD office  Critical Nuclear Weapon Design Information  COSMIC Top Secret  controlled unclassified information   DCID  DDI(CL&S)   DEA  DIDO  DNI  DoDD   Director of Central Intelligence Directive  Director of Defense Intelligence (Counterintelligence, Law Enforcement,  & Security)  Drug Enforcement Administration  Designated Intelligence Disclosure Official  Director of National Intelligence  DoD Directive   DoDI DoD Instruction  DoDM DoD Manual  DOE  DoS  DTM  DVD   Department of Energy  Department of State  Directive-Type Memorandum  digital video disc (also digital versatile disc)   E.O. Executive Order  EXDIS Exclusive Distribution   FDO  FGI  FISA  FOUO  FRD  FSE   Foreign Disclosure Officer  foreign government information  Foreign Intelligence Surveillance Act  For Official Use Only  Formerly Restricted Data  file series exemption   G Gamma   HCS  HUMINT  HVSACO   HUMINT Control System  human intelligence  Handle via Special Access Channels Only   IAW in accordance with       IC  ICD  IT  IMCON  ISCAP  ISO  ISOO  IT   Intelligence Community  Intelligence Community Directive  information technology  Controlled Imagery  Interagency Security Classification Appeals Panel  International Organization for Standardization  Information Security Oversight Office  information technology    JWICS Joint Worldwide Intelligence Communications System   NARA National Archives and Records Administration  NATO  NDP  NF   North Atlantic Treaty Organization  National Disclosure Policy  NOFORN   NGA  NNPI  NODIS   National Geospatial-Intelligence Agency  Naval Nuclear Propulsion Information  No Distribution   NOFORN  NC   not releasable to foreign nationals  NATO Confidential   NR NATO Restricted  NS NATO Secret  NSI  NU   national security information  NATO Unclassified   OADR  OCA  ODNI  ORCON  OUSD(I&S)   originating agencys determination required  original classification authority  Office of the Director of National Intelligence  originator controlled  Office of the Under Secretary of Defense for Intelligence and Security   POC  PROPIN   point of contact  proprietary information   RD Restricted Data  RELIDO  REL TO   releasable by Information Disclosure Official  authorized for release to   S Secret  SAMI Sources and Methods Information  SAP  SBU   Special Access Program  sensitive but unclassified   SBU-NF sensitive but unclassified-NOFORN  SCI  SF   Sensitive Compartmented Information  Standard Form   SI Special Intelligence       SIGINT signals intelligence  SIPRNET Secret Internet Protocol Router Network  SNM special nuclear material   TK Talent Keyhole  TS Top Secret   U Unclassified  UCNI Unclassified Controlled Nuclear Information  U.S.C. United States Code  URL uniform resource locator   USD(I&S) Under Secretary of Defense for Intelligence and Security  PART II.  DEFINITIONS   Unless otherwise noted, these terms and their definitions are for the purpose of this Volume.     ATOMAL.  Applies to U.S. RD or FRD, or UK ATOMIC information that has been officially  released to NATO.   CDO.  The DoD activity that sponsored the work that generated the technical data or received  the technical data on behalf of the DoD and, therefore, has the responsibility for determining the  distribution of a document containing such technical data.  For joint sponsorship, the controlling  office is determined by advance agreement and may be a party, group, or committee representing  the interested activities or the DoD Components.   classified national security information.  Information that has been determined pursuant to  Reference (d), or any predecessor order, to require protection against unauthorized disclosure  and is marked to indicate its classified status when in documentary form.   CNWDI.  A DoD designation for TOP SECRET or SECRET RD weapon data revealing the  theory of operation or design of the components of a thermonuclear or fission bomb, warhead,  demolition munitions, or test device.   collateral information.  Information identified as classified national security information which is  not subject to the enhanced security protections (e.g., safeguarding, access requirements)  required for SCI or SAP information.   COSMIC.  TOP SECRET material that belongs to NATO.   date of original classification. The date a document is determined to be classified. For example,  classification would begin from the date a document is created, not from the date of any security  classification guide used to authorize classification of that document.   defense articles.  For purposes of the Defense Trade Cooperation Treaty between the United  States and Australia or the United Kingdom, those articles, services, and related technical data,  including software, in tangible or intangible form, listed on the United States Munitions List of       the International Traffic in Arms Regulations (ITAR) (Reference (at)), as modified or amended.   Defense articles exempt from the scope of section 126.17 of the Reference (at) are identified in  Supplement No. 1 to Part 126 of Reference (at).   Defense Intelligence Components.  All DoD organizations that perform national intelligence,  Defense Intelligence, and intelligence-related functions, including: the Defense Intelligence  Agency; the National Geospatial-Intelligence Agency, the National Reconnaissance Office, the  National Security Agency/Central Security Service, and the intelligence elements of the Active  and Reserve components of the Military Departments, including the United States Coast Guard  when operating as a service in the Navy.   Defense Purpose Rights.  The legal rights established by international agreement that authorizes  the U.S. DoD to have full data rights to information.    derivative classification.  The incorporating, paraphrasing, restating, or generating in new form  information that is already classified, and marking the newly developed material consistent with  the classification markings that apply to the source information.  Includes the classification of  information based on classification guidance.  The duplication or reproduction of existing  classified information is not derivative classification.   dissemination control markings.  Markings that identify the expansion or limitation on the  distribution of information.   distribution statement.  A statement used on a technical document to denote the extent of its  availability for secondary distribution, release, and disclosure without additional approvals or  authorizations. A distribution statement is distinct from and in addition to a security  classification marking and any dissemination control markings included in the banner line.  A  distribution statement is also required on security classification guides submitted to DTIC.    document face.  The first page, title page or front cover of the document   element of the Intelligence Community.  See Intelligence Community.    FGI.  Information provided to the U.S. Government by a foreign government or governments, an  international organization of governments, or any element thereof, with the expectation that the  information, the source of the information, or both, are to be held in confidence.   Information produced by the U.S. Government pursuant to or as a result of an arrangement  with a foreign government or governments, or an international organization of governments, or  any element thereof, requiring that the information, the arrangement, or both, are to be held in  confidence and to which the U.S Government does not have Defense Purpose Rights.    Information received and treated as Foreign Government Information pursuant to the terms  of a predecessor order to Reference (d).       file series exemption.  An exception to the 25-year automatic declassification provisions of  Reference (d).  This exception applies to entire blocks of records, i.e., file series, within an  agencys records management program.  To qualify for this exemption, the file series must be  replete with exemptible information.     foreground information.  Classified or unclassified information developed as part of an  International Cooperative Program to which the U.S. DoD has Defense Purpose Rights.   FOUO.  A protective marking to be applied to unclassified information when disclosure to the  public of that particular record, or portion thereof, would reasonably be expected to cause a  foreseeable harm to an interest protected by one or more provisions of the Freedom of  Information Act.  This includes information that qualifies for protection pursuant to the  provisions of the Privacy Act of 1974, as amended.  See DoD 5400.7-R (Reference (al)) for  detailed information on categories of information that may qualify for exemption from public  disclosure. The use of FOUO marking remains in effect until the implementation of the CUI  DoDI.   FRD.  Information removed from the RD category upon a joint determination by the  Departments of Energy and Defense that such information relates primarily to the military  utilization of atomic weapons.   information.  Any knowledge that can be communicated or documentary material, regardless of  its physical form or characteristics, that is owned by, produced by or for, or is under the control  of the U.S. Government.   Intelligence Community.  An element or agency of the U.S. Government identified in or  designated pursuant to section 3(4) of the National Security Act of 1947, as amended, or section  3.5(h) of E.O. 12333 (Reference (as)).   Joint information. Information owned or produced by more than one country or international  organization. Foreground information developed as a part of an international cooperative  program to which the U.S. has co-ownership and/or Defense Purpose Rights.  Classified foreign  government information to which the U.S. has Defense Purpose Rights, regardless of whether  U.S. classified information is shared with the foreign partner.   need to know.  A determination within the Executive Branch that a prospective recipient requires  access to specific classified information in order to perform or assist in a lawful and authorized  governmental function.   NSI.  Information that has been determined, pursuant to Reference (d), or any predecessor order,  to require protection against unauthorized disclosure.   OCA.  An individual authorized in writing, either by the President, the Vice President, or by  agency heads or other officials designated by the President, to originally classify information  (i.e., to classify information in the first instance).       original classification.  An original determination that information requires, in the interest of the  national security, protection against unauthorized disclosure.   page marking.  Banner marking at top and/or bottom of an interior page of a document.   RD.  All data concerning design, manufacture, or utilization of nuclear weapons; the production  of SNM; and the use of SNM for production of energy, but not data declassified or removed  from the RD category pursuant to section 2162 of The Atomic Energy Act of 1954, as amended.   SAP.  A program established for a specific class of classified information that imposes  safeguarding and access requirements that exceed those normally required for information at the  same classification level.  In the DoD, any DoD program or activity (as authorized in Reference  (d)), employing enhanced security measures (e.g., safeguarding, access requirements), exceeding  those normally required for collateral information at the same level of classification, shall be  established, approved, and managed as a DoD SAP in accordance with Reference (ae).   SCI.  Classified national intelligence information concerning, or derived from, intelligence  sources, methods or analytical processes that requires handling within formal access control  systems established by the DNI.   Sigma 14 information.  The subcategory of RD and FRD consisting of sensitive information  (including bypass scenarios) concerning the vulnerability of nuclear weapons to a deliberate  unauthorized nuclear detonation.   SNM.  Defined in Reference (ak).   source document.  An existing document that contains classified information that is incorporated,  paraphrased, restated, or generated in new form into a new document.   tetragraph.  A sequence of four letters used to represent an international organization, alliance or  other grouping of countries and international organizations.    trigraph.  A sequence of three letters used to represent a country.  Also called country code.    unauthorized disclosure.  Communication or physical transfer of classified or controlled  unclassified information to an unauthorized recipient.     wiki.  A collaborative website that allows users to modify previously posted content by adding,  deleting or editing the information.    weapons of mass destruction.  Any weapon of mass destruction as defined in section 1801(p) of  Reference (aq).   working paper.  Documents and material accumulated or created in the preparation of finished  documents and material.    \\\\tENCLOSURE 1 \\\\tREFERENCES \\\\tENCLOSURE 2 \\\\tENCLOSURE 3 \\\\tENCLOSURE 4'\""
      ]
     },
     "execution_count": 37,
     "metadata": {},
     "output_type": "execute_result"
    }
   ],
   "source": [
    "random_docs[6][\"GLOSSARY\"]"
   ]
  },
  {
   "cell_type": "markdown",
   "id": "cbeac211-c0dd-480e-b065-b9b7ec640419",
   "metadata": {
    "tags": []
   },
   "source": [
    "## Random Document 8"
   ]
  },
  {
   "cell_type": "code",
   "execution_count": 38,
   "id": "bcbe2269-8777-4582-9d71-9b9365625212",
   "metadata": {},
   "outputs": [
    {
     "data": {
      "text/plain": [
       "'826003m_vol1.txt'"
      ]
     },
     "execution_count": 38,
     "metadata": {},
     "output_type": "execute_result"
    }
   ],
   "source": [
    "has_glossary[random_gen[7]]"
   ]
  },
  {
   "cell_type": "code",
   "execution_count": 39,
   "id": "6bb18770-2b4d-4968-aa84-fb686ebffac9",
   "metadata": {},
   "outputs": [
    {
     "data": {
      "text/plain": [
       "dict_keys(['Preamble', '1.  ', '2.  ', '3.  ', '4.  ', '5.  ', '6.  ', '7.  ', '8.  ', 'REFERENCES', 'GLOSSARY', 'ENCLOSURE 1 ', 'ENCLOSURE 2 ', 'ENCLOSURE 3 ', '9.  ', '10.  ', '11.  ', '12.  ', '13.  ', '14.  ', 'APPENDIX 1 ', '32. ', '1. ', '5. ', '2. ', '3. ', '6. ', 'APPENDIX 2 '])"
      ]
     },
     "execution_count": 39,
     "metadata": {},
     "output_type": "execute_result"
    }
   ],
   "source": [
    "random_docs[7].keys()"
   ]
  },
  {
   "cell_type": "code",
   "execution_count": 40,
   "id": "24ffbcdc-c84f-4baf-a7c4-63f1aca2e1e5",
   "metadata": {},
   "outputs": [
    {
     "data": {
      "text/plain": [
       "'PART I.  ABBREVIATIONS AND ACRONYMS        ADS authoritative data source     CCR Centralized Contractor Registry  CDS cross domain solution  CONOPS concept of operations     DS data source  DTG date-time-group  DUNS Data Universal Numbering System      EK enterprise key  ES EwID Servers  ESS EwID Seed Server   EwID Enterprise-wide Identifier      FedReg Federal Agency Registration   FGS FMID Generation Service  FMID Force Management Identifier  FTS FMID Tracking System  FY fiscal year     GFM Global Force Management  GFM DI Global Force Management Data Initiative  GFM XSD Global Force Management XML Schema Definition     IP internet protocol  IUID Item Unique Identification     MCC Monitored Command Code     NIPRNET Non-Secure Internet Protocol Router Network     OAC Operating Agency Code  OBAN Operating Budget Account Number  OE organizational element  OFSC Organizational and Force Structure Construct  OS organization server  OUID organization unique identifier     PAS Personnel Accounting Symbol   PK primary key  PART II.  DEFINITIONS       Unless otherwise noted, these terms and their definitions are for the purposes of this Volume.      active.  The status of an EwID seed (FMID prefix value) that denotes it has been assigned from  the ESS and either concatenated to generate a 64-bit FMID or redirected to a subsidiary system  to which a query must be forwarded.  This status is used to manage the FMID tracking process at  FMID Tracking Servers.  Whether or not generated FMIDs have been used to tag data for  publication is not part of the term active when applied to an EwID.     ADS.  Defined in Reference (c).    allocation.  The number of EwID seeds that a EwID seed account holder has been authorized to  obtain.  The number of EwID seeds allocated does not reserve specific EwID seed values for  future use, but does guarantee that the number of seeds allocated will be available when  requested.  EwID seed values are specified only when seeds are assigned.    assigned.  A 32-bit EwID seed of a specific value that has been provided to an ESS subscriber  for generation of a full 64-bit FMID, or for redirection to a subordinate end user.    authorization data.  Defined in Reference (a).    billet organization.  Defined in Reference (a).    crew organization.  Defined in Reference (a).    ES.  The device that concatenates a locally managed suffix to an EwID seed obtained from the  ESS to create an identifier that is unique to all the members of the enterprise.    ESS.  The authoritative source of EwID seeds, on which EwID seed users, or their  intermediaries, must have an account.  The ESS Web site is https://ess.arl.army.mil/.    ESS user account.  A formal relationship that allows one to login to the ESS and utilize its  functions, to include the creation of EwID seed accounts.    EwID.  A scheme to generate unique identifiers that includes a centralized and decentralized  component.  A prefix is provided by a centralized source to ensure enterprise-wide uniqueness,  and a locally controlled suffix extends the procedure to distributed users.  An EwID conveys no  information about the entity it identifies, is a fixed, 64-bit size, and is exchanged as a single  attribute.  Previously termed an Enterprise Identifier or EID, the name was changed to avoid  confusion with an Item Unique Identifier data field with the same acronym that is used to tag  tangible items, such as equipment.    EwID seed account.  An account that allows users to obtain and manage EwID seeds, and set up  tracking links.  EwID seeds are managed based upon the properties of the EwID account through  '"
      ]
     },
     "execution_count": 40,
     "metadata": {},
     "output_type": "execute_result"
    }
   ],
   "source": [
    "random_docs[7][\"GLOSSARY\"]"
   ]
  },
  {
   "cell_type": "markdown",
   "id": "aaeaa574-4e8c-4bd1-9209-c44c7ca3bbd1",
   "metadata": {
    "tags": []
   },
   "source": [
    "## Random Document 9"
   ]
  },
  {
   "cell_type": "code",
   "execution_count": 41,
   "id": "046ff41f-bd17-48f3-8dec-9806737e8f09",
   "metadata": {},
   "outputs": [
    {
     "data": {
      "text/plain": [
       "'773047m_vol1.txt'"
      ]
     },
     "execution_count": 41,
     "metadata": {},
     "output_type": "execute_result"
    }
   ],
   "source": [
    "has_glossary[random_gen[8]]"
   ]
  },
  {
   "cell_type": "code",
   "execution_count": 42,
   "id": "b6a617ab-3178-4e39-9cb6-958c5c4c3824",
   "metadata": {},
   "outputs": [
    {
     "data": {
      "text/plain": [
       "dict_keys(['Preamble', 'TABLE OF CONTENTS', 'GLOSSARY', '1. ', '2. ', '3. ', '4. ', '5. ', '6. ', '7. ', '8. ', '9. ', 'ENCLOSURE 1 ', 'REFERENCES', 'ENCLOSURE 2 ', 'ENCLOSURE 3 ', 'ENCLOSURE 4 ', '10. ', '11. ', 'ENCLOSURE 5 '])"
      ]
     },
     "execution_count": 42,
     "metadata": {},
     "output_type": "execute_result"
    }
   ],
   "source": [
    "random_docs[8].keys()"
   ]
  },
  {
   "cell_type": "code",
   "execution_count": 43,
   "id": "e173f3e8-7d9f-429d-8a6c-91585c1da8ba",
   "metadata": {},
   "outputs": [
    {
     "data": {
      "text/plain": [
       "\"PART I.  ABBREVIATIONS AND ACRONYMS       DCIO Defense Criminal Investigative Organization  DIBRS Defense Incident-Based Reporting System  DMDC Defense Manpower Data Center  DoDD DoD directive  DoDI DoD instruction   FBI Federal Bureau of Investigation   IG DoD Inspector General of the Department of Defense   NIBRS National Incident-Based Reporting System   OUSD(P&R) Office of the Under Secretary of Defense for Personnel and Readiness   PHI protected health information  PII personal identifying information   SSN Social Security number   UCMJ Uniform Code of Military Justice  UCR uniform crime reporting  UIC unit identification code  U.S.C. United States Code  USD(P&R) Under Secretary of Defense for Personnel and Readiness       PART II.  DEFINITIONS       Unless otherwise noted, these terms and their definitions are for the purpose of this Volume.     acting in concert. Indicates that all of the offenders who actually commit or assist in the  commission of a crime(s) at the same time and place are aware of and consent to the commission  of the crime(s), or, if non-consenting, their actions assist in the commission of the offense(s).     bias. A preformed negative opinion or attitude toward a group of persons based on their race,  religion, ethnicity or national origin, sexual orientation, or disability.     bias crime. A criminal offense committed against a person or property that is motivated, in  whole or in part, by the offenders bias against a race, religion, ethnic or national origin, sexual  orientation, or disability group.  Also known as a hate crime.  Even if the offender was                mistaken in his or her perception that the victim was a member of the group he or she was acting  against, the offense is still a bias crime because the offender was motivated by bias against the  group.     bisexual. Of or relating to persons who experience sexual attraction toward, and responsiveness  to, both males and females; a bisexual person.     case. All criminal charges brought against a particular accused for disposition at a single forum.  A case may include any number of offenses resulting from any number of incidents.     central repository. The DoD Component facility designated to receive Service inputs of incident  data from functional consolidating activities and to report this data to other Federal agencies.  DMDC is the DoD Central Repository.     Component responsible official. The person designated by the Head of each DoD Component  primarily responsible in the Component for coordinating, implementing, and managing the  reporting system established by Reference (c).     credible information. Information disclosed or obtained that, considering the source and nature  of the information and the totality of the circumstances, is sufficiently believable to indicate  criminal activity has occurred and would cause a reasonable person under similar circumstances  to pursue the facts of the case further.     criminal offense against a victim who is a minor. Any criminal offense that consists of, or that  consists of an attempt to commit:     Kidnapping of a minor, except by a parent.     False imprisonment of a minor, except by a parent.   Criminal sexual conduct toward a minor.   Solicitation of a minor to engage in sexual conduct.   Use of a minor in a sexual performance.   Solicitation of a minor to practice prostitution.   Carnal knowledge of a minor.   A conduct that by its nature is a sexual offense against a minor.    DIBRS. The incident-based system used to report criminal and specifically identified incidents  from initial law enforcement response to offender release from confinement. It includes  provisions to comply with The Brady Handgun Violence Prevention Act of 1993, as amended,  and References (b) and (f).                   disability bias. A preformed negative opinion or attitude toward a group of persons based on  their physical or mental impairments or challenges, whether such disability is temporary or  permanent, congenital or acquired by heredity, accident, injury, advanced age, or illness.     disabled. Of or relating to persons who have physical or mental impairments or challenges,  whether temporary or permanent, due to conditions that are congenital or acquired by accident,  injury, advanced age, or illness; a disabled person.     domestic violence. The use, attempted use, or threatened use of force or violence that constitutes  a UCMJ offense against a person of the opposite sex, or the violation of a lawful order issued for  the protection of a person of the opposite sex, who is:     A current or former spouse.     A person with whom the abuser shares a child in common.     A current or former intimate partner with whom the abuser shares or has shared a domicile.     ethnicity or national origin bias. A preformed negative opinion or attitude toward a group of  persons of the same race or national origin, who share common or similar traits, languages,  customs, and traditions (e.g., Arabs, Hispanics).     fraternization offense. Any criminal offense pursuant to Article 133 or 134 of the UCMJ  consisting of fraternization or entering into an unprofessional relationship, or any criminal  offense based on violation of a punitive regulation or a lawful general order, in violation of  Article 92 of the UCMJ, involving fraternization or entering into an unprofessional relationship.     functional consolidating activity. The activity designated by a DoD Component to receive  reports of incidents from one or more functional reporting areas, consolidate them, and report to  a DoD Component central repository or to DMDC.     functional responsible official. The person designated by the Head of each DoD Component  who has primary responsibility for coordinating the implementation of the incident reporting  system within the designated functional area (law enforcement, criminal investigation, judicial  functions, and corrections) in the Component.     gay. Of or relating to males who experience a sexual attraction toward, and responsiveness to,  other males; a homosexual male.     hate crime.  See bias crime.      hate group. An organization whose primary purpose is to promote animosity, hostility, and  malice against persons of a race, religion, ethnic or national origin, sexual orientation, or  disability group that differs from that of the members of the organization (e.g., the Ku Klux  Klan, American Nazi Party).                   heterosexual. Of or relating to persons who experience a sexual attraction toward, and  responsiveness to, members of the opposite sex; a heterosexual person.     homosexual. Of or relating to persons who experience a sexual attraction toward, and  responsiveness to, members of their own sex; a homosexual person.     incident. For NIBRS reporting purposes, one or more offenses committed by the same offender,  or group of offenders acting in concert, at the same time and place.     lead agency.  The agency or organization whose agent or agents are first involved with an  incident or to whom an incident is referred for investigation. When two or more agencies are  involved, the NIBRS jurisdictional guidelines in subparagraph 1.b.(5) of Enclosure 4 should be  used to designate the lead agency. If the lead agency designated pursuant to NIBRS guidelines is  a non-DoD law enforcement agency, a Not Reportable to NIBRS incident report should be  provided to the DIBRS by the lead DoD agency.     lesbian. Of or relating to females who experience a sexual attraction toward, and responsiveness  to, other females; a homosexual female.     minor.  A child under the age of 16 years.      racial bias. A preformed negative opinion or attitude toward a group of persons who possess  common physical characteristics (e.g., color of skin, eyes, and hair; facial features) genetically  transmitted by descent and heredity that distinguish them as a distinct division of humankind  (e.g., Asians, blacks, whites).     religious bias. A preformed negative opinion or attitude toward a group of persons who share  the same religious beliefs regarding the origin and purpose of the universe and the existence or  nonexistence of a supreme being (e.g., Catholics, Jews, Protestants, atheists).     reportable incident. An incident requiring the submission of specified data elements pursuant to  Reference (c).  Reportable incidents include:     Disciplinary incidents.     Incidents reportable by the DoD Components pursuant to Reference (d).   Incidents reportable by the DoD Components pursuant to Reference (n).   A UCMJ criminal incident investigated by a military law enforcement organization pursuant  to the receipt of credible information.     A criminal incident involving fraternization, sexual harassment, a sex-related offense, a   criminal offense against a victim who is a minor, or a hate or bias crime that is investigated by a                commander, military officer, or civilian in a supervisory position pursuant to the receipt of  credible information.     A criminal incident not investigated by a military law enforcement organization that is   referred to court-martial and that serves as the basis for the imposition of non-judicial  punishment or results in an administrative discharge. A DIBRS incident report is required when  an administrative discharge is based primarily on the commission of a criminal offense, such as  discharge in lieu of court-martial, separation for misconduct, and separation based on civilian  conviction.     Civilian criminal incidents committed by military personnel on active duty resulting in a   felony conviction, as defined in the civilian jurisdiction in which the offense is tried.     Incidents of domestic violence reportable by the DoD Components pursuant to section 1562  of Reference (i).     Incidents involving the actual or attempted suicide of military personnel on active duty.     Incidents that are the subject of counterintelligence investigations. These incidents shall not   trigger DIBRS reporting requirements until a NIBRS-reportable arrest occurs or UCMJ charges  UCMJ are preferred.     same time and place. Indicates that the time interval between offenses and the distance between  the locations where they occurred are insignificant.     secured property.  Property that is in a container-type structure or upon the body of a person.      sex-related offense. Any criminal offense that consists of sexual misconduct, including these  offenses: rape, rape of a child, aggravated sexual assault, aggravated sexual assault of a child,  aggravated sexual abuse of a child, aggravated sexual contact, aggravated sexual contact with a  child, abusive sexual contact with a child, indecent liberty with a child, abusive sexual contact,  indecent act, forcible pandering, wrongful sexual contact, indecent exposure, and sodomy;  conduct prejudicial to good order and discipline involving any sexually violent offense; or an  attempt, conspiracy, or solicitation to commit any of the foregoing.     sexual harassment. A form of sex discrimination that involves unwelcome sexual advances,  requests for sexual favors, and other verbal or physical conduct of a sexual nature when:     Submission to such conduct is made either explicitly or implicitly a term or condition of a   persons job or career.     Submission to or rejection of such conduct by a person is used as a basis for career or  employment decisions affecting that person.     Such conduct has the purpose or effect of unreasonably interfering with an individuals work   performance or creates an intimidating, hostile, or offensive working environment.                   sexual orientation bias. A preformed negative opinion or attitude toward a group of persons  based on their sexual attraction toward, and responsiveness to, members of their own sex or  members of the opposite sex (e.g., gays, lesbians, heterosexuals).     spouse abuse. Includes assault, battery, threat to injure or kill, other act of force or violence, or  emotional maltreatment inflicted on a partner in a lawful marriage when one of the partners is a  Service member or is employed by the Department of Defense and is eligible for treatment in a  Medical Treatment Facility. A spouse under 18 years of age shall be treated in this category  pursuant to Reference (d).     unfounded. A complaint that is determined through investigation to be false or baseless. In  other words, no crime occurred. If the investigation shows that no offense occurred nor was  attempted, procedures dictate that the reported offense must be coded unfounded. The  recovery of stolen property, the low value of stolen property, the refusal of the victim to  cooperate with prosecution, or the failure to make an arrest DOES NOT unfound a legitimate  offense.    \\\\tStructure Bookmarks \\\\tFigure \\\\tDepartment of Defense  \\\\tDepartment of Defense  \\\\tMANUAL  \\\\tNUMBER 7730.47-M, Volume 1  \\\\tDecember 7, 2010  \\\\tIncorporating Change 3, Effective September 18, 2020  \\\\tUSD(I&S)  \\\\t  \\\\tSUBJECT: Defense Incident-Based Reporting System (DIBRS):  Data Segments and Elements References:   See Enclosure 1  1. PURPOSE  a. Manual. This Manual is composed of several volumes, each containing its own purpose, and reissues DoD 7730.47-M (Reference (a)). The purpose of the overall Manual, in accordance with the authority in DoD Directive (DoDD) 5124.02 (Reference (b)), is to implement the policy in DoD Instruction (DoDI) 7730.47 (Reference (c)) and to assign responsibilities and prescribe procedures f \\\\t2. APPLICABILITY. This Volume applies to OSD, the Military Departments, the Office of the Chairman of the Joint Chiefs of Staff and the Joint Staff, the Combatant Commands, the Office of the Inspector General of the Department of Defense (IG DoD), the Defense Agencies, the DoD Field Activities, and all other organizational entities within the Department of Defense (hereafter referred to collectively as the DoD Components).   3. POLICY.  DIBRS policy is set forth in section 4 of Reference (c).   4. RESPONS \\\\t2. APPLICABILITY. This Volume applies to OSD, the Military Departments, the Office of the Chairman of the Joint Chiefs of Staff and the Joint Staff, the Combatant Commands, the Office of the Inspector General of the Department of Defense (IG DoD), the Defense Agencies, the DoD Field Activities, and all other organizational entities within the Department of Defense (hereafter referred to collectively as the DoD Components).   3. POLICY.  DIBRS policy is set forth in section 4 of Reference (c).   4. RESPONS \\\\t2. APPLICABILITY. This Volume applies to OSD, the Military Departments, the Office of the Chairman of the Joint Chiefs of Staff and the Joint Staff, the Combatant Commands, the Office of the Inspector General of the Department of Defense (IG DoD), the Defense Agencies, the DoD Field Activities, and all other organizational entities within the Department of Defense (hereafter referred to collectively as the DoD Components).   3. POLICY.  DIBRS policy is set forth in section 4 of Reference (c).   4. RESPONS   \\\\t9.  EFFECTIVE DATE.  This Volume is effective December 7, 2010.  \\\\tClifford L. Stanley Under Secretary of Defense for Personnel and Readiness  \\\\t Enclosures 1. References 2. Responsibilities 3. General Procedures 4. Segment Formats 5. Data Submission Procedures Glossary  \\\\tTABLE OF CONTENTS  \\\\t  \\\\t  \\\\tENCLOSURE 1. REFERENCES ...................................................................................................5  \\\\tENCLOSURE 2. RESPONSIBILITIES .........................................................................................7  \\\\tUSD(P&R) .................................................................................................................................7  \\\\tIG DoD.......................................................................................................................................7  \\\\tHEADS OF THE DoD COMPONENTS WITH LAW ENFORCEMENT ORGANIZATIONS .............................................................................................................8  \\\\tSECRETARIES OF THE MILITARY DEPARTMENTS ........................................................8  \\\\tENCLOSURE 3. GENERAL PROCEDURES ..............................................................................9  \\\\tINTRODUCTION .....................................................................................................................9  \\\\tREPORTING PROCESS OVERVIEW ..................................................................................12  \\\\tENCLOSURE 4. SEGMENT FORMATS ...................................................................................16  \\\\tDISCIPLINARY INCIDENTS ................................................................................................16  \\\\tDoD DATABASE OF DOMESTIC VIOLENCE INCIDENTS .............................................18  \\\\tOTHER REPORTABLE INCIDENTS ...................................................................................19  \\\\tADMINISTRATIVE SEGMENT ...........................................................................................19  \\\\tOFFENSE SEGMENT ............................................................................................................22  \\\\tPROPERTY SEGMENT .........................................................................................................27  \\\\tVICTIM SEGMENT ...............................................................................................................32  \\\\tOFFENDER/ARRESTEE SEGMENT ....................................................................................38  \\\\tCOMMANDERS REPORT OF ACTION TAKEN SEGMENT ...........................................46  \\\\tRESULTS OF TRIAL SEGMENT..........................................................................................52  \\\\tCORRECTIONS SEGMENT ..................................................................................................65  \\\\tENCLOSURE 5.  DATA SUBMISSION PROCEDURES ...........................................................73  \\\\tINFORMATION REQUIREMENTS ......................................................................................73  \\\\tSUBMISSION INSTRUCTIONS ...........................................................................................74  \\\\tCORRECTION OF RECORDS ..............................................................................................74  \\\\tAUTHORIZED RELEASE OF INDIVIDUAL INFORMATION .........................................75  \\\\tAUTHORIZED RELEASE OF STATISTICAL INFORMATION ........................................75  \\\\tUNAUTHORIZED ACCESS ..................................................................................................76  \\\\tDATABASE CHANGE MANAGEMENT .............................................................................76  \\\\tTESTING PROCEDURES FOR UNMATCHED SEGMENTS ............................................76  \\\\tDIBRS PII SHELF-LIFE .........................................................................................................76  \\\\tGLOSSARY ..................................................................................................................................78  \\\\tABBREVIATIONS AND ACRONYMS ................................................................................78  \\\\tDEFINITIONS .........................................................................................................................78  \\\\t  \\\\tTABLES  \\\\t  \\\\t1. Administrative Segment ......................................................................................................21  \\\\t1. Administrative Segment ......................................................................................................21  \\\\t1. Administrative Segment ......................................................................................................21   \\\\t2. Offense Segment .................................................................................................................23  \\\\t2. Offense Segment .................................................................................................................23   \\\\t3. Property Segment ................................................................................................................30  \\\\t3. Property Segment ................................................................................................................30   \\\\t4. Victim Segment ..................................................................................................................34  \\\\t4. Victim Segment ..................................................................................................................34   \\\\t5. Offender/Arrestee Segment ................................................................................................41  \\\\t5. Offender/Arrestee Segment ................................................................................................41   \\\\t6. Commanders Report of Action Taken Segment ................................................................48  \\\\t6. Commanders Report of Action Taken Segment ................................................................48   \\\\t7. Results of Trial Segment .....................................................................................................55  \\\\t7. Results of Trial Segment .....................................................................................................55   \\\\t8. Corrections Segment ...........................................................................................................68  \\\\t8. Corrections Segment ...........................................................................................................68   \\\\t9. PII Shelf Life .......................................................................................................................77  \\\\t9. PII Shelf Life .......................................................................................................................77    \\\\tENCLOSURE 1  \\\\tREFERENCES  \\\\t  \\\\t  \\\\t(a) DoD 7730.47-M, Manual for Defense Incident-Based Reporting System,  July 25, 2003 (hereby cancelled)  \\\\t(b)   DoD Directive 5124.02, Under Secretary of Defense for Personnel and Readiness (USD(P&R)), June 23, 2008  \\\\t(c)   DoD Instruction 7730.47, Defense Incident-Based Reporting System (DIBRS),   \\\\t January 23, 2014, as amended  \\\\t(d)   Note to section 534 of title 28, United States Code, as amended (also known as The Uniform Federal Crime Reporting Act of 1988, as amended)  \\\\t(e)   Section 13 and note to section 922 of title 18, United States Code, as amended  \\\\t1 \\\\t2  \\\\t1 Also known as The Assimilative Crimes Act of 1948, as amended.  \\\\t1 Also known as The Assimilative Crimes Act of 1948, as amended.  \\\\t2 Also known as The Brady Handgun Violence Prevention Act of 1993, as amended.  \\\\t3 Copies can be obtained by writing to the Communications Unit, Criminal Justice Information Services Division, FBI, Module 3, 1000 Custer Hollow Road, Clarksburg, WV 26306-0154.   \\\\t(f)   Under Secretary of Defense for Personnel and Readiness Memorandum, Working Agreement on Implementing the Defense Incident-Based Reporting System (DIBRS) for Criminal and Related Offenses within the Department of Defense, September 9, 1994 (hereby cancelled)  \\\\t(g)   Under Secretary of Defense for Personnel and Readiness Memorandum, Establishment of DoD Database on Domestic Violence and Procedures for Submitting Domestic Violence Data, June 8, 2000 (hereby cancelled)  \\\\t(h)   Deputy Under Secretary of Defense for Program Integration Memorandum, DIBRS Personal Identifier Data (PID) Shelf Life Recommendation, March 15, 2001 (hereby cancelled)  \\\\t(i)   Chapter 47 and section 1562 of title 10, United States Code  \\\\t(j)   DoD Instruction 6400.01, Family Advocacy Program (FAP), May 1, 2019  \\\\t(k)   DoD Manual 8910.01, DoD Information Collections Manual, June 30, 2014, as amended  \\\\t(l)   Public Law 116-92, National Defense Authorization Act for Fiscal Year 2020,  December 20, 2019  \\\\t(m)  DoD 5400.11-R, Department of Defense Privacy Program, May 14, 2007  \\\\t(n) Section 803 of Public Law 110-53, Implementing Recommendations of the 9/11 Commission Act of 2007, August 3, 2007  \\\\t(o)  Section 10601 of title 42, United States Code (also known as The Victims Rights and Restitution Act of 1990, as amended)  \\\\t(p)  Federal Bureau of Investigation, Uniform Crime Reporting Handbook, National Incident-Based Reporting System Edition, August 2002  \\\\t3  \\\\t(q)  DoD Instruction 1030.2, Victim and Witness Assistance Procedures, June 4, 2004  \\\\t(r)   DoD Manual 6025.18, Implementation of the Health Insurance Portability and Accountability Act (HIPAA) Privacy Rule in DOD Health Care Programs, March 13, 2019  \\\\t(s)   Manual for Courts-Martial, United States, 2008 Edition  \\\\t(t)   DoD Directive 1325.04, Confinement of Military Prisoners and Administration of Military Correctional Programs and Facilities, August 17, 2001  \\\\t(u)   Federal Information Processing Standard 10-4, Countries, Dependencies, Areas of Special Sovereignty, and Their Principal Administrative Divisions, April 1995  \\\\t(v)   Section 14071 of title 42, United States Code  \\\\t(w) DoD Instruction 8910.01, Information Collection and Reporting, May 19, 2014, as amended  \\\\t(x) DoD Instruction 8320.02, Sharing Data, Information, and Technology (IT) Services in the Department of Defense, August 5, 2013, as amended  \\\\t(y)  Page 56062 of Volume 72, Federal Register, October 2, 2007  \\\\t(z)  DoD Directive 5400.07, DoD Freedom of Information Act (FOIA) Program,  April 5, 2019  \\\\t ENCLOSURE 2  RESPONSIBILITIES   1. USD(P&R).  The USD(P&R) shall:  a. Develop overall DoD DIBRS policy and monitor DoD Component compliance with Reference (c).  b. Provide functional guidance to the Heads of the DoD Components in the discharge of their responsibilities pursuant to this Volume and Reference (c).  c. Oversee the functions of the Defense Manpower Data Center (DMDC) and ensure that DMDC:  (1) Formulates a data collection mechanism to:  (a) Track and report DIBRS information through the life cy \\\\tP \\\\tP \\\\t  \\\\tOrganizations (DCIOs). This shall not substitute for the routine managerial oversight of the program provided by the DCIOs, the Office of the USD(P&R) (OUSD(P&R)), the Heads of the DoD Components, or the Component responsible officials.  \\\\t  3. HEADS OF THE DoD COMPONENTS WITH LAW ENFORCEMENT ORGANIZATIONS. The Heads of the DoD Components with law enforcement organizations shall:  a. Ensure compliance with this Volume and Reference (c) and establish policies and procedures to implement and maintain DIBRS reporting within their respective Components.  b. Designate a Component responsible official to coordinate, implement, and manage the DIBRS within their respective Components, and to report monthly to DMDC as set forth in paragraph 2.b. of En \\\\t ENCLOSURE 3  GENERAL PROCEDURES   1. INTRODUCTION  a. DIBRS Overview  (1) The DIBRS is designed to meet the data repository needs involved in reporting on overall law enforcement activities and statistics within the Department of Defense, as mandated by Congress, including:  (a) NIBRS requirements mandated by The Uniform Federal Crime Reporting Act of 1988, as amended.  (b) Victim and witness notifications mandated by section 10601 of title 42, U.S.C. (also known and hereafter referred to as The Victims  \\\\tP \\\\tP \\\\t(e) Corrections. Actions conducted at military correctional facilities and by persons responsible for DoD employees convicted of a crime and sentenced to imprisonment.  \\\\t(e) Corrections. Actions conducted at military correctional facilities and by persons responsible for DoD employees convicted of a crime and sentenced to imprisonment.  \\\\t(e) Corrections. Actions conducted at military correctional facilities and by persons responsible for DoD employees convicted of a crime and sentenced to imprisonment.  \\\\t(e) Corrections. Actions conducted at military correctional facilities and by persons responsible for DoD employees convicted of a crime and sentenced to imprisonment.  \\\\t(e) Corrections. Actions conducted at military correctional facilities and by persons responsible for DoD employees convicted of a crime and sentenced to imprisonment.  \\\\t(e) Corrections. Actions conducted at military correctional facilities and by persons responsible for DoD employees convicted of a crime and sentenced to imprisonment.       \\\\tb. NIBRS Overview. Since the inception of the Uniform Crime Reporting (UCR) Program in 1930, the FBI has been collecting crime data dealing with offenses and arrests from approximately 16,000 county, State, and Federal law enforcement agencies. The FBI uses the data to develop a reliable set of criminal statistics for law enforcement agencies throughout the country to use in their administration, operation, and management.  \\\\tb. NIBRS Overview. Since the inception of the Uniform Crime Reporting (UCR) Program in 1930, the FBI has been collecting crime data dealing with offenses and arrests from approximately 16,000 county, State, and Federal law enforcement agencies. The FBI uses the data to develop a reliable set of criminal statistics for law enforcement agencies throughout the country to use in their administration, operation, and management.  \\\\tb. NIBRS Overview. Since the inception of the Uniform Crime Reporting (UCR) Program in 1930, the FBI has been collecting crime data dealing with offenses and arrests from approximately 16,000 county, State, and Federal law enforcement agencies. The FBI uses the data to develop a reliable set of criminal statistics for law enforcement agencies throughout the country to use in their administration, operation, and management.  \\\\tb. NIBRS Overview. Since the inception of the Uniform Crime Reporting (UCR) Program in 1930, the FBI has been collecting crime data dealing with offenses and arrests from approximately 16,000 county, State, and Federal law enforcement agencies. The FBI uses the data to develop a reliable set of criminal statistics for law enforcement agencies throughout the country to use in their administration, operation, and management.     \\\\t(1) During the late 1970s, the law enforcement community called for expanded use of the UCR Program and developed new guidelines for reporting crime statistics. These guidelines formed the basis of NIBRS, as mandated by The Uniform Federal Crime Reporting Act of 1988, as amended. NIBRS requires law enforcement agencies, including those within the Department of Defense, to report NIBRS data to the Department of Justice for inclusion in the FBI- maintained system pursuant to FBI handbook (Reference (p)).  \\\\t(1) During the late 1970s, the law enforcement community called for expanded use of the UCR Program and developed new guidelines for reporting crime statistics. These guidelines formed the basis of NIBRS, as mandated by The Uniform Federal Crime Reporting Act of 1988, as amended. NIBRS requires law enforcement agencies, including those within the Department of Defense, to report NIBRS data to the Department of Justice for inclusion in the FBI- maintained system pursuant to FBI handbook (Reference (p)).  \\\\t(1) During the late 1970s, the law enforcement community called for expanded use of the UCR Program and developed new guidelines for reporting crime statistics. These guidelines formed the basis of NIBRS, as mandated by The Uniform Federal Crime Reporting Act of 1988, as amended. NIBRS requires law enforcement agencies, including those within the Department of Defense, to report NIBRS data to the Department of Justice for inclusion in the FBI- maintained system pursuant to FBI handbook (Reference (p)).  \\\\t(1) During the late 1970s, the law enforcement community called for expanded use of the UCR Program and developed new guidelines for reporting crime statistics. These guidelines formed the basis of NIBRS, as mandated by The Uniform Federal Crime Reporting Act of 1988, as amended. NIBRS requires law enforcement agencies, including those within the Department of Defense, to report NIBRS data to the Department of Justice for inclusion in the FBI- maintained system pursuant to FBI handbook (Reference (p)).  \\\\t(1) During the late 1970s, the law enforcement community called for expanded use of the UCR Program and developed new guidelines for reporting crime statistics. These guidelines formed the basis of NIBRS, as mandated by The Uniform Federal Crime Reporting Act of 1988, as amended. NIBRS requires law enforcement agencies, including those within the Department of Defense, to report NIBRS data to the Department of Justice for inclusion in the FBI- maintained system pursuant to FBI handbook (Reference (p)).      \\\\t(2) The FBI assembles, publishes, and distributes the data to contributing agencies, including the Department of Defense, State UCR programs, Government bodies, and others interested in the Nations crime problem. Law enforcement agencies consider NIBRS data to be an indispensable tool in the war against crime because it provides them with detailed, accurate, and meaningful statistical data about when and where crime takes place, what form it takes, and the characteristics of its victims and perpetrators. L \\\\t(2) The FBI assembles, publishes, and distributes the data to contributing agencies, including the Department of Defense, State UCR programs, Government bodies, and others interested in the Nations crime problem. Law enforcement agencies consider NIBRS data to be an indispensable tool in the war against crime because it provides them with detailed, accurate, and meaningful statistical data about when and where crime takes place, what form it takes, and the characteristics of its victims and perpetrators. L \\\\t(2) The FBI assembles, publishes, and distributes the data to contributing agencies, including the Department of Defense, State UCR programs, Government bodies, and others interested in the Nations crime problem. Law enforcement agencies consider NIBRS data to be an indispensable tool in the war against crime because it provides them with detailed, accurate, and meaningful statistical data about when and where crime takes place, what form it takes, and the characteristics of its victims and perpetrators. L \\\\t(2) The FBI assembles, publishes, and distributes the data to contributing agencies, including the Department of Defense, State UCR programs, Government bodies, and others interested in the Nations crime problem. Law enforcement agencies consider NIBRS data to be an indispensable tool in the war against crime because it provides them with detailed, accurate, and meaningful statistical data about when and where crime takes place, what form it takes, and the characteristics of its victims and perpetrators. L \\\\t(2) The FBI assembles, publishes, and distributes the data to contributing agencies, including the Department of Defense, State UCR programs, Government bodies, and others interested in the Nations crime problem. Law enforcement agencies consider NIBRS data to be an indispensable tool in the war against crime because it provides them with detailed, accurate, and meaningful statistical data about when and where crime takes place, what form it takes, and the characteristics of its victims and perpetrators. L     \\\\tc. Victim-Witness Act. Pursuant to The Victims Rights and Restitution Act of 1990, as amended, victims and selected witnesses must be notified of their rights at certain phases of the case, from the time of initial contact by law enforcement through the investigation phase, prosecution phase, and, if the case results in confinement, the change in confinement status. The confinement authority must advise the victim or witness of an inmates status, to include length of sentence, anticipated earliest release  \\\\tc. Victim-Witness Act. Pursuant to The Victims Rights and Restitution Act of 1990, as amended, victims and selected witnesses must be notified of their rights at certain phases of the case, from the time of initial contact by law enforcement through the investigation phase, prosecution phase, and, if the case results in confinement, the change in confinement status. The confinement authority must advise the victim or witness of an inmates status, to include length of sentence, anticipated earliest release  \\\\tc. Victim-Witness Act. Pursuant to The Victims Rights and Restitution Act of 1990, as amended, victims and selected witnesses must be notified of their rights at certain phases of the case, from the time of initial contact by law enforcement through the investigation phase, prosecution phase, and, if the case results in confinement, the change in confinement status. The confinement authority must advise the victim or witness of an inmates status, to include length of sentence, anticipated earliest release  \\\\tc. Victim-Witness Act. Pursuant to The Victims Rights and Restitution Act of 1990, as amended, victims and selected witnesses must be notified of their rights at certain phases of the case, from the time of initial contact by law enforcement through the investigation phase, prosecution phase, and, if the case results in confinement, the change in confinement status. The confinement authority must advise the victim or witness of an inmates status, to include length of sentence, anticipated earliest release  \\\\tStatus, for this purpose. (DD Form 2705 is available on the Internet at http://www.dtic.mil/whs/directives/infomgt/forms/ddforms2500-2999.htm.)  The DIBRS requires that the number of victim-witness notifications be reported to DMDC in accordance with The Victims Rights and Restitution Act of 1990, as amended.  d. Brady Act. The DIBRS shall be used to centralize the collection of information that is reportable by the DoD Components pursuant to The Brady Handgun Violence Prevention Act of 1993, which requir \\\\tLBody \\\\tLink     \\\\t  \\\\t(2) Persons who are fugitives from justice.  (3) Persons who are unlawful users of, or addicted to, any controlled substance.  (4) Persons who have been adjudicated as mental defectives or who have been committed to a mental institution.  (5) Persons who have been discharged from the U.S. Armed Forces under dishonorable conditions.  (6) Persons who, having been citizens of the United States, have renounced their U.S. citizenship.  (7) Persons convicted in any court of a misdemeanor crime of domestic violenc \\\\t(2) Persons who are fugitives from justice.  (3) Persons who are unlawful users of, or addicted to, any controlled substance.  (4) Persons who have been adjudicated as mental defectives or who have been committed to a mental institution.  (5) Persons who have been discharged from the U.S. Armed Forces under dishonorable conditions.  (6) Persons who, having been citizens of the United States, have renounced their U.S. citizenship.  (7) Persons convicted in any court of a misdemeanor crime of domestic violenc \\\\t(2) Persons who are fugitives from justice.  (3) Persons who are unlawful users of, or addicted to, any controlled substance.  (4) Persons who have been adjudicated as mental defectives or who have been committed to a mental institution.  (5) Persons who have been discharged from the U.S. Armed Forces under dishonorable conditions.  (6) Persons who, having been citizens of the United States, have renounced their U.S. citizenship.  (7) Persons convicted in any court of a misdemeanor crime of domestic violenc \\\\t(2) Persons who are fugitives from justice.  (3) Persons who are unlawful users of, or addicted to, any controlled substance.  (4) Persons who have been adjudicated as mental defectives or who have been committed to a mental institution.  (5) Persons who have been discharged from the U.S. Armed Forces under dishonorable conditions.  (6) Persons who, having been citizens of the United States, have renounced their U.S. citizenship.  (7) Persons convicted in any court of a misdemeanor crime of domestic violenc \\\\t(2) Persons who are fugitives from justice.  (3) Persons who are unlawful users of, or addicted to, any controlled substance.  (4) Persons who have been adjudicated as mental defectives or who have been committed to a mental institution.  (5) Persons who have been discharged from the U.S. Armed Forces under dishonorable conditions.  (6) Persons who, having been citizens of the United States, have renounced their U.S. citizenship.  (7) Persons convicted in any court of a misdemeanor crime of domestic violenc     \\\\t  \\\\t(2) The DIBRS shall:  (a) Allow the Department of Defense to respond to requests based on a standard data system that can track a criminal incident from initial allegation to final disposition.  (b) Allow the Department of Defense to account for cases that are processed administratively through separation or other actions.  (c) Provide the flexibility to track non-criminal incidents or incidents that are hard to identify from the name of the offense, which is often the case with sexual harassment.  (d) Ensu \\\\t(2) The DIBRS shall:  (a) Allow the Department of Defense to respond to requests based on a standard data system that can track a criminal incident from initial allegation to final disposition.  (b) Allow the Department of Defense to account for cases that are processed administratively through separation or other actions.  (c) Provide the flexibility to track non-criminal incidents or incidents that are hard to identify from the name of the offense, which is often the case with sexual harassment.  (d) Ensu \\\\t(2) The DIBRS shall:  (a) Allow the Department of Defense to respond to requests based on a standard data system that can track a criminal incident from initial allegation to final disposition.  (b) Allow the Department of Defense to account for cases that are processed administratively through separation or other actions.  (c) Provide the flexibility to track non-criminal incidents or incidents that are hard to identify from the name of the offense, which is often the case with sexual harassment.  (d) Ensu \\\\t(2) The DIBRS shall:  (a) Allow the Department of Defense to respond to requests based on a standard data system that can track a criminal incident from initial allegation to final disposition.  (b) Allow the Department of Defense to account for cases that are processed administratively through separation or other actions.  (c) Provide the flexibility to track non-criminal incidents or incidents that are hard to identify from the name of the offense, which is often the case with sexual harassment.  (d) Ensu \\\\t(2) The DIBRS shall:  (a) Allow the Department of Defense to respond to requests based on a standard data system that can track a criminal incident from initial allegation to final disposition.  (b) Allow the Department of Defense to account for cases that are processed administratively through separation or other actions.  (c) Provide the flexibility to track non-criminal incidents or incidents that are hard to identify from the name of the offense, which is often the case with sexual harassment.  (d) Ensu     \\\\tL \\\\tLI \\\\tP   \\\\t  \\\\t(2) In addition to specific offense codes, each incident shall be assigned a unique number to facilitate tracking incidents and cases across functional lines. The law enforcement agency or command originally reporting the incident shall use its identification number (FBI Location Number and Incident Number) from initiation of DIBRS reporting through final resolution.  b. Each month, each of the DoD Components shall report new and updated information to the activity designated by their Component to act as th \\\\t(2) In addition to specific offense codes, each incident shall be assigned a unique number to facilitate tracking incidents and cases across functional lines. The law enforcement agency or command originally reporting the incident shall use its identification number (FBI Location Number and Incident Number) from initiation of DIBRS reporting through final resolution.  b. Each month, each of the DoD Components shall report new and updated information to the activity designated by their Component to act as th \\\\t(2) In addition to specific offense codes, each incident shall be assigned a unique number to facilitate tracking incidents and cases across functional lines. The law enforcement agency or command originally reporting the incident shall use its identification number (FBI Location Number and Incident Number) from initiation of DIBRS reporting through final resolution.  b. Each month, each of the DoD Components shall report new and updated information to the activity designated by their Component to act as th \\\\t(2) In addition to specific offense codes, each incident shall be assigned a unique number to facilitate tracking incidents and cases across functional lines. The law enforcement agency or command originally reporting the incident shall use its identification number (FBI Location Number and Incident Number) from initiation of DIBRS reporting through final resolution.  b. Each month, each of the DoD Components shall report new and updated information to the activity designated by their Component to act as th \\\\t(2) In addition to specific offense codes, each incident shall be assigned a unique number to facilitate tracking incidents and cases across functional lines. The law enforcement agency or command originally reporting the incident shall use its identification number (FBI Location Number and Incident Number) from initiation of DIBRS reporting through final resolution.  b. Each month, each of the DoD Components shall report new and updated information to the activity designated by their Component to act as th     \\\\tL \\\\tL \\\\tL \\\\tLI \\\\tP     \\\\t  \\\\tDepartment of Defense, the FBI, or the local authority that has accepted investigative jurisdiction of the case. The responsible DoD Component shall determine whether the case is reportable to NIBRS based on guidance provided in this Volume. The functional responsible official shall implement procedures to consolidate and forward monthly DoD Component-wide data to DMDC.  \\\\t (2) Criminal Investigations. Two areas involved in the DIBRS that fall within the criminal investigations area of responsibility are NIBRS and the reporting requirements of Reference (n). If the investigation is initiated by or referred to a criminal investigative organization and that organization assumes the lead investigative role, it also assumes DIBRS reporting responsibility. The investigative organization must coordinate with referring agencies to ensure the NIBRS reporting responsibility is clearly \\\\tL \\\\tL \\\\tL \\\\tLI \\\\tP     \\\\t  \\\\t  \\\\t  \\\\t(e) When DoD Military Treatment Facilities disclose protected health information (PHI) in support of the DIBRS, such disclosures shall comply with the requirements of DoD Manual 6025.18 (Reference (r)). When PHI is received by non-DoD Military Treatment Facilities it is then considered to be PII and thereafter subject to the requirements of References (m) and (n).  (4) Judicial Functions. The two areas involved in the DIBRS that fall in the judge advocate area of responsibility are the reporting requirement \\\\t(e) When DoD Military Treatment Facilities disclose protected health information (PHI) in support of the DIBRS, such disclosures shall comply with the requirements of DoD Manual 6025.18 (Reference (r)). When PHI is received by non-DoD Military Treatment Facilities it is then considered to be PII and thereafter subject to the requirements of References (m) and (n).  (4) Judicial Functions. The two areas involved in the DIBRS that fall in the judge advocate area of responsibility are the reporting requirement \\\\t(e) When DoD Military Treatment Facilities disclose protected health information (PHI) in support of the DIBRS, such disclosures shall comply with the requirements of DoD Manual 6025.18 (Reference (r)). When PHI is received by non-DoD Military Treatment Facilities it is then considered to be PII and thereafter subject to the requirements of References (m) and (n).  (4) Judicial Functions. The two areas involved in the DIBRS that fall in the judge advocate area of responsibility are the reporting requirement \\\\t(e) When DoD Military Treatment Facilities disclose protected health information (PHI) in support of the DIBRS, such disclosures shall comply with the requirements of DoD Manual 6025.18 (Reference (r)). When PHI is received by non-DoD Military Treatment Facilities it is then considered to be PII and thereafter subject to the requirements of References (m) and (n).  (4) Judicial Functions. The two areas involved in the DIBRS that fall in the judge advocate area of responsibility are the reporting requirement \\\\t(e) When DoD Military Treatment Facilities disclose protected health information (PHI) in support of the DIBRS, such disclosures shall comply with the requirements of DoD Manual 6025.18 (Reference (r)). When PHI is received by non-DoD Military Treatment Facilities it is then considered to be PII and thereafter subject to the requirements of References (m) and (n).  (4) Judicial Functions. The two areas involved in the DIBRS that fall in the judge advocate area of responsibility are the reporting requirement \\\\t(e) When DoD Military Treatment Facilities disclose protected health information (PHI) in support of the DIBRS, such disclosures shall comply with the requirements of DoD Manual 6025.18 (Reference (r)). When PHI is received by non-DoD Military Treatment Facilities it is then considered to be PII and thereafter subject to the requirements of References (m) and (n).  (4) Judicial Functions. The two areas involved in the DIBRS that fall in the judge advocate area of responsibility are the reporting requirement      \\\\t  \\\\tENCLOSURE 4  SEGMENT FORMATS   1. DISIPLINARY INCIDENTS  a. General  (1) The DIBRS is primarily a reporting system covering military personnel on active duty. Civilians may fall within the reporting requirements of law enforcement pursuant to NIBRS. Determination that an incident is NIBRS reportable simply identifies those incidents and the related data elements that must be forwarded by DMDC to the FBI to fulfill NIBRS requirements. Except for cases involving civilians, these cases shall also require the s \\\\tP \\\\tP \\\\t  \\\\t(2) Required NIBRS segments and subsequent updates should be submitted for EACH incident (as defined in the Glossary), even if in each incident the offender is the same and all incidents would normally be disposed of as one case.  (3) If an arrest involving a Group A offense occurs for which no initial incident report was previously submitted (e.g., an on-view arrest), a complete incident report must be created and submitted that provides not only the Arrestee Segment, but also the Administrative, Offense,  \\\\t(2) Required NIBRS segments and subsequent updates should be submitted for EACH incident (as defined in the Glossary), even if in each incident the offender is the same and all incidents would normally be disposed of as one case.  (3) If an arrest involving a Group A offense occurs for which no initial incident report was previously submitted (e.g., an on-view arrest), a complete incident report must be created and submitted that provides not only the Arrestee Segment, but also the Administrative, Offense,  \\\\t(2) Required NIBRS segments and subsequent updates should be submitted for EACH incident (as defined in the Glossary), even if in each incident the offender is the same and all incidents would normally be disposed of as one case.  (3) If an arrest involving a Group A offense occurs for which no initial incident report was previously submitted (e.g., an on-view arrest), a complete incident report must be created and submitted that provides not only the Arrestee Segment, but also the Administrative, Offense,  \\\\t(2) Required NIBRS segments and subsequent updates should be submitted for EACH incident (as defined in the Glossary), even if in each incident the offender is the same and all incidents would normally be disposed of as one case.  (3) If an arrest involving a Group A offense occurs for which no initial incident report was previously submitted (e.g., an on-view arrest), a complete incident report must be created and submitted that provides not only the Arrestee Segment, but also the Administrative, Offense,  \\\\t(2) Required NIBRS segments and subsequent updates should be submitted for EACH incident (as defined in the Glossary), even if in each incident the offender is the same and all incidents would normally be disposed of as one case.  (3) If an arrest involving a Group A offense occurs for which no initial incident report was previously submitted (e.g., an on-view arrest), a complete incident report must be created and submitted that provides not only the Arrestee Segment, but also the Administrative, Offense,      \\\\t  \\\\t(d) When two or more Federal, State, or local agencies are involved in the investigation of the same offense and there is a written or oral agreement defining the roles of the investigating agencies, the agreement should designate which agency shall report the offense.  (e) When two or more Federal agencies are involved in the investigation of the same offense and there is no written or oral agreement defining their roles, the Federal agency having lead or primary investigative jurisdiction shall report \\\\t(d) When two or more Federal, State, or local agencies are involved in the investigation of the same offense and there is a written or oral agreement defining the roles of the investigating agencies, the agreement should designate which agency shall report the offense.  (e) When two or more Federal agencies are involved in the investigation of the same offense and there is no written or oral agreement defining their roles, the Federal agency having lead or primary investigative jurisdiction shall report \\\\t(d) When two or more Federal, State, or local agencies are involved in the investigation of the same offense and there is a written or oral agreement defining the roles of the investigating agencies, the agreement should designate which agency shall report the offense.  (e) When two or more Federal agencies are involved in the investigation of the same offense and there is no written or oral agreement defining their roles, the Federal agency having lead or primary investigative jurisdiction shall report \\\\t(d) When two or more Federal, State, or local agencies are involved in the investigation of the same offense and there is a written or oral agreement defining the roles of the investigating agencies, the agreement should designate which agency shall report the offense.  (e) When two or more Federal agencies are involved in the investigation of the same offense and there is no written or oral agreement defining their roles, the Federal agency having lead or primary investigative jurisdiction shall report \\\\t(d) When two or more Federal, State, or local agencies are involved in the investigation of the same offense and there is a written or oral agreement defining the roles of the investigating agencies, the agreement should designate which agency shall report the offense.  (e) When two or more Federal agencies are involved in the investigation of the same offense and there is no written or oral agreement defining their roles, the Federal agency having lead or primary investigative jurisdiction shall report \\\\t(d) When two or more Federal, State, or local agencies are involved in the investigation of the same offense and there is a written or oral agreement defining the roles of the investigating agencies, the agreement should designate which agency shall report the offense.  (e) When two or more Federal agencies are involved in the investigation of the same offense and there is no written or oral agreement defining their roles, the Federal agency having lead or primary investigative jurisdiction shall report      \\\\t  \\\\tOffender/Arrestee, Commanders Action, and Results of Trial Segments). DMDC shall match Family Advocacy Program data, as defined in Reference (j), with DIBRS data submitted according to this Volume to satisfy reportable information requirements.  \\\\t c. Pursuant to References (m) and (n), all appropriate administrative, physical, and technical safeguards will be used to prevent system access by unauthorized individuals.   3. OTHER REPORTABLE INCIDENTS  a. Not a crime offenses, incidences of non-criminal fatalities such as suicide of active duty military members, and offenses pursuant to section 13 of Reference (e) (also known as The Assimilative Crimes Act of 1948, as amended) require submission of the Administrative, Offense Segment, Offender/Arre \\\\t  \\\\t(8) Incident/Report Occurred End Date/Hour.  (9) Incident Clearance Reason.  (10) Exceptional Clearance Date.  (11) Number of Victims Notified (DD Form 2701, Initial Information for Victims and Witnesses of Crime, available at http://www.dtic.mil/whs/directives/infomgt/forms/ddforms2500-2999.htm).  (12) Number of Witnesses Notified (DD Form 2701).  c. This segment is prepared by the lead agency and may be updated at any time within the incident life cycle.  d. For purposes of making entries in Field 11 of \\\\t(8) Incident/Report Occurred End Date/Hour.  (9) Incident Clearance Reason.  (10) Exceptional Clearance Date.  (11) Number of Victims Notified (DD Form 2701, Initial Information for Victims and Witnesses of Crime, available at http://www.dtic.mil/whs/directives/infomgt/forms/ddforms2500-2999.htm).  (12) Number of Witnesses Notified (DD Form 2701).  c. This segment is prepared by the lead agency and may be updated at any time within the incident life cycle.  d. For purposes of making entries in Field 11 of \\\\t(8) Incident/Report Occurred End Date/Hour.  (9) Incident Clearance Reason.  (10) Exceptional Clearance Date.  (11) Number of Victims Notified (DD Form 2701, Initial Information for Victims and Witnesses of Crime, available at http://www.dtic.mil/whs/directives/infomgt/forms/ddforms2500-2999.htm).  (12) Number of Witnesses Notified (DD Form 2701).  c. This segment is prepared by the lead agency and may be updated at any time within the incident life cycle.  d. For purposes of making entries in Field 11 of \\\\t(8) Incident/Report Occurred End Date/Hour.  (9) Incident Clearance Reason.  (10) Exceptional Clearance Date.  (11) Number of Victims Notified (DD Form 2701, Initial Information for Victims and Witnesses of Crime, available at http://www.dtic.mil/whs/directives/infomgt/forms/ddforms2500-2999.htm).  (12) Number of Witnesses Notified (DD Form 2701).  c. This segment is prepared by the lead agency and may be updated at any time within the incident life cycle.  d. For purposes of making entries in Field 11 of \\\\t(8) Incident/Report Occurred End Date/Hour.  (9) Incident Clearance Reason.  (10) Exceptional Clearance Date.  (11) Number of Victims Notified (DD Form 2701, Initial Information for Victims and Witnesses of Crime, available at http://www.dtic.mil/whs/directives/infomgt/forms/ddforms2500-2999.htm).  (12) Number of Witnesses Notified (DD Form 2701).  c. This segment is prepared by the lead agency and may be updated at any time within the incident life cycle.  d. For purposes of making entries in Field 11 of     \\\\tL \\\\tL \\\\tL \\\\tLI \\\\tLBody \\\\tLink      \\\\tTable 1.  Administrative Segment  \\\\tTable \\\\tFIELD NUMBER FIELD NAME DOMAIN RECORD POSITION SIZE STANDARD NAME 1 FBI Location Number TEXT 1 9 Derived: Organization- Designator Source Assigned Identifier 2 Incident Number TEXT 10 12 Derived: Organization- Designator Source Assigned Identifier; Situation Identifier 3 Segment Type M 22 1 No Standard 4 Report Type A=ADD M=MODIFY D=DELETE 23 1 No Standard 5 Reportable to NIBRS Y=Yes N=No 24 1 No Standard 6 Incident/Report Occurred Date Category I=Incident R=Report 25 1  7 Incident/Report Occurred Begin Dat \\\\tFIELD NUMBER FIELD NAME DOMAIN RECORD POSITION SIZE STANDARD NAME 1 FBI Location Number TEXT 1 9 Derived: Organization- Designator Source Assigned Identifier 2 Incident Number TEXT 10 12 Derived: Organization- Designator Source Assigned Identifier; Situation Identifier 3 Segment Type M 22 1 No Standard 4 Report Type A=ADD M=MODIFY D=DELETE 23 1 No Standard 5 Reportable to NIBRS Y=Yes N=No 24 1 No Standard 6 Incident/Report Occurred Date Category I=Incident R=Report 25 1  7 Incident/Report Occurred Begin Dat   \\\\t  \\\\t5. OFFENSE SEGMENT  a. The Offense Segment is used to identify and describe the types of offenses involved in the incident (e.g., arson, prostitution).  (1) An offense segment is submitted for each of the (up to) 10 most serious (as determined by the reporting agency) offenses in the incident. Only one offense segment is to be submitted for each reported offense identifier even though there may have been more than one victim of the crime. At least one offense segment must be submitted for each incident repo \\\\t5. OFFENSE SEGMENT  a. The Offense Segment is used to identify and describe the types of offenses involved in the incident (e.g., arson, prostitution).  (1) An offense segment is submitted for each of the (up to) 10 most serious (as determined by the reporting agency) offenses in the incident. Only one offense segment is to be submitted for each reported offense identifier even though there may have been more than one victim of the crime. At least one offense segment must be submitted for each incident repo \\\\t5. OFFENSE SEGMENT  a. The Offense Segment is used to identify and describe the types of offenses involved in the incident (e.g., arson, prostitution).  (1) An offense segment is submitted for each of the (up to) 10 most serious (as determined by the reporting agency) offenses in the incident. Only one offense segment is to be submitted for each reported offense identifier even though there may have been more than one victim of the crime. At least one offense segment must be submitted for each incident repo   \\\\t  \\\\t(11) Method of Entry.  (12) Type of Criminal Activity.  (13) Type Weapon/Force Used.  (14) Gun Category.  (15) Bias Motivation.  c. This segment is prepared by the lead agency. This agency shall retain the update responsibility for quality control.  Table 2.  Offense Segment  \\\\t(11) Method of Entry.  (12) Type of Criminal Activity.  (13) Type Weapon/Force Used.  (14) Gun Category.  (15) Bias Motivation.  c. This segment is prepared by the lead agency. This agency shall retain the update responsibility for quality control.  Table 2.  Offense Segment  \\\\t(11) Method of Entry.  (12) Type of Criminal Activity.  (13) Type Weapon/Force Used.  (14) Gun Category.  (15) Bias Motivation.  c. This segment is prepared by the lead agency. This agency shall retain the update responsibility for quality control.  Table 2.  Offense Segment  \\\\t(11) Method of Entry.  (12) Type of Criminal Activity.  (13) Type Weapon/Force Used.  (14) Gun Category.  (15) Bias Motivation.  c. This segment is prepared by the lead agency. This agency shall retain the update responsibility for quality control.  Table 2.  Offense Segment  \\\\t(11) Method of Entry.  (12) Type of Criminal Activity.  (13) Type Weapon/Force Used.  (14) Gun Category.  (15) Bias Motivation.  c. This segment is prepared by the lead agency. This agency shall retain the update responsibility for quality control.  Table 2.  Offense Segment      \\\\tP \\\\t  \\\\tTable \\\\tFIELD NUMBER FIELD NAME DOMAIN RECORD POSITION SIZE STANDARD NAME 1 FBI Location Number  1 9 Derived: Organization- Designator Source Assigned Identifier 2 Incident Number  10 12 Derived: Organization- Designator Source Assigned Identifier; Situation Identifier 3 Segment Type F 22 1 No Standard 4 Report Type A=ADD M=MODIFY D=DELETE 23 1 No Standard 15 Offense Statutory Basis A =UCMJ B=Non-Criminal Fatality (High Interest) C=State D=Local E=Foreign F=Federal, Non-UCMJ 24 1 Derived: Offense  Statutory Basis C \\\\tFIELD NUMBER FIELD NAME DOMAIN RECORD POSITION SIZE STANDARD NAME 1 FBI Location Number  1 9 Derived: Organization- Designator Source Assigned Identifier 2 Incident Number  10 12 Derived: Organization- Designator Source Assigned Identifier; Situation Identifier 3 Segment Type F 22 1 No Standard 4 Report Type A=ADD M=MODIFY D=DELETE 23 1 No Standard 15 Offense Statutory Basis A =UCMJ B=Non-Criminal Fatality (High Interest) C=State D=Local E=Foreign F=Federal, Non-UCMJ 24 1 Derived: Offense  Statutory Basis C   \\\\tTable 2.  Offense Segment, Continued  \\\\tTable \\\\tFIELD NUMBER FIELD NAME DOMAIN RECORD POSITION SIZE STANDARD NAME 22 Location of Offense 01=Air/Bus/Train Terminal 02=Bank/Savings and Loan (includes other financial institutions, credit union) 03=Bar/Night Club/ Officer Club/NCO Club 04=Church/Synagogue/ Temple (includes other religious buildings) 05=Commercial/Office Building 06=Construction Site 07=Convenience Store, Shoppette 08=Department/Discount Store, Exchange 09=Drug Store/Doctors Office/Hospital, Clinic (includes medical supply companies and buil \\\\tFIELD NUMBER FIELD NAME DOMAIN RECORD POSITION SIZE STANDARD NAME 22 Location of Offense 01=Air/Bus/Train Terminal 02=Bank/Savings and Loan (includes other financial institutions, credit union) 03=Bar/Night Club/ Officer Club/NCO Club 04=Church/Synagogue/ Temple (includes other religious buildings) 05=Commercial/Office Building 06=Construction Site 07=Convenience Store, Shoppette 08=Department/Discount Store, Exchange 09=Drug Store/Doctors Office/Hospital, Clinic (includes medical supply companies and buil   \\\\tTable 2.  Offense Segment, Continued  \\\\tFIELD NUMBER FIELD NAME DOMAIN RECORD POSITION SIZE STANDARD NAME 22, Continued Location of Offense 21=Restaurant, Dining Facility (includes cafeteria) 22=School/College (includes university) 23=Service/Gas Station 24=Concessionaire/Specialty Store 25=Other/Unknown 26=Recreation Area/Park 27=Training Center/Service School 28=On-Board Ship 37=Abandoned/Condemned Structure 38=Amusement Park 39=Arena/Stadium/ Fairgrounds/Coliseum 40=ATM Machine Separate from Bank (if located at a banking facility, use 02=Bank/ \\\\tTable 2.  Offense Segment, Continued  \\\\tTable \\\\tFIELD NUMBER FIELD NAME DOMAIN RECORD POSITION SIZE STANDARD NAME 24 U.S. State or Possessions See Table 12 in Volume 2 38 2 State Code 192 Offense Location Country Code See Federal Information Processing Standard 10-4 (Reference (u)) 40 2 Country Code 25 Number of Premises Entered 99 42 2 No Standard 26 Method of Entry F=Forced N=Not forced 44 1 Offense Name TYPE OF CRIMINAL ACTIVITY, TYPE OF WEAPON OR FORCE USED, AND GUN CATEGORY OCCUR THREE TIMES 27 Type of Criminal Activity 1 of 3 B=Buying/Receivi \\\\tFIELD NUMBER FIELD NAME DOMAIN RECORD POSITION SIZE STANDARD NAME 24 U.S. State or Possessions See Table 12 in Volume 2 38 2 State Code 192 Offense Location Country Code See Federal Information Processing Standard 10-4 (Reference (u)) 40 2 Country Code 25 Number of Premises Entered 99 42 2 No Standard 26 Method of Entry F=Forced N=Not forced 44 1 Offense Name TYPE OF CRIMINAL ACTIVITY, TYPE OF WEAPON OR FORCE USED, AND GUN CATEGORY OCCUR THREE TIMES 27 Type of Criminal Activity 1 of 3 B=Buying/Receivi   \\\\tTable 2.  Offense Segment, Continued  \\\\tFIELD NUMBER FIELD NAME DOMAIN RECORD POSITION SIZE STANDARD NAME 30, Continued Bias Motivation AT=Anti-Pacific Islander AR=Anti-Multi-Racial Group AO=Anti-Jewish AI=Anti-Catholic AN=Anti-Islamic (Moslem) AU=Anti-Protestant AS=Anti-Multi-Religious Group AW=Anti-Homosexual AA= Anti-Agnostic AQ=Anti-Male Homosexual AK=Anti-Female Homosexual AL=Anti-Heterosexual AG=Anti-Bisexual AX=Unknown Bias AY=Anti-Other Religions AZ=Anti-Other Ethnicity BA=Anti-Mental Disability BB=Anti-Physical Disability NB=None (no bia \\\\t(28) Bribery. d. The data elements used in the Property Segment are: (1) Header Elements. (2) Property Loss By. (3) Property Description. (4) Date Recovered. (5) Date Returned. (6) Quantity. (7) Value of Property. (8) Ownership. (9) Secured/Unsecured. (10) Drug Code. (11) Estimated Drug Quantity. (12) Type Drug Measure. e. Up to 10 types of property (e.g., Aircraft, Alcohol, Automobiles) can be reported to the IBRS for each type of property loss. If there was no property loss, no record need be ubmitted. f. \\\\tTable 3.  Property Segment  \\\\tFIELD NUMBER FIELD NAME DOMAIN RECORD POSITION SIZE STANDARD NAME 1 FBI Location Number  1 9 Derived: Organization- Designator Source Assigned Identifier 2 Incident Number  10 12 Derived: Organization- Designator Source Assigned Identifier; Situation Identifier 3 Segment Type P 22 1 No Standard 4 Report Type A=ADD M=MODIFY D=DELETE 23 1 No Standard 31 Property Loss By 1=No Property Loss 2=Burned 3=Counterfeited/Forged 4=Damaged/Destroyed/ Vandalized 5=Recovered 6=Seized 7=Stolen 8=Unknown 24 1 Derived: Situ \\\\tTable 3.  Property Segment, Continued  \\\\tFIELD NUMBER FIELD NAME DOMAIN RECORD POSITION SIZE STANDARD NAME 35 Quantity 1 of 10 999999999 43, 81, 119, 157, 195, 233, 271, 309, 347, 385 9 No Standard 36 Value of Property 1 of 10 999999999 52, 90, 128, 166, 204, 242, 280, 318, 356, 394 9 No Standard 37 Ownership 1 of 10 A=U.S. Federal Government B=U.S. State Government C=U.S. City Government D=U.S. County Government E=Foreign Government F=Private Sector 61, 99, 137, 175, 213, 251, 289, 327, 365, 403 1 Derived: Organization Category Code; Local-Govern \\\\t(5) Pay plan.  (6) Grade.  (7) Service.  (8) Component.  (9) Age (of Victim).  (10) Sex.  (11) Federal Civil Servant.  (12) Military Service Retiree.  (13) Federal Contractor.  (14) Military Service Family Member.  (15) Race (of Victim).  (16) Ethnicity (of Victim).  (17) Aggravated Assault/Homicide Circumstances.  (18) Additional Justifiable Homicide Circumstances.  (19) Injury Type.  (20) Offender Identifier(s) Related to this Victim.  (21) Relationship(s) of Victim to Offender(s).  c. This segment is pre \\\\tTable 4.  Victim Segment  \\\\tFIELD NUMBER FIELD NAME DOMAIN RECORD POSITION SIZE STANDARD NAME 1 FBI Location Number  1 9 Derived: Organization- Designator Source Assigned Identifier 2 Incident Number  10 12 Derived: Organization- Designator Source Assigned Identifier; Situation Identifier 3 Segment Type V 22 1 No Standard 4 Report Type A=ADD M=MODIFY D=DELETE 23 1 No Standard 42 Victim Identifier 999 24 3 Person-Designator Identifier VICTIM CONNECTED TO OFFENSE STATUTORY BASIS, OFFENSE IDENTIFIER, OFFENSE RESULT, AND INVOLVEMEN \\\\tTable 4.  Victim Segment, Continued  \\\\tTable \\\\tFIELD NUMBER FIELD NAME DOMAIN RECORD POSITION SIZE STANDARD NAME 43, 18 Victim Connected to Involvement 1 of 10 P=Principal A=Accessory C=Conspiracy S=Solicit 35, 44, 53, 62, 71, 80, 89, 98, 107, 116 1 Derived: Person-Situation Role Category Code; Offense Type Code 44 Victim Type I=Individual B=Business F=Financial G=Government R=Religious Organization S=Society/Public 117 1 Offense Victim Type Code 45   118 9 Blank Field 46 Pay Plan EM=Enlisted WM=Warrant Officer OM=Commissioned Officer CM=Cadet/Midshipma \\\\tFIELD NUMBER FIELD NAME DOMAIN RECORD POSITION SIZE STANDARD NAME 43, 18 Victim Connected to Involvement 1 of 10 P=Principal A=Accessory C=Conspiracy S=Solicit 35, 44, 53, 62, 71, 80, 89, 98, 107, 116 1 Derived: Person-Situation Role Category Code; Offense Type Code 44 Victim Type I=Individual B=Business F=Financial G=Government R=Religious Organization S=Society/Public 117 1 Offense Victim Type Code 45   118 9 Blank Field 46 Pay Plan EM=Enlisted WM=Warrant Officer OM=Commissioned Officer CM=Cadet/Midshipma   \\\\tTable 4.  Victim Segment, Continued  \\\\tFIELD NUMBER FIELD NAME DOMAIN RECORD POSITION SIZE STANDARD NAME 46, Continued Pay Plan YL=Investigative and Protective Service  Fire Protection YM=Investigative and Protective Service  Police/Security Guard YN=Invest and Protective Service  Supervisor/ Manager 127 2 Pay-Plan Code 47 Grade 01=Grade 1 through 15=Grade 15 129 2 Pay-Plan-Grade Ordinal Identifier 48 Service A=Army N=Navy F=Air Force M=Marine Corps C=Coast Guard O=NOAA H=Public Health D=DoD 131 1 Uniformed-Service Organization Code 49 Compon \\\\tTable 4.  Victim Segment, Continued  \\\\tFIELD NUMBER FIELD NAME DOMAIN RECORD POSITION SIZE STANDARD NAME57 Ethnicity (Victim) H=Hispanic N=Not Hispanic U=Unknown 143 1 Ethnicity Code AGGRAVATED ASSAULT/HOMICIDE CIRCUMSTANCES OCCURS TWO TIMES 58 Aggravated Assault/ Homicide Circumstances 1 of 2 01=Argument 02=Assault on Law Enforcement Officer 03=Drug Dealing 04=Gangland 05=Juvenile Gang 06=Domestic Quarrel 07=Mercy Killing 08=Other Felony Involved 09=Other 10=Unknown 20=Criminal Killed by Private Citizen 21=Criminal Killed by Police Officer 30 \\\\tTable 4.  Victim Segment, Continued  \\\\tFIELD NUMBER FIELD NAME DOMAIN RECORD POSITION SIZE STANDARD NAME     Situation Role Code OFFENDER IDENTIFIER AND RELATIONSHIP OF VICTIM TO OFFENDER OCCUR 10 TIMES 61 Offender Identifiers Related to this Victim 1 of 10 99 155, 159, 163, 167, 171, 175, 179, 183, 187, 191 2 Person-Designator Identifier 62 Relationship of Victim to Offender 1 of 10 AA=Spouse AB=Child AC=Sibling AD=Parent AE=Parent-in-Law AF=Stepchild AG=Grandparent AH=Stepparent AK=Grandchild AV=Stepsibling AZ=Friend BA=Neighbor BB=Common- \\\\t8. OFFENDER/ARRESTEE SEGMENT  \\\\t8. OFFENDER/ARRESTEE SEGMENT  \\\\t8. OFFENDER/ARRESTEE SEGMENT    \\\\ta. The Offender/Arrestee Segment is used to describe the offenders in the incident (e.g., their age, sex, race). An Offender/Arrestee Segment is to be submitted for each of the (up to 99) offenders involved in the incident.  There must be at least one offender in each incident report. For non-criminal fatalities, supply information on the victim. There are several categories in the Offender/Arrestee Segment.  The Offender, Subject, and Suspect categories require a subset of  \\\\ta. The Offender/Arrestee Segment is used to describe the offenders in the incident (e.g., their age, sex, race). An Offender/Arrestee Segment is to be submitted for each of the (up to 99) offenders involved in the incident.  There must be at least one offender in each incident report. For non-criminal fatalities, supply information on the victim. There are several categories in the Offender/Arrestee Segment.  The Offender, Subject, and Suspect categories require a subset of  \\\\ta. The Offender/Arrestee Segment is used to describe the offenders in the incident (e.g., their age, sex, race). An Offender/Arrestee Segment is to be submitted for each of the (up to 99) offenders involved in the incident.  There must be at least one offender in each incident report. For non-criminal fatalities, supply information on the victim. There are several categories in the Offender/Arrestee Segment.  The Offender, Subject, and Suspect categories require a subset of  \\\\ta. The Offender/Arrestee Segment is used to describe the offenders in the incident (e.g., their age, sex, race). An Offender/Arrestee Segment is to be submitted for each of the (up to 99) offenders involved in the incident.  There must be at least one offender in each incident report. For non-criminal fatalities, supply information on the victim. There are several categories in the Offender/Arrestee Segment.  The Offender, Subject, and Suspect categories require a subset of     \\\\t  \\\\tthe segment. The Arrestee category uses all the data elements. If NOTHING is known about the offender(s) (i.e., no one saw the offender(s) and there were no suspects, so even the number of offenders is unknown), then 00 is to be entered into Offender Identifier and all other elements are to be left blank. PII shall be submitted only upon a probable-cause determination that there are reasonable grounds to believe an offense has been committed and that the person to be identified as the offender committed i \\\\t  \\\\t(1) Category  Offender/Subject/Suspect. This category uses only some of the data elements in the Offender/Arrestee Segment.  They are:  (a) Header Elements.  (b) Category (Suspect, Subject, Offender).  (c) Offender/Arrestee (Sequence) Identifier. (This number remains with the offender if he or she is arrested and continues THROUGHOUT administrative, non-judicial, or judicial punishment reporting.)  (d) Name (Last, First, Middle Name, Alias (First, Last)).  (e) Grade.  (f) Service.  (g) Component.  (h) Soci \\\\t(1) Category  Offender/Subject/Suspect. This category uses only some of the data elements in the Offender/Arrestee Segment.  They are:  (a) Header Elements.  (b) Category (Suspect, Subject, Offender).  (c) Offender/Arrestee (Sequence) Identifier. (This number remains with the offender if he or she is arrested and continues THROUGHOUT administrative, non-judicial, or judicial punishment reporting.)  (d) Name (Last, First, Middle Name, Alias (First, Last)).  (e) Grade.  (f) Service.  (g) Component.  (h) Soci \\\\t(1) Category  Offender/Subject/Suspect. This category uses only some of the data elements in the Offender/Arrestee Segment.  They are:  (a) Header Elements.  (b) Category (Suspect, Subject, Offender).  (c) Offender/Arrestee (Sequence) Identifier. (This number remains with the offender if he or she is arrested and continues THROUGHOUT administrative, non-judicial, or judicial punishment reporting.)  (d) Name (Last, First, Middle Name, Alias (First, Last)).  (e) Grade.  (f) Service.  (g) Component.  (h) Soci \\\\t(1) Category  Offender/Subject/Suspect. This category uses only some of the data elements in the Offender/Arrestee Segment.  They are:  (a) Header Elements.  (b) Category (Suspect, Subject, Offender).  (c) Offender/Arrestee (Sequence) Identifier. (This number remains with the offender if he or she is arrested and continues THROUGHOUT administrative, non-judicial, or judicial punishment reporting.)  (d) Name (Last, First, Middle Name, Alias (First, Last)).  (e) Grade.  (f) Service.  (g) Component.  (h) Soci \\\\t(1) Category  Offender/Subject/Suspect. This category uses only some of the data elements in the Offender/Arrestee Segment.  They are:  (a) Header Elements.  (b) Category (Suspect, Subject, Offender).  (c) Offender/Arrestee (Sequence) Identifier. (This number remains with the offender if he or she is arrested and continues THROUGHOUT administrative, non-judicial, or judicial punishment reporting.)  (d) Name (Last, First, Middle Name, Alias (First, Last)).  (e) Grade.  (f) Service.  (g) Component.  (h) Soci     \\\\t  \\\\t  (p) Ethnicity (of Offender/Arrestee).  (q) Sex (of Offender/Arrestee).  (r) Identifying Marks (Type, Location, Description).  (s) Height.  (t) Weight.  (2) Category  Arrestee Segment. This category is used to report the apprehension of the persons who committed the crimes reported. Even though Military Service personnel would not use the term arrestee to refer to someone apprehended, the name of this segment was left Arrestee in keeping with NIBRS terminology.  An Arrestee Segment is to be submitted  \\\\t  \\\\t  (k) Multiple Incidents Cleared.  (l) Arrest Offense Code Information (Offense Statutory Basis + Offense Result + Offense Identifier + Involvement).  (m) Detention Type.  (n) Disposition of Person Under 18.  b. If a Group B arrest results in the clearance of a previously submitted Group A incident report, the reporting agency should submit an Arrestee Segment as an update to the previously submitted Group A Incident Report rather than a Group B Arrest Report. The Group B Offense Identifier is to be entered \\\\tP \\\\t  \\\\tTable \\\\tFIELD NUMBER FIELD NAME DOMAIN RECORD POSITION SIZE STANDARD NAME 1 FBI Location Number  1 9 Derived: Organization- Designator Source Assigned Identifier 2 Incident Number  10 12 Derived: Organization- Designator Source Assigned Identifier; Situation Identifier 63 Category AC=Suspect/Offender AA=Arrestee AJ=Subject/Suicide AB=Business or Enterprise AE=Arrest Equivalent 22 2 Person-Situation Role Code 64 Offender Identifier 99 24 2 Person-Designator Identifier 4 Report Type A=ADD M=MODIFY D=DELETE 26 1 No St \\\\tFIELD NUMBER FIELD NAME DOMAIN RECORD POSITION SIZE STANDARD NAME 1 FBI Location Number  1 9 Derived: Organization- Designator Source Assigned Identifier 2 Incident Number  10 12 Derived: Organization- Designator Source Assigned Identifier; Situation Identifier 63 Category AC=Suspect/Offender AA=Arrestee AJ=Subject/Suicide AB=Business or Enterprise AE=Arrest Equivalent 22 2 Person-Situation Role Code 64 Offender Identifier 99 24 2 Person-Designator Identifier 4 Report Type A=ADD M=MODIFY D=DELETE 26 1 No St   \\\\tTable 5.  Offender/Arrestee Segment, Continued  \\\\tTable \\\\tFIELD NUMBER FIELD NAME DOMAIN RECORD POSITION SIZE STANDARD NAME 67 Name Middle Name 62 14 Name (Person-Name Category=m) 68 Name Cadency (Jr., Sr., III) 76 4 Name (Person-Name Category=c) 69 Name Alias (Last) 80 21 Name (Person-Name Usage Code=a) 69 Name Alias (First) 101 14 Name (Person-Name Usage Code=a) 46 Pay Plan EM=Enlisted WM=Warrant Officer OM=Commissioned Officer CM=Cadet/Midshipman GS/GM=General Schedule ES=Senior Executive Service WG=Wage Grade/Other YA=Standard Professional/ Analytical YB=Stand \\\\tFIELD NUMBER FIELD NAME DOMAIN RECORD POSITION SIZE STANDARD NAME 67 Name Middle Name 62 14 Name (Person-Name Category=m) 68 Name Cadency (Jr., Sr., III) 76 4 Name (Person-Name Category=c) 69 Name Alias (Last) 80 21 Name (Person-Name Usage Code=a) 69 Name Alias (First) 101 14 Name (Person-Name Usage Code=a) 46 Pay Plan EM=Enlisted WM=Warrant Officer OM=Commissioned Officer CM=Cadet/Midshipman GS/GM=General Schedule ES=Senior Executive Service WG=Wage Grade/Other YA=Standard Professional/ Analytical YB=Stand   \\\\tTable 5.  Offender/Arrestee Segment, Continued  \\\\tTable \\\\tFIELD NUMBER FIELD NAME DOMAIN RECORD POSITION SIZE STANDARD NAME 48 Service A=Army N=Navy F=Air Force M=Marine Corps C=Coast Guard O=NOAA H=Public Health D=DoD 119 1 Uniformed-Service Organization Code 49 Component R=Regular V=Reserve G=National Guard 120 1 Uniformed-Service- Organization- Component-Type Code 70 SSN/Alien Registration Designator S=SSN R=Alien Registration I=Foreign Country Identification Card Number N=Non-Existent/Unknown  1 Person-Designator Type Code 71 SSN/Alien Registration 999999999 1 \\\\tFIELD NUMBER FIELD NAME DOMAIN RECORD POSITION SIZE STANDARD NAME 48 Service A=Army N=Navy F=Air Force M=Marine Corps C=Coast Guard O=NOAA H=Public Health D=DoD 119 1 Uniformed-Service Organization Code 49 Component R=Regular V=Reserve G=National Guard 120 1 Uniformed-Service- Organization- Component-Type Code 70 SSN/Alien Registration Designator S=SSN R=Alien Registration I=Foreign Country Identification Card Number N=Non-Existent/Unknown  1 Person-Designator Type Code 71 SSN/Alien Registration 999999999 1   \\\\tTable 5.  Offender/Arrestee Segment, Continued  \\\\tTable \\\\tFIELD NUMBER FIELD NAME DOMAIN RECORD POSITION SIZE STANDARD NAME 56 Race (Offender) A=American Indian B=Asian/Pacific Islander C=Black D=White M=Mixed U=Unknown 206 1 Race Code 57 Ethnicity (Offender) H=Hispanic N=Not Hispanic U=Unknown 207 1 Ethnicity Code 51 Sex M=Male F=Female I=Indeterminate U=Unknown 208 1 Sex-Category Code 80 Identifying Mark Type A=Tattoo B=Scar C=Mark 209 1 Body-Part-Marking- Observation Type Code 81 Identifying Mark Location AAA=Left Eye AAB=Right Eye AAC=Face AAD=Scalp AAE=Teeth  \\\\tFIELD NUMBER FIELD NAME DOMAIN RECORD POSITION SIZE STANDARD NAME 56 Race (Offender) A=American Indian B=Asian/Pacific Islander C=Black D=White M=Mixed U=Unknown 206 1 Race Code 57 Ethnicity (Offender) H=Hispanic N=Not Hispanic U=Unknown 207 1 Ethnicity Code 51 Sex M=Male F=Female I=Indeterminate U=Unknown 208 1 Sex-Category Code 80 Identifying Mark Type A=Tattoo B=Scar C=Mark 209 1 Body-Part-Marking- Observation Type Code 81 Identifying Mark Location AAA=Left Eye AAB=Right Eye AAC=Face AAD=Scalp AAE=Teeth    \\\\tTable 5.  Offender/Arrestee Segment, Continued  \\\\tTable \\\\tFIELD NUMBER FIELD NAME DOMAIN RECORD POSITION SIZE STANDARD NAME 84 Weight 999 245 3 Eyewitness- Observation Description Text ARMED WITH AND GUN CATEGORY OCCUR TWO TIMES 85 Armed With 1 of 2 01=Unarmed 11=Firearm (type not stated) 12=Handgun 13=Rifle 14=Shotgun 15=Other Firearm 16=Lethal Cutting Instrument 17=Club/Blackjack/Brass Knuckles 248, 251 2 Derived: Durable-Materiel- Item Type Code; Gun Type Code; Law-Enforcement- Event Type Code; Person-Situation- Material-Reason Code; Person- Situation Role  \\\\tFIELD NUMBER FIELD NAME DOMAIN RECORD POSITION SIZE STANDARD NAME 84 Weight 999 245 3 Eyewitness- Observation Description Text ARMED WITH AND GUN CATEGORY OCCUR TWO TIMES 85 Armed With 1 of 2 01=Unarmed 11=Firearm (type not stated) 12=Handgun 13=Rifle 14=Shotgun 15=Other Firearm 16=Lethal Cutting Instrument 17=Club/Blackjack/Brass Knuckles 248, 251 2 Derived: Durable-Materiel- Item Type Code; Gun Type Code; Law-Enforcement- Event Type Code; Person-Situation- Material-Reason Code; Person- Situation Role    \\\\tTable 5.  Offender/Arrestee Segment, Continued  \\\\tTable \\\\tFIELD NUMBER FIELD NAME DOMAIN RECORD POSITION SIZE STANDARD NAME   Authorities   Text; Person Birth Date  \\\\tFIELD NUMBER FIELD NAME DOMAIN RECORD POSITION SIZE STANDARD NAME   Authorities   Text; Person Birth Date    \\\\t  \\\\t  \\\\t9. COMMANDERS REPORT OF ACTION TAKEN SEGMENT  a. The Commanders Action Segment records the actions of the commander as a result of the incident. A separate segment is submitted for each person referred to the commander for action. Cases initiated by the commander that have not triggered previous DIBRS reporting requirements, such as positive drug tests, may be submitted as one incident. The DoD Components shall develop procedures for submitting appropriate Administrative, Offense, and Arrestee Segments to \\\\t9. COMMANDERS REPORT OF ACTION TAKEN SEGMENT  a. The Commanders Action Segment records the actions of the commander as a result of the incident. A separate segment is submitted for each person referred to the commander for action. Cases initiated by the commander that have not triggered previous DIBRS reporting requirements, such as positive drug tests, may be submitted as one incident. The DoD Components shall develop procedures for submitting appropriate Administrative, Offense, and Arrestee Segments to \\\\t9. COMMANDERS REPORT OF ACTION TAKEN SEGMENT  a. The Commanders Action Segment records the actions of the commander as a result of the incident. A separate segment is submitted for each person referred to the commander for action. Cases initiated by the commander that have not triggered previous DIBRS reporting requirements, such as positive drug tests, may be submitted as one incident. The DoD Components shall develop procedures for submitting appropriate Administrative, Offense, and Arrestee Segments to   \\\\t  \\\\t  \\\\t  \\\\t(16) Sanction Amount.  (17) Sanction Days.  (18) Grades Reduced.  (19) Sentence Suspended.  (20) Discharge Type.  (21) Offense Committed Information (Offense Statutory Basis + Offense Identifier + Offense Result + Involvement).  (22) Sexual-Harassment Related.  (23) Judicial Action Type.  (24) Civilian Criminal Court Disposition.  (25) Civilian Criminal Offense Category.  (26) Civilian Court Location Zip Code.  (27) Civilian Court Location Country Code.  c. This segment shall be prepared as specified by the \\\\t(16) Sanction Amount.  (17) Sanction Days.  (18) Grades Reduced.  (19) Sentence Suspended.  (20) Discharge Type.  (21) Offense Committed Information (Offense Statutory Basis + Offense Identifier + Offense Result + Involvement).  (22) Sexual-Harassment Related.  (23) Judicial Action Type.  (24) Civilian Criminal Court Disposition.  (25) Civilian Criminal Offense Category.  (26) Civilian Court Location Zip Code.  (27) Civilian Court Location Country Code.  c. This segment shall be prepared as specified by the \\\\t(16) Sanction Amount.  (17) Sanction Days.  (18) Grades Reduced.  (19) Sentence Suspended.  (20) Discharge Type.  (21) Offense Committed Information (Offense Statutory Basis + Offense Identifier + Offense Result + Involvement).  (22) Sexual-Harassment Related.  (23) Judicial Action Type.  (24) Civilian Criminal Court Disposition.  (25) Civilian Criminal Offense Category.  (26) Civilian Court Location Zip Code.  (27) Civilian Court Location Country Code.  c. This segment shall be prepared as specified by the \\\\t(16) Sanction Amount.  (17) Sanction Days.  (18) Grades Reduced.  (19) Sentence Suspended.  (20) Discharge Type.  (21) Offense Committed Information (Offense Statutory Basis + Offense Identifier + Offense Result + Involvement).  (22) Sexual-Harassment Related.  (23) Judicial Action Type.  (24) Civilian Criminal Court Disposition.  (25) Civilian Criminal Offense Category.  (26) Civilian Court Location Zip Code.  (27) Civilian Court Location Country Code.  c. This segment shall be prepared as specified by the \\\\t(16) Sanction Amount.  (17) Sanction Days.  (18) Grades Reduced.  (19) Sentence Suspended.  (20) Discharge Type.  (21) Offense Committed Information (Offense Statutory Basis + Offense Identifier + Offense Result + Involvement).  (22) Sexual-Harassment Related.  (23) Judicial Action Type.  (24) Civilian Criminal Court Disposition.  (25) Civilian Criminal Offense Category.  (26) Civilian Court Location Zip Code.  (27) Civilian Court Location Country Code.  c. This segment shall be prepared as specified by the     \\\\tTable 6.  Commanders Report of Action Taken Segment  \\\\tTable \\\\tFIELD NUMBER FIELD NAME DOMAIN RECORD POSITION SIZE STANDARD NAME 1 FBI Location Number  1 9 Derived: Organization- Designator Source Assigned Identifier 2 Incident Number  10 12 Derived: Organization- Designator Source Assigned Identifier; Situation Identifier 3 Segment Type D 22 1 No Standard 4 Report Type A=ADD M=MODIFY D=DELETE 23 1 No Standard 64 Offender Identifier 99 24 2 Person Designator Identifier 65 Name Last 26 21 Name (Person-Name Category=s) 66 Name First 47 14 Name (Person-Name Category=f) 67 \\\\tFIELD NUMBER FIELD NAME DOMAIN RECORD POSITION SIZE STANDARD NAME 1 FBI Location Number  1 9 Derived: Organization- Designator Source Assigned Identifier 2 Incident Number  10 12 Derived: Organization- Designator Source Assigned Identifier; Situation Identifier 3 Segment Type D 22 1 No Standard 4 Report Type A=ADD M=MODIFY D=DELETE 23 1 No Standard 64 Offender Identifier 99 24 2 Person Designator Identifier 65 Name Last 26 21 Name (Person-Name Category=s) 66 Name First 47 14 Name (Person-Name Category=f) 67   \\\\tTable 6.  Commanders Report of Action Taken Segment, Continued  \\\\tTable \\\\tFIELD NUMBER FIELD NAME DOMAIN RECORD POSITION SIZE STANDARD NAME 98 Action Taken Type A=No Action Taken B=Administrative C=Non-Judicial D=Judicial 203 1 Proceeding Type Code 99 Non-Judicial Type F=Field Grade (O4 and Above) C=Company Grade, (O3 and Below) S=Summarized P=Principal Assistant O=Officer Exercising General Court-Martial Jurisdiction G=Flag Officer 204 1 Evaluation-Result Text SANCTION TYPE, ON RECORD, SANCTION FORM, SANCTION AMOUNT, SANCTION DAYS, SUSPENDED, AND GRADES REDUCED OCC \\\\tFIELD NUMBER FIELD NAME DOMAIN RECORD POSITION SIZE STANDARD NAME 98 Action Taken Type A=No Action Taken B=Administrative C=Non-Judicial D=Judicial 203 1 Proceeding Type Code 99 Non-Judicial Type F=Field Grade (O4 and Above) C=Company Grade, (O3 and Below) S=Summarized P=Principal Assistant O=Officer Exercising General Court-Martial Jurisdiction G=Flag Officer 204 1 Evaluation-Result Text SANCTION TYPE, ON RECORD, SANCTION FORM, SANCTION AMOUNT, SANCTION DAYS, SUSPENDED, AND GRADES REDUCED OCC   \\\\tTable 6.  Commanders Report of Action Taken Segment, Continued  \\\\tTable \\\\tFIELD NUMBER FIELD NAME DOMAIN RECORD POSITION SIZE STANDARD NAME   AW=Restricted AX=Correctional Custody AY=Administrative Separation in Lieu of Trial    101 Action Initiation Date 1 of 10 YYYYMMDD 207, 251, 295, 339, 383, 427, 471, 515, 559, 603 8 Examination- Schedule-Component Date 102 Action Appealed Date 1 of 10 YYYYMMDD 215, 259, 303, 347, 391, 435, 479, 523, 567, 611 8 Examination- Schedule-Component Date 103 Action Completion Date 1 of 10 YYYYMMDD 223, 267, 311, 355, 399, 443, 487, 531, 575, 619 8  \\\\tFIELD NUMBER FIELD NAME DOMAIN RECORD POSITION SIZE STANDARD NAME   AW=Restricted AX=Correctional Custody AY=Administrative Separation in Lieu of Trial    101 Action Initiation Date 1 of 10 YYYYMMDD 207, 251, 295, 339, 383, 427, 471, 515, 559, 603 8 Examination- Schedule-Component Date 102 Action Appealed Date 1 of 10 YYYYMMDD 215, 259, 303, 347, 391, 435, 479, 523, 567, 611 8 Examination- Schedule-Component Date 103 Action Completion Date 1 of 10 YYYYMMDD 223, 267, 311, 355, 399, 443, 487, 531, 575, 619 8    \\\\tTable 6.  Commanders Report of Action Taken Segment, Continued  \\\\tTable \\\\tFIELD NUMBER FIELD NAME DOMAIN RECORD POSITION SIZE STANDARD NAME    496, 540, 584, 628   106 Sanction Amount 1 of 10 999999999 233, 277, 321, 365, 409, 453, 497, 541, 585, 629 9 Monetary- Remuneration- Sentence Amount 107 Sanction Days 1 of 10 99999 242, 286, 330, 374, 418, 462, 506, 550, 594, 638 5 Derived: Fixed- Term-Confinement- Sentence Duration Quantity; Community- Service-Sentence Duration Quantity 108 Grades Reduced 1 of 10 9 247, 291, 335, 379, 423, 467, 511, 555, 599, 643 1 Derived: Evaluation-Re \\\\tFIELD NUMBER FIELD NAME DOMAIN RECORD POSITION SIZE STANDARD NAME    496, 540, 584, 628   106 Sanction Amount 1 of 10 999999999 233, 277, 321, 365, 409, 453, 497, 541, 585, 629 9 Monetary- Remuneration- Sentence Amount 107 Sanction Days 1 of 10 99999 242, 286, 330, 374, 418, 462, 506, 550, 594, 638 5 Derived: Fixed- Term-Confinement- Sentence Duration Quantity; Community- Service-Sentence Duration Quantity 108 Grades Reduced 1 of 10 9 247, 291, 335, 379, 423, 467, 511, 555, 599, 643 1 Derived: Evaluation-Re   \\\\tTable 6.  Commanders Report of Action Taken Segment, Continued  \\\\t FIELD NUMBER FIELD NAME DOMAIN RECORD POSITION SIZE STANDARD NAME 111, 15 Offense Statutory Basis A=UCMJ B=Non-Criminal Fatality (High Interest) C=State D=Local E=Foreign F=Federal, Non-UCMJ 647 1 Derived: Offense Statutory Basis Code; Organization- Guidance Reason Code 111, 16 Offense Committed Code See Enclosure 2 to Volume 2 648 6 Offense Identifier 111, 17 Offense Result A=Attempted C=Completed 654 1 Offense Name 111, 18 Involvement P=Principal A=Accessory C=Conspiracy S=Solicit 655 1 Derived: Person-S \\\\t10. RESULTS OF TRIAL SEGMENT  \\\\t10. RESULTS OF TRIAL SEGMENT  \\\\t10. RESULTS OF TRIAL SEGMENT    \\\\ta. The Results of Trial Segment records the actions of the court-martial as a result of the incident. Several segments are submitted for each arrestee sent to trial. A separate segment is sent by each Finding and Sentence Report/Review Authority level. A separate segment shall be sent by the same Finding and Sentence Report/Review Authority level if the incident is handled by the same authority on more than one occasion (e.g., the clemency and parole authority may submit multiple reports). The Findings and  \\\\ta. The Results of Trial Segment records the actions of the court-martial as a result of the incident. Several segments are submitted for each arrestee sent to trial. A separate segment is sent by each Finding and Sentence Report/Review Authority level. A separate segment shall be sent by the same Finding and Sentence Report/Review Authority level if the incident is handled by the same authority on more than one occasion (e.g., the clemency and parole authority may submit multiple reports). The Findings and  \\\\ta. The Results of Trial Segment records the actions of the court-martial as a result of the incident. Several segments are submitted for each arrestee sent to trial. A separate segment is sent by each Finding and Sentence Report/Review Authority level. A separate segment shall be sent by the same Finding and Sentence Report/Review Authority level if the incident is handled by the same authority on more than one occasion (e.g., the clemency and parole authority may submit multiple reports). The Findings and  \\\\ta. The Results of Trial Segment records the actions of the court-martial as a result of the incident. Several segments are submitted for each arrestee sent to trial. A separate segment is sent by each Finding and Sentence Report/Review Authority level. A separate segment shall be sent by the same Finding and Sentence Report/Review Authority level if the incident is handled by the same authority on more than one occasion (e.g., the clemency and parole authority may submit multiple reports). The Findings and     \\\\t  \\\\t  b. Data elements used in the Results of Trial Segment are:  (1) Header Elements.  (2) Offender (Sequence) Identifier.  (3) Findings and Sentence Report/Review Authority Code.  (4) Findings and Sentence Report/Review Date.  (5) Offender Name (Last, First, Middle Name).  (6) SSN/Alien Registration.  (7) Court Type.  (8) Location of Court-Martial UIC.  (9) Promulgating Order Number.  (10) Promulgating Order Date.  (11) Convening Authority UIC.  (12) Forum.  (13) Conditions of Pretrial Agreement.  (14) Except \\\\t  \\\\t  (23) Date Adjudged.  (24) Sentence Suspended.  (25) Sentence Amount.  (26) Sentence Days.  (27) Grades Reduced.  (28) Sentence Type.  (29) Discharge Type.  (30) Pretrial Confinement Days.  (31) Judiciary Ordered Credit Days.  (32) Confinement Deferred Date (Begin and End).  (33) Number of Pretrial Victims Notified.  (34) Number of Pretrial Witnesses Notified.  (35) Number of Post-Trial Victims Notified.  (36) Number of Post-Trial Witnesses Notified.  (37) Number of Victims Electing to be Notified.  (38) N \\\\tc. The Results of Trial Segment is prepared by each agency serving in the Findings and Sentence Report/Review Authority life cycle. The DoD Component with court-martial convening authority shall report all Results of Trial Segments. The Results of Trial Segment should be submitted in all cases in which charges are referred to court-martial, regardless of disposition. The only exception is in those cases in which an administrative separation in lieu of trial is granted. In such cases, enter the information i \\\\tc. The Results of Trial Segment is prepared by each agency serving in the Findings and Sentence Report/Review Authority life cycle. The DoD Component with court-martial convening authority shall report all Results of Trial Segments. The Results of Trial Segment should be submitted in all cases in which charges are referred to court-martial, regardless of disposition. The only exception is in those cases in which an administrative separation in lieu of trial is granted. In such cases, enter the information i \\\\tc. The Results of Trial Segment is prepared by each agency serving in the Findings and Sentence Report/Review Authority life cycle. The DoD Component with court-martial convening authority shall report all Results of Trial Segments. The Results of Trial Segment should be submitted in all cases in which charges are referred to court-martial, regardless of disposition. The only exception is in those cases in which an administrative separation in lieu of trial is granted. In such cases, enter the information i \\\\tc. The Results of Trial Segment is prepared by each agency serving in the Findings and Sentence Report/Review Authority life cycle. The DoD Component with court-martial convening authority shall report all Results of Trial Segments. The Results of Trial Segment should be submitted in all cases in which charges are referred to court-martial, regardless of disposition. The only exception is in those cases in which an administrative separation in lieu of trial is granted. In such cases, enter the information i    \\\\tTable 7.  Results of Trial Segment  \\\\tTable \\\\tFIELD NUMBER FIELD NAME DOMAIN RECORD POSITION SIZE STANDARD NAME 1 FBI Location Number  1 9 Derived: Organization- Designator Source Assigned Identifier 2 Incident Number  10 12 Derived: Organization- Designator Source Assigned Identifier; Situation Identifier 3 Segment Type T 22 1 No Standard 4 Report Type A=ADD M=MODIFY D=DELETE 23 1 No Standard 64 Offender Identifier 99 24 2 No Standard 118 Findings and Sentence Report Review Authority Code A=Service Secretary B=Court-Martial Report Authority C=Convenin \\\\tFIELD NUMBER FIELD NAME DOMAIN RECORD POSITION SIZE STANDARD NAME 1 FBI Location Number  1 9 Derived: Organization- Designator Source Assigned Identifier 2 Incident Number  10 12 Derived: Organization- Designator Source Assigned Identifier; Situation Identifier 3 Segment Type T 22 1 No Standard 4 Report Type A=ADD M=MODIFY D=DELETE 23 1 No Standard 64 Offender Identifier 99 24 2 No Standard 118 Findings and Sentence Report Review Authority Code A=Service Secretary B=Court-Martial Report Authority C=Convenin   \\\\tTable 7.  Results of Trial Segment, Continued  \\\\t FIELD NUMBER FIELD NAME DOMAIN RECORD POSITION SIZE STANDARD NAME 123 Promulgating Order Date YYYYMMDD 115 8 Examination Schedule Component Date 124 Convening Authority UIC TEXT 123 8 Organization- Designator Source Assigned Identifier 125 Forum J=Judge Alone O=Officer Members Only E=Enlisted and Officer Member 131 1 Court-Martial Forum Type Code 126 Conditions of Pretrial Agreement 1 of 9 M=Military Judge Only N=Non-Capital R=Restitution L=Referral to Lower Court T=Testimony C=Confinement Limitation F=For \\\\tTable 7.  Results of Trial Segment, Continued  \\\\tFIELD NUMBER FIELD NAME DOMAIN RECORD POSITION SIZE STANDARD NAME    1096, 1149   129, 15 Offense Statutory Basis 1 of 20 A=UCMJ B=Non-Criminal Fatality (High Interest) C=State D=Local E=Foreign F=Federal, Non-UCMJ 144, 197, 250, 303, 356, 409, 462, 515, 568, 621, 674, 727, 780, 833, 886, 939, 992, 1045, 1098, 1151 1 Derived: Offense Statutory Basis Code; Organization- Guidance Reason Code 129, 16 Charge Offense Identifier 1 of 20 See Enclosure 2 to Volume 2 145, 198, 251, 304, 357, 410, 463, 516, 569, 622, \\\\tTable 7.  Results of Trial Segment, Continued  \\\\tTable \\\\tFIELD NUMBER FIELD NAME DOMAIN RECORD POSITION SIZE STANDARD NAME    628, 681,   129, 17, Continued Offense Result 1 of 20 A=Attempted C=Completed 734, 787, 840, 893, 946, 999, 1052, 1105, 1158 1 Offense Name 129, 8 Involvement 1 of 20 P=Principal A=Accessory C=Conspiracy S=Solicit 152, 205, 258, 311, 364, 417, 470, 523, 576, 629, 682, 735, 788, 841, 894, 947, 1000, 1053, 1106, 1159 1 Derived: Person-Situation Role Category Code; Offense Type Code 130 Offense Description 1 of 20 TEXT 153, 206, 259, 312, 365 \\\\tFIELD NUMBER FIELD NAME DOMAIN RECORD POSITION SIZE STANDARD NAME    628, 681,   129, 17, Continued Offense Result 1 of 20 A=Attempted C=Completed 734, 787, 840, 893, 946, 999, 1052, 1105, 1158 1 Offense Name 129, 8 Involvement 1 of 20 P=Principal A=Accessory C=Conspiracy S=Solicit 152, 205, 258, 311, 364, 417, 470, 523, 576, 629, 682, 735, 788, 841, 894, 947, 1000, 1053, 1106, 1159 1 Derived: Person-Situation Role Category Code; Offense Type Code 130 Offense Description 1 of 20 TEXT 153, 206, 259, 312, 365   \\\\tTable 7.  Results of Trial Segment, Continued  \\\\tTable \\\\tFIELD NUMBER FIELD NAME DOMAIN RECORD POSITION SIZE STANDARD NAME 131 Specification Number 1 of 20 99 173, 226, 279, 332, 385, 438, 491, 544, 597, 650, 703, 756, 809, 862, 915, 968, 1021, 1074, 1127, 1180 2 Document Identifier 132 Plea 1 of 20 G=Guilty N=Not Guilty L=Lesser Included Offense R=Not Guilty by Reason of Insanity 175, 228, 281, 334, 387, 440, 493, 546, 599, 652, 705, 758, 811, 864, 917, 970, 1023, 1076, 1129, 1182 1 Examination- Situation-Offense Specification Plea Code 133, 15 Lesser Included O \\\\tFIELD NUMBER FIELD NAME DOMAIN RECORD POSITION SIZE STANDARD NAME 131 Specification Number 1 of 20 99 173, 226, 279, 332, 385, 438, 491, 544, 597, 650, 703, 756, 809, 862, 915, 968, 1021, 1074, 1127, 1180 2 Document Identifier 132 Plea 1 of 20 G=Guilty N=Not Guilty L=Lesser Included Offense R=Not Guilty by Reason of Insanity 175, 228, 281, 334, 387, 440, 493, 546, 599, 652, 705, 758, 811, 864, 917, 970, 1023, 1076, 1129, 1182 1 Examination- Situation-Offense Specification Plea Code 133, 15 Lesser Included O   \\\\tTable 7.  Results of Trial Segment, Continued  \\\\tFIELD NUMBER FIELD NAME DOMAIN RECORD POSITION SIZE STANDARD NAME 133, 15, Continued Lesser Included Offense Offense Statutory Basis (Plea) 1 of 20 A=UCMJ B=Non-Criminal Fatality (High Interest) C=State D=Local E=Foreign F=Federal, Non-UCMJ 759, 812, 865, 918, 971, 1024, 1077, 1130, 1183 1 Derived: Offense Statutory Basis Code; Organization- Guidance Reason Code 133, 16 Lesser Included Offense Offense Code (Plea) 1 of 20 See Enclosure 2 to Volume 2 177, 230, 283, 336, 389, 442, 495, 548, 601, 654, 707, 760, \\\\tTable 7.  Results of Trial Segment, Continued  \\\\tP \\\\tTable \\\\tFIELD NUMBER FIELD NAME DOMAIN RECORD POSITION SIZE STANDARD NAME 133, 18 Lesser Included Offense Involvement (Plea) 1 of 20 P=Principal A=Accessory C=Conspiracy S=Solicit 184, 237, 290, 343, 396, 449, 502, 555, 608, 661, 714, 767, 820, 873, 926, 979, 1032, 1085, 1138, 1191 1 Derived: Person-Situation Role Category Code; Offense Type Code 135 Findings 1 of 20 G=Guilty N=Not Guilty L=Lesser Included Offense R=Not Guilty by Reason of Insanity 185, 238, 291, 344, 397, 450, 503, 556, 609, 662, 715, 768, 821, 87 \\\\tFIELD NUMBER FIELD NAME DOMAIN RECORD POSITION SIZE STANDARD NAME 133, 18 Lesser Included Offense Involvement (Plea) 1 of 20 P=Principal A=Accessory C=Conspiracy S=Solicit 184, 237, 290, 343, 396, 449, 502, 555, 608, 661, 714, 767, 820, 873, 926, 979, 1032, 1085, 1138, 1191 1 Derived: Person-Situation Role Category Code; Offense Type Code 135 Findings 1 of 20 G=Guilty N=Not Guilty L=Lesser Included Offense R=Not Guilty by Reason of Insanity 185, 238, 291, 344, 397, 450, 503, 556, 609, 662, 715, 768, 821, 87   \\\\tTable 7.  Results of Trial Segment, Continued  \\\\tFIELD NUMBER FIELD NAME DOMAIN RECORD POSITION SIZE STANDARD NAME 136, 15, Continued Lesser Included Offense Offense Statutory Basis (Finding) 1 of 20 A=UCMJ B=Non-Criminal Fatality (High Interest) C=State D=Local E=Foreign F=Federal, Non-UCMJ 769, 822, 875, 928, 981, 1034, 1087, 1140, 1193 1 Derived: Offense Statutory Basis Code; Organization- Guidance Reason Code 136, 16 Lesser Included Offense Offense Code (Finding) 1 of 20 See Enclosure 2 to Volume 2 187, 240, 293, 346, 399, 452, 505, 558, 611, 664, 717 \\\\tTable 7.  Results of Trial Segment, Continued  \\\\tTable \\\\tFIELD NUMBER FIELD NAME DOMAIN RECORD POSITION SIZE STANDARD NAME 136, 18 Lesser Included Offense Involvement  (Finding) 1 of 20 P=Principal A=Accessory C=Conspiracy S=Solicit 194, 247, 300, 353, 406, 459, 512, 565, 618, 671, 724, 777, 830, 883, 936, 989, 1042, 1095, 1148, 1201 1 Derived: Person-Situation Role Category Code; Offense Type Code 138 Date Adjudged YYYYMMDD 1202 8 Evaluation-Schedule- Component Date SENTENCE SUSPENDED, SENTENCE AMOUNT, SENTENCE DAYS, SENTENCE GRADES REDUCED, SENTENCE TY \\\\tFIELD NUMBER FIELD NAME DOMAIN RECORD POSITION SIZE STANDARD NAME 136, 18 Lesser Included Offense Involvement  (Finding) 1 of 20 P=Principal A=Accessory C=Conspiracy S=Solicit 194, 247, 300, 353, 406, 459, 512, 565, 618, 671, 724, 777, 830, 883, 936, 989, 1042, 1095, 1148, 1201 1 Derived: Person-Situation Role Category Code; Offense Type Code 138 Date Adjudged YYYYMMDD 1202 8 Evaluation-Schedule- Component Date SENTENCE SUSPENDED, SENTENCE AMOUNT, SENTENCE DAYS, SENTENCE GRADES REDUCED, SENTENCE TY   \\\\tTable 7.  Results of Trial Segment, Continued  \\\\tTable \\\\tFIELD NUMBER FIELD NAME DOMAIN RECORD POSITION SIZE STANDARD NAME 142 Sentence Grades Reduced 1 of 9 9 1226, 1249, 1272, 1295, 1318, 1341, 1364, 1387, 1410 1 Derived: Sentence Type Code; Pay-Plan- Grade Ordinal Identifier; Evaluation- Result Text 143 Sentence Type 1 of 9 A=No Punishment B=Reprimand C=Restriction D=Hard Labor Without Confinement E=Specified Confinement F=Confinement for Life G=Specified Forfeitures H=Total Forfeitures I=Fines J=Reduction in Grade L=Discharge/Dismissal M=Death 1227, 1250, 127 \\\\tFIELD NUMBER FIELD NAME DOMAIN RECORD POSITION SIZE STANDARD NAME 142 Sentence Grades Reduced 1 of 9 9 1226, 1249, 1272, 1295, 1318, 1341, 1364, 1387, 1410 1 Derived: Sentence Type Code; Pay-Plan- Grade Ordinal Identifier; Evaluation- Result Text 143 Sentence Type 1 of 9 A=No Punishment B=Reprimand C=Restriction D=Hard Labor Without Confinement E=Specified Confinement F=Confinement for Life G=Specified Forfeitures H=Total Forfeitures I=Fines J=Reduction in Grade L=Discharge/Dismissal M=Death 1227, 1250, 127   \\\\tTable 7.  Results of Trial Segment, Continued  \\\\tTable \\\\tFIELD NUMBER FIELD NAME DOMAIN RECORD POSITION SIZE STANDARD NAME 148 Confinement Deferred End Date YYYYMMDD 1434 8 Derived: Confinement- Sentence Condition Code; Confinement- Sentence Deferment Quantity 149 Number of Pretrial Victims Notified (DD Form 2702) 999 1442 3 Derived: Person-Situation- Role Code; Person- Document- Representation- Reason Code 150 Number of Pretrial Witnesses Notified (DD Form 2702) 999 1445 3 Derived: Person-Situation- Role Code; Person-Document- Representation- Reason Code 151 Num \\\\tFIELD NUMBER FIELD NAME DOMAIN RECORD POSITION SIZE STANDARD NAME 148 Confinement Deferred End Date YYYYMMDD 1434 8 Derived: Confinement- Sentence Condition Code; Confinement- Sentence Deferment Quantity 149 Number of Pretrial Victims Notified (DD Form 2702) 999 1442 3 Derived: Person-Situation- Role Code; Person- Document- Representation- Reason Code 150 Number of Pretrial Witnesses Notified (DD Form 2702) 999 1445 3 Derived: Person-Situation- Role Code; Person-Document- Representation- Reason Code 151 Num   \\\\t11. CORRECTIONS SEGMENT  \\\\t11. CORRECTIONS SEGMENT  \\\\t11. CORRECTIONS SEGMENT    \\\\ta. The Corrections Segment records the actions of the corrections facility as a result of the incident. It also provides the information required for the Department of Defense to comply with section 14071 of title 42, U.S.C. (Reference (v)). The Corrections Segment data layout is displayed in Table 8.  \\\\ta. The Corrections Segment records the actions of the corrections facility as a result of the incident. It also provides the information required for the Department of Defense to comply with section 14071 of title 42, U.S.C. (Reference (v)). The Corrections Segment data layout is displayed in Table 8.  \\\\ta. The Corrections Segment records the actions of the corrections facility as a result of the incident. It also provides the information required for the Department of Defense to comply with section 14071 of title 42, U.S.C. (Reference (v)). The Corrections Segment data layout is displayed in Table 8.  \\\\ta. The Corrections Segment records the actions of the corrections facility as a result of the incident. It also provides the information required for the Department of Defense to comply with section 14071 of title 42, U.S.C. (Reference (v)). The Corrections Segment data layout is displayed in Table 8.     \\\\t  \\\\t b. Data elements used in the Corrections Segment are:  (1) Header Elements.  (2) Report Date.  (3) Report Time.  (4) Offender (Sequence) Identifier.  (5) Offender Name (Last, First, Middle Name, Cadency, Maiden Name, Alias).  (6) SSN/Alien Registration.  (7) Service.  (8) Date of Birth.  (9) Confinement Facility UIC.  (10) Gang Name.  (11) Gang Location (City, State).  (12) Cult/Extremist Name.  (13) Cult/Extremist Location (City, State).  (14) Pretrial Confinement Begin Date.  (15) Pretrial Confinement En \\\\t  \\\\t  \\\\t (22) Minimum Release Date.  (23) Full-Term Release Date.  (24) Clemency Eligibility Date.  (25) Parole Eligibility Date.  (26) Release Date.  (27) Release Reason.  (28) Release Agency Name.  (29) Release Location Zip Code.  (30) Fatality Reason.  (31) Fatality-Associated FBI Location Number.  (32) Fatality-Associated Incident Number.  (33) Escapee Returned to Custody Date.  (34) Federal Bureau of Prisons Transfer Facility Code.  (35) Military Transfer Facility UIC.  (36) Number of Victims Electing Notifica \\\\tc. This segment is prepared by the correctional facility gaining the prisoner. The FBI Location Number, Incident Number, and the original offender number are obtained from the convening authority or losing correctional facility.  A record should be submitted for each change of status (e.g., transfer, release, clemency hearing). Multiple records should be submitted if more than one action occurs within the reporting period.  \\\\tc. This segment is prepared by the correctional facility gaining the prisoner. The FBI Location Number, Incident Number, and the original offender number are obtained from the convening authority or losing correctional facility.  A record should be submitted for each change of status (e.g., transfer, release, clemency hearing). Multiple records should be submitted if more than one action occurs within the reporting period.  \\\\tc. This segment is prepared by the correctional facility gaining the prisoner. The FBI Location Number, Incident Number, and the original offender number are obtained from the convening authority or losing correctional facility.  A record should be submitted for each change of status (e.g., transfer, release, clemency hearing). Multiple records should be submitted if more than one action occurs within the reporting period.  \\\\tc. This segment is prepared by the correctional facility gaining the prisoner. The FBI Location Number, Incident Number, and the original offender number are obtained from the convening authority or losing correctional facility.  A record should be submitted for each change of status (e.g., transfer, release, clemency hearing). Multiple records should be submitted if more than one action occurs within the reporting period.     \\\\tTable 8.  Corrections Segment  \\\\tTable \\\\tFIELD NUMBER FIELD NAME DOMAIN RECORD POSITION SIZE STANDARD 1 FBI Location Number  1 9 Derived: Organization- Designator Source Assigned Identifier 2 Incident Number  10 12 Derived: Organization- Designator Source Assigned Identifier; Situation Identifier 3 Segment Type R 22 1 No Standard 4 Report Type A=ADD M=MODIFY D=DELETE 23 1 No Standard 155 Report Date YYYYMMDD 24 8  156 Report Time  32 4 Document Time 64 Offender Identifier 99 36 2 Person Designator Identifier 65 Name Last 38 21 Name (Person-Name Ca \\\\tFIELD NUMBER FIELD NAME DOMAIN RECORD POSITION SIZE STANDARD 1 FBI Location Number  1 9 Derived: Organization- Designator Source Assigned Identifier 2 Incident Number  10 12 Derived: Organization- Designator Source Assigned Identifier; Situation Identifier 3 Segment Type R 22 1 No Standard 4 Report Type A=ADD M=MODIFY D=DELETE 23 1 No Standard 155 Report Date YYYYMMDD 24 8  156 Report Time  32 4 Document Time 64 Offender Identifier 99 36 2 Person Designator Identifier 65 Name Last 38 21 Name (Person-Name Ca   \\\\tTable 8.  Corrections Segment, Continued  \\\\t FIELD NUMBER FIELD NAME DOMAIN RECORD POSITION SIZE STANDARD 72 Date of Birth YYYYMMDD 157 8 Person Birth Date 158 Confinement Facility UIC  165 8 Organization- Designator Source Assigned Identifier 159 Gang Name TEXT 173 20 Organization Name Text 160 Gang Location City TEXT 193 20 City Name 161 Gang Location State TEXT See Table 12 in Volume 2 213 2 State Code 162 Cult/Extremist Name TEXT 215 20 Organization Name Text 163 Cult/Extremist Location City TEXT 235 20 City Name 164 Cult/Extremist Location State \\\\tTable 8.  Corrections Segment, Continued  \\\\tTable \\\\tFIELD NUMBER FIELD NAME DOMAIN RECORD POSITION SIZE STANDARD 170, 17 Post-Trial Controlling Offense Offense Result A=Attempted C=Completed 298 1 Offense Name 170, 18 Post-Trial Controlling Offense Involvement P=Principal A=Accessory C=Conspiracy S=Solicit 299 1 Derived: Person-Situation Role Category Code; Offense Type Code 171 Losing Confinement Facility UIC  300 8 Organization- Designator Source Assigned Identifier 138 Date Adjudged YYYYMMDD 308 8 Evaluation-Schedule- Component Date 172 Minimum Release Da \\\\tFIELD NUMBER FIELD NAME DOMAIN RECORD POSITION SIZE STANDARD 170, 17 Post-Trial Controlling Offense Offense Result A=Attempted C=Completed 298 1 Offense Name 170, 18 Post-Trial Controlling Offense Involvement P=Principal A=Accessory C=Conspiracy S=Solicit 299 1 Derived: Person-Situation Role Category Code; Offense Type Code 171 Losing Confinement Facility UIC  300 8 Organization- Designator Source Assigned Identifier 138 Date Adjudged YYYYMMDD 308 8 Evaluation-Schedule- Component Date 172 Minimum Release Da   \\\\tTable 8.  Corrections Segment, Continued  \\\\tTable \\\\tFIELD NUMBER FIELD NAME DOMAIN RECORD POSITION SIZE STANDARD 179 Release Location Zip Code 999999999 377 9 Postal-Region Code 180 Fatality Reason E=Execution N=Natural Causes/Illness S=Suicide H=Homicide A=Accident 386 1 Derived: Confinement Termination Type Code 181 Fatality-Associated FBI Location Number  387 9 Derived: Organization- Designator Source Assigned Identifier; Situation Identifier 182 Fatality-Associated Incident Number  396 12 Derived: Organization- Designator Source Assigned Identifier; Situ \\\\tFIELD NUMBER FIELD NAME DOMAIN RECORD POSITION SIZE STANDARD 179 Release Location Zip Code 999999999 377 9 Postal-Region Code 180 Fatality Reason E=Execution N=Natural Causes/Illness S=Suicide H=Homicide A=Accident 386 1 Derived: Confinement Termination Type Code 181 Fatality-Associated FBI Location Number  387 9 Derived: Organization- Designator Source Assigned Identifier; Situation Identifier 182 Fatality-Associated Incident Number  396 12 Derived: Organization- Designator Source Assigned Identifier; Situ   \\\\tTable 8.  Corrections Segment, Continued  \\\\tTable \\\\tFIELD NUMBER FIELD NAME DOMAIN RECORD POSITION SIZE STANDARD 189 Notification Reason A=Parole Eligibility Date B=Clemency Eligibility Date C=Parole Hearing D=Clemency Hearing E=Transfer F=Escape G=Returned Escapee H=Release I=Initial Contact 439 1 Derived: Person-Examination- Type-Reason Code; Confinement Termination Type Code; Confinement Circumstance Code 190 Number of Victims Terminating Notification 99 440 2 Derived: Administrative-Event Category Code; Administrative-Event Subject Code 191 Number of Wit \\\\tFIELD NUMBER FIELD NAME DOMAIN RECORD POSITION SIZE STANDARD 189 Notification Reason A=Parole Eligibility Date B=Clemency Eligibility Date C=Parole Hearing D=Clemency Hearing E=Transfer F=Escape G=Returned Escapee H=Release I=Initial Contact 439 1 Derived: Person-Examination- Type-Reason Code; Confinement Termination Type Code; Confinement Circumstance Code 190 Number of Victims Terminating Notification 99 440 2 Derived: Administrative-Event Category Code; Administrative-Event Subject Code 191 Number of Wit   \\\\t  \\\\tENCLOSURE 5  DATA SUBMISSION PROCEDURES   1. INFORMATION REQUIREMENTS  a. DMDC shall collect data directly from each Service in an automated format using the standard definitions and automated media submission formats specified in this Manual.  b. The Military Services and Defense Agencies with criminal incident record management systems shall collect, prepare, store, and submit data to DMDC in accordance with References (m) and (n) and DoDIs 8910.01 and 8320.02 (References (w) and (x)).  c. All DIBRS data  \\\\tP \\\\tP \\\\t  \\\\t(b) Data Not Reportable. Errors are generated when any of DIBRS or NIBRS (as appropriate) edit checks indicate a code is not correct or a logical check is marked invalid in accordance with the reporting instructions. The submitted data fields are ACCEPTED as submitted; however, the incident may not be reported to NIBRS until the submitting agency corrects all errors that make the transaction marked invalid for submission. To correct the data, the submitting agency must resubmit segment information either as \\\\t(b) Data Not Reportable. Errors are generated when any of DIBRS or NIBRS (as appropriate) edit checks indicate a code is not correct or a logical check is marked invalid in accordance with the reporting instructions. The submitted data fields are ACCEPTED as submitted; however, the incident may not be reported to NIBRS until the submitting agency corrects all errors that make the transaction marked invalid for submission. To correct the data, the submitting agency must resubmit segment information either as \\\\t(b) Data Not Reportable. Errors are generated when any of DIBRS or NIBRS (as appropriate) edit checks indicate a code is not correct or a logical check is marked invalid in accordance with the reporting instructions. The submitted data fields are ACCEPTED as submitted; however, the incident may not be reported to NIBRS until the submitting agency corrects all errors that make the transaction marked invalid for submission. To correct the data, the submitting agency must resubmit segment information either as \\\\t(b) Data Not Reportable. Errors are generated when any of DIBRS or NIBRS (as appropriate) edit checks indicate a code is not correct or a logical check is marked invalid in accordance with the reporting instructions. The submitted data fields are ACCEPTED as submitted; however, the incident may not be reported to NIBRS until the submitting agency corrects all errors that make the transaction marked invalid for submission. To correct the data, the submitting agency must resubmit segment information either as \\\\t(b) Data Not Reportable. Errors are generated when any of DIBRS or NIBRS (as appropriate) edit checks indicate a code is not correct or a logical check is marked invalid in accordance with the reporting instructions. The submitted data fields are ACCEPTED as submitted; however, the incident may not be reported to NIBRS until the submitting agency corrects all errors that make the transaction marked invalid for submission. To correct the data, the submitting agency must resubmit segment information either as \\\\t(b) Data Not Reportable. Errors are generated when any of DIBRS or NIBRS (as appropriate) edit checks indicate a code is not correct or a logical check is marked invalid in accordance with the reporting instructions. The submitted data fields are ACCEPTED as submitted; however, the incident may not be reported to NIBRS until the submitting agency corrects all errors that make the transaction marked invalid for submission. To correct the data, the submitting agency must resubmit segment information either as      \\\\t  \\\\tb. Requests for correction of DIBRS records shall be handled according to these procedures:  (1) Upon receipt of the request, DMDC shall verify with the relevant Component responsible official that the DIBRS record is consistent with the DoD Component records.  (2) If the DIBRS record is inconsistent with the DoD Component records, DMDC shall forward the request for correction of records to the Component responsible official for investigation and validation. The Component responsible official shall submit c \\\\tb. Requests for correction of DIBRS records shall be handled according to these procedures:  (1) Upon receipt of the request, DMDC shall verify with the relevant Component responsible official that the DIBRS record is consistent with the DoD Component records.  (2) If the DIBRS record is inconsistent with the DoD Component records, DMDC shall forward the request for correction of records to the Component responsible official for investigation and validation. The Component responsible official shall submit c \\\\tb. Requests for correction of DIBRS records shall be handled according to these procedures:  (1) Upon receipt of the request, DMDC shall verify with the relevant Component responsible official that the DIBRS record is consistent with the DoD Component records.  (2) If the DIBRS record is inconsistent with the DoD Component records, DMDC shall forward the request for correction of records to the Component responsible official for investigation and validation. The Component responsible official shall submit c \\\\tb. Requests for correction of DIBRS records shall be handled according to these procedures:  (1) Upon receipt of the request, DMDC shall verify with the relevant Component responsible official that the DIBRS record is consistent with the DoD Component records.  (2) If the DIBRS record is inconsistent with the DoD Component records, DMDC shall forward the request for correction of records to the Component responsible official for investigation and validation. The Component responsible official shall submit c    \\\\t  \\\\t6. UNAUTHORIZED ACCESS. DMDC stores input data files in a controlled access area located in the U.S. Naval Postgraduate School in Monterey, California. DMDC stores data files in the secure DMDC facility at 400 Gigling Road in Seaside, California. Badge authorization is required for entry into these facilities. Additionally, a limited number of users have access to the Oracle database. At all times, the data are under the control of the DMDC DIBRS Database Administrator. All DMDC personal computers are withi \\\\t6. UNAUTHORIZED ACCESS. DMDC stores input data files in a controlled access area located in the U.S. Naval Postgraduate School in Monterey, California. DMDC stores data files in the secure DMDC facility at 400 Gigling Road in Seaside, California. Badge authorization is required for entry into these facilities. Additionally, a limited number of users have access to the Oracle database. At all times, the data are under the control of the DMDC DIBRS Database Administrator. All DMDC personal computers are withi \\\\t6. UNAUTHORIZED ACCESS. DMDC stores input data files in a controlled access area located in the U.S. Naval Postgraduate School in Monterey, California. DMDC stores data files in the secure DMDC facility at 400 Gigling Road in Seaside, California. Badge authorization is required for entry into these facilities. Additionally, a limited number of users have access to the Oracle database. At all times, the data are under the control of the DMDC DIBRS Database Administrator. All DMDC personal computers are withi   \\\\tb. Offense categories and corresponding PII shelf life are displayed in Table 9.  \\\\tb. Offense categories and corresponding PII shelf life are displayed in Table 9.  \\\\tb. Offense categories and corresponding PII shelf life are displayed in Table 9.  \\\\tb. Offense categories and corresponding PII shelf life are displayed in Table 9.     \\\\tTable 9.  PII Shelf Life  \\\\tTable \\\\tOFFENSE CATEGORY PII SHELF LIFE Offenses reportable pursuant to registration Brady* or involving sex offender 99 years from entry into database Class A offenses (other than those disposed of by UCMJ Article 15 administrative sanction) not reportable by the Department of Defense pursuant to Brady* or involving sex offender registration 5 years from entry into database or term of confinement, whichever is longer Military offenses (for which there is no NIBRS equivalent) not reportable by the Department of Def \\\\tOFFENSE CATEGORY PII SHELF LIFE Offenses reportable pursuant to registration Brady* or involving sex offender 99 years from entry into database Class A offenses (other than those disposed of by UCMJ Article 15 administrative sanction) not reportable by the Department of Defense pursuant to Brady* or involving sex offender registration 5 years from entry into database or term of confinement, whichever is longer Military offenses (for which there is no NIBRS equivalent) not reportable by the Department of Def   \\\\t  \\\\tGLOSSARY  PART I.  ABBREVIATIONS AND ACRONYMS   DCIO Defense Criminal Investigative Organization DIBRS Defense Incident-Based Reporting System DMDC Defense Manpower Data Center DoDD DoD directive DoDI DoD instruction FBI Federal Bureau of Investigation IG DoD Inspector General of the Department of Defense NIBRS National Incident-Based Reporting System OUSD(P&R) Office of the Under Secretary of Defense for Personnel and Readiness PHI protected health information PII personal identifying information SSN Socia \\\\tP \\\\tP \\\\tP \\\\tUnless otherwise noted, these terms and their definitions are for the purpose of this Volume.  \\\\t  \\\\tacting in concert. Indicates that all of the offenders who actually commit or assist in the commission of a crime(s) at the same time and place are aware of and consent to the commission of the crime(s), or, if non-consenting, their actions assist in the commission of the offense(s).  \\\\t  \\\\tbias. A preformed negative opinion or attitude toward a group of persons based on their race, religion, ethnicity or national origin, sexual orientation, or disability.  \\\\t  \\\\tbias crime. A criminal offense committed against a person or property that is motivated, in whole or in part, by the offenders bias against a race, religion, ethnic or national origin, sexual orientation, or disability group.  Also known as a hate crime.  Even if the offender was  \\\\t  \\\\tmistaken in his or her perception that the victim was a member of the group he or she was acting against, the offense is still a bias crime because the offender was motivated by bias against the group.  \\\\t  \\\\tbisexual. Of or relating to persons who experience sexual attraction toward, and responsiveness to, both males and females; a bisexual person.  \\\\t  \\\\tcase. All criminal charges brought against a particular accused for disposition at a single forum. A case may include any number of offenses resulting from any number of incidents.  \\\\t  \\\\tcentral repository. The DoD Component facility designated to receive Service inputs of incident data from functional consolidating activities and to report this data to other Federal agencies.  \\\\tDMDC is the DoD Central Repository.  \\\\t  \\\\tComponent responsible official. The person designated by the Head of each DoD Component primarily responsible in the Component for coordinating, implementing, and managing the reporting system established by Reference (c).  \\\\t  \\\\tcredible information. Information disclosed or obtained that, considering the source and nature of the information and the totality of the circumstances, is sufficiently believable to indicate criminal activity has occurred and would cause a reasonable person under similar circumstances to pursue the facts of the case further.  \\\\t  \\\\tcriminal offense against a victim who is a minor. Any criminal offense that consists of, or that consists of an attempt to commit:  \\\\t  \\\\tKidnapping of a minor, except by a parent.  \\\\t  \\\\tFalse imprisonment of a minor, except by a parent. Criminal sexual conduct toward a minor.  \\\\tSolicitation of a minor to engage in sexual conduct. Use of a minor in a sexual performance.  \\\\tSolicitation of a minor to practice prostitution. Carnal knowledge of a minor.  \\\\tA conduct that by its nature is a sexual offense against a minor.  \\\\t  \\\\tDIBRS. The incident-based system used to report criminal and specifically identified incidents from initial law enforcement response to offender release from confinement. It includes provisions to comply with The Brady Handgun Violence Prevention Act of 1993, as amended, and References (b) and (f).  \\\\t  \\\\t  \\\\t  \\\\tdisability bias. A preformed negative opinion or attitude toward a group of persons based on their physical or mental impairments or challenges, whether such disability is temporary or permanent, congenital or acquired by heredity, accident, injury, advanced age, or illness.  \\\\t  \\\\tdisabled. Of or relating to persons who have physical or mental impairments or challenges, whether temporary or permanent, due to conditions that are congenital or acquired by accident, injury, advanced age, or illness; a disabled person.  \\\\t  \\\\tdomestic violence. The use, attempted use, or threatened use of force or violence that constitutes a UCMJ offense against a person of the opposite sex, or the violation of a lawful order issued for the protection of a person of the opposite sex, who is:  \\\\t  \\\\tA current or former spouse.  \\\\t  \\\\tA person with whom the abuser shares a child in common.  \\\\t  \\\\tA current or former intimate partner with whom the abuser shares or has shared a domicile.  \\\\t  \\\\tethnicity or national origin bias. A preformed negative opinion or attitude toward a group of persons of the same race or national origin, who share common or similar traits, languages, customs, and traditions (e.g., Arabs, Hispanics).  \\\\t  \\\\tfraternization offense. Any criminal offense pursuant to Article 133 or 134 of the UCMJ consisting of fraternization or entering into an unprofessional relationship, or any criminal offense based on violation of a punitive regulation or a lawful general order, in violation of Article 92 of the UCMJ, involving fraternization or entering into an unprofessional relationship.  \\\\t  \\\\tfunctional consolidating activity. The activity designated by a DoD Component to receive reports of incidents from one or more functional reporting areas, consolidate them, and report to a DoD Component central repository or to DMDC.  \\\\t  \\\\tfunctional responsible official. The person designated by the Head of each DoD Component who has primary responsibility for coordinating the implementation of the incident reporting system within the designated functional area (law enforcement, criminal investigation, judicial functions, and corrections) in the Component.  \\\\t  \\\\tgay. Of or relating to males who experience a sexual attraction toward, and responsiveness to, other males; a homosexual male.  \\\\t  \\\\thate crime.  See bias crime.  \\\\t  \\\\thate group. An organization whose primary purpose is to promote animosity, hostility, and malice against persons of a race, religion, ethnic or national origin, sexual orientation, or disability group that differs from that of the members of the organization (e.g., the Ku Klux Klan, American Nazi Party).  \\\\t  \\\\t  \\\\t  \\\\theterosexual. Of or relating to persons who experience a sexual attraction toward, and responsiveness to, members of the opposite sex; a heterosexual person.  \\\\t  \\\\thomosexual. Of or relating to persons who experience a sexual attraction toward, and responsiveness to, members of their own sex; a homosexual person.  \\\\t  \\\\tincident. For NIBRS reporting purposes, one or more offenses committed by the same offender, or group of offenders acting in concert, at the same time and place.  \\\\t  \\\\tlead agency.  The agency or organization whose agent or agents are first involved with an incident or to whom an incident is referred for investigation. When two or more agencies are involved, the NIBRS jurisdictional guidelines in subparagraph 1.b.(5) of Enclosure 4 should be used to designate the lead agency. If the lead agency designated pursuant to NIBRS guidelines is a non-DoD law enforcement agency, a Not Reportable to NIBRS incident report should be provided to the DIBRS by the lead DoD agency.  \\\\t  \\\\tlesbian. Of or relating to females who experience a sexual attraction toward, and responsiveness to, other females; a homosexual female.  \\\\t  \\\\tminor.  A child under the age of 16 years.  \\\\t  \\\\tracial bias. A preformed negative opinion or attitude toward a group of persons who possess common physical characteristics (e.g., color of skin, eyes, and hair; facial features) genetically transmitted by descent and heredity that distinguish them as a distinct division of humankind (e.g., Asians, blacks, whites).  \\\\t  \\\\treligious bias. A preformed negative opinion or attitude toward a group of persons who share the same religious beliefs regarding the origin and purpose of the universe and the existence or nonexistence of a supreme being (e.g., Catholics, Jews, Protestants, atheists).  \\\\t  \\\\treportable incident. An incident requiring the submission of specified data elements pursuant to Reference (c).  Reportable incidents include:  \\\\t  \\\\tDisciplinary incidents.  \\\\t  \\\\tIncidents reportable by the DoD Components pursuant to Reference (d). Incidents reportable by the DoD Components pursuant to Reference (n).  \\\\tA UCMJ criminal incident investigated by a military law enforcement organization pursuant to the receipt of credible information.  \\\\t  \\\\tA criminal incident involving fraternization, sexual harassment, a sex-related offense, a criminal offense against a victim who is a minor, or a hate or bias crime that is investigated by a  \\\\t  \\\\tcommander, military officer, or civilian in a supervisory position pursuant to the receipt of credible information.  \\\\t  \\\\tA criminal incident not investigated by a military law enforcement organization that is referred to court-martial and that serves as the basis for the imposition of non-judicial punishment or results in an administrative discharge. A DIBRS incident report is required when an administrative discharge is based primarily on the commission of a criminal offense, such as discharge in lieu of court-martial, separation for misconduct, and separation based on civilian conviction.  \\\\t  \\\\tCivilian criminal incidents committed by military personnel on active duty resulting in a felony conviction, as defined in the civilian jurisdiction in which the offense is tried.  \\\\t  \\\\tIncidents of domestic violence reportable by the DoD Components pursuant to section 1562 of Reference (i).  \\\\t  \\\\tIncidents involving the actual or attempted suicide of military personnel on active duty.  \\\\t  \\\\tIncidents that are the subject of counterintelligence investigations. These incidents shall not trigger DIBRS reporting requirements until a NIBRS-reportable arrest occurs or UCMJ charges UCMJ are preferred.  \\\\t  \\\\tsame time and place. Indicates that the time interval between offenses and the distance between the locations where they occurred are insignificant.  \\\\t  \\\\tsecured property.  Property that is in a container-type structure or upon the body of a person.  \\\\t  \\\\tsex-related offense. Any criminal offense that consists of sexual misconduct, including these offenses: rape, rape of a child, aggravated sexual assault, aggravated sexual assault of a child, aggravated sexual abuse of a child, aggravated sexual contact, aggravated sexual contact with a child, abusive sexual contact with a child, indecent liberty with a child, abusive sexual contact, indecent act, forcible pandering, wrongful sexual contact, indecent exposure, and sodomy; conduct prejudicial to good order a \\\\t  \\\\tsexual harassment. A form of sex discrimination that involves unwelcome sexual advances, requests for sexual favors, and other verbal or physical conduct of a sexual nature when:  \\\\t  \\\\tSubmission to such conduct is made either explicitly or implicitly a term or condition of a persons job or career.  \\\\t  \\\\tSubmission to or rejection of such conduct by a person is used as a basis for career or employment decisions affecting that person.  \\\\t  \\\\tSuch conduct has the purpose or effect of unreasonably interfering with an individuals work performance or creates an intimidating, hostile, or offensive working environment.  \\\\t  \\\\t  \\\\t  \\\\tsexual orientation bias. A preformed negative opinion or attitude toward a group of persons based on their sexual attraction toward, and responsiveness to, members of their own sex or members of the opposite sex (e.g., gays, lesbians, heterosexuals).  \\\\t  \\\\tspouse abuse. Includes assault, battery, threat to injure or kill, other act of force or violence, or emotional maltreatment inflicted on a partner in a lawful marriage when one of the partners is a Service member or is employed by the Department of Defense and is eligible for treatment in a Medical Treatment Facility. A spouse under 18 years of age shall be treated in this category pursuant to Reference (d).  \\\\t  \\\\tunfounded. A complaint that is determined through investigation to be false or baseless. In other words, no crime occurred. If the investigation shows that no offense occurred nor was attempted, procedures dictate that the reported offense must be coded unfounded. The recovery of stolen property, the low value of stolen property, the refusal of the victim to cooperate with prosecution, or the failure to make an arrest DOES NOT unfound a legitimate offense.  \\\\t6. PROPERTY SEGMENT  a. Property Segments are used to describe the type, value, and quantity of property involved in the incident.  The Property Segment data layout is displayed in Table 3.  b. The Property Segment is to be submitted for each type of property loss (e.g., burned, stolen).  c. Property Segments are submitted ONLY IF a property loss occurs during the commission of one or more of these offenses:  (1) Kidnapping/Abduction.  (2) Robbery.  (3) Arson.  (4) Extortion/Blackmail.  \\\\t(5) Burglary/Breaking and Entering. (6) Pocket-Picking. (7) Purse-Snatching. (8) Shoplifting. (9) Theft from Building. (10) Theft from Coin-Operated Machine or Device. (11) Theft from Motor Vehicle. (12) Theft of Motor Vehicle Parts or Accessories. (13) All Other Larceny. (14) Motor Vehicle Theft. (15) Counterfeiting/Forgery. (16) False Pretenses/Swindle/Confidence Game. (17) Credit Card/Automatic Teller Machine Fraud. (18) Impersonation. (19) Welfare Fraud. (20) Wire Fraud. (21) Embezzlement. (22) Destruct \\\\tTable 3.  Property Segment, Continued  \\\\tFIELD NUMBER FIELD NAME DOMAIN RECORD POSITION SIZE STANDARD NAME 39, Continued  J=PCP K=Other Hallucinogens L=Amphetamines/ Methamphetamines M=Other Stimulants N=Barbiturates O=Other Depressants P=Other Drugs Q=Steroids U=Unknown Type Drug X=Greater Than 4 405, 420, 435, 450 1 Derived: Drug Code Drug Classification Code 40 Estimated Drug Quantity 1 of 4 999999999.999 406, 421, 436, 451 12 Materiel Weight 41 Type Drug Measure 1 of 4 GM=Gram KG=Kilogram OZ=Ounce LB=Pound ML=Milliliter LT=Liter FO=Fluid Ounce \\\\t7. VICTIM SEGMENT  a. Victim Segments are used to describe the victims involved in the incident (e.g., their age, sex, race). A separate Victim Segment is to be submitted for each of the (up to 999) victims involved in the incident. There must be at least one Victim Segment in each incident report, except when a Group B offense is being reported. (See Table 9 in Volume 2.) The Victim Segment data layout is displayed in Table 4.  b. The data elements used in the Victim Segment are:  (1) Header Elements.  (2)'\""
      ]
     },
     "execution_count": 43,
     "metadata": {},
     "output_type": "execute_result"
    }
   ],
   "source": [
    "random_docs[8][\"GLOSSARY\"]"
   ]
  },
  {
   "cell_type": "markdown",
   "id": "f1979781-31fd-4de3-9fa9-ac7529b18d4f",
   "metadata": {
    "tags": []
   },
   "source": [
    "## Random Document 10"
   ]
  },
  {
   "cell_type": "code",
   "execution_count": 44,
   "id": "db29e1c1-a549-4abb-a229-e0b74c338da2",
   "metadata": {},
   "outputs": [
    {
     "data": {
      "text/plain": [
       "'100013_vol1.txt'"
      ]
     },
     "execution_count": 44,
     "metadata": {},
     "output_type": "execute_result"
    }
   ],
   "source": [
    "has_glossary[random_gen[9]]"
   ]
  },
  {
   "cell_type": "code",
   "execution_count": 45,
   "id": "c249b169-9903-4191-a953-116e383bd844",
   "metadata": {},
   "outputs": [
    {
     "data": {
      "text/plain": [
       "dict_keys(['Preamble', 'TABLE OF CONTENTS', '1.  ', '2.  ', 'GLOSSARY', 'ENCLOSURE 1 ', 'REFERENCES', 'ENCLOSURE 2 ', '3.  ', '4.  ', '5.  ', '6.  ', '7.  ', 'APPENDIX 1 ', '8.  ', '9.  ', '10.  ', '11.  ', '12.  ', '13.  ', '14.  ', 'APPENDIX 2 ', 'ENCLOSURE 3 '])"
      ]
     },
     "execution_count": 45,
     "metadata": {},
     "output_type": "execute_result"
    }
   ],
   "source": [
    "random_docs[9].keys()"
   ]
  },
  {
   "cell_type": "code",
   "execution_count": 46,
   "id": "ea5a8e2c-6f50-46ec-ab3f-f2bcfe5fc78d",
   "metadata": {},
   "outputs": [
    {
     "data": {
      "text/plain": [
       "'PART I.  ABBREVIATIONS AND ACRONYMS       CAC Common Access Card  CONUS continental U.S.  CPO CAC PIN reset project officer  CPR CAC PIN reset  CTA CAC PIN reset trusted agent  CVS Contractor Verification System     DEERS Defense Enrollment Eligibility Reporting System  DHRA Defense Human Resources Activity  DMDC Defense Manpower Data Center  DoDD DoD directive  DoDI DoD instruction     FBI Federal Bureau of Investigation     ID identification     MSC Military Sealift Command  MWR morale, welfare, and recreation     NACI National Agency Check with Inquiries  NAF non-appropriated fund  NATO North Atlantic Treaty Organization  NIPRNet Nonsecure Internet Protocol Router Network  NOAA National Oceanic and Atmospheric Administration      OMB Office of Management and Budget   OUSD(P&R) Office of the Under Secretary of Defense, Personnel and Readiness      PIN personal identification number  PIV personal identity verification  PKI public key infrastructure  POW prisoner of war     RAPIDS Real-Time Automated Personnel Identification System     SPO service project office  SPOC service point of contact  SSM site security manager     TA trusted agent       TAD/TDY temporary assigned duty / temporary duty  TASM trusted agent security manager  TASS Trusted Associate Sponsorship System     UMP-PIP User Maintenance Portal - Post-Issuance Portal  U.S.C. United States Code  USD(I&S) Under Secretary of Defense for Intelligence and Security  USD(P&R) Under Secretary of Defense for Personnel and Readiness  USPHS U.S. Public Health Service     VO verifying official       PART II.  DEFINITIONS     Unless otherwise noted, these terms and their definitions are for the purpose of this Volume.    access to a DoD network.  User logon to a Windows active directory account on the Nonsecure  Internet Protocol Router Network (NIPRNet) or an authorized network operating system account  on the NIPRNet.    access to a DoD network (remote).  Authorized NIPRNet users accessing a NIPRNet resource  from:     Another NIPRNet resource outside of the originating domain; or    An authorized system that resides outside of the NIPRNet.  This includes domain-level   access from handheld devices.  Remote access includes logon for the purposes of telework,  Virtual Private Network, and remote administration by DoD or non-DoD personnel.     certified document.  Must be a certified true original and should convey the appropriate seal or  markings of the issuer, or have a means to validate the authenticity of the document by a  reference or source number, or be a notarized legal document or other document approved by a  Judge Advocate, or have the appropriate certificate of authentication by a U.S. Consular Officer  in the foreign country of issuance which attests to the authenticity of the signature and seal.    certified English translation.  See requirements for certified document.      civilian employee.  DoD civilian employees, as defined in section 2105 of title 5, U. S.C.  (Reference (z)) are individuals appointed to positions by designated officials.  Appointments to  appropriated fund positions are either permanent or time-limited and the employees are on full- time, part-time, or intermittent work schedules.  In some instances, the appointments are seasonal  with either a full-time, part-time, or intermittent work schedule.  Positions are categorized further  as Senior Executive Service, Competitive Service, and Excepted Service positions.  In addition,  DoD employs individuals paid from NAFs, as well as foreign national citizens outside the United  States, its territories, and its possessions, in DoD activities overseas.  The terms and conditions       of host-nation citizen employment are governed by controlling treaties, agreements, and  memoranda of understanding with the foreign nations.      civilian noncombatant personnel.  Personnel who have been authorized to accompany military  forces of the United States in regions of conflict, combat, and contingency operations and who  are liable to capture and detention by the enemy as POWs.      competitive service positions.  See section 2102 of Reference (z).    contingency operation.  Defined in Reference (u).     contractors authorized to accompany the force.  Defined in Reference (u).    contractor employee.  An employee of a firm, or individual under contract or subcontract to the  DoD, designated as providing services or support to the Department.     CPR.  A portable, single-purpose system capable of providing timely PIN reset capability to the  field without requiring a CAC holder to return to a CAC issuance facility (i.e., RAPIDS  workstation).      cross-servicing.  Agreement amongst all uniformed services to assist members regardless of the  parent service of that member or their dependents for all matter ID card or benefits related when  appropriate.      dependent.  An individual whose relationship to the sponsor leads to entitlement to benefits and  privileges.     dual status.  A person who is entitled to privileges from two sources (e.g., a retired member, who  is also the dependent of an active duty member; a retired-with-pay member who is employed  overseas as a civilian by the U.S. Government and is qualified for logistical support because of  that civilian employment; a member of a Reserve Component who is an eligible dependent of an  active duty military sponsor; or a child, who is the natural child of one sponsor and the stepchild  and member of a household of another sponsor).   eligibility documentation.  Properly certified birth certificate or certificate of live birth  authenticated by attending physician or other responsible person from a U.S. hospital or a  military treatment facility showing the name of at least one parent; properly certified marriage  certification; properly certified final decree of divorce, dissolution, or annulment of marriage and  statements attesting to nonremarriage and status of employer-sponsored healthcare; court order  for adoption or guardianship; statement of incapacity from a physician or personnel or medical   \"headquarters of sponsor\\'s parent uniformed service; letter from school registrar; retirement orders \",(providing entitlement to retired pay is established) or DD Form 214 Certificate of Release or  Discharge from Active Duty; DD Form 1300, Report of Casualty; certification from the  Department of Veterans Affairs of 100 percent disabled status; orders awarding Medal of  Honor; formal determination of eligibility for Medicare Part A benefits from the Social Security  Administration; civilian personnel records; and invitational travel orders.         excepted service positions.  Defined in section 2103 of Reference (z).    federally controlled facility.  Defined in OMB Memorandum M-05-24 (Reference (aa)).    foreign national civilians and contractors.  A category of personnel that are CAC-eligible if  sponsored by their government as part of an official visit or assigned to work on a DoD facility  and/or require access to DoD networks both on site or remotely (remote access must be on an  exception only basis for this category).      former member.  An individual who is eligible for, or entitled to, retired pay for non-Regular  service in accordance with chapter 1223 of Reference (s), but who has been discharged from the  Service and who maintains no military affiliation.     former spouses.  Individuals who were married to a uniformed services member for at least 20  years, and the member had at least 20 years of service creditable toward retirement, and the  marriage overlapped by:  20 or more years (20/20/20); 15, but less than 20 (20/20/15); an abused  spouse whose marriage overlapped by 10 or more years (10/20/10).    full-time work schedule.  Full-time employment with a basic 40-hour work week.    Individual Ready Reserve.  Defined in Reference (vu).     Intergovernmental Personnel Act employees.  The Intergovernmental Personnel Act mobility  program provides temporary assignment of personnel between the Federal Government and State  and local governments, colleges and universities, Indian tribal governments, federally funded  research and development centers, and other eligible organizations.    intermittent work schedule.  Employment without a regularly scheduled tour of duty.    member.  An individual who is affiliated with a Service, e.g., active duty, Reserve, active duty  retired, or Retired Reserve.  Members in a retired status are not former members.  See the  definition of former member.    NACI.  The minimum investigation conducted by the Office of Personnel Management (OPM)  for federal employment in nonsensitive positions and for individuals requiring eligibility for  logical and physical access.   The NACI consists of a records check (of designated agencies of  the Federal Government that maintain record systems containing information relevant to making  a personnel security determination) plus written inquiries to law enforcement agencies, former  employers and supervisors, references and schools covering the last 5 years.      NAF employees.  NAF employees are Federal employees within the Department who are paid  from NAFs.  Section 2105 of Reference (z) explains the status of NAF employees as Federal  employees.          part-time work schedule.  Part-time employment of 16 to 32 hours a week under a schedule  consisting of an equal or varied number of hours per day.    permanent employee.  Career or career-conditional appointment in the Competitive or Senior  Executive Service or an appointment in the Excepted Service that carries no restrictions or  conditions.    Ready Reserve.  Defined in Reference (vu).    Retired Reserve entitled to pay at age 60 (Gray Area Retirees).  Reserve members who have  completed 20 qualifying years for retirement and are entitled to receive pay at age 60, but have  not yet reached age 60.  Individuals may be recalled to active duty under Reference (r).    seasonal employment.  Annually recurring periods of work of less than 12 months each year.   Seasonal employees generally are permanent employees who are placed in non-duty or non-pay  status and recalled to duty in accordance with pre-established conditions of employment.   Seasonal employees may have full-time, part-time, or intermittent work schedules.    Selected Reserve.  Defined in Reference (u).    Senior Executive Service positions.  Appropriated fund positions in an agency classified above  General Service-15 pursuant to section 5108 or in level 4 or 5 of the Executive Schedule, or an  equivalent position, which is not required to be filled by an appointment by the President by and  with the advice and consent of the Senate.    SPO.  The uniformed services, National Guard and Reserve Component, and agency-level office  that coordinates with OUSD(P&R) on policy and functional matters related to DEERS, RAPIDS,  and TASS, and manages ID card operations within the respective organization.    sponsor.  The person affiliated to a DoD or other Federal agency who takes responsibility for  verifying and authorizing the applicants need for an ID card.        spouse.  A person legally married to a current, former, or retired uniformed service member,  eligible civilian employee, or other eligible individual, in accordance with this volume,  regardless of gender or state of residence.    SSM.  The SPO-appointed individual that manages the daily operations at a RAPIDS site to  include managing users, cardstock, and consumables.    Standby Reserve.  Defined in Reference (u).    temporary assignment.  An appointment for a specified period not to exceed 1 year.  A temporary  assignment can be extended up to a maximum of 1 additional year.         TA.  An individual appointed by a TASM that serves as a sponsor for eligible populations within  TASS, utilizes TASS to register data for the DD Form 1172-2, re-verifies CAC holder affiliation,  and revokes CACs.    TASM.  An individual appointed by a SPO to oversee the activity for a specific TASS site and  associated TAs.  These individuals also serve in the TA role.    TASS (formerly known as CVS).  A web application used to verify that CAC applicants have the  appropriate government sponsorship for the purpose of issuing CACs.  The TASS web interface  automates the DD Form 1172-2 for tracking the request process and updating DEERS with  applicant information required for CAC issuance.  The system also provides a mechanism for  periodic re-verification of contractor eligibility to ensure that information is current and  contractor CACs do not remain active when not appropriate.  This capability will be expanded to  support registration and background investigation confirmation for additional CAC eligible  populations.       VO.  An individual who is responsible for validating eligibility of bona fide beneficiaries to  receive benefits and entitlements.    \\\\tMANUAL\\''"
      ]
     },
     "execution_count": 46,
     "metadata": {},
     "output_type": "execute_result"
    }
   ],
   "source": [
    "random_docs[9][\"GLOSSARY\"]"
   ]
  },
  {
   "cell_type": "markdown",
   "id": "958fcdfc-6ab3-4ca8-9d8e-328a914b4d7a",
   "metadata": {
    "tags": []
   },
   "source": [
    "## Random Document 11"
   ]
  },
  {
   "cell_type": "code",
   "execution_count": 47,
   "id": "fa58dea2-d9b0-4dc6-9ceb-7b02f6b717c1",
   "metadata": {},
   "outputs": [
    {
     "data": {
      "text/plain": [
       "'511120p.txt'"
      ]
     },
     "execution_count": 47,
     "metadata": {},
     "output_type": "execute_result"
    }
   ],
   "source": [
    "has_glossary[random_gen[10]]"
   ]
  },
  {
   "cell_type": "code",
   "execution_count": 48,
   "id": "bc314bfa-b82c-4d1c-a3ac-c5e91edbae5e",
   "metadata": {},
   "outputs": [
    {
     "data": {
      "text/plain": [
       "dict_keys(['Preamble', 'TABLE OF CONTENTS', 'SECTION 1', '1.1.  ', '1.2.  ', '1.3.  ', 'SECTION 2', '2.1.  ', '2.2.  ', '2.3.  ', '2.4.  ', '2.5.  ', '2.6.  ', 'SECTION 3', '3.1.  ', '3.2.  ', '3.3.  ', '3.4.  ', '3.5.  ', '3.6.  ', '3.7.  ', '3.8.  ', 'GLOSSARY', 'REFERENCES', '3.4. '])"
      ]
     },
     "execution_count": 48,
     "metadata": {},
     "output_type": "execute_result"
    }
   ],
   "source": [
    "random_docs[10].keys()"
   ]
  },
  {
   "cell_type": "code",
   "execution_count": 49,
   "id": "8e06c61b-da86-4385-b0b7-7fddcd6d3f0b",
   "metadata": {},
   "outputs": [
    {
     "data": {
      "text/plain": [
       "'GLOSSARY   G.1.  ACRONYMS.   ANG Air National Guard  AOR area of responsibility  ARNG Army National Guard  ASD(SPC) Assistant Secretary of Defense for Strategy, Plans, and Capabilities     BAO bilateral affairs officer     CCMD combatant command  CJCS Chairman of the Joint Chiefs of Staff  COM Chief of Mission  CNGB Chief, National Guard Bureau     FY fiscal year  FYDP Future Years Defense Program     GCC geographic Combatant Commander  G-TSCMIS Global Theater Security Cooperation Management Information System     MoD Ministry of Defense     NG National Guard  NGB National Guard Bureau     P.L. Public Law  PN partner nation     SCO security cooperation officer  SecState Secretary of State  SPP State Partnership Program  SPPD State Partnership Program Director     TAG The Adjutant General  TCP Theater Campaign Plan     U.S.C. United States Code  USD(P) Under Secretary of Defense for Policy   G.2.  DEFINITIONS.  Unless otherwise noted, these terms and their definitions are for the  purpose of this issuance.         BAO.  A NG officer from the partner State or territory who serves as the liaison between that  partner State and the U.S. embassy or SCO, with duties in the SPP PN.  During his or her tour,  the BAO reports to the SCO in the SPP PN and coordinates SPP and NG security cooperation  activities among the CCMD, the State, and the PN.   disaster or emergency response organizations of a foreign country.  Government  organizations of a foreign country whose primary functions include:   Disaster preparedness, mitigation, response, and recovery;   Chemical, biological, radioactive, nuclear, and high-yield explosives preparedness and  response;   Consequence management;   Critical infrastructure or installation protection;   Search and rescue;   Support to public health; or   Planning or security for a national special security event (e.g., World Cup, Olympics).   FYDP.  Program and financial plan for the DoD as approved by the Secretary of Defense.  The  FYDP arrays cost data, manpower, and force structure over a five-year period (force structure for  an additional three years), portraying this data by major force program for DoD internal review  for the program and budget review submission.  It is also provided to the Congress annually in  conjunction with the Presidents budget.    incremental expense.  The reasonable and proper cost of goods and services, including rations,  fuel, training ammunition, transportation, consumed by a foreign countrys personnel as a direct  result of the countrys participation in SPP activities.  Incremental expenses do not include the  cost of any form of lethal assistance (excluding training ammunition), or pay, allowances, or  other normal costs of personnel of the country.   security cooperation.  Activities undertaken by DoD to encourage and enable international  partners to work with the United States to achieve strategic objectives.  It includes all DoD  interactions with foreign defense and security establishments, including all activities authorized  under DoD authorities, and DoD-administered security assistance programs that build defense  and security relationships that promote specific U.S. security interests.     SPP.  A DoD security cooperation program consisting of all State Partnerships authorized by  Section 1205 of P.L. 113-66, as amended, under which programs of activities of members of the  NG of a State or territory and the military forces, or security forces, or other government  organizations (but only those with primary functions that include disaster response or emergency  response) of a foreign country may be established.         SPP activity.  Any security cooperation activity authorized by law, supported by funds  authorized to be appropriated to the DoD for such activity, occurring between a U.S. States NG  personnel and the personnel of that States SPP PN.     SPPD.  An NG member designated by the CNGB who is responsible for the coordination of  activities under a State Partnership.  Designation of an NG member as SPPD does not imply  assignment to managing or implementing SPP as a full-time responsibility.   SPP PN.  A foreign nation with which DoD has established a State Partnership at the request of a  GCC, with USD(P) approval and SecState concurrence.   State Partnership.  A program of activities of members of the NG of a U.S. State or territory  with a foreign countrys military forces, security forces, or other government organizations,  established by the DoD at the request of a GCC, with USD(P) approval and SecState  concurrence.       '"
      ]
     },
     "execution_count": 49,
     "metadata": {},
     "output_type": "execute_result"
    }
   ],
   "source": [
    "random_docs[10][\"GLOSSARY\"]"
   ]
  },
  {
   "cell_type": "markdown",
   "id": "8e783993-8185-4093-924b-db4233149172",
   "metadata": {
    "tags": []
   },
   "source": [
    "## Random Document 12"
   ]
  },
  {
   "cell_type": "code",
   "execution_count": 50,
   "id": "82fad338-3f48-4a10-aae3-5d1747b2b95b",
   "metadata": {},
   "outputs": [
    {
     "data": {
      "text/plain": [
       "'100021e.txt'"
      ]
     },
     "execution_count": 50,
     "metadata": {},
     "output_type": "execute_result"
    }
   ],
   "source": [
    "has_glossary[random_gen[11]]"
   ]
  },
  {
   "cell_type": "code",
   "execution_count": 51,
   "id": "2a252f81-6c35-4a50-b680-40ce6b0da472",
   "metadata": {},
   "outputs": [
    {
     "data": {
      "text/plain": [
       "dict_keys(['Preamble', '1.  ', '2.  ', '3.  ', '4.  ', '5.  ', '6.  ', '7.  ', 'GLOSSARY'])"
      ]
     },
     "execution_count": 51,
     "metadata": {},
     "output_type": "execute_result"
    }
   ],
   "source": [
    "random_docs[11].keys()"
   ]
  },
  {
   "cell_type": "code",
   "execution_count": 52,
   "id": "76d44103-52ab-4d41-9e77-d6f0980eda2d",
   "metadata": {},
   "outputs": [
    {
     "data": {
      "text/plain": [
       "\"GLOSSARY                                  DEFINITIONS   These terms and their definitions are for the purpose of this Directive.     DoD employees.  Includes civilian employees of the Department of Defense and members of the  Military Services.   official travel.  Traveling in the discharge of U.S. Government business at Government expense.     passport.  An internationally recognized travel document issued under the authority of the  Secretary of State attesting to the identity and nationality of the bearer.  DoS issues three types of  passports:      A regular tourist passport, issued to a citizen of the United States traveling abroad for  personal or business reasons.    An official no-fee passport, issued to an official or employee of the U.S. Government  traveling abroad in the discharge of official duties.    A diplomatic passport, issued to a foreign service officer, a person in the diplomatic service,  or a person having diplomatic status either because of the nature of his or her foreign mission or  by reason of the office he or she holds.     passport agent.  A person authorized and empowered by the Secretary of State, the DoD EA for  DoD Passport and Passport Agent Services, or the Secretaries of the Military Departments to  accept passport applications and perform passport services to include administering oaths for  passport purposes.   visa.  A stamp or impression placed on a page of a valid passport by a foreign embassy or  consulate empowered to grant permission, as of the date issued, for the applicant to enter and  remain in that country for a specific period of time.    \\\\tDIRECTIVE'\""
      ]
     },
     "execution_count": 52,
     "metadata": {},
     "output_type": "execute_result"
    }
   ],
   "source": [
    "random_docs[11][\"GLOSSARY\"]"
   ]
  },
  {
   "cell_type": "markdown",
   "id": "e374cd22-a2de-4ede-aec6-4bce46385eec",
   "metadata": {
    "tags": []
   },
   "source": [
    "## Random Document 13"
   ]
  },
  {
   "cell_type": "code",
   "execution_count": 53,
   "id": "576cd27f-d3ac-4cd4-8f6d-56bfa6bffbf9",
   "metadata": {},
   "outputs": [
    {
     "data": {
      "text/plain": [
       "'552520p.txt'"
      ]
     },
     "execution_count": 53,
     "metadata": {},
     "output_type": "execute_result"
    }
   ],
   "source": [
    "has_glossary[random_gen[12]]"
   ]
  },
  {
   "cell_type": "code",
   "execution_count": 54,
   "id": "c1ff09d4-dd08-4c95-b2b2-aca6fa8770f8",
   "metadata": {},
   "outputs": [
    {
     "data": {
      "text/plain": [
       "dict_keys(['Preamble', 'TABLE OF CONTENTS', 'SECTION 1', '1.1.  ', '1.2.  ', '1.3.  ', 'SECTION 2', '2.1.  ', '2.2.  ', '2.3.  ', '2.4.  ', 'SECTION 3', '3.1.  ', '3.2.  ', '3.3.  ', '3.4.  ', '3.5.  ', 'GLOSSARY', 'REFERENCES', '3.2. '])"
      ]
     },
     "execution_count": 54,
     "metadata": {},
     "output_type": "execute_result"
    }
   ],
   "source": [
    "random_docs[12].keys()"
   ]
  },
  {
   "cell_type": "code",
   "execution_count": 55,
   "id": "1d3e7694-6353-4bf8-ae20-9617c8fd51de",
   "metadata": {},
   "outputs": [
    {
     "data": {
      "text/plain": [
       "'GLOSSARY 13   RSO.  A person who has been convicted of a crime involving a sexual act where the federal,  State, or local laws require them to be placed on a sexual offender registry.   sex offender.  Defined in SORNA.   SORNA Exchange Portal.  The Internet-based portal that provides a venue for better  communication between criminal justice jurisdictions and sex offender registry officials.        '"
      ]
     },
     "execution_count": 55,
     "metadata": {},
     "output_type": "execute_result"
    }
   ],
   "source": [
    "random_docs[12][\"GLOSSARY\"]"
   ]
  },
  {
   "cell_type": "markdown",
   "id": "c36fd8b5-2c47-4709-9361-922e336f203b",
   "metadata": {
    "tags": []
   },
   "source": [
    "## Random Document 14"
   ]
  },
  {
   "cell_type": "code",
   "execution_count": 56,
   "id": "514701ac-a7dc-4e0a-8e17-56baef455536",
   "metadata": {},
   "outputs": [
    {
     "data": {
      "text/plain": [
       "'602524p.txt'"
      ]
     },
     "execution_count": 56,
     "metadata": {},
     "output_type": "execute_result"
    }
   ],
   "source": [
    "has_glossary[random_gen[13]]"
   ]
  },
  {
   "cell_type": "code",
   "execution_count": 57,
   "id": "aa72c269-a95b-462c-ae9b-069888192bd9",
   "metadata": {
    "tags": []
   },
   "outputs": [
    {
     "data": {
      "text/plain": [
       "dict_keys(['Preamble', '1.  ', '2.  ', '3.  ', '4.  ', '5.  ', '6.  ', '7.  ', 'ENCLOSURE 1 ', 'REFERENCES', 'ENCLOSURE 2 ', 'ENCLOSURE 3 ', 'GLOSSARY'])"
      ]
     },
     "execution_count": 57,
     "metadata": {},
     "output_type": "execute_result"
    }
   ],
   "source": [
    "random_docs[13].keys()"
   ]
  },
  {
   "cell_type": "code",
   "execution_count": 58,
   "id": "f5125214-f26d-4849-bfcd-bd07e980248d",
   "metadata": {
    "tags": []
   },
   "outputs": [
    {
     "data": {
      "text/plain": [
       "\"PART I.  ABBREVIATIONS AND ACRONYMS       ASD(HA)      Assistant Secretary of Defense for Health Affairs    MTF medical treatment facility     NOAA National Oceanic and Atmospheric Administration     USPHS United States Public Health Service      PART II.  DEFINITIONS       These terms and their definitions are for the purpose of this instruction.    dependent.   As defined in section 1072(2) of Reference (b).     food.  Any substance consumed to provide nutritional support for the body.      food service.  Includes nutrition, acquisition and distribution of food supplies and equipment,  menu and recipe planning, meal preparation and serving, sanitation, design, and layout of  facilities personnel, training, and accounting and reporting.     medical staff.  Employees of the MTF including physicians, registered nurses, physician  assistants, and registered dietitians.     MTFs.  Those inpatient and outpatient facilities owned, staffed, and managed by the Military  Departments.    patients.  A sick, injured, wounded, or other person requiring medical or dental care or treatment.    uniformed services.  The United States Army, Navy, Air Force, Marine Corps, Coast Guard,  Commissioned Corps of NOAA, and Commissioned Corps of the USPHS.    \\\\tINSTRUCTION'\""
      ]
     },
     "execution_count": 58,
     "metadata": {},
     "output_type": "execute_result"
    }
   ],
   "source": [
    "random_docs[13][\"GLOSSARY\"]"
   ]
  },
  {
   "cell_type": "markdown",
   "id": "6748c0a1-a564-48a0-b367-717647357ed9",
   "metadata": {
    "tags": []
   },
   "source": [
    "## Random Document 15"
   ]
  },
  {
   "cell_type": "code",
   "execution_count": 60,
   "id": "92af86e2-0dce-44a9-b91c-5c59f99b0915",
   "metadata": {},
   "outputs": [
    {
     "data": {
      "text/plain": [
       "'416550e.txt'"
      ]
     },
     "execution_count": 60,
     "metadata": {},
     "output_type": "execute_result"
    }
   ],
   "source": [
    "has_glossary[random_gen[14]]"
   ]
  },
  {
   "cell_type": "code",
   "execution_count": 61,
   "id": "2b71941d-72fe-4577-a364-0164a23c5fea",
   "metadata": {
    "tags": []
   },
   "outputs": [
    {
     "data": {
      "text/plain": [
       "dict_keys(['Preamble', '1.  ', '2.  ', '3.  ', '4.  ', '5.  ', '6.  ', '7.  ', 'ENCLOSURE 1 ', 'REFERENCES', 'ENCLOSURE 2 ', 'GLOSSARY'])"
      ]
     },
     "execution_count": 61,
     "metadata": {},
     "output_type": "execute_result"
    }
   ],
   "source": [
    "random_docs[14].keys()"
   ]
  },
  {
   "cell_type": "code",
   "execution_count": 62,
   "id": "ed062075-f834-4095-bead-559537d363bf",
   "metadata": {
    "tags": []
   },
   "outputs": [
    {
     "data": {
      "text/plain": [
       "\"PART I.  ABBREVIATIONS AND ACRONYMS    DoDD Department of Defense Directive  ASD(EI&E) Assistant Secretary of Defense for Energy, Installations, and Environment     EA Executive Agent     HAP Homeowners Assistance Program     USD(AT&L) Under Secretary of Defense for Acquisition, Technology, and Logistics  USD(C)/CFO Under Secretary of Defense (Comptroller)/Chief Financial Officer,   Department of Defense      PART II.  DEFINITIONS     These terms and their definitions are for the purposes of this directive.    DoD Homeowners Assistance Fund.  A non-expiring revolving defense fund that provides  assistance to DoD personnel and Coast Guard personnel who sustain a loss on the sale of their  primary residence due to declining residential real estate markets attributable to the closure or  realignment of military installations.      Future Years Defense Program.  A DoD database and internal accounting system that  summarizes forces and resources associated with programs approved by the Secretary of  Defense.     \\\\tDIRECTIVE'\""
      ]
     },
     "execution_count": 62,
     "metadata": {},
     "output_type": "execute_result"
    }
   ],
   "source": [
    "random_docs[14][\"GLOSSARY\"]"
   ]
  }
 ],
 "metadata": {
  "kernelspec": {
   "display_name": "Python 3",
   "language": "python",
   "name": "python3"
  },
  "language_info": {
   "codemirror_mode": {
    "name": "ipython",
    "version": 3
   },
   "file_extension": ".py",
   "mimetype": "text/x-python",
   "name": "python",
   "nbconvert_exporter": "python",
   "pygments_lexer": "ipython3",
   "version": "3.7.11"
  }
 },
 "nbformat": 4,
 "nbformat_minor": 5
}
