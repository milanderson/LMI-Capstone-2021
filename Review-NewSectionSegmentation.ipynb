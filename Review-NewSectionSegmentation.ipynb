{
 "cells": [
  {
   "cell_type": "code",
   "execution_count": 1,
   "id": "ee6eee55-c6b8-4d14-91bf-5ff5baff8329",
   "metadata": {},
   "outputs": [],
   "source": [
    "from NewSectionSegmentation import SectionSegmentation\n",
    "import pandas as pd\n",
    "import string\n",
    "import re\n",
    "import random"
   ]
  },
  {
   "cell_type": "code",
   "execution_count": 2,
   "id": "08b012e5-1d21-4506-bc92-a98347cf191c",
   "metadata": {},
   "outputs": [],
   "source": [
    "allDocs = pd.read_csv(\"full_dataframe.csv\")\n",
    "\n",
    "segmented = SectionSegmentation()\n",
    "segmented.documents(allDocs)\n",
    "segmented.sectionSegmentation()"
   ]
  },
  {
   "cell_type": "code",
   "execution_count": 3,
   "id": "753fdcf8-223e-46a7-a2d7-c3c9f1b6ad54",
   "metadata": {},
   "outputs": [
    {
     "data": {
      "text/plain": [
       "69"
      ]
     },
     "execution_count": 3,
     "metadata": {},
     "output_type": "execute_result"
    }
   ],
   "source": [
    "segmented.unsegmented_docs"
   ]
  },
  {
   "cell_type": "code",
   "execution_count": 4,
   "id": "2c4b60df-4182-4645-829a-585b4c0c5b5a",
   "metadata": {},
   "outputs": [
    {
     "data": {
      "text/plain": [
       "1326"
      ]
     },
     "execution_count": 4,
     "metadata": {},
     "output_type": "execute_result"
    }
   ],
   "source": [
    "len(allDocs)"
   ]
  },
  {
   "cell_type": "code",
   "execution_count": 5,
   "id": "107922cb-17a8-4fde-9f0f-3059737af6dd",
   "metadata": {},
   "outputs": [],
   "source": [
    "keys = list(segmented.segmented_docs.keys())"
   ]
  },
  {
   "cell_type": "code",
   "execution_count": 6,
   "id": "ca649580-cb4f-428f-a7ba-3e38eac98bc8",
   "metadata": {},
   "outputs": [],
   "source": [
    "has_glossary = []\n",
    "for key in keys:\n",
    "    doc = segmented.segmented_docs[key]\n",
    "    doc_keys = list(doc.keys())\n",
    "    match = [doc_key for doc_key in doc_keys if re.search(\"glossary|acronyms|definitions|part\", doc_key, flags=re.IGNORECASE)]\n",
    "    if match:\n",
    "        has_glossary.append(key)"
   ]
  },
  {
   "cell_type": "code",
   "execution_count": 7,
   "id": "fb29910e-d3f9-464d-b746-4b8c9e69dbf5",
   "metadata": {},
   "outputs": [],
   "source": [
    "with_glossary = len(has_glossary)"
   ]
  },
  {
   "cell_type": "code",
   "execution_count": 8,
   "id": "b6451e5e-53d7-4a16-ba1d-a2cf2dd0ea4c",
   "metadata": {},
   "outputs": [
    {
     "data": {
      "text/plain": [
       "1000"
      ]
     },
     "execution_count": 8,
     "metadata": {},
     "output_type": "execute_result"
    }
   ],
   "source": [
    "with_glossary"
   ]
  },
  {
   "cell_type": "code",
   "execution_count": 9,
   "id": "150667b8-cdf1-45f4-9de6-8fe68f5289bb",
   "metadata": {},
   "outputs": [],
   "source": [
    "total_docs = len(allDocs)"
   ]
  },
  {
   "cell_type": "code",
   "execution_count": 10,
   "id": "67b47d67-12d0-497f-993c-29b247ad4035",
   "metadata": {},
   "outputs": [
    {
     "data": {
      "text/plain": [
       "0.7541478129713424"
      ]
     },
     "execution_count": 10,
     "metadata": {},
     "output_type": "execute_result"
    }
   ],
   "source": [
    "with_glossary / total_docs"
   ]
  },
  {
   "cell_type": "code",
   "execution_count": 11,
   "id": "02db9523-7e3c-483f-99bc-d9763cf25b0f",
   "metadata": {},
   "outputs": [],
   "source": [
    "random.seed(1234)\n",
    "random_gen = [random.randint(0, with_glossary - 1) for i in range(15)]"
   ]
  },
  {
   "cell_type": "code",
   "execution_count": 12,
   "id": "cc5b2bb4-75f1-4563-b31c-c19b45cb92e0",
   "metadata": {},
   "outputs": [
    {
     "name": "stdout",
     "output_type": "stream",
     "text": [
      "[989, 796, 451, 119, 7, 92, 932, 965, 961, 826, 596, 35, 687, 709, 85]\n"
     ]
    }
   ],
   "source": [
    "print(random_gen)"
   ]
  },
  {
   "cell_type": "code",
   "execution_count": 13,
   "id": "6f9cd2d9-013b-49f9-9ef0-564067a14359",
   "metadata": {},
   "outputs": [],
   "source": [
    "random_docs = [segmented.segmented_docs[has_glossary[i]] for i in random_gen]"
   ]
  },
  {
   "cell_type": "markdown",
   "id": "b2c2bc57-49b2-469e-97c6-26dbe9853447",
   "metadata": {
    "tags": []
   },
   "source": [
    "## Random Document 1"
   ]
  },
  {
   "cell_type": "code",
   "execution_count": 14,
   "id": "9cae8e96-d17c-4e46-9cf2-9f2f8cef1be7",
   "metadata": {},
   "outputs": [
    {
     "data": {
      "text/plain": [
       "'AI08_2016.txt'"
      ]
     },
     "execution_count": 14,
     "metadata": {},
     "output_type": "execute_result"
    }
   ],
   "source": [
    "has_glossary[0]"
   ]
  },
  {
   "cell_type": "code",
   "execution_count": 15,
   "id": "754f7b1d-357c-4bee-8e38-c36e5d6e7128",
   "metadata": {},
   "outputs": [
    {
     "data": {
      "text/plain": [
       "dict_keys(['Preamble', 'ATTACHMENT 1 ', 'REFERENCES', 'ATTACHMENT 2 ', '1.  ', '2.  ', 'ATTACHMENT 3 ', 'GLOSSARY'])"
      ]
     },
     "execution_count": 15,
     "metadata": {},
     "output_type": "execute_result"
    }
   ],
   "source": [
    "random_docs[0].keys()"
   ]
  },
  {
   "cell_type": "code",
   "execution_count": 16,
   "id": "f53b381a-392f-47ab-b226-7baa393b72e9",
   "metadata": {},
   "outputs": [
    {
     "data": {
      "text/plain": [
       "\"GLOSSARY   ABBREVIATIONS AND ACRONYMS   DoDI DoD instruction  DTM directive-type memorandum     EMFR electromagnetic field radiation     MPE maximum permissible exposure       \\\\tATTACHMENT 1 \\\\tREFERENCES \\\\tATTACHMENT 2 \\\\tRESPONSIBILITIES \\\\tATTACHMENT 3 \\\\tPROCEDURES \\\\tGLOSSARY'\""
      ]
     },
     "execution_count": 16,
     "metadata": {},
     "output_type": "execute_result"
    }
   ],
   "source": [
    "random_docs[0][\"GLOSSARY\"]"
   ]
  },
  {
   "cell_type": "code",
   "execution_count": 17,
   "id": "9f820fbd-cf85-49d4-9f83-8dcb2b7921bd",
   "metadata": {},
   "outputs": [
    {
     "data": {
      "text/plain": [
       "'1.  ASSISTANT SECRETARY OF DEFENSE FOR READINESS.  Under the authority,  direction, and control of the Under Secretary of Defense for Personnel and Readiness, the  Assistant Secretary of Defense for Readiness:   a.  Oversees the implementation of this DTM.   b.  Develops and updates DoD EMFR and laser protection policies, procedures, and  guidance to continuously improve EMFR and laser safety and health.   c.  Charters the Tri-Service EMF Radiation Protection Working Group and the Laser  Systems Safety Working Group as described in DoDIs 6055.11 and 6055.15, respectively, to  coordinate risk assessments of, and risk management procedures for, systems in development or  used by multiple DoD Components.  '"
      ]
     },
     "execution_count": 17,
     "metadata": {},
     "output_type": "execute_result"
    }
   ],
   "source": [
    "random_docs[0][\"1.  \"]"
   ]
  },
  {
   "cell_type": "markdown",
   "id": "4716cd8c-e3ab-4653-a1cc-ae32377f120a",
   "metadata": {
    "tags": []
   },
   "source": [
    "## Random Document 2"
   ]
  },
  {
   "cell_type": "code",
   "execution_count": 18,
   "id": "f131fff2-db39-4b24-88b2-14de8c04893f",
   "metadata": {},
   "outputs": [
    {
     "data": {
      "text/plain": [
       "'AI120_2017.txt'"
      ]
     },
     "execution_count": 18,
     "metadata": {},
     "output_type": "execute_result"
    }
   ],
   "source": [
    "has_glossary[1]"
   ]
  },
  {
   "cell_type": "code",
   "execution_count": 19,
   "id": "f9ceb7f8-f2a7-46df-83c8-df78d099d97b",
   "metadata": {},
   "outputs": [
    {
     "data": {
      "text/plain": [
       "dict_keys(['Preamble', 'TABLE OF CONTENTS', 'GLOSSARY', 'PART I', 'PART II', 'ENCLOSURE 1 ', 'REFERENCES', 'ENCLOSURE 2 ', '1. ', '2. ', '3. ', '4. ', '5. ', '6. ', '7.  ', '8.  ', '9.  ', 'ENCLOSURE 3 ', 'ENCLOSURE 4 '])"
      ]
     },
     "execution_count": 19,
     "metadata": {},
     "output_type": "execute_result"
    }
   ],
   "source": [
    "random_docs[1].keys()"
   ]
  },
  {
   "cell_type": "code",
   "execution_count": 20,
   "id": "5c65caf9-1080-4b50-866a-b23f9dd6acea",
   "metadata": {},
   "outputs": [
    {
     "data": {
      "text/plain": [
       "'GLOSSARY    '"
      ]
     },
     "execution_count": 20,
     "metadata": {},
     "output_type": "execute_result"
    }
   ],
   "source": [
    "random_docs[1][\"GLOSSARY\"]"
   ]
  },
  {
   "cell_type": "code",
   "execution_count": 21,
   "id": "63e7aeed-cdb5-4786-8258-541604f604a3",
   "metadata": {},
   "outputs": [
    {
     "data": {
      "text/plain": [
       "'PART I.  ABBREVIATIONS AND ACRONYMS     ADS authoritative data source  ASD(S) Assistant Secretary of Defense for Sustainment     BEA Business Enterprise Architecture     CIP common installation picture  COI community of interest     DoDD DoD directive  DoDI DoD instruction     GEOINT geospatial intelligence  GI&S geospatial information and services  GIO geospatial information officer  GSIP Geospatial Intelligence Structure Implementation Profile      IC intelligence community  IGG installation geospatial information and services governance group  IGI&S installation geospatial information and services  IT information technology     NGA National Geospatial-Intelligence Agency     USD(A&S) Under Secretary of Defense for Acquisition and Sustainment  USD(I&S) Under Secretary of Defense for Intelligence and Security     WHS Washington Headquarters Services            Change 3, 08/04/2020 15 GLOSSARY  '"
      ]
     },
     "execution_count": 21,
     "metadata": {},
     "output_type": "execute_result"
    }
   ],
   "source": [
    "random_docs[1][\"PART I\"]"
   ]
  },
  {
   "cell_type": "code",
   "execution_count": 22,
   "id": "7efc3ad4-d450-42b5-be2b-42549a643ca9",
   "metadata": {},
   "outputs": [
    {
     "data": {
      "text/plain": [
       "\"PART II.  DEFINITIONS    Unless otherwise noted, these terms and their definitions are for the purposes of this instruction.    accessible.  Defined in the August 10, 2012 DoD Chief Information Officer Memorandum  (Reference (ag)).    ADS.  Defined in DoDI 8320.03 (Reference (ah)).    authorized user.  Defined in DoDD 8140.01 (Reference (ai)).    BEA.  Enterprise architecture for the DoD Business Mission Area that reflects DoD business  transformation priorities; the business capabilities required to support those priorities; and the  combinations of enterprise systems and initiatives that enable those capabilities.    CIP.  The distinct, minimum set of geospatial features and imagery necessary to provide a  foundational map depicting DoD installations and sites as defined in Reference (n).  The purpose  of the CIP is to provide an unclassified, readily available, standardized map data set to serve as  the basis for planning and execution of ASD(S) responsibilities and functions.    COI.  A collaborative group of users who exchange information in pursuit of their shared goals,  interests, missions, or business processes, and who therefore must have a shared vocabulary for  the information they exchange.  The group exchanges information within and between systems to  include security domains.    data.  Defined in Committee on National Security Systems Instruction Number 4009 (Reference  (aj)).    DoD Information Technology Standards Registry.  A DoD registry consisting of citations of IT  standards approved through a consensus process across DoD and the IC through the DoD IC  JESC.  The objective is to obtain maximum achievable interoperability and supportability among  DoD and IC systems.    geospatial information.  Defined in Sections 455(c) and 467 of Title 10, United States Code  (Reference (ak)).    GI&S.  Defined in DoD Dictionary of Military and Associated Terms (Reference (al)).    GEOINT.  The exploitation and analysis of imagery and geospatial information to describe,  assess, and visually depict physical features and geographically referenced activities on the  Earth.  GEOINT consists of imagery, imagery intelligence, and geospatial information.      geospatial feature.  Defined in Reference (n).           Change 3, 08/04/2020 16 GLOSSARY   Geospatial Platform.  A shared technology environment that provides access to trusted geospatial  data, services, and applications for use by government agencies and their partners to meet  mission needs.  As an Office of Management and Budget Shared Services initiative, one of the  major goals of the Geospatial Platform is to enable agencies to easily and inexpensively publish  their spatial data, analytical tools, and applications within a shared commodity cloud-computing  environment.  In partnership with data.gov, the Geospatial Platform provides search and  discovery capabilities for geospatial data and services of the Federal Government as well as data  and services made available by State, regional, local, and tribal governmental partners.    IGI&S.  The subset of GI&S activities that apply to the management of DoD installations and  environment to support military readiness in the Active, Guard, and Reserve Components with  regard to facility construction, sustainment, and modernization, including: housing; base closures  and reuse, including economic assistance for affected communities; privatization and  competitive sourcing; base operations; energy use and conservation; real property management;  property accountability and valuation; managing DoD compliance with national environmental,  natural resource, and historic preservations laws; environmental management systems, natural  infrastructure capabilities and sustainment; safety; occupational health; fire protection; pest  management; explosive safety; encroachment management; and the operation and sustainment of  military test and training ranges.  IGI&S supports and is enabled by geospatial engineering and  general engineering as defined in Joint Publication 3-34 (Reference (am)).      installation.  Defined in Reference (n).    interoperability.  The ability of systems, units, or forces to provide data, information, materiel,  and services to and accept the same from other systems, units, or forces and to use the data,  information, materiel, and services so exchanged to enable them to operate effectively together.   IT and National Security Systems interoperability includes both the technical exchange of  information and the end-to-end operational effectiveness of that exchange of information as  required for mission accomplishment.  More than just information exchange, it includes systems,  processes, procedures, organizations, and missions over the lifecycle and must be balanced with  information assurance.    metadata.  Information describing the characteristics of data, data or information about data, or  descriptive information about an entitys data, data activities, systems, and holdings.  For  example, discovery metadata allows data assets to be found using enterprise search capabilities.   Metadata can be structural (specifying the format structure), semantic (specifying the meaning),  or descriptive (providing amplifying or interpretive information) for data, information, or IT  services.    range.  Defined in Section 101 (e)(1) of Reference (ak).    secure sharing.  The dissemination of information to intended recipients while proactively  implementing management, policy, procedural, and technical controls to prevent access to the  information by unauthorized persons.    trusted.  Defined in Reference (ag).    understandable.  Defined in Reference (ag).      Change 3, 08/04/2020 17 GLOSSARY     visible.  Defined in Reference (ag).    \\\\tINSTRUCTION'\""
      ]
     },
     "execution_count": 22,
     "metadata": {},
     "output_type": "execute_result"
    }
   ],
   "source": [
    "random_docs[1][\"PART II\"]"
   ]
  },
  {
   "cell_type": "markdown",
   "id": "3fd1f5dc-e516-4de6-b025-a1bbc6c205a6",
   "metadata": {
    "tags": []
   },
   "source": [
    "## Random Document 3"
   ]
  },
  {
   "cell_type": "code",
   "execution_count": 23,
   "id": "c5808574-3edb-4825-b607-d0a133cd60e9",
   "metadata": {},
   "outputs": [
    {
     "data": {
      "text/plain": [
       "'a0115p.txt'"
      ]
     },
     "execution_count": 23,
     "metadata": {},
     "output_type": "execute_result"
    }
   ],
   "source": [
    "has_glossary[2]"
   ]
  },
  {
   "cell_type": "code",
   "execution_count": 24,
   "id": "5f351a67-94f6-4edf-8104-a2311790a8fc",
   "metadata": {},
   "outputs": [
    {
     "data": {
      "text/plain": [
       "dict_keys(['Preamble', 'TABLE OF CONTENTS', 'GLOSSARY', 'REFERENCES', 'SECTION 1', '1.1.  ', '1.2.  ', 'SECTION 2', '2.1.  ', '1.  ', '2.  ', '3.  ', '4.  ', '2.2.  ', 'SECTION 3', '3.1.  ', '3.2.  ', '3.3.  ', '3.4.  ', '3.5.  ', '3.6.  ', '5.  ', '6.  ', '7.  ', '8.  ', '9.  ', '10.  ', '11.  ', '3.7.  ', '3.8.  ', '3.9.  ', '3.10.  ', '3.11.  ', '3.12.  ', '3.13.  ', '3.14.  ', '3.15.  ', '3.16.  ', '3.17.  '])"
      ]
     },
     "execution_count": 24,
     "metadata": {},
     "output_type": "execute_result"
    }
   ],
   "source": [
    "random_docs[2].keys()"
   ]
  },
  {
   "cell_type": "code",
   "execution_count": 25,
   "id": "cd46dd2a-8a62-4f79-9257-57810a74de62",
   "metadata": {},
   "outputs": [
    {
     "data": {
      "text/plain": [
       "'GLOSSARY 33   TERM DEFINITION     research involving a  human being as an  experimental subject   An activity, for research purposes, where there is an intervention or  interaction with a living individual for the primary purpose of  obtaining data regarding the effect of the intervention or interaction.   Research involving a human being as an experimental subject is a  subset of research involving human subjects.  This definition relates  only to the application of Section 980 of Title 10, U.S.C.; it does not  affect the application of Part 219 of Title 32, CFR.     security review Administrative review of research involving large-scale genomic data  collected on DoD-affiliated personnel to ensure compliance, in  accordance with the CMP, as well as administrative, technical, and  physical safeguards for protecting confidentiality.     service members Individuals appointed, enlisted, or inducted for military service under  the authority of the DoD.  The Military Services are the Army; the  Navy, including the Coast Guard under circumstances involving the  declaration of war; the Air Force; the Marine Corps; and the Reserve  Components.  Members of the Reserve Components are included  when in a duty status.     support Funds or assistance that are provided by the DoD to non-DoD  institutions for HSR through a grant, contract, or similar arrangement  subject to the DFARS or other applicable DoD regulations, such as  the DoD Grant and Agreement Regulations.    Included in this definition is the DoDs provision of assistance to  non-DoD institutions, whether or not through collaboration between  DoD and non-DoD institutions, such as facilities, equipment,  personnel (investigators or other personnel performing tasks  identified in the research protocol), access to or information about  DoD-affiliated personnel for recruitment, or data or specimens.      This definition does not include DoD-conducted HSR, whether or not  conducted in collaboration between a DoD institution and non-DoD  institution.        '"
      ]
     },
     "execution_count": 25,
     "metadata": {},
     "output_type": "execute_result"
    }
   ],
   "source": [
    "random_docs[2][\"GLOSSARY\"]"
   ]
  },
  {
   "cell_type": "code",
   "execution_count": 26,
   "id": "6fafff15-e982-4af5-adb6-f4a7bd0938cc",
   "metadata": {},
   "outputs": [
    {
     "data": {
      "text/plain": [
       "'TABLE OF CONTENTS 3  '"
      ]
     },
     "execution_count": 26,
     "metadata": {},
     "output_type": "execute_result"
    }
   ],
   "source": [
    "random_docs[2][\"TABLE OF CONTENTS\"]"
   ]
  },
  {
   "cell_type": "code",
   "execution_count": 27,
   "id": "2b077dc6-3e76-4148-ba46-7d4597f700f3",
   "metadata": {},
   "outputs": [
    {
     "data": {
      "text/plain": [
       "'DoDI 3216.02, \"Protection of Human Subjects and Adherence to Ethical Standards in DoD-Conducted and -Supported Research,\" April 15, 2020        DOD INSTRUCTION 3216.02   PROTECTION OF HUMAN SUBJECTS AND ADHERENCE TO  ETHICAL STANDARDS IN DOD-CONDUCTED AND -SUPPORTED   RESEARCH      Originating Component: Office of the Under Secretary of Defense for Research and Engineering    Effective: April 15, 2020    Releasability: Cleared for public release.  Available on the Directives Division Website   at https://www.esd.whs.mil/DD/.    Reissues and Cancels: DoD Instruction 3216.02, Protection of Human Subjects and Adherence   to Ethical Standards in DoD-Conducted and Supported Research,  November 8, 2011     Approved by: Michael Griffin, Under Secretary of Defense for Research and   Engineering      Purpose: In accordance with the authority in DoD Directive 5134.01, the July 13, 2018 Deputy  Secretary of Defense Memorandum, and Part 219 of Title 32, Code of Federal Regulations (CFR), also  known and referred to in this issuance as the Common Rule, this issuance establishes policy, assigns  responsibilities, and provides procedures for the protection of human subjects and adherence to ethical  standards in DoD-conducted and supported research.      TABLE OF CONTENTS 2   TABLE OF CONTENTS    SECTION 1:  GENERAL ISSUANCE INFORMATION .............................................................................. 4   1.1.  Applicability. .................................................................................................................... 4  1.2.  Policy. ............................................................................................................................... 4   SECTION 2:  RESPONSIBILITIES ......................................................................................................... 7  2.1.  USD(R&E). ....................................................................................................................... 7  2.2.  DoD Component Heads. ................................................................................................... 8   SECTION 3:  PROCEDURES .............................................................................................................. 10  3.1.  DoD SDOs. ..................................................................................................................... 10  3.2.  CMP. ............................................................................................................................... 11  3.3.  Commanders or Directors of DoD Institutions. .............................................................. 12  3.4.  Federal Assurance. .......................................................................................................... 13   a.  When a Federal Assurance Is Required. ...................................................................... 13  b.  When a Federal Assurance Is Not Required. ............................................................... 13   3.5.  DoD-Conducted Research. ............................................................................................. 14  a.  DoD Institutional Approval and Oversight. ................................................................. 14  b.  DoD Component Administrative Review and Oversight. ........................................... 15   3.6.  DoD-Supported Research. .............................................................................................. 15  a.  DoD Component Approval and Oversight. .................................................................. 15  b.  DoD Institutional Approval and Oversight. ................................................................. 16   3.7.  DoD-Assisted Research. ................................................................................................. 18  3.8.  Selection of Human Subjects and Evaluating Risk......................................................... 19   a.  Selection of Human Subjects. ...................................................................................... 19  b.  Evaluating Risk. ........................................................................................................... 19   3.9.  Additional Protections for Human Subjects. .................................................................. 19  a.  Additional Safeguards. ................................................................................................. 19  b.  Pregnant Women, Fetuses, and Neonates Involved in Research. ................................ 19  c.  Prisoners as Human Subjects. ...................................................................................... 20  d.  Children Involved as Subjects in Research. ................................................................. 20  e.  Detainees or Prisoners of War. ..................................................................................... 20  f.  DoD-affiliated Personnel as subjects in DoD-conducted or supported HSR. ............ 21   3.10.  Research Involving LSGD Collected on DoD-Affliated Personnel. ............................ 22  3.11.  Unique DoD Limitations on Waiver of Informed Consent. ......................................... 22  3.12.  Protecting Human Subjects from Medical Expenses if Injured .................................... 23   a.  DoD-Supported Research Involving Human Subjects. ................................................ 23  b.  DoD-Conducted Research Involving Human Subjects. ............................................... 23   3.13.  Classified HSR. ............................................................................................................. 24  3.14.  Additional Protections for Privacy and Confidentiality in Research. ........................... 24   a.  Confidential Information Protection and Statistical Efficiency Act for Non-Statistical  Agencies. ..................................................................................................................... 24   b.  CoC. ............................................................................................................................. 25  3.15.  Record-Keeping. ........................................................................................................... 25  3.16.  Noncompliance. ............................................................................................................ 25  3.17.  CCHRPP Membership. ................................................................................................. 26     '"
      ]
     },
     "execution_count": 27,
     "metadata": {},
     "output_type": "execute_result"
    }
   ],
   "source": [
    "random_docs[2][\"Preamble\"]"
   ]
  },
  {
   "cell_type": "markdown",
   "id": "cf942b10-808d-4e43-9009-63854e3e8089",
   "metadata": {
    "tags": []
   },
   "source": [
    "## Random Document 4"
   ]
  },
  {
   "cell_type": "code",
   "execution_count": 28,
   "id": "182850d1-5c32-42bd-a3d8-941d99270b45",
   "metadata": {},
   "outputs": [
    {
     "data": {
      "text/plain": [
       "'a029p.txt'"
      ]
     },
     "execution_count": 28,
     "metadata": {},
     "output_type": "execute_result"
    }
   ],
   "source": [
    "has_glossary[3]"
   ]
  },
  {
   "cell_type": "code",
   "execution_count": 29,
   "id": "4600e5d3-cedb-43e3-9caf-49314c183c2b",
   "metadata": {},
   "outputs": [
    {
     "data": {
      "text/plain": [
       "dict_keys(['Preamble', '1.  ', '2.  ', '3.  ', '4.  ', '5.  ', '6.  ', '7.  ', '8.  ', '9.  ', '10.  ', '11.  ', 'ENCLOSURE 1 ', 'REFERENCES', 'ENCLOSURE 2 ', 'GLOSSARY', 'PART I', 'PART II'])"
      ]
     },
     "execution_count": 29,
     "metadata": {},
     "output_type": "execute_result"
    }
   ],
   "source": [
    "random_docs[3].keys()"
   ]
  },
  {
   "cell_type": "code",
   "execution_count": 30,
   "id": "53c38a5d-c831-47f2-8310-d8fc052e567e",
   "metadata": {},
   "outputs": [
    {
     "data": {
      "text/plain": [
       "\"GLOSSARY 22  intelligence-related members of the IC, Military Departments, Joint Staff, Combatant  Commands, and other USG departments and agencies, including the Central Intelligence  Agency, the Federal Bureau of Investigation, and the Department of Homeland Security, with  contributions from international entities, private industry, academia, and defense or civil  community service providers.'\""
      ]
     },
     "execution_count": 30,
     "metadata": {},
     "output_type": "execute_result"
    }
   ],
   "source": [
    "random_docs[3][\"GLOSSARY\"]"
   ]
  },
  {
   "cell_type": "code",
   "execution_count": 31,
   "id": "bc604162-4961-4a75-84d1-cbb1a41df088",
   "metadata": {},
   "outputs": [
    {
     "data": {
      "text/plain": [
       "'PART I.  ABBREVIATIONS AND ACRONYMS    DA&M    Director of Administration and Management  DCID    Director of Central Intelligence Directive  DDI    Director of Defense Intelligence  DIOCC    Defense Intelligence Operations Coordination Center   DoDD    Department of Defense Directive  DoDI    Department of Defense Instruction  DNI    Director of National Intelligence    E.O.    Executive order    GEOINT    geospatial intelligence    IC    Intelligence Community  ICD    Intelligence Community Directive    MDA    Milestone Decision Authority  MIP    Military Intelligence Program    NIP    National Intelligence Program  NGA    National Geospatial-Intelligence Agency  NSG    National System for Geospatial Intelligence    ODNI    Office of the Director of National Intelligence  OPM    Office of Personnel and Management    RDT&E    research, development, test, and evaluation    SCI    Sensitive Compartmented Information    U.S.C.    United States Code  USD(AT&L)   Under Secretary of Defense for Acquisition, Technology, and Logistics  USD(I)    Under Secretary of Defense for Intelligence  USG    United States Government  USSTRATCOM  United States Strategic Command         '"
      ]
     },
     "execution_count": 31,
     "metadata": {},
     "output_type": "execute_result"
    }
   ],
   "source": [
    "random_docs[3][\"PART I\"]"
   ]
  },
  {
   "cell_type": "code",
   "execution_count": 32,
   "id": "078b72af-53dd-4627-86f6-9648c464d541",
   "metadata": {},
   "outputs": [
    {
     "data": {
      "text/plain": [
       "'PART II.  DEFINITIONS    Unless otherwise noted, these terms and their definitions are for the purpose of this Directive.    direct tasking.  Authoritative tasking of systems and resources dedicated to a GEOINT collection  capability to fulfill GEOINT requirements.    Functional Manager.  Pursuant to E.O. 12333, Functional Managers shall report to the DNI  concerning the extent of their duties as Functional Managers, and may be charged with  developing and implementing strategic guidance, policies, and procedures for activities related to  a specific intelligence discipline or set of intelligence activities; setting training and tradecraft  standards; and ensuring coordination within and across intelligence disciplines and IC elements  and with related non-intelligence activities.  Functional Managers may also advise on resource  management; policies and procedures; collection capabilities and gaps; intelligence processing  and dissemination; technical architectures; and other issues or activities, as applicable.    GEOINT.  The exploitation and analysis of imagery and geospatial information to describe,  assess, and visually depict physical features and geographically referenced activities on the  Earth.  GEOINT consists of imagery, imagery intelligence, and geospatial information (section  467 of Reference (a)).  GEOINT collection encompasses all aspects of:  literal, infrared (IR), and  synthetic aperture radar (SAR) imagery; overhead persistent infrared capabilities; and geospatial  information and services.  The terms imagery intelligence and advanced geospatial intelligence  are encompassed within this definition of GEOINT.  GEOINT includes the exploitation and  analysis of electro-optical, IR, and radar imagery; and of geospatial, spectral, laser, IR,  radiometric, SAR phase history, polarimetric, spatial, and temporal data.  It employs all ancillary  data, signature information, and fused data products, as necessary.  Integrated GEOINT products  may also include data and information from collateral sources.     geospatial information.  Defined in sections 455(c) and 467 of Reference (a).    geospatial information and services.  The collection, information extraction, storage,  dissemination, and exploitation of geodetic, geomagnetic, imagery (both commercial and  national source), gravimetric, aeronautical, topographic, hydrographic, littoral, cultural, and  toponymic data accurately referenced to a precise location on the surface of the Earth.   Geospatial services include tools that enable users to access and manipulate data, and also  include instruction, training, laboratory support, and guidance for the use of geospatial data.    imagery.  Defined in section 467 of Reference (a).    imagery intelligence.  Defined in section 467 of Reference (a).    National Geospatial Intelligence Program.  Imagery, imagery intelligence, and geospatial fiscal  and personnel resources program within the NIP for which Director, NGA, is Program Manager.     NSG.  The combination of technology, policies, capabilities, doctrine, activities, people, data,  and organizations necessary to produce GEOINT.  The NSG community consists of geospatial-    '"
      ]
     },
     "execution_count": 32,
     "metadata": {},
     "output_type": "execute_result"
    }
   ],
   "source": [
    "random_docs[3][\"PART II\"]"
   ]
  },
  {
   "cell_type": "markdown",
   "id": "68e3cabf-87ff-4bac-8f24-8e4599d23d53",
   "metadata": {
    "tags": []
   },
   "source": [
    "## Random Document 5"
   ]
  },
  {
   "cell_type": "code",
   "execution_count": 33,
   "id": "cf946efa-7ae7-4981-9f11-59b9caa1cecb",
   "metadata": {},
   "outputs": [
    {
     "data": {
      "text/plain": [
       "'a040p.txt'"
      ]
     },
     "execution_count": 33,
     "metadata": {},
     "output_type": "execute_result"
    }
   ],
   "source": [
    "has_glossary[4]"
   ]
  },
  {
   "cell_type": "code",
   "execution_count": 34,
   "id": "d5186328-a9ac-4821-9dc6-8d9e266f7dea",
   "metadata": {},
   "outputs": [
    {
     "data": {
      "text/plain": [
       "dict_keys(['Preamble', 'TABLE OF CONTENTS', 'SECTION 1', '1.1.  ', '1.2.  ', '1.3.  ', 'SECTION 2', '2.1.  ', '2.2.  ', '2.3.  ', 'SECTION 3', '3.1.  ', '3.2.  ', '3.3.  ', '3.4.  ', '3.5.  ', '3.6.  ', 'GLOSSARY', 'REFERENCES'])"
      ]
     },
     "execution_count": 34,
     "metadata": {},
     "output_type": "execute_result"
    }
   ],
   "source": [
    "random_docs[4].keys()"
   ]
  },
  {
   "cell_type": "code",
   "execution_count": 35,
   "id": "8183bf15-3749-4e7f-b9c6-c3f8a15c7676",
   "metadata": {},
   "outputs": [
    {
     "data": {
      "text/plain": [
       "'GLOSSARY   G.1.  ACRONYMS.   HRD Human Resources Directorate     WHS Washington Headquarters Services        '"
      ]
     },
     "execution_count": 35,
     "metadata": {},
     "output_type": "execute_result"
    }
   ],
   "source": [
    "random_docs[4][\"GLOSSARY\"]"
   ]
  },
  {
   "cell_type": "code",
   "execution_count": 36,
   "id": "50ee3fef-0a7a-41bc-ac6d-02995eb749ff",
   "metadata": {},
   "outputs": [
    {
     "data": {
      "text/plain": [
       "\"REFERENCES  Director, Administration and Management Memorandum, Establishment of Administrative   Instruction 82, Senior and Junior Enlisted Members of the Year, June 20, 2006  DoD Directive 5110.04, Washington Headquarters Services (WHS), March 27, 2013  DoD Manual 8910.01, Volume 1, DoD Information Collections Manual:  Procedures for DoD   Internal Information Collections, June 30, 2014, as amended    \\\\tSection 1:  General Issuance Information \\\\t1.1.  Applicability. \\\\t1.2.  Policy. \\\\t1.3.  Information Collections.  \\\\tSection 2:  Responsibilities \\\\t2.1.  Director, HRD. \\\\t2.2.  Assistant Director, Military Personnel Division, HRD. \\\\t2.3.  WHS-Serviced Component Heads.  \\\\tSection 3:  Procedures \\\\t3.1.  Eligibility. \\\\t3.2.  Criteria. \\\\t3.3.  Selection Board. \\\\t3.4.  Nominations. \\\\t3.5.  Board Uniform Guidelines. \\\\t3.6.  Selection.  \\\\tGlossary \\\\tG.1.  Acronyms.  \\\\tReferences'\""
      ]
     },
     "execution_count": 36,
     "metadata": {},
     "output_type": "execute_result"
    }
   ],
   "source": [
    "random_docs[4][\"REFERENCES\"]"
   ]
  },
  {
   "cell_type": "markdown",
   "id": "f8d5e4a9-9ad3-4474-9cd8-de0c29fb4a1e",
   "metadata": {
    "tags": []
   },
   "source": [
    "## Random Document 6"
   ]
  },
  {
   "cell_type": "code",
   "execution_count": 37,
   "id": "529b0056-8c87-4a00-a2e8-d05c382df272",
   "metadata": {},
   "outputs": [
    {
     "data": {
      "text/plain": [
       "'a045p.txt'"
      ]
     },
     "execution_count": 37,
     "metadata": {},
     "output_type": "execute_result"
    }
   ],
   "source": [
    "has_glossary[5]"
   ]
  },
  {
   "cell_type": "code",
   "execution_count": 38,
   "id": "7162d226-5d46-4e9e-ae22-2b026db1bad6",
   "metadata": {},
   "outputs": [
    {
     "data": {
      "text/plain": [
       "dict_keys(['Preamble', 'TABLE OF CONTENTS', 'SECTION 1', '1.1.  ', '1.2.  ', '1.3.  ', 'SECTION 2', '2.1.  ', '2.2.  ', '2.3.  ', '2.4.  ', '2.5.  ', '2.6.  ', '2.8.  ', '2.9.  ', '2.10.  ', '2.11.  ', '2.12.  ', '2.13.  ', '2.14.  ', '2.15.  ', '2.16.  ', '2.17.  ', 'SECTION 3', '3.1.  ', '3.2.  ', 'GLOSSARY', 'REFERENCES'])"
      ]
     },
     "execution_count": 38,
     "metadata": {},
     "output_type": "execute_result"
    }
   ],
   "source": [
    "random_docs[5].keys()"
   ]
  },
  {
   "cell_type": "code",
   "execution_count": 39,
   "id": "b1e52b9c-772b-46a7-99fc-f7a46c478eb8",
   "metadata": {},
   "outputs": [
    {
     "data": {
      "text/plain": [
       "'GLOSSARY EMB Executive Management Board     NAVWAR navigation warfare     PNT positioning, navigation, and timing        '"
      ]
     },
     "execution_count": 39,
     "metadata": {},
     "output_type": "execute_result"
    }
   ],
   "source": [
    "random_docs[5][\"GLOSSARY\"]"
   ]
  },
  {
   "cell_type": "code",
   "execution_count": 40,
   "id": "8af37dfa-0729-4e44-b268-15bf5b8622d2",
   "metadata": {},
   "outputs": [
    {
     "data": {
      "text/plain": [
       "\"REFERENCES  DoD Directive 5105.79, DoD Senior Governance Councils, May 19, 2008  DoD Directive 5144.02, DoD Chief Information Officer (DoD CIO), November 21, 2014, as   amended  DoD Instruction 4650.08, Positioning, Navigation, and Timing and Navigation Warfare   (NAVWAR), December 27, 2018, as amended  National Security Presidential Directive 39, U.S. Space-Based Positioning, Navigation, and   Timing Policy, December 15, 2004  United States Code, Title 10, Section 2281    \\\\tPositioning, Navigation, and Timing \\\\tSection 1:  General Issuance Information \\\\t1.1.  Applicability. \\\\t1.2.  Policy. \\\\t1.3.  Summary of Change 2.  \\\\tSection 2:  Responsibilities \\\\t2.1.  DoD Chief Information Officer. \\\\t2.2.  Under Secretary of Defense for Acquisition and Sustainment. \\\\t2.3.  Under Secretary of Defense for Research and Engineering. \\\\t2.4.  Director of Operational Test and Evaluation. \\\\t2.5.  Under Secretary of Defense (Comptroller)/DoD Chief Financial Officer, Department of Defense. \\\\t2.6.  Under Secretary of Defense for Intelligence and Security. \\\\t2.7  Director, National Security Agency/Chief, Central Security Service. \\\\t2.8.  Director, National Geospatial-Intelligence Agency. \\\\t2.9.  Director, National Reconnassiance Office. \\\\t2.10.  Under Secretary of Defense for Policy. \\\\t2.11.  Director of Cost Assessment and Program Evaluation. \\\\t2.12.  Secretaries of the Military Departments. \\\\t2.13.  Vice Chairman of the Joint Chiefs of Staff. \\\\t2.14.  Commander, United States Space Command. \\\\t2.15.  Commander, United States Strategic Command. \\\\t2.16.  Commander, United States Northern Command. \\\\t2.17.  Commander, United States Cyber Command.  \\\\tSection 3:  PNT Oversight Council \\\\t3.1.  PNT Oversight Council Composition. \\\\t3.2.  PNT Oversight Council Function.  \\\\tGlossary \\\\tReferences'\""
      ]
     },
     "execution_count": 40,
     "metadata": {},
     "output_type": "execute_result"
    }
   ],
   "source": [
    "random_docs[5][\"REFERENCES\"]"
   ]
  },
  {
   "cell_type": "markdown",
   "id": "5ea08ffa-9a7c-495a-b7fc-93421c02ba7d",
   "metadata": {
    "tags": []
   },
   "source": [
    "## Random Document 7"
   ]
  },
  {
   "cell_type": "code",
   "execution_count": 41,
   "id": "6e57ebc1-7d4f-444e-9dd4-cb44d87d2517",
   "metadata": {},
   "outputs": [
    {
     "data": {
      "text/plain": [
       "'a071p.txt'"
      ]
     },
     "execution_count": 41,
     "metadata": {},
     "output_type": "execute_result"
    }
   ],
   "source": [
    "has_glossary[6]"
   ]
  },
  {
   "cell_type": "code",
   "execution_count": 42,
   "id": "d38ad118-2544-453b-a5f7-47a6da5eef18",
   "metadata": {},
   "outputs": [
    {
     "data": {
      "text/plain": [
       "dict_keys(['Preamble', 'TABLE OF CONTENTS', 'GLOSSARY', 'PART I', 'PART II', 'ENCLOSURE 1 ', 'REFERENCES', 'ENCLOSURE 2 ', '1. ', '2. ', '3. ', '4. ', '5. ', '6. ', '7. ', '8. ', '9. ', '10. ', '11. ', '12. ', '13. ', '14. ', '15. ', '16. '])"
      ]
     },
     "execution_count": 42,
     "metadata": {},
     "output_type": "execute_result"
    }
   ],
   "source": [
    "random_docs[6].keys()"
   ]
  },
  {
   "cell_type": "code",
   "execution_count": 43,
   "id": "f25554b2-1b80-4824-9b7a-f98f7433cbb2",
   "metadata": {},
   "outputs": [
    {
     "data": {
      "text/plain": [
       "'GLOSSARY  '"
      ]
     },
     "execution_count": 43,
     "metadata": {},
     "output_type": "execute_result"
    }
   ],
   "source": [
    "random_docs[6][\"GLOSSARY\"]"
   ]
  },
  {
   "cell_type": "code",
   "execution_count": 44,
   "id": "1eb66fdb-532f-4347-b613-f9d40beea340",
   "metadata": {},
   "outputs": [
    {
     "data": {
      "text/plain": [
       "'PART I.  ABBREVIATIONS AND ACRONYMS   AAFES Army and Air Force Exchange Service  ADCON administrative control  AFCB Armed Forces Chaplains Board  AFN American Forces Network  AFN-BC American Forces Network-Broadcast Center  AFRTS American Forces Radio and Television Service  ATSD(PA) Assistant to the Secretary of Defense for Public Affairs   CFC Combined Federal Campaign  CHINFO U.S. Navy Chief of Information CONUS continental United States   DMA Defense Media Activity  DMA/TS DMA technical services  DoDD DoD directive  DoDI DoD instruction  DTH direct-to-home  DTS direct-to-sailor   FCC Federal Communications Commission   HQ headquarters   MSC Military Sealift Command   NEO noncombatant evacuation operations   OPCON operational control   RTPO Radio and Television Production Office   SITE Shipboard Information, Training, and Entertainment      Change 1, 08/14/2020 GLOSSARY 20   TV television  '"
      ]
     },
     "execution_count": 44,
     "metadata": {},
     "output_type": "execute_result"
    }
   ],
   "source": [
    "random_docs[6][\"PART I\"]"
   ]
  },
  {
   "cell_type": "code",
   "execution_count": 45,
   "id": "0114919a-1d20-4ae1-abf9-7527091c438f",
   "metadata": {},
   "outputs": [
    {
     "data": {
      "text/plain": [
       "\"PART II.  DEFINITIONS   Unless otherwise noted, these terms and their definitions are for the purposes of this manual.   AFCB.  The AFCB makes recommendations to the Secretary of Defense and the Under  Secretary of Defense for Personnel and Readiness on religious, ethical, and moral matters for the  Military Services.   AFN.  Provides multi-channel radio, TV, web, and mobile application services to DoD overseas  communities and to military expeditionary forces as assigned.  AFN operates regionally in the  Pacific and Europe areas of operation.   AFN-BC.  Provides centralized commercial radio and TV program acquisition, global broadcast  transmission, and associated services and support for AFN to meet DoD internal media  requirements in peacetime, wartime, and contingency environments.   AFRTS.  A worldwide radio and TV broadcasting organization that consists of a HQs element  within DMA.  The AFRTS portion of DMA includes the AFN-BC and DMA component  organizations, to include AFRTS networks and outlets and activities worldwide.   authorized audience.  DoD audiences overseas only comprised of DoD personnel, military  retirees,  and selected personnel of the Department of State and other Department of State- affiliated U.S. Government agencies.   Combatant Command.  A unified or specified command with a broad continuing mission under a  single commander established and so designated by the President, through the Secretary of  Defense and with the advice and assistance of the Chairman of the Joint Chiefs of Staff.   Combatant Commands typically have geographic or functional responsibilities.   Country Team.  A council usually composed of the senior members of the U.S. Embassy staff  and other U.S. Government agencies in a particular country.  Actual makeup of the Country  Team is determined by the ambassador or the senior foreign service officer in that country.   DMA.  A field activity under the authority, direction, and control of the ATSD(PA) that  contributes to DoD operational readiness and combat effectiveness through development of  policies, guidelines, standards, training, and central management of DoD internal information  programs including AFRTS, the Pentagon Channel, print publications, news media, internet  operations, the Defense Information School, and audiovisual and visual information activities.   DMA/TS.  Plans, manages, and implements all broadcast media and production infrastructure  and systems including satellite and telecommunications networks.      Change 1, 08/14/2020 GLOSSARY 21   DoD personnel.  Active duty military and civilian members of DoD, including their family  members, and DoD contractors.   DTH.  The worldwide satellite distribution systems that provide multiple channels of radio and  TV news, sports, and entertainment programming directly to U.S. viewers living off military  installations overseas.   DTS.  The worldwide satellite distribution system that provides multiple Navy-themed channels  of TV news, sports and entertainment programming for ships and other authorized overseas  audiences.   MSC.  A U.S. Navy organization that controls most of the replenishment and military transport  ships of the Navy.   RTPO.  Acquires, produces, and approves radio and TV spot announcements for supported  clients distributed via AFRTS and the Pentagon Channel.   regional command.  Manages and directs AFN outlets in their theater.   State Department employees.  An authorized State Department employee is a State Department  direct hire, full-time U.S. Government employee who is a U.S. citizen occupying a position at an  embassy or consulate, or who is attached to an embassy on official State Department orders for a  State Department sanctioned mission.     http://en.wikipedia.org/wiki/United_States_Navy  \\\\tMANUAL'\""
      ]
     },
     "execution_count": 45,
     "metadata": {},
     "output_type": "execute_result"
    }
   ],
   "source": [
    "random_docs[6][\"PART II\"]"
   ]
  },
  {
   "cell_type": "markdown",
   "id": "cbeac211-c0dd-480e-b065-b9b7ec640419",
   "metadata": {
    "tags": []
   },
   "source": [
    "## Random Document 8"
   ]
  },
  {
   "cell_type": "code",
   "execution_count": 46,
   "id": "bcbe2269-8777-4582-9d71-9b9365625212",
   "metadata": {},
   "outputs": [
    {
     "data": {
      "text/plain": [
       "'a082p.txt'"
      ]
     },
     "execution_count": 46,
     "metadata": {},
     "output_type": "execute_result"
    }
   ],
   "source": [
    "has_glossary[7]"
   ]
  },
  {
   "cell_type": "code",
   "execution_count": 47,
   "id": "6bb18770-2b4d-4968-aa84-fb686ebffac9",
   "metadata": {},
   "outputs": [
    {
     "data": {
      "text/plain": [
       "dict_keys(['Preamble', 'TABLE OF CONTENTS', '6.3.  ', '6.4.  ', 'SECTION 7', '7.1.  ', '7.2.  ', '7.3.  ', '7.4.  ', 'SECTION 8', '8.1.  ', '8.2.  ', 'SECTION 9', '9.1.  ', '9.2.  ', 'SECTION 10', '10.1.  ', '10.2.  ', 'SECTION 11', '11.1.  ', '11.2.  ', 'GLOSSARY', 'REFERENCES', 'SECTION 1', '1.1.  ', '1.2.  ', 'SECTION 2', '2.1.  ', '2.2.  ', 'SECTION 3', 'SECTION 4', '4.1.  ', '4.2.  ', '4.3.  ', 'SECTION 5', '5.1.  ', '1. ', '2. ', '5.2.  ', '5.3.  ', 'SECTION 6', '6.1.  ', '6.2.  '])"
      ]
     },
     "execution_count": 47,
     "metadata": {},
     "output_type": "execute_result"
    }
   ],
   "source": [
    "random_docs[7].keys()"
   ]
  },
  {
   "cell_type": "code",
   "execution_count": 48,
   "id": "a1776a37-e87a-4af2-80ac-71fc3fac9c15",
   "metadata": {},
   "outputs": [
    {
     "data": {
      "text/plain": [
       "'5.3.  DOD AND OSD COMPONENT FORMS.   Before a request is prepared to create a DoD or OSD Component form, the OPR or the DoD or  OSD Component FMO must research the inventory of existing component, DD, and SD forms to  verify that an existing form cannot meet the requirement.  To create or revise a component form,  the OPR must submit a completed DD Form 67 together with other supporting documentation to  its DoD or OSD Component FMO in accordance with component procedures and issuances.     '"
      ]
     },
     "execution_count": 48,
     "metadata": {},
     "output_type": "execute_result"
    }
   ],
   "source": [
    "random_docs[7][\"5.3.  \"]"
   ]
  },
  {
   "cell_type": "code",
   "execution_count": 49,
   "id": "bc89270e-eb58-4b49-bbeb-a4066c038643",
   "metadata": {},
   "outputs": [
    {
     "data": {
      "text/plain": [
       "'10.1.  DD AND SD FORMS.   Cancellation of DD or SD forms must be effected through the DoD FMO or Component FMO.   To cancel a DD or SD form:   a. The DoD or OSD Component FMO must forward a completed DD Form 67 to the DoD FMO.   b. The DoD or OSD Component OPR or FMO must notify all DoD and OSD Components regarding the plans to cancel a DD or SD form that it uses.  The DoD or OSD Component OPR  or FMO must cite why the form is no longer required and identify any replacements for the  canceled form.     c. If all users concur on the cancellation, the OPR, through its DoD or OSD Component FMO, as applicable, must notify the DoD FMO.   d. If a component does not concur with the proposed cancellation, the DoD or OSD Component FMO must revisit the form and prescribing issuance to ensure that cancellation of  the form can proceed without the non-concurring components coordination on the DD Form 67.   e. The DoD or OSD Component FMO will provide the DoD FMO with its findings and inform the DoD FMO whether the cancelling component intends to proceed.   f. The DoD FMO must review the DD Form 67 and process the request for cancellation.  All coordinating offices on the original DD Form 67 for approval will be included in components  cancellation notification.   g. Upon the DoD FMOs approval for the cancellation of the DD or SD form, a signed copy of DD Form 67 must be forwarded to the DoD or OSD Component FMO and the DoD and OSD  Components that use the form listed on the completed DD Form 67.   h. Cancellation information must be loaded on the DoD FMP Website.  i. The DoD or OSD Component FMO must notify all of the components users that the form has been canceled.  '"
      ]
     },
     "execution_count": 49,
     "metadata": {},
     "output_type": "execute_result"
    }
   ],
   "source": [
    "random_docs[7][\"10.1.  \"]"
   ]
  },
  {
   "cell_type": "code",
   "execution_count": 50,
   "id": "24ffbcdc-c84f-4baf-a7c4-63f1aca2e1e5",
   "metadata": {},
   "outputs": [
    {
     "data": {
      "text/plain": [
       "'GLOSSARY 32   TERM DEFINITION   supersession notice A notice specifying whether the existing stock of a superseded form  may be used or is obsolete.     '"
      ]
     },
     "execution_count": 50,
     "metadata": {},
     "output_type": "execute_result"
    }
   ],
   "source": [
    "random_docs[7][\"GLOSSARY\"]"
   ]
  },
  {
   "cell_type": "code",
   "execution_count": 51,
   "id": "73943752-5722-4ebe-a878-cc09fbbc64e3",
   "metadata": {},
   "outputs": [
    {
     "data": {
      "text/plain": [
       "\"REFERENCES 34   DoD Manual 8910.01, Volume 2, DoD Information Collections Manual: Procedures for DoD  Public Information Collections, June 30, 2014, as amended   General Services Administration Handbook, Standard and Optional Forms Procedural  Handbook, July 2009   General Services Administration Website, GSA Forms Library1  OMB Circular No. A-108, Federal Agency Responsibilities for Review, Reporting, and   Publication under the Privacy Act, December 23, 2016  Public Law 104-13, Paperwork Reduction Act of 1995, May 22, 1995 (codified at Chapter 35,   Subchapter I, of Title 44, U.S. Code)  Public Law 111-274, Plain Writing Act of 2010, October 13, 2010  Secretary of Defense Memorandum, Disestablishment of the Deputy Chief Management   Officers and Establishment of the Chief Management Officer, February 1, 2018  United States Code, Title 5, Section 552, (also known as the Freedom of Information Act)  United States Code, Title 5, Section 552a (also known as the Privacy Act of 1974)   1 Available at https://www.gsa.gov/reference/forms    \\\\tDoD Forms Management Program (FMP) Procedures \\\\tSection 1:  General Issuance Information \\\\t1.1.  Applicability. \\\\t1.2.  Policy.  \\\\tSection 2:  Responsibilities \\\\t2.1.  Director, Washington Headquarters Services (WHS). \\\\t2.2.  DoD and OSD Component Heads.  \\\\tSection 3:  DoD and OSD Component FMOs \\\\tSection 4:  General Forms Management \\\\t4.1.  Types of Forms. \\\\ta.  SF. \\\\tb.  OF. \\\\tc.  DD Form. \\\\td.  SD Form. \\\\te.  DoD or OSD Component Form.  \\\\t4.2.  Prescribing and Citing Forms in Documents and Issuances. \\\\t4.3.  Applicable Regulations and Programs. \\\\ta.  DoD Information Collections (IC) Program. \\\\tb.  Privacy Program. \\\\tc.  SSN Reduction. \\\\td.  United States Postal Service (USPS) Requirements.   \\\\tSection 5:  Creation or Revision of DD and SD Forms \\\\t5.1.  General. \\\\ta.  DD and SD Forms Request Package. \\\\tb.  DD and SD Forms Request Procedures. \\\\t(1)  Originating DoD or OSD Component. \\\\t(2)  DoD FMP.  \\\\tc.  Test Forms.  \\\\t5.2.  Transfer of OPR. \\\\t5.3.  DoD and OSD Component Forms.  \\\\tSection 6:  Design Guidelines for DoD Forms \\\\t6.1.  General. \\\\t6.2.  DoD Design Guidelines. \\\\ta.  Form Size. \\\\tb.  Form Borders and Margins. \\\\tc.  Form Layout. \\\\td.  Form Font Styles. \\\\te.  Form Title, Number, Date, and Prescribing Authority or Procedural Instructions. \\\\t(1)  Form Title. \\\\t(2)  Form Number and Date on the First Page. \\\\t(3)  Form Number and Edition Date on the Second Page. \\\\t(a)  Prescribed DD Forms. \\\\t(b)  Adopted DD Forms.   \\\\tf.  Suffixes Used in Form Numbering. \\\\tg.  Supersession Notice. \\\\th.  Office of Management and Budget (OMB) Control Number and Expiration Date. \\\\ti.  PAS or PA. \\\\tj.  Instructions. \\\\tk.  Abbreviations and Acronyms. \\\\tl.  Using Illustrations or Graphics on a Form. \\\\tm.  Fillable Fields. \\\\t(1)  Field Names. \\\\t(2)  Formatting Field Names.  \\\\tn.  Signature Fields. \\\\to.  Testing Electronic Forms. \\\\tp.  Accessibility. \\\\tq.  Locking Final Forms. \\\\tr.  Classification.  \\\\t6.3.  DoD and OSD Component Design Guidelines. \\\\t6.4.  Design Process. \\\\ta.  Drafting the Form.   \\\\tSection 7:  Exceptions to DD Forms \\\\t7.1.  General. \\\\t7.2.  Forms Exception Process. \\\\t7.3.  Electronic Forms Exceptions. \\\\t7.4.  DoD or OSD Component Forms.  \\\\tSection 8:  Security and Control of Forms \\\\t8.1.  Form Security. \\\\ta.  Blank Forms. \\\\tb.  Completed Forms.  \\\\t8.2.  Control of Forms. \\\\ta.  Safeguarded Forms. \\\\tb.  Controlling Distribution and Use of Forms.   \\\\tSection 9:  Distribution of Forms \\\\t9.1.  Electronic Media. \\\\t9.2.  Paper Media.  \\\\tSection 10:  Cancellation of Forms \\\\t10.1.  DD and SD Forms. \\\\t10.2.  DoD and OSD Component Forms.  \\\\tSection 11:  SFs and OFs \\\\t11.1.  General. \\\\t11.2.  Cancellation of SFs and OFs.  \\\\tGlossary \\\\tG.1.  Acronyms. \\\\tG.2.  Definitions.  \\\\tReferences'\""
      ]
     },
     "execution_count": 51,
     "metadata": {},
     "output_type": "execute_result"
    }
   ],
   "source": [
    "random_docs[7][\"REFERENCES\"]"
   ]
  },
  {
   "cell_type": "markdown",
   "id": "aaeaa574-4e8c-4bd1-9209-c44c7ca3bbd1",
   "metadata": {
    "tags": []
   },
   "source": [
    "## Random Document 9"
   ]
  },
  {
   "cell_type": "code",
   "execution_count": 52,
   "id": "046ff41f-bd17-48f3-8dec-9806737e8f09",
   "metadata": {},
   "outputs": [
    {
     "data": {
      "text/plain": [
       "'a088p.txt'"
      ]
     },
     "execution_count": 52,
     "metadata": {},
     "output_type": "execute_result"
    }
   ],
   "source": [
    "has_glossary[8]"
   ]
  },
  {
   "cell_type": "code",
   "execution_count": 53,
   "id": "b6a617ab-3178-4e39-9cb6-958c5c4c3824",
   "metadata": {},
   "outputs": [
    {
     "data": {
      "text/plain": [
       "dict_keys(['Preamble', 'TABLE OF CONTENTS', 'CONTENTS 5 ', 'CONTENTS 6 ', 'CONTENTS 7 ', 'GLOSSARY', 'PART I', 'PART II', 'ENCLOSURE 1 ', 'REFERENCES', 'ENCLOSURE 2 ', '1.  ', '2.  ', '3.  ', 'ENCLOSURE 3 ', '4.  ', 'ENCLOSURE 4 ', '5.  ', 'ENCLOSURE 5 ', '6.  ', '7.  ', '8.  ', '9.  ', 'ENCLOSURE 6 ', 'ENCLOSURE 7 ', 'ENCLOSURE 8 ', 'ENCLOSURE 9 '])"
      ]
     },
     "execution_count": 53,
     "metadata": {},
     "output_type": "execute_result"
    }
   ],
   "source": [
    "random_docs[8].keys()"
   ]
  },
  {
   "cell_type": "code",
   "execution_count": 54,
   "id": "e173f3e8-7d9f-429d-8a6c-91585c1da8ba",
   "metadata": {},
   "outputs": [
    {
     "data": {
      "text/plain": [
       "\"GLOSSARY 54   questioned costs.  A cost questioned by DoD auditors because of:     Alleged violation of a provision of a law, regulation, contract, grant, cooperative agreement,  or other agreement or document governing the expenditure of funds or reimbursement of costs;     Finding that, at the time of the audit, such cost is not supported by adequate documentation  (unsupported cost); or     Finding that the expenditure of funds or reimbursement of costs for the intended purpose is  unnecessary or unreasonable.        \\\\tMANUAL'\""
      ]
     },
     "execution_count": 54,
     "metadata": {},
     "output_type": "execute_result"
    }
   ],
   "source": [
    "random_docs[8][\"GLOSSARY\"]"
   ]
  },
  {
   "cell_type": "code",
   "execution_count": 55,
   "id": "1464db2f-c836-4cb5-93e9-3c83b7b3b78e",
   "metadata": {},
   "outputs": [
    {
     "data": {
      "text/plain": [
       "'PART I.  ABBREVIATIONS AND ACRONYMS     AICPA American Institute of Certified Public Accountants     CIGIE Council of the Inspectors General on Integrity and Efficiency  CPE continuing professional education  COR contracting officers technical representative     DCAA Defense Contract Audit Agency  DoDD DoD Directive  DoDI DoD Instruction     FMFIA Federal Managers Financial Integrity Act of 1982     GAGAS generally accepted government auditing standards  GAO Government Accountability Office     IG DoD Inspector General of the Department of Defense  IPA independent public accountant     JAPG Joint Audit Planning Group     OAIG APO Office of the Assistant Inspector General for Audit Policy and Oversight  OMB Office of Management and Budget     POC point of contact     SAS Statements on Auditing Standards  SSAE Statements on Standards for Attestation Engagements     U.S.C. United States Code       '"
      ]
     },
     "execution_count": 55,
     "metadata": {},
     "output_type": "execute_result"
    }
   ],
   "source": [
    "random_docs[8][\"PART I\"]"
   ]
  },
  {
   "cell_type": "code",
   "execution_count": 56,
   "id": "c59098a8-34d5-46c5-b4aa-45eef552017c",
   "metadata": {},
   "outputs": [
    {
     "data": {
      "text/plain": [
       "'PART II.  DEFINITIONS    Unless otherwise noted, these terms and their definitions are for the purpose of this manual.     '"
      ]
     },
     "execution_count": 56,
     "metadata": {},
     "output_type": "execute_result"
    }
   ],
   "source": [
    "random_docs[8][\"PART II\"]"
   ]
  },
  {
   "cell_type": "markdown",
   "id": "f1979781-31fd-4de3-9fa9-ac7529b18d4f",
   "metadata": {
    "tags": []
   },
   "source": [
    "## Random Document 10"
   ]
  },
  {
   "cell_type": "code",
   "execution_count": 57,
   "id": "db29e1c1-a549-4abb-a229-e0b74c338da2",
   "metadata": {},
   "outputs": [
    {
     "data": {
      "text/plain": [
       "'a100p.txt'"
      ]
     },
     "execution_count": 57,
     "metadata": {},
     "output_type": "execute_result"
    }
   ],
   "source": [
    "has_glossary[9]"
   ]
  },
  {
   "cell_type": "code",
   "execution_count": 58,
   "id": "c249b169-9903-4191-a953-116e383bd844",
   "metadata": {},
   "outputs": [
    {
     "data": {
      "text/plain": [
       "dict_keys(['Preamble', 'TABLE OF CONTENTS', 'SECTION 1', '1.1.  ', '1.2.  ', 'SECTION 2', '2.1.  ', '2.2.  ', '2.3.  ', '2.4.  ', '2.5.  ', 'SECTION 3', '3.1.  ', '3.2.  ', '3.3.  ', '3.4.  ', 'GLOSSARY', 'REFERENCES'])"
      ]
     },
     "execution_count": 58,
     "metadata": {},
     "output_type": "execute_result"
    }
   ],
   "source": [
    "random_docs[9].keys()"
   ]
  },
  {
   "cell_type": "code",
   "execution_count": 59,
   "id": "512695d1-addd-450a-add8-e3277082be02",
   "metadata": {},
   "outputs": [
    {
     "data": {
      "text/plain": [
       "'3.4.  VALIDATION AND COMPLIANCE.   a. When warranted based on the criticality of the information provided to, or developed by,  the non-DoD entity, DoD Components will include a requirement in the solicitation for the non-  DoD entity to describe implementation of the requirements of NIST SP 800-171, and as   appropriate, include a requirement for the non-DoD entity to demonstrate compliance before or   upon award of the contract, grant, or execution of another legal agreement.  The DoD   Component may include a requirement in the solicitation for the non-DoD entity to notify the   DoD Component when there is a deficiency that affects DoD information, or to periodically   review how they are resolving deficiencies and meeting requirements, or both.  Additionally, for   contracts that include the clause at DFARS 252.204-7012, the DoD Components contracting   officer may request the contractor for an assessment of the contractors compliance with the   requirements of that clause upon receipt of a cyber incident report.   b. DoD Components should not intrude into the operations, maintenance, or governance of  the non-DoD entitys internal information system by specifying the content and format of plans   of action that address deficiencies, or specifying the parameters of security controls.     '"
      ]
     },
     "execution_count": 59,
     "metadata": {},
     "output_type": "execute_result"
    }
   ],
   "source": [
    "random_docs[9][\"3.4.  \"]"
   ]
  },
  {
   "cell_type": "code",
   "execution_count": 60,
   "id": "ea5a8e2c-6f50-46ec-ab3f-f2bcfe5fc78d",
   "metadata": {},
   "outputs": [
    {
     "data": {
      "text/plain": [
       "'GLOSSARY 12   nonpublic DoD information.  Any DoD information that has not been cleared for public release   in accordance with DoDD 5230.09.  Nonpublic DoD information includes federal contract   information that relates to a DoD contract.   on-behalf of.  A situation that occurs when a non-executive branch entity uses or operates an   information system or maintains or collects information for the purpose of processing, storing, or   transmitting federal information; and those activities are not incidental to providing a service or   product to the government.   public DoD information.  DoD information that has been cleared for public release in   accordance with DoDD 5230.09.   publicly available computer.  Any computer available to the general public, usually after   certain conditions are met (e.g., payment of a fee, a paying guest in a hotel).     '"
      ]
     },
     "execution_count": 60,
     "metadata": {},
     "output_type": "execute_result"
    }
   ],
   "source": [
    "random_docs[9][\"GLOSSARY\"]"
   ]
  },
  {
   "cell_type": "code",
   "execution_count": 61,
   "id": "efa697a9-989a-4732-b6d2-1673c9e4516d",
   "metadata": {},
   "outputs": [
    {
     "data": {
      "text/plain": [
       "\"REFERENCES   Code of Federal Regulations, Title 32   Committee on National Security Systems Instruction No. 4009, Committee on National   Security Systems (CNSS) Glossary, April 6, 2015   Defense Federal Acquisition Regulation Supplement 252.204-7012, Safeguarding Covered   Defense Information and Cyber Incident Reporting, current edition   DoD Directive 5144.02, DoD Chief Information Officer (DoD CIO), November 21, 2014, as   amended   DoD Directive 5230.09, Clearance of DoD Information for Public Release, August 22, 2015   DoD Directive 5505.13E, DoD Executive Agent (EA) for the DoD Cyber Crime Center   (DC3), March 1, 2010, as amended   DoD Directive 8000.01, Management of the Department of Defense Information Enterprise   (DoD IE), March 17, 2016, as amended   DoD Instruction 4000.19, Support Agreements, April 25, 2013, as amended   DoD Instruction 5205.13, Defense Industrial Base (DIB) Cyber Security (CS) Activities,   January 29, 2010, as amended   DoD Instruction 5230.24, Distribution Statements on Technical Documents, August 23, 2012,   as amended   DoD Instruction 8500.01, Cybersecurity, March 14, 2014   DoD Instruction 8510.01, Risk Management Framework (RMF) for DoD Information   Technology (IT), March 13, 2014, as amended   DoD Manual 5200.01, Volume 4, DoD Information Security Program:  Controlled Unclassified   Information (CUI), February 24, 2012   Federal Acquisition Regulation 52.204-21, Basic Safeguarding of Covered Contractor   Information Systems, current edition   Federal Information Processing Standards Publication 199, Standards for Security   Categorization of Federal Information and Information Systems, February 2004   National Institute of Standards and Technology Special Publication 800-171, Protecting   Controlled Unclassified Information in Nonfederal Systems and Organizations,   December 2016, as amended   Office of the Chairman of the Joint Chiefs of Staff, DoD Dictionary of Military and Associated   Terms, current edition'\""
      ]
     },
     "execution_count": 61,
     "metadata": {},
     "output_type": "execute_result"
    }
   ],
   "source": [
    "random_docs[9][\"REFERENCES\"]"
   ]
  },
  {
   "cell_type": "markdown",
   "id": "958fcdfc-6ab3-4ca8-9d8e-328a914b4d7a",
   "metadata": {
    "tags": []
   },
   "source": [
    "## Random Document 11"
   ]
  },
  {
   "cell_type": "code",
   "execution_count": 62,
   "id": "fa58dea2-d9b0-4dc6-9ceb-7b02f6b717c1",
   "metadata": {},
   "outputs": [
    {
     "data": {
      "text/plain": [
       "'a101p.txt'"
      ]
     },
     "execution_count": 62,
     "metadata": {},
     "output_type": "execute_result"
    }
   ],
   "source": [
    "has_glossary[10]"
   ]
  },
  {
   "cell_type": "code",
   "execution_count": 63,
   "id": "bc314bfa-b82c-4d1c-a3ac-c5e91edbae5e",
   "metadata": {},
   "outputs": [
    {
     "data": {
      "text/plain": [
       "dict_keys(['Preamble', '1.  ', '2.  ', '3.  ', '4.  ', '5.  ', '6.  ', '7.  ', '8.  ', '9.  ', 'ENCLOSURE 1 ', 'REFERENCES', 'ENCLOSURE 2 ', '10.  ', '11.  ', 'GLOSSARY', 'PART I', 'PART II'])"
      ]
     },
     "execution_count": 63,
     "metadata": {},
     "output_type": "execute_result"
    }
   ],
   "source": [
    "random_docs[10].keys()"
   ]
  },
  {
   "cell_type": "code",
   "execution_count": 64,
   "id": "8e06c61b-da86-4385-b0b7-7fddcd6d3f0b",
   "metadata": {},
   "outputs": [
    {
     "data": {
      "text/plain": [
       "'GLOSSARY      '"
      ]
     },
     "execution_count": 64,
     "metadata": {},
     "output_type": "execute_result"
    }
   ],
   "source": [
    "random_docs[10][\"GLOSSARY\"]"
   ]
  },
  {
   "cell_type": "code",
   "execution_count": 65,
   "id": "51c3dbb9-7a55-4707-bead-7349459970fc",
   "metadata": {},
   "outputs": [
    {
     "data": {
      "text/plain": [
       "'PART I.  ABBREVIATIONS AND ACRONYMS        DIA Defense Intelligence Agency  DIOCC Defense Intelligence Operations Coordination Center  DNI Director of National Intelligence  DoDD DoD directive     GEOINT geospatial intelligence     HUMINT human intelligence     IC Intelligence Community      MASCOM National Measurement and Signature Intelligence (MASINT) Committee  MASINT measurement and signature intelligence  MIP Military Intelligence Program     NCMR National Consortium for Measurement and Signature Intelligence (MASINT)   Research  NGA National Geospatial Intelligence Agency  NIP National Intelligence Program  NSA National Security Agency  NMMO National Measurement and Signature Intelligence (MASINT) Management   Office  NRO National Reconnaissance Office     SIGINT signals intelligence     USD(AT&L) Under Secretary of Defense for Acquisition, Technology, and Logistics  USD(I&S) Under Secretary of Defense for Intelligence and Security  USMS United States Measurement and Signature Intelligence (MASINT) System      '"
      ]
     },
     "execution_count": 65,
     "metadata": {},
     "output_type": "execute_result"
    }
   ],
   "source": [
    "random_docs[10][\"PART I\"]"
   ]
  },
  {
   "cell_type": "code",
   "execution_count": 66,
   "id": "153827fd-4ee7-4f90-9125-4fc260c42a34",
   "metadata": {},
   "outputs": [
    {
     "data": {
      "text/plain": [
       "\"PART II.  DEFINITIONS     These terms and their definitions are for the purpose of this Instruction.    Board of Governors.  A senior-level IC body, chaired by the Director, DIA, and charged to  formulate guidance for the future direction of the MASINT enterprise, achieve unity of purpose,  establish a common vision, and address issues of mutual concern to the MASINT enterprise and  its stakeholders.       DoDI 5105.58   Change 2, 09/24/2020  GLOSSARY 14   General Defense Intelligence Program.  The Defense component of the NIP and the vehicle for  bringing the national and defense intelligence capabilities to bear on DoD issues.    MASINT.  Information produced by quantitative and qualitative analysis of physical attributes of  targets and events to characterize, locate, and identify them.  MASINT exploits a variety of  phenomenologies to support signature development and analysis, to perform technical analysis,  and to detect, characterize, locate, and identify targets and events.  MASINT is derived from  specialized, technically-derived measurements of physical phenomenon intrinsic to an object or  event and it includes the use of quantitative signatures to interpret the data.    MASINT community.  The collaborative confederation of various IC organizations, agencies,  and entities performing MASINT management, collection, processing, analysis, and/or  production activities, and including some consumers of MASINT.      MIP.  Programs, projects, or activities that support USD(I&S) intelligence responsibilities and  provide capabilities to better meet warfighters operational requirements, as outlined in  Reference (b).    NCMR.  A research and development program designed to focus nationwide researchers on  scientific and technological areas that will enhance existing MASINT capabilities or introduce  new ones.  Projects incubated in the NCMR are transitioned to other USMS, DoD, and national  MASINT organizations for further application-specific development and fielding.     NIP.  All programs, projects, and activities of the IC, as well as any other programs of the IC  designated jointly by the NIP Director and the head of a U.S. department or agency or by the  President.  This does not include programs, projects, or activities of the Military Departments to  acquire intelligence solely for the planning and conduct of tactical military operations by the  U.S. Armed Forces.     MASCOM.  The DoD and IC sounding board for MASINT issues.  MASCOM advises the  USD(I&S) and DNI on the status and strategic direction for U.S. MASINT capabilities.  The  National MASINT Requirements Subcommittee of MASCOM validates and prioritizes  MASINT collection requirements for the Department of Defense and IC.    NMMO.  A joint organization, subordinate to the Director, DIA, that manages and executes, on  behalf of the Department of Defense and IC, the MASINT Services of common concern and  other MASINT-related activities.  NMMO provides the means and mechanisms to assist the  Director, DIA, in leading the decentralized MASINT community as a fully integrated enterprise.    National MASINT Requirements System.  A Web-based collection management application that  supports the creation and submission of MASINT requirements and tracking of user satisfaction.     USMS.  The combination of technology, policies, capabilities, doctrine, activities, people, data,  and communities necessary to produce MASINT in an integrated multi-intelligence, multi- domain environment.  The USMS includes the IC, the Joint Staff, the Military Departments (to  include the Services), the Combatant Commands, and selected international and civil partners.      DoDI 5105.58   Change 2, 09/24/2020  GLOSSARY 15   The USMS is a network-centric system-of-systems that provides the framework for tasking,  collection, processing, exploitation and dissemination and research and development activities  that support varied intelligence solutions for the national policymakers and the DoD community.    \\\\tINSTRUCTION'\""
      ]
     },
     "execution_count": 66,
     "metadata": {},
     "output_type": "execute_result"
    }
   ],
   "source": [
    "random_docs[10][\"PART II\"]"
   ]
  },
  {
   "cell_type": "markdown",
   "id": "8e783993-8185-4093-924b-db4233149172",
   "metadata": {
    "tags": []
   },
   "source": [
    "## Random Document 12"
   ]
  },
  {
   "cell_type": "code",
   "execution_count": 67,
   "id": "82fad338-3f48-4a10-aae3-5d1747b2b95b",
   "metadata": {},
   "outputs": [
    {
     "data": {
      "text/plain": [
       "'a105p.txt'"
      ]
     },
     "execution_count": 67,
     "metadata": {},
     "output_type": "execute_result"
    }
   ],
   "source": [
    "has_glossary[11]"
   ]
  },
  {
   "cell_type": "code",
   "execution_count": 68,
   "id": "2a252f81-6c35-4a50-b680-40ce6b0da472",
   "metadata": {},
   "outputs": [
    {
     "data": {
      "text/plain": [
       "dict_keys(['Preamble', '1.  ', '2.  ', '3.  ', '4.  ', '5.  ', '6.  ', '7.  ', 'GLOSSARY'])"
      ]
     },
     "execution_count": 68,
     "metadata": {},
     "output_type": "execute_result"
    }
   ],
   "source": [
    "random_docs[11].keys()"
   ]
  },
  {
   "cell_type": "code",
   "execution_count": 69,
   "id": "76d44103-52ab-4d41-9e77-d6f0980eda2d",
   "metadata": {},
   "outputs": [
    {
     "data": {
      "text/plain": [
       "\"GLOSSARY                                  DEFINITIONS   These terms and their definitions are for the purpose of this Directive.     DoD employees.  Includes civilian employees of the Department of Defense and members of the  Military Services.   official travel.  Traveling in the discharge of U.S. Government business at Government expense.     passport.  An internationally recognized travel document issued under the authority of the  Secretary of State attesting to the identity and nationality of the bearer.  DoS issues three types of  passports:      A regular tourist passport, issued to a citizen of the United States traveling abroad for  personal or business reasons.    An official no-fee passport, issued to an official or employee of the U.S. Government  traveling abroad in the discharge of official duties.    A diplomatic passport, issued to a foreign service officer, a person in the diplomatic service,  or a person having diplomatic status either because of the nature of his or her foreign mission or  by reason of the office he or she holds.     passport agent.  A person authorized and empowered by the Secretary of State, the DoD EA for  DoD Passport and Passport Agent Services, or the Secretaries of the Military Departments to  accept passport applications and perform passport services to include administering oaths for  passport purposes.   visa.  A stamp or impression placed on a page of a valid passport by a foreign embassy or  consulate empowered to grant permission, as of the date issued, for the applicant to enter and  remain in that country for a specific period of time.    \\\\tDIRECTIVE'\""
      ]
     },
     "execution_count": 69,
     "metadata": {},
     "output_type": "execute_result"
    }
   ],
   "source": [
    "random_docs[11][\"GLOSSARY\"]"
   ]
  },
  {
   "cell_type": "markdown",
   "id": "e374cd22-a2de-4ede-aec6-4bce46385eec",
   "metadata": {
    "tags": []
   },
   "source": [
    "## Random Document 13"
   ]
  },
  {
   "cell_type": "code",
   "execution_count": 70,
   "id": "576cd27f-d3ac-4cd4-8f6d-56bfa6bffbf9",
   "metadata": {},
   "outputs": [
    {
     "data": {
      "text/plain": [
       "'a106p.txt'"
      ]
     },
     "execution_count": 70,
     "metadata": {},
     "output_type": "execute_result"
    }
   ],
   "source": [
    "has_glossary[12]"
   ]
  },
  {
   "cell_type": "code",
   "execution_count": 71,
   "id": "c1ff09d4-dd08-4c95-b2b2-aca6fa8770f8",
   "metadata": {},
   "outputs": [
    {
     "data": {
      "text/plain": [
       "dict_keys(['Preamble', 'TABLE OF CONTENTS', 'GLOSSARY', 'PART I', 'PART II', 'ENCLOSURE 1 ', 'REFERENCES', 'ENCLOSURE 2 ', '1.  ', '2.  ', '3.  ', '4.  ', 'ENCLOSURE 3 ', '5.  ', '6.  ', '7.  ', '8.  '])"
      ]
     },
     "execution_count": 71,
     "metadata": {},
     "output_type": "execute_result"
    }
   ],
   "source": [
    "random_docs[12].keys()"
   ]
  },
  {
   "cell_type": "code",
   "execution_count": 72,
   "id": "1d3e7694-6353-4bf8-ae20-9617c8fd51de",
   "metadata": {},
   "outputs": [
    {
     "data": {
      "text/plain": [
       "'GLOSSARY    '"
      ]
     },
     "execution_count": 72,
     "metadata": {},
     "output_type": "execute_result"
    }
   ],
   "source": [
    "random_docs[12][\"GLOSSARY\"]"
   ]
  },
  {
   "cell_type": "code",
   "execution_count": 73,
   "id": "4295f6d5-674e-4662-888a-cb9ed9ec64ca",
   "metadata": {},
   "outputs": [
    {
     "data": {
      "text/plain": [
       "'PART I.  ABBREVIATIONS AND ACRONYMS       CJA criminal justice agency  CRIMINT criminal intelligence     DoDI DoD instruction     E.O. Executive Order     GS General Schedule     HRP high risk personnel     LE law enforcement  LEA law enforcement agency  LEO law enforcement officer  LES law enforcement sensitive     PI protective intelligence     USNORTHCOM United States Northern Command      '"
      ]
     },
     "execution_count": 73,
     "metadata": {},
     "output_type": "execute_result"
    }
   ],
   "source": [
    "random_docs[12][\"PART I\"]"
   ]
  },
  {
   "cell_type": "code",
   "execution_count": 74,
   "id": "28d187e3-6596-4856-8a18-87156cb03dd4",
   "metadata": {},
   "outputs": [
    {
     "data": {
      "text/plain": [
       "\"PART II.  DEFINITIONS     Unless otherwise noted, these terms and their definitions are for the purpose of this instruction.       CRIMINT.  Defined in Reference (d).    criminal justice agency.  The courts, a governmental agency, or any subunit of a governmental  agency that performs the administration of criminal justice pursuant to a statute or E.O. and that  allocates a substantial part of its annual budget to the administration of criminal justice.  Includes  State and federal inspectors general offices.    Defense criminal investigative organizations.  The four criminal investigative organizations of  DoD are the Defense Criminal Investigative Service, U.S. Army Criminal Investigations  Command, Naval Criminal Investigative Service, and Air Force Office of Special Investigations.      Change 3, 10/01/2020   GLOSSARY 14     DoD LEAs.  Organizations, agencies, entities, and offices of the Military Departments and  Defense Agencies and the Office of the Inspector General of the Department of Defense that  perform a law enforcement function for those departments and agencies and are staffed by DoD  LEOs.    DoD LEO.  Military police (Army and Marine Corps), security forces (Air Force), and Masters- at-Arms (Navy) who wear a military uniform with police identification while on duty; and DoD  Component civilian police (GS 0083 series or equivalent, consistent with the definitions of law  enforcement officer in Reference (e)) when credentialed to perform those duties.     Military and civilian (GS 1811, consistent with the definitions of law enforcement officer   in Reference (e)) criminal investigators (special agents).    Correctional officers (military or civilian employees in job series 0007 or equivalent of   Reference (e)).     intelligenceled policing.  Executive implementation of the intelligence cycle to support  proactive decision making for resource allocation and crime prevention.    military criminal investigative organizations.  The three military criminal investigative  organizations within the DoD are U.S. Army Criminal Investigations Command, Naval Criminal  Investigative Service, and Air Force Office of Special Investigations.    originating LEA.  The LEA that owns the CRIMINT system and the CRIMINT within that  system.    PI.  CRIMINT used to identify, analyze, and provide leads for investigation into various direct  and indirect threats to DoD personnel and property.  It may provide further details about persons  who may have the interest, motive, intention, and capability of mounting attacks against the DoD  and its personnel.  Additionally, it can aid DoD LEAs in gauging the potential threat to and  vulnerability of a targeted individual or property and may be used in determining or preventing  violence.    strategic CRIMINT.  Information concerning existing patterns or emerging trends of criminal  activity designed to assist in criminal apprehension and crime control strategies, for short- and  long-term investigative goals.    tactical CRIMINT.  Information regarding a specific criminal event that can be used immediately  by operational units to further a criminal investigation, plan tactical operations, and provide for  officer safety.    \\\\tINSTRUCTION'\""
      ]
     },
     "execution_count": 74,
     "metadata": {},
     "output_type": "execute_result"
    }
   ],
   "source": [
    "random_docs[12][\"PART II\"]"
   ]
  },
  {
   "cell_type": "markdown",
   "id": "c36fd8b5-2c47-4709-9361-922e336f203b",
   "metadata": {
    "tags": []
   },
   "source": [
    "## Random Document 14"
   ]
  },
  {
   "cell_type": "code",
   "execution_count": 75,
   "id": "514701ac-a7dc-4e0a-8e17-56baef455536",
   "metadata": {},
   "outputs": [
    {
     "data": {
      "text/plain": [
       "'a108p.txt'"
      ]
     },
     "execution_count": 75,
     "metadata": {},
     "output_type": "execute_result"
    }
   ],
   "source": [
    "has_glossary[13]"
   ]
  },
  {
   "cell_type": "code",
   "execution_count": 76,
   "id": "aa72c269-a95b-462c-ae9b-069888192bd9",
   "metadata": {
    "tags": []
   },
   "outputs": [
    {
     "data": {
      "text/plain": [
       "dict_keys(['Preamble', '1.  ', '2.  ', '3.  ', '4.  ', '5.  ', '6.  ', '7.  ', 'ENCLOSURE 1 ', 'REFERENCES', 'ENCLOSURE 2 ', 'ENCLOSURE 3 ', 'GLOSSARY', 'PART I', 'PART II'])"
      ]
     },
     "execution_count": 76,
     "metadata": {},
     "output_type": "execute_result"
    }
   ],
   "source": [
    "random_docs[13].keys()"
   ]
  },
  {
   "cell_type": "code",
   "execution_count": 77,
   "id": "f5125214-f26d-4849-bfcd-bd07e980248d",
   "metadata": {
    "tags": []
   },
   "outputs": [
    {
     "data": {
      "text/plain": [
       "\"GLOSSARY 11   include voice recognition and speech output software, assistive listening devices, and  augmentative or alternative communication devices.  A list of available devices can be found at  www.cap.mil/wsm/solutions/index.aspx.      AT service.  Any service that directly assists an individual with a disability in the selection,  acquisition, or use of an AT device.  Services may include needs assessments, acquisition,  integration, coordination of services with rehabilitation plans, training, and technical assistance.      CAP.  A program under the authority of the DoDHRA that provides AT to increase access to  computer and telecommunication systems by employees with disabilities within the DoD and  federal partner agencies, and Service members with cognitive, communication, dexterity,  hearing, or vision impairments.       wounded warrior programs.  A system of support and advocacy to guide and assist the wounded,  ill, and injured Service members and family or designated caregiver through treatment,  rehabilitation, return to duty, or military retirement into the civilian community.  Each Military  Department has a unique wounded warrior program that addresses its Service members needs.  This term and its definition are proposed for inclusion in the next edition of Joint Publication   1-02 (Reference (j)).        \\\\tINSTRUCTION'\""
      ]
     },
     "execution_count": 77,
     "metadata": {},
     "output_type": "execute_result"
    }
   ],
   "source": [
    "random_docs[13][\"GLOSSARY\"]"
   ]
  },
  {
   "cell_type": "code",
   "execution_count": 78,
   "id": "9a868b6b-a475-4cb4-94b7-8538a3604250",
   "metadata": {},
   "outputs": [
    {
     "data": {
      "text/plain": [
       "'PART I.  ABBREVIATIONS AND ACRONYMS     ASD(HA) Assistant Secretary of Defense for Health Affairs  AT assistive technology     CAP Computer/Electronic Accommodations Program     DASD(WCP) Deputy Assistant Secretary of Defense for Warrior Care Policy  DHA Defense Health Agency  DoDHRA Department of Defense Human Resource Agency  DoDD DoD directive  DoDI DoD instruction     E2I Education and Employment Initiative     IDES Integrated Disability Evaluation System     MHS Military Health System  MTF military treatment facility     OWF Operation WARFIGHTER     USD(P&R) Under Secretary of Defense for Personnel and Readiness  USSOCOM U.S. Special Operations Command        '"
      ]
     },
     "execution_count": 78,
     "metadata": {},
     "output_type": "execute_result"
    }
   ],
   "source": [
    "random_docs[13][\"PART I\"]"
   ]
  },
  {
   "cell_type": "code",
   "execution_count": 79,
   "id": "0a833406-7981-4cb9-a0b9-a19c1efb1844",
   "metadata": {},
   "outputs": [
    {
     "data": {
      "text/plain": [
       "'PART II.  DEFINITIONS     These terms and their definitions are for the purpose of this instruction.     AT.  Technology that provides individuals with disabilities equal access to computer and  telecommunication work environments.  It does not include durable medical equipment and is  divided into two categories:  devices and services.      AT device.  Any item, piece of equipment, or product system, whether acquired commercially,  modified, or customized, that is used to increase, maintain, or improve the functional capabilities  of individuals with disabilities.  The devices help individuals access computer and  telecommunication systems and gain improved access to care and decision making.  Examples       '"
      ]
     },
     "execution_count": 79,
     "metadata": {},
     "output_type": "execute_result"
    }
   ],
   "source": [
    "random_docs[13][\"PART II\"]"
   ]
  },
  {
   "cell_type": "markdown",
   "id": "6748c0a1-a564-48a0-b367-717647357ed9",
   "metadata": {
    "tags": []
   },
   "source": [
    "## Random Document 15"
   ]
  },
  {
   "cell_type": "code",
   "execution_count": 80,
   "id": "92af86e2-0dce-44a9-b91c-5c59f99b0915",
   "metadata": {},
   "outputs": [
    {
     "data": {
      "text/plain": [
       "'a109p.txt'"
      ]
     },
     "execution_count": 80,
     "metadata": {},
     "output_type": "execute_result"
    }
   ],
   "source": [
    "has_glossary[14]"
   ]
  },
  {
   "cell_type": "code",
   "execution_count": 81,
   "id": "2b71941d-72fe-4577-a364-0164a23c5fea",
   "metadata": {
    "tags": []
   },
   "outputs": [
    {
     "data": {
      "text/plain": [
       "dict_keys(['Preamble', '1.  ', '2.  ', '3.  ', '4.  ', '5.  ', '6.  ', '7.  ', 'ENCLOSURE 1 ', 'REFERENCES', 'ENCLOSURE 2 ', 'GLOSSARY', 'PART I', 'PART II'])"
      ]
     },
     "execution_count": 81,
     "metadata": {},
     "output_type": "execute_result"
    }
   ],
   "source": [
    "random_docs[14].keys()"
   ]
  },
  {
   "cell_type": "code",
   "execution_count": 82,
   "id": "ed062075-f834-4095-bead-559537d363bf",
   "metadata": {
    "tags": []
   },
   "outputs": [
    {
     "data": {
      "text/plain": [
       "'GLOSSARY    '"
      ]
     },
     "execution_count": 82,
     "metadata": {},
     "output_type": "execute_result"
    }
   ],
   "source": [
    "random_docs[14][\"GLOSSARY\"]"
   ]
  },
  {
   "cell_type": "code",
   "execution_count": 83,
   "id": "a7757228-9253-4872-8f60-ce657aa6404c",
   "metadata": {},
   "outputs": [
    {
     "data": {
      "text/plain": [
       "'PART I.  ABBREVIATIONS AND ACRONYMS    DoDD Department of Defense Directive  ASD(EI&E) Assistant Secretary of Defense for Energy, Installations, and Environment     EA Executive Agent     HAP Homeowners Assistance Program     USD(AT&L) Under Secretary of Defense for Acquisition, Technology, and Logistics  USD(C)/CFO Under Secretary of Defense (Comptroller)/Chief Financial Officer,   Department of Defense      '"
      ]
     },
     "execution_count": 83,
     "metadata": {},
     "output_type": "execute_result"
    }
   ],
   "source": [
    "random_docs[14][\"PART I\"]"
   ]
  },
  {
   "cell_type": "code",
   "execution_count": 84,
   "id": "5cffa731-d89e-4764-822a-d59b65ae69e0",
   "metadata": {},
   "outputs": [
    {
     "data": {
      "text/plain": [
       "\"PART II.  DEFINITIONS     These terms and their definitions are for the purposes of this directive.    DoD Homeowners Assistance Fund.  A non-expiring revolving defense fund that provides  assistance to DoD personnel and Coast Guard personnel who sustain a loss on the sale of their  primary residence due to declining residential real estate markets attributable to the closure or  realignment of military installations.      Future Years Defense Program.  A DoD database and internal accounting system that  summarizes forces and resources associated with programs approved by the Secretary of  Defense.     \\\\tDIRECTIVE'\""
      ]
     },
     "execution_count": 84,
     "metadata": {},
     "output_type": "execute_result"
    }
   ],
   "source": [
    "random_docs[14][\"PART II\"]"
   ]
  }
 ],
 "metadata": {
  "kernelspec": {
   "display_name": "Python 3",
   "language": "python",
   "name": "python3"
  },
  "language_info": {
   "codemirror_mode": {
    "name": "ipython",
    "version": 3
   },
   "file_extension": ".py",
   "mimetype": "text/x-python",
   "name": "python",
   "nbconvert_exporter": "python",
   "pygments_lexer": "ipython3",
   "version": "3.7.11"
  }
 },
 "nbformat": 4,
 "nbformat_minor": 5
}
