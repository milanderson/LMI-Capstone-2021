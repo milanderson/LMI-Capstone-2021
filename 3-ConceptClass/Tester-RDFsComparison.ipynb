{
 "cells": [
  {
   "cell_type": "markdown",
   "metadata": {},
   "source": [
    "# RDFs Comparison - Tester"
   ]
  },
  {
   "cell_type": "markdown",
   "metadata": {},
   "source": [
    "**Purpose** \n",
    "\n",
    "This Jupyter notebook is to test the RDFs Comparison methods \n"
   ]
  },
  {
   "cell_type": "code",
   "execution_count": 8,
   "metadata": {},
   "outputs": [],
   "source": [
    "# Import the RDFsComparison python file with required methods. \n",
    "# Note : Please make sure to copy the python RDFsComparison.py file in the same folder where this notebook file is located\n",
    "\n",
    "from RDFsComparison import *"
   ]
  },
  {
   "cell_type": "markdown",
   "metadata": {},
   "source": [
    "### Test Cases"
   ]
  },
  {
   "cell_type": "markdown",
   "metadata": {},
   "source": [
    "Multiple options are available to compare the labels and simality types:\n",
    "\n",
    "**Options**\n",
    "\n",
    "* It can compare the given two RDF documents. Generally, we compare the final RDF document created with the original RDF document provided to start with \n",
    "* It can compare any element in the Concept object (Synonyms, Acronyms, Preferred Labels, Alternate Labels etc.,)\n",
    "* It can measure two types of comparisons (Jaccard Similarity and Set Difference)\n",
    "* Jaccard Similarity mesures the similarity of the lables using Intersection / Union \n",
    "* Set Difference measures (X - Y) and (Y - X) \n",
    "* It takes the maximum score for each comparison and computes an average score based on the number of matching concepts\n"
   ]
  },
  {
   "cell_type": "code",
   "execution_count": 9,
   "metadata": {},
   "outputs": [
    {
     "name": "stdout",
     "output_type": "stream",
     "text": [
      "\n",
      "Synonyms Comparison : \n",
      "====================\n",
      "05/01/22 18:39:03  : Begin Process... Synonyms Comparison\n",
      "Original Concept\n",
      "\n",
      "===================\n",
      "    prefLabels\n",
      "{'military installation': 0}\n",
      "    altLabels\n",
      "{}\n",
      "    acronyms\n",
      "{}\n",
      "    synonyms\n",
      "['activity', 'base', 'fort', 'station']\n",
      "\n",
      "\n",
      "Final Concept\n",
      "\n",
      "===================\n",
      "    prefLabels\n",
      "{}\n",
      "    altLabels\n",
      "{}\n",
      "    acronyms\n",
      "{}\n",
      "    synonyms\n",
      "['station']\n",
      "\n",
      "\n",
      "Score:\n",
      "0.25\n",
      "(0.25, 740, 0.00033783783783783786)\n",
      "05/01/22 18:39:06  : End Process... Synonyms Comparison\n",
      "Total runtime for Synonyms Comparison : 2.813843250274658 seconds\n"
     ]
    }
   ],
   "source": [
    "####################################\n",
    "## Testing the RDF Comparison Module\n",
    "# Parameter : Source(original) RDF File, Final (Created) RDF File, Elements to compare\n",
    "####################################\n",
    "#compareRDFS(\"C:\\\\Users\\\\srini\\\\UVA-MSDS\\\\DS-6011-CAP\\\\DATA\\\\TestSourceRDF.rdf\",\"C:\\\\Users\\\\srini\\\\UVA-MSDS\\\\DS-6011-CAP\\\\DATA\\\\TestFinalRDF.rdf\")\n",
    "\n",
    "runTime = timeLog(\"Synonyms Comparison\")\n",
    "\n",
    "\n",
    "\n",
    "print(\"\\nSynonyms Comparison : \")\n",
    "print(\"====================\")\n",
    "\n",
    "runTime.beginProcess()\n",
    "\n",
    "print(compareRDFS(\"C:\\\\Users\\\\srini\\\\UVA-MSDS\\\\DS-6011-CAP\\\\DATA\\\\Modified_OriginalSourceRDF.rdf\",\n",
    "                  \"C:\\\\Users\\\\srini\\\\UVA-MSDS\\\\DS-6011-CAP\\\\RDFConceptsGenerated_Synonyms.xml\",  #Test1V2-1.rdf , RDFConcepts2.xml,TestFinalRDF.rdf\n",
    "                  \"synonyms\",\n",
    "                  \"jaccard\"))\n",
    "#\"jaccard\",\"xMinusY\",\"yMinusX\"\n",
    "# Other available parameter options : \"synonyms\", \"altLabels\", \"prefLabels\", \"acronyms\"\n",
    "# TestSourceRDF.rdf,Test1V2.rdf,Test1V2-1.rdf\n",
    "runTime.endProcess()"
   ]
  },
  {
   "cell_type": "code",
   "execution_count": null,
   "metadata": {},
   "outputs": [],
   "source": []
  },
  {
   "cell_type": "code",
   "execution_count": null,
   "metadata": {},
   "outputs": [],
   "source": []
  }
 ],
 "metadata": {
  "kernelspec": {
   "display_name": "Python 3",
   "language": "python",
   "name": "python3"
  },
  "language_info": {
   "codemirror_mode": {
    "name": "ipython",
    "version": 3
   },
   "file_extension": ".py",
   "mimetype": "text/x-python",
   "name": "python",
   "nbconvert_exporter": "python",
   "pygments_lexer": "ipython3",
   "version": "3.8.5"
  }
 },
 "nbformat": 4,
 "nbformat_minor": 4
}
