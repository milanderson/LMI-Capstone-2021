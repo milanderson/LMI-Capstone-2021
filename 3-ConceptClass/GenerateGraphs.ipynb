{
 "cells": [
  {
   "cell_type": "code",
   "execution_count": 1,
   "metadata": {},
   "outputs": [],
   "source": [
    "import pandas as pd\n",
    "import pandasql as ps\n",
    "import seaborn as sns\n",
    "from matplotlib import pyplot as plt"
   ]
  },
  {
   "cell_type": "code",
   "execution_count": 2,
   "metadata": {},
   "outputs": [],
   "source": [
    "#pip install pandasql"
   ]
  },
  {
   "cell_type": "code",
   "execution_count": 3,
   "metadata": {},
   "outputs": [],
   "source": [
    "df1 = pd.read_csv('concepts_data_0_to_1.csv')"
   ]
  },
  {
   "cell_type": "code",
   "execution_count": 4,
   "metadata": {},
   "outputs": [],
   "source": [
    "df2 = pd.read_csv('concepts_data_1_to_1325.csv')"
   ]
  },
  {
   "cell_type": "code",
   "execution_count": 5,
   "metadata": {},
   "outputs": [],
   "source": [
    "dfData = df1.append(df2)"
   ]
  },
  {
   "cell_type": "code",
   "execution_count": 6,
   "metadata": {},
   "outputs": [
    {
     "data": {
      "text/html": [
       "<div>\n",
       "<style scoped>\n",
       "    .dataframe tbody tr th:only-of-type {\n",
       "        vertical-align: middle;\n",
       "    }\n",
       "\n",
       "    .dataframe tbody tr th {\n",
       "        vertical-align: top;\n",
       "    }\n",
       "\n",
       "    .dataframe thead th {\n",
       "        text-align: right;\n",
       "    }\n",
       "</style>\n",
       "<table border=\"1\" class=\"dataframe\">\n",
       "  <thead>\n",
       "    <tr style=\"text-align: right;\">\n",
       "      <th></th>\n",
       "      <th>Unnamed: 0</th>\n",
       "      <th>doc_name</th>\n",
       "      <th>doc_type</th>\n",
       "      <th>cocept_id</th>\n",
       "      <th>phrase_type</th>\n",
       "      <th>phrase_text</th>\n",
       "      <th>phrase_count</th>\n",
       "      <th>time_stamp</th>\n",
       "    </tr>\n",
       "  </thead>\n",
       "  <tbody>\n",
       "    <tr>\n",
       "      <th>0</th>\n",
       "      <td>0</td>\n",
       "      <td>dummyText.txt</td>\n",
       "      <td>test_type</td>\n",
       "      <td>0</td>\n",
       "      <td>testLable</td>\n",
       "      <td>test Phrase</td>\n",
       "      <td>0</td>\n",
       "      <td>01-01-1900 01:01:01</td>\n",
       "    </tr>\n",
       "    <tr>\n",
       "      <th>1</th>\n",
       "      <td>0</td>\n",
       "      <td>dummyText.txt</td>\n",
       "      <td>test_type</td>\n",
       "      <td>0</td>\n",
       "      <td>testLable</td>\n",
       "      <td>test Phrase</td>\n",
       "      <td>0</td>\n",
       "      <td>01-01-1900 01:01:01</td>\n",
       "    </tr>\n",
       "    <tr>\n",
       "      <th>2</th>\n",
       "      <td>0</td>\n",
       "      <td>AI08_2016.txt</td>\n",
       "      <td>admin%20instructions</td>\n",
       "      <td>64</td>\n",
       "      <td>prefLabel</td>\n",
       "      <td>activity</td>\n",
       "      <td>2</td>\n",
       "      <td>2021-11-24 07:57:09.861946</td>\n",
       "    </tr>\n",
       "    <tr>\n",
       "      <th>3</th>\n",
       "      <td>0</td>\n",
       "      <td>AI08_2016.txt</td>\n",
       "      <td>admin%20instructions</td>\n",
       "      <td>80</td>\n",
       "      <td>prefLabel</td>\n",
       "      <td>agreement</td>\n",
       "      <td>2</td>\n",
       "      <td>2021-11-24 07:57:09.863642</td>\n",
       "    </tr>\n",
       "    <tr>\n",
       "      <th>4</th>\n",
       "      <td>0</td>\n",
       "      <td>AI08_2016.txt</td>\n",
       "      <td>admin%20instructions</td>\n",
       "      <td>108</td>\n",
       "      <td>altLabel</td>\n",
       "      <td>aircraft</td>\n",
       "      <td>1</td>\n",
       "      <td>2021-11-24 07:57:09.865015</td>\n",
       "    </tr>\n",
       "    <tr>\n",
       "      <th>...</th>\n",
       "      <td>...</td>\n",
       "      <td>...</td>\n",
       "      <td>...</td>\n",
       "      <td>...</td>\n",
       "      <td>...</td>\n",
       "      <td>...</td>\n",
       "      <td>...</td>\n",
       "      <td>...</td>\n",
       "    </tr>\n",
       "    <tr>\n",
       "      <th>25</th>\n",
       "      <td>0</td>\n",
       "      <td>AI120_2017.txt</td>\n",
       "      <td>admin%20instructions</td>\n",
       "      <td>1098</td>\n",
       "      <td>prefLabel</td>\n",
       "      <td>expired</td>\n",
       "      <td>1</td>\n",
       "      <td>2021-11-23 09:37:31.822465</td>\n",
       "    </tr>\n",
       "    <tr>\n",
       "      <th>26</th>\n",
       "      <td>0</td>\n",
       "      <td>AI120_2017.txt</td>\n",
       "      <td>admin%20instructions</td>\n",
       "      <td>1124</td>\n",
       "      <td>acronym</td>\n",
       "      <td>FAR</td>\n",
       "      <td>13</td>\n",
       "      <td>2021-11-23 09:37:31.824374</td>\n",
       "    </tr>\n",
       "    <tr>\n",
       "      <th>27</th>\n",
       "      <td>0</td>\n",
       "      <td>AI120_2017.txt</td>\n",
       "      <td>admin%20instructions</td>\n",
       "      <td>1177</td>\n",
       "      <td>altLabel</td>\n",
       "      <td>Financial Management Regulation</td>\n",
       "      <td>1</td>\n",
       "      <td>2021-11-23 09:37:31.826689</td>\n",
       "    </tr>\n",
       "    <tr>\n",
       "      <th>28</th>\n",
       "      <td>0</td>\n",
       "      <td>AI120_2017.txt</td>\n",
       "      <td>admin%20instructions</td>\n",
       "      <td>1234</td>\n",
       "      <td>prefLabel</td>\n",
       "      <td>format</td>\n",
       "      <td>2</td>\n",
       "      <td>2021-11-23 09:37:31.828621</td>\n",
       "    </tr>\n",
       "    <tr>\n",
       "      <th>29</th>\n",
       "      <td>0</td>\n",
       "      <td>AI120_2017.txt</td>\n",
       "      <td>admin%20instructions</td>\n",
       "      <td>1256</td>\n",
       "      <td>prefLabel</td>\n",
       "      <td>funding</td>\n",
       "      <td>2</td>\n",
       "      <td>2021-11-23 09:37:31.830482</td>\n",
       "    </tr>\n",
       "  </tbody>\n",
       "</table>\n",
       "<p>100 rows × 8 columns</p>\n",
       "</div>"
      ],
      "text/plain": [
       "    Unnamed: 0        doc_name              doc_type  cocept_id phrase_type  \\\n",
       "0            0   dummyText.txt             test_type          0   testLable   \n",
       "1            0   dummyText.txt             test_type          0   testLable   \n",
       "2            0   AI08_2016.txt  admin%20instructions         64   prefLabel   \n",
       "3            0   AI08_2016.txt  admin%20instructions         80   prefLabel   \n",
       "4            0   AI08_2016.txt  admin%20instructions        108    altLabel   \n",
       "..         ...             ...                   ...        ...         ...   \n",
       "25           0  AI120_2017.txt  admin%20instructions       1098   prefLabel   \n",
       "26           0  AI120_2017.txt  admin%20instructions       1124     acronym   \n",
       "27           0  AI120_2017.txt  admin%20instructions       1177    altLabel   \n",
       "28           0  AI120_2017.txt  admin%20instructions       1234   prefLabel   \n",
       "29           0  AI120_2017.txt  admin%20instructions       1256   prefLabel   \n",
       "\n",
       "                        phrase_text  phrase_count                  time_stamp  \n",
       "0                       test Phrase             0         01-01-1900 01:01:01  \n",
       "1                       test Phrase             0         01-01-1900 01:01:01  \n",
       "2                          activity             2  2021-11-24 07:57:09.861946  \n",
       "3                         agreement             2  2021-11-24 07:57:09.863642  \n",
       "4                          aircraft             1  2021-11-24 07:57:09.865015  \n",
       "..                              ...           ...                         ...  \n",
       "25                          expired             1  2021-11-23 09:37:31.822465  \n",
       "26                              FAR            13  2021-11-23 09:37:31.824374  \n",
       "27  Financial Management Regulation             1  2021-11-23 09:37:31.826689  \n",
       "28                           format             2  2021-11-23 09:37:31.828621  \n",
       "29                          funding             2  2021-11-23 09:37:31.830482  \n",
       "\n",
       "[100 rows x 8 columns]"
      ]
     },
     "execution_count": 6,
     "metadata": {},
     "output_type": "execute_result"
    }
   ],
   "source": [
    "dfData.head(100)"
   ]
  },
  {
   "cell_type": "code",
   "execution_count": 7,
   "metadata": {},
   "outputs": [],
   "source": [
    "dfData.doc_type = dfData.doc_type.replace({\"admin%20instructions\": \"admin instructions\"})"
   ]
  },
  {
   "cell_type": "code",
   "execution_count": 8,
   "metadata": {},
   "outputs": [
    {
     "data": {
      "text/html": [
       "<div>\n",
       "<style scoped>\n",
       "    .dataframe tbody tr th:only-of-type {\n",
       "        vertical-align: middle;\n",
       "    }\n",
       "\n",
       "    .dataframe tbody tr th {\n",
       "        vertical-align: top;\n",
       "    }\n",
       "\n",
       "    .dataframe thead th {\n",
       "        text-align: right;\n",
       "    }\n",
       "</style>\n",
       "<table border=\"1\" class=\"dataframe\">\n",
       "  <thead>\n",
       "    <tr style=\"text-align: right;\">\n",
       "      <th></th>\n",
       "      <th>Unnamed: 0</th>\n",
       "      <th>doc_name</th>\n",
       "      <th>doc_type</th>\n",
       "      <th>cocept_id</th>\n",
       "      <th>phrase_type</th>\n",
       "      <th>phrase_text</th>\n",
       "      <th>phrase_count</th>\n",
       "      <th>time_stamp</th>\n",
       "    </tr>\n",
       "  </thead>\n",
       "  <tbody>\n",
       "    <tr>\n",
       "      <th>0</th>\n",
       "      <td>0</td>\n",
       "      <td>dummyText.txt</td>\n",
       "      <td>test_type</td>\n",
       "      <td>0</td>\n",
       "      <td>testLable</td>\n",
       "      <td>test Phrase</td>\n",
       "      <td>0</td>\n",
       "      <td>01-01-1900 01:01:01</td>\n",
       "    </tr>\n",
       "    <tr>\n",
       "      <th>1</th>\n",
       "      <td>0</td>\n",
       "      <td>dummyText.txt</td>\n",
       "      <td>test_type</td>\n",
       "      <td>0</td>\n",
       "      <td>testLable</td>\n",
       "      <td>test Phrase</td>\n",
       "      <td>0</td>\n",
       "      <td>01-01-1900 01:01:01</td>\n",
       "    </tr>\n",
       "    <tr>\n",
       "      <th>2</th>\n",
       "      <td>0</td>\n",
       "      <td>AI08_2016.txt</td>\n",
       "      <td>admin instructions</td>\n",
       "      <td>64</td>\n",
       "      <td>prefLabel</td>\n",
       "      <td>activity</td>\n",
       "      <td>2</td>\n",
       "      <td>2021-11-24 07:57:09.861946</td>\n",
       "    </tr>\n",
       "    <tr>\n",
       "      <th>3</th>\n",
       "      <td>0</td>\n",
       "      <td>AI08_2016.txt</td>\n",
       "      <td>admin instructions</td>\n",
       "      <td>80</td>\n",
       "      <td>prefLabel</td>\n",
       "      <td>agreement</td>\n",
       "      <td>2</td>\n",
       "      <td>2021-11-24 07:57:09.863642</td>\n",
       "    </tr>\n",
       "    <tr>\n",
       "      <th>4</th>\n",
       "      <td>0</td>\n",
       "      <td>AI08_2016.txt</td>\n",
       "      <td>admin instructions</td>\n",
       "      <td>108</td>\n",
       "      <td>altLabel</td>\n",
       "      <td>aircraft</td>\n",
       "      <td>1</td>\n",
       "      <td>2021-11-24 07:57:09.865015</td>\n",
       "    </tr>\n",
       "    <tr>\n",
       "      <th>...</th>\n",
       "      <td>...</td>\n",
       "      <td>...</td>\n",
       "      <td>...</td>\n",
       "      <td>...</td>\n",
       "      <td>...</td>\n",
       "      <td>...</td>\n",
       "      <td>...</td>\n",
       "      <td>...</td>\n",
       "    </tr>\n",
       "    <tr>\n",
       "      <th>103959</th>\n",
       "      <td>0</td>\n",
       "      <td>SIPR Placeholder S-D..&gt;</td>\n",
       "      <td>memos</td>\n",
       "      <td>216</td>\n",
       "      <td>prefLabel</td>\n",
       "      <td>authorized</td>\n",
       "      <td>1</td>\n",
       "      <td>2021-11-24 01:21:28.544601</td>\n",
       "    </tr>\n",
       "    <tr>\n",
       "      <th>103960</th>\n",
       "      <td>0</td>\n",
       "      <td>SIPR Placeholder S-D..&gt;</td>\n",
       "      <td>memos</td>\n",
       "      <td>522</td>\n",
       "      <td>prefLabel</td>\n",
       "      <td>controlled</td>\n",
       "      <td>2</td>\n",
       "      <td>2021-11-24 01:21:28.547357</td>\n",
       "    </tr>\n",
       "    <tr>\n",
       "      <th>103961</th>\n",
       "      <td>0</td>\n",
       "      <td>SIPR Placeholder S-D..&gt;</td>\n",
       "      <td>memos</td>\n",
       "      <td>911</td>\n",
       "      <td>prefLabel</td>\n",
       "      <td>documents</td>\n",
       "      <td>1</td>\n",
       "      <td>2021-11-24 01:21:28.549455</td>\n",
       "    </tr>\n",
       "    <tr>\n",
       "      <th>103962</th>\n",
       "      <td>0</td>\n",
       "      <td>SIPR Placeholder S-D..&gt;</td>\n",
       "      <td>memos</td>\n",
       "      <td>1680</td>\n",
       "      <td>prefLabel</td>\n",
       "      <td>may</td>\n",
       "      <td>1</td>\n",
       "      <td>2021-11-24 01:21:28.551788</td>\n",
       "    </tr>\n",
       "    <tr>\n",
       "      <th>103963</th>\n",
       "      <td>0</td>\n",
       "      <td>SIPR Placeholder S-D..&gt;</td>\n",
       "      <td>memos</td>\n",
       "      <td>2564</td>\n",
       "      <td>acronym</td>\n",
       "      <td>USD</td>\n",
       "      <td>1</td>\n",
       "      <td>2021-11-24 01:21:28.554256</td>\n",
       "    </tr>\n",
       "  </tbody>\n",
       "</table>\n",
       "<p>104034 rows × 8 columns</p>\n",
       "</div>"
      ],
      "text/plain": [
       "        Unnamed: 0                 doc_name            doc_type  cocept_id  \\\n",
       "0                0            dummyText.txt           test_type          0   \n",
       "1                0            dummyText.txt           test_type          0   \n",
       "2                0            AI08_2016.txt  admin instructions         64   \n",
       "3                0            AI08_2016.txt  admin instructions         80   \n",
       "4                0            AI08_2016.txt  admin instructions        108   \n",
       "...            ...                      ...                 ...        ...   \n",
       "103959           0  SIPR Placeholder S-D..>               memos        216   \n",
       "103960           0  SIPR Placeholder S-D..>               memos        522   \n",
       "103961           0  SIPR Placeholder S-D..>               memos        911   \n",
       "103962           0  SIPR Placeholder S-D..>               memos       1680   \n",
       "103963           0  SIPR Placeholder S-D..>               memos       2564   \n",
       "\n",
       "       phrase_type  phrase_text  phrase_count                  time_stamp  \n",
       "0        testLable  test Phrase             0         01-01-1900 01:01:01  \n",
       "1        testLable  test Phrase             0         01-01-1900 01:01:01  \n",
       "2        prefLabel     activity             2  2021-11-24 07:57:09.861946  \n",
       "3        prefLabel    agreement             2  2021-11-24 07:57:09.863642  \n",
       "4         altLabel     aircraft             1  2021-11-24 07:57:09.865015  \n",
       "...            ...          ...           ...                         ...  \n",
       "103959   prefLabel   authorized             1  2021-11-24 01:21:28.544601  \n",
       "103960   prefLabel   controlled             2  2021-11-24 01:21:28.547357  \n",
       "103961   prefLabel    documents             1  2021-11-24 01:21:28.549455  \n",
       "103962   prefLabel          may             1  2021-11-24 01:21:28.551788  \n",
       "103963     acronym          USD             1  2021-11-24 01:21:28.554256  \n",
       "\n",
       "[104034 rows x 8 columns]"
      ]
     },
     "execution_count": 8,
     "metadata": {},
     "output_type": "execute_result"
    }
   ],
   "source": [
    "dfData"
   ]
  },
  {
   "cell_type": "markdown",
   "metadata": {},
   "source": [
    "#### Number of Documents Processed by Document Type\n",
    "\n",
    "This graph shows the number of documents processed by Document Type (Admin Instructions, Directives, Instructions, Manuals and Memos)\n"
   ]
  },
  {
   "cell_type": "code",
   "execution_count": 9,
   "metadata": {},
   "outputs": [],
   "source": [
    "q1 = \"\"\"SELECT doc_type Type,count(distinct doc_name) cnt \n",
    "          FROM dfData \n",
    "         WHERE doc_type != 'test_type'  \n",
    "         GROUP BY doc_type \"\"\""
   ]
  },
  {
   "cell_type": "code",
   "execution_count": 10,
   "metadata": {},
   "outputs": [],
   "source": [
    "df = ps.sqldf(q1, locals())"
   ]
  },
  {
   "cell_type": "code",
   "execution_count": 11,
   "metadata": {},
   "outputs": [
    {
     "data": {
      "text/html": [
       "<div>\n",
       "<style scoped>\n",
       "    .dataframe tbody tr th:only-of-type {\n",
       "        vertical-align: middle;\n",
       "    }\n",
       "\n",
       "    .dataframe tbody tr th {\n",
       "        vertical-align: top;\n",
       "    }\n",
       "\n",
       "    .dataframe thead th {\n",
       "        text-align: right;\n",
       "    }\n",
       "</style>\n",
       "<table border=\"1\" class=\"dataframe\">\n",
       "  <thead>\n",
       "    <tr style=\"text-align: right;\">\n",
       "      <th></th>\n",
       "      <th>Type</th>\n",
       "      <th>cnt</th>\n",
       "    </tr>\n",
       "  </thead>\n",
       "  <tbody>\n",
       "    <tr>\n",
       "      <th>0</th>\n",
       "      <td>admin instructions</td>\n",
       "      <td>43</td>\n",
       "    </tr>\n",
       "    <tr>\n",
       "      <th>1</th>\n",
       "      <td>directives</td>\n",
       "      <td>301</td>\n",
       "    </tr>\n",
       "    <tr>\n",
       "      <th>2</th>\n",
       "      <td>instructions</td>\n",
       "      <td>773</td>\n",
       "    </tr>\n",
       "    <tr>\n",
       "      <th>3</th>\n",
       "      <td>manuals</td>\n",
       "      <td>178</td>\n",
       "    </tr>\n",
       "    <tr>\n",
       "      <th>4</th>\n",
       "      <td>memos</td>\n",
       "      <td>30</td>\n",
       "    </tr>\n",
       "  </tbody>\n",
       "</table>\n",
       "</div>"
      ],
      "text/plain": [
       "                 Type  cnt\n",
       "0  admin instructions   43\n",
       "1          directives  301\n",
       "2        instructions  773\n",
       "3             manuals  178\n",
       "4               memos   30"
      ]
     },
     "execution_count": 11,
     "metadata": {},
     "output_type": "execute_result"
    }
   ],
   "source": [
    "df"
   ]
  },
  {
   "cell_type": "code",
   "execution_count": 12,
   "metadata": {},
   "outputs": [
    {
     "data": {
      "image/png": "[encoded data removed]",
      "text/plain": [
       "<Figure size 576x432 with 1 Axes>"
      ]
     },
     "metadata": {
      "needs_background": "light"
     },
     "output_type": "display_data"
    }
   ],
   "source": [
    "plt.figure(figsize=(8,6))\n",
    "myplot = sns.barplot(data=df,x=df.Type,y=df.cnt)\n",
    "myplot =.barplot(data=df,x=df.Type,y=df.cnt)\n",
    "plt.ylabel('Document Count')\n",
    "plt.xlabel('Document Type')\n",
    "plt.title('Number of Documents Processed by Document Type')\n",
    "\n",
    "for rect in myplot.patches:\n",
    "    xcoor = rect.get_x() + .5*rect.get_width()\n",
    "    ycoor = rect.get_height()\n",
    "    plt.text(xcoor, ycoor, str(int(ycoor)), \n",
    "             horizontalalignment='center', \n",
    "             verticalalignment='bottom',\n",
    "             fontsize=14)"
   ]
  },
  {
   "cell_type": "markdown",
   "metadata": {},
   "source": [
    "## Distinct Concepts Count"
   ]
  },
  {
   "cell_type": "code",
   "execution_count": 13,
   "metadata": {},
   "outputs": [
    {
     "data": {
      "text/html": [
       "<div>\n",
       "<style scoped>\n",
       "    .dataframe tbody tr th:only-of-type {\n",
       "        vertical-align: middle;\n",
       "    }\n",
       "\n",
       "    .dataframe tbody tr th {\n",
       "        vertical-align: top;\n",
       "    }\n",
       "\n",
       "    .dataframe thead th {\n",
       "        text-align: right;\n",
       "    }\n",
       "</style>\n",
       "<table border=\"1\" class=\"dataframe\">\n",
       "  <thead>\n",
       "    <tr style=\"text-align: right;\">\n",
       "      <th></th>\n",
       "      <th>cnt</th>\n",
       "    </tr>\n",
       "  </thead>\n",
       "  <tbody>\n",
       "    <tr>\n",
       "      <th>0</th>\n",
       "      <td>2171</td>\n",
       "    </tr>\n",
       "  </tbody>\n",
       "</table>\n",
       "</div>"
      ],
      "text/plain": [
       "    cnt\n",
       "0  2171"
      ]
     },
     "execution_count": 13,
     "metadata": {},
     "output_type": "execute_result"
    }
   ],
   "source": [
    "q1 = \"\"\"SELECT count(distinct cocept_id) cnt \n",
    "          FROM dfData \n",
    "         WHERE doc_type != 'test_type'  \"\"\"\n",
    "\n",
    "df = ps.sqldf(q1, locals())\n",
    "df"
   ]
  },
  {
   "cell_type": "code",
   "execution_count": 14,
   "metadata": {},
   "outputs": [
    {
     "data": {
      "text/html": [
       "<div>\n",
       "<style scoped>\n",
       "    .dataframe tbody tr th:only-of-type {\n",
       "        vertical-align: middle;\n",
       "    }\n",
       "\n",
       "    .dataframe tbody tr th {\n",
       "        vertical-align: top;\n",
       "    }\n",
       "\n",
       "    .dataframe thead th {\n",
       "        text-align: right;\n",
       "    }\n",
       "</style>\n",
       "<table border=\"1\" class=\"dataframe\">\n",
       "  <thead>\n",
       "    <tr style=\"text-align: right;\">\n",
       "      <th></th>\n",
       "      <th>Type</th>\n",
       "      <th>cnt</th>\n",
       "    </tr>\n",
       "  </thead>\n",
       "  <tbody>\n",
       "    <tr>\n",
       "      <th>0</th>\n",
       "      <td>admin instructions</td>\n",
       "      <td>395</td>\n",
       "    </tr>\n",
       "    <tr>\n",
       "      <th>1</th>\n",
       "      <td>directives</td>\n",
       "      <td>787</td>\n",
       "    </tr>\n",
       "    <tr>\n",
       "      <th>2</th>\n",
       "      <td>instructions</td>\n",
       "      <td>1383</td>\n",
       "    </tr>\n",
       "    <tr>\n",
       "      <th>3</th>\n",
       "      <td>manuals</td>\n",
       "      <td>2034</td>\n",
       "    </tr>\n",
       "    <tr>\n",
       "      <th>4</th>\n",
       "      <td>memos</td>\n",
       "      <td>288</td>\n",
       "    </tr>\n",
       "  </tbody>\n",
       "</table>\n",
       "</div>"
      ],
      "text/plain": [
       "                 Type   cnt\n",
       "0  admin instructions   395\n",
       "1          directives   787\n",
       "2        instructions  1383\n",
       "3             manuals  2034\n",
       "4               memos   288"
      ]
     },
     "execution_count": 14,
     "metadata": {},
     "output_type": "execute_result"
    }
   ],
   "source": [
    "q1 = \"\"\"SELECT doc_type Type,count(distinct cocept_id) cnt \n",
    "          FROM dfData \n",
    "         WHERE doc_type != 'test_type'  \n",
    "         GROUP BY doc_type \"\"\"\n",
    "\n",
    "df = ps.sqldf(q1, locals())\n",
    "df"
   ]
  },
  {
   "cell_type": "code",
   "execution_count": 15,
   "metadata": {},
   "outputs": [
    {
     "data": {
      "image/png": "[encoded data removed]",
      "text/plain": [
       "<Figure size 576x432 with 1 Axes>"
      ]
     },
     "metadata": {
      "needs_background": "light"
     },
     "output_type": "display_data"
    }
   ],
   "source": [
    "plt.figure(figsize=(8,6))\n",
    "myplot = sns.barplot(data=df,x=df.Type,y=df.cnt)\n",
    "\n",
    "plt.ylabel('Concept Count')\n",
    "plt.xlabel('Document Type')\n",
    "plt.title('Number of Matching Concepts by Document Type')\n",
    "\n",
    "for rect in myplot.patches:\n",
    "    xcoor = rect.get_x() + .5*rect.get_width()\n",
    "    ycoor = rect.get_height()\n",
    "    plt.text(xcoor, ycoor, str(int(ycoor)), \n",
    "             horizontalalignment='center', \n",
    "             verticalalignment='bottom',\n",
    "             fontsize=14)"
   ]
  },
  {
   "cell_type": "code",
   "execution_count": 16,
   "metadata": {},
   "outputs": [
    {
     "data": {
      "text/html": [
       "<div>\n",
       "<style scoped>\n",
       "    .dataframe tbody tr th:only-of-type {\n",
       "        vertical-align: middle;\n",
       "    }\n",
       "\n",
       "    .dataframe tbody tr th {\n",
       "        vertical-align: top;\n",
       "    }\n",
       "\n",
       "    .dataframe thead th {\n",
       "        text-align: right;\n",
       "    }\n",
       "</style>\n",
       "<table border=\"1\" class=\"dataframe\">\n",
       "  <thead>\n",
       "    <tr style=\"text-align: right;\">\n",
       "      <th></th>\n",
       "      <th>Type</th>\n",
       "      <th>cnt</th>\n",
       "    </tr>\n",
       "  </thead>\n",
       "  <tbody>\n",
       "    <tr>\n",
       "      <th>0</th>\n",
       "      <td>acronym</td>\n",
       "      <td>658</td>\n",
       "    </tr>\n",
       "    <tr>\n",
       "      <th>1</th>\n",
       "      <td>altLabel</td>\n",
       "      <td>597</td>\n",
       "    </tr>\n",
       "    <tr>\n",
       "      <th>2</th>\n",
       "      <td>prefLabel</td>\n",
       "      <td>1721</td>\n",
       "    </tr>\n",
       "  </tbody>\n",
       "</table>\n",
       "</div>"
      ],
      "text/plain": [
       "        Type   cnt\n",
       "0    acronym   658\n",
       "1   altLabel   597\n",
       "2  prefLabel  1721"
      ]
     },
     "execution_count": 16,
     "metadata": {},
     "output_type": "execute_result"
    }
   ],
   "source": [
    "q1 = \"\"\"SELECT phrase_type Type,count(distinct cocept_id) cnt \n",
    "          FROM dfData \n",
    "         WHERE doc_type != 'test_type'  \n",
    "         GROUP BY phrase_type \"\"\"\n",
    "\n",
    "df = ps.sqldf(q1, locals())\n",
    "df"
   ]
  },
  {
   "cell_type": "code",
   "execution_count": 17,
   "metadata": {},
   "outputs": [
    {
     "data": {
      "image/png": "[encoded data removed]",
      "text/plain": [
       "<Figure size 576x432 with 1 Axes>"
      ]
     },
     "metadata": {
      "needs_background": "light"
     },
     "output_type": "display_data"
    }
   ],
   "source": [
    "plt.figure(figsize=(8,6))\n",
    "myplot = sns.barplot(data=df,x=df.Type,y=df.cnt)\n",
    "\n",
    "plt.ylabel('Concept Count')\n",
    "plt.xlabel('Phrase Type')\n",
    "plt.title('Number of Matching Concepts by Phrase Type')\n",
    "\n",
    "for rect in myplot.patches:\n",
    "    xcoor = rect.get_x() + .5*rect.get_width()\n",
    "    ycoor = rect.get_height()\n",
    "    plt.text(xcoor, ycoor, str(int(ycoor)), \n",
    "             horizontalalignment='center', \n",
    "             verticalalignment='bottom',\n",
    "             fontsize=14)"
   ]
  },
  {
   "cell_type": "code",
   "execution_count": null,
   "metadata": {},
   "outputs": [],
   "source": []
  },
  {
   "cell_type": "code",
   "execution_count": 18,
   "metadata": {},
   "outputs": [
    {
     "data": {
      "text/html": [
       "<div>\n",
       "<style scoped>\n",
       "    .dataframe tbody tr th:only-of-type {\n",
       "        vertical-align: middle;\n",
       "    }\n",
       "\n",
       "    .dataframe tbody tr th {\n",
       "        vertical-align: top;\n",
       "    }\n",
       "\n",
       "    .dataframe thead th {\n",
       "        text-align: right;\n",
       "    }\n",
       "</style>\n",
       "<table border=\"1\" class=\"dataframe\">\n",
       "  <thead>\n",
       "    <tr style=\"text-align: right;\">\n",
       "      <th></th>\n",
       "      <th>Type</th>\n",
       "      <th>cnt</th>\n",
       "    </tr>\n",
       "  </thead>\n",
       "  <tbody>\n",
       "    <tr>\n",
       "      <th>0</th>\n",
       "      <td>admin instructions</td>\n",
       "      <td>15261</td>\n",
       "    </tr>\n",
       "    <tr>\n",
       "      <th>1</th>\n",
       "      <td>directives</td>\n",
       "      <td>85107</td>\n",
       "    </tr>\n",
       "    <tr>\n",
       "      <th>2</th>\n",
       "      <td>instructions</td>\n",
       "      <td>338538</td>\n",
       "    </tr>\n",
       "    <tr>\n",
       "      <th>3</th>\n",
       "      <td>manuals</td>\n",
       "      <td>280770</td>\n",
       "    </tr>\n",
       "    <tr>\n",
       "      <th>4</th>\n",
       "      <td>memos</td>\n",
       "      <td>6238</td>\n",
       "    </tr>\n",
       "  </tbody>\n",
       "</table>\n",
       "</div>"
      ],
      "text/plain": [
       "                 Type     cnt\n",
       "0  admin instructions   15261\n",
       "1          directives   85107\n",
       "2        instructions  338538\n",
       "3             manuals  280770\n",
       "4               memos    6238"
      ]
     },
     "execution_count": 18,
     "metadata": {},
     "output_type": "execute_result"
    }
   ],
   "source": [
    "q1 = \"\"\"SELECT doc_type Type,sum(phrase_count) cnt \n",
    "          FROM dfData \n",
    "         WHERE doc_type != 'test_type'  \n",
    "         GROUP BY doc_type \"\"\"\n",
    "\n",
    "df = ps.sqldf(q1, locals())\n",
    "df"
   ]
  },
  {
   "cell_type": "code",
   "execution_count": 19,
   "metadata": {},
   "outputs": [
    {
     "data": {
      "image/png": "[encoded data removed]",
      "text/plain": [
       "<Figure size 576x432 with 1 Axes>"
      ]
     },
     "metadata": {
      "needs_background": "light"
     },
     "output_type": "display_data"
    }
   ],
   "source": [
    "plt.figure(figsize=(8,6))\n",
    "myplot = sns.barplot(data=df,x=df.Type,y=df.cnt)\n",
    "\n",
    "plt.ylabel('Words Count')\n",
    "plt.xlabel('Document Type')\n",
    "plt.title('Number of words processed by Document Type')\n",
    "\n",
    "for rect in myplot.patches:\n",
    "    xcoor = rect.get_x() + .5*rect.get_width()\n",
    "    ycoor = rect.get_height()\n",
    "    plt.text(xcoor, ycoor, str(int(ycoor)), \n",
    "             horizontalalignment='center', \n",
    "             verticalalignment='bottom',\n",
    "             fontsize=14)"
   ]
  },
  {
   "cell_type": "code",
   "execution_count": null,
   "metadata": {},
   "outputs": [],
   "source": []
  },
  {
   "cell_type": "code",
   "execution_count": 20,
   "metadata": {},
   "outputs": [
    {
     "data": {
      "text/html": [
       "<div>\n",
       "<style scoped>\n",
       "    .dataframe tbody tr th:only-of-type {\n",
       "        vertical-align: middle;\n",
       "    }\n",
       "\n",
       "    .dataframe tbody tr th {\n",
       "        vertical-align: top;\n",
       "    }\n",
       "\n",
       "    .dataframe thead th {\n",
       "        text-align: right;\n",
       "    }\n",
       "</style>\n",
       "<table border=\"1\" class=\"dataframe\">\n",
       "  <thead>\n",
       "    <tr style=\"text-align: right;\">\n",
       "      <th></th>\n",
       "      <th>Type</th>\n",
       "      <th>cnt</th>\n",
       "    </tr>\n",
       "  </thead>\n",
       "  <tbody>\n",
       "    <tr>\n",
       "      <th>0</th>\n",
       "      <td>admin instructions</td>\n",
       "      <td>15261</td>\n",
       "    </tr>\n",
       "    <tr>\n",
       "      <th>1</th>\n",
       "      <td>directives</td>\n",
       "      <td>85107</td>\n",
       "    </tr>\n",
       "    <tr>\n",
       "      <th>2</th>\n",
       "      <td>instructions</td>\n",
       "      <td>338538</td>\n",
       "    </tr>\n",
       "    <tr>\n",
       "      <th>3</th>\n",
       "      <td>manuals</td>\n",
       "      <td>280770</td>\n",
       "    </tr>\n",
       "    <tr>\n",
       "      <th>4</th>\n",
       "      <td>memos</td>\n",
       "      <td>6238</td>\n",
       "    </tr>\n",
       "  </tbody>\n",
       "</table>\n",
       "</div>"
      ],
      "text/plain": [
       "                 Type     cnt\n",
       "0  admin instructions   15261\n",
       "1          directives   85107\n",
       "2        instructions  338538\n",
       "3             manuals  280770\n",
       "4               memos    6238"
      ]
     },
     "execution_count": 20,
     "metadata": {},
     "output_type": "execute_result"
    }
   ],
   "source": [
    "df = ps.sqldf(q1, locals())\n",
    "df"
   ]
  },
  {
   "cell_type": "code",
   "execution_count": 21,
   "metadata": {},
   "outputs": [
    {
     "data": {
      "image/png": "[encoded data removed]",
      "text/plain": [
       "<Figure size 576x432 with 1 Axes>"
      ]
     },
     "metadata": {
      "needs_background": "light"
     },
     "output_type": "display_data"
    }
   ],
   "source": [
    "plt.figure(figsize=(8,6))\n",
    "myplot = sns.barplot(data=df,x=df.Type,y=df.cnt)\n",
    "\n",
    "plt.ylabel('Document Count')\n",
    "plt.xlabel('Document Type')\n",
    "plt.title('Number of Documents Processed by Document Type')\n",
    "\n",
    "for rect in myplot.patches:\n",
    "    xcoor = rect.get_x() + .5*rect.get_width()\n",
    "    ycoor = rect.get_height()\n",
    "    plt.text(xcoor, ycoor, str(int(ycoor)), \n",
    "             horizontalalignment='center', \n",
    "             verticalalignment='bottom',\n",
    "             fontsize=14)"
   ]
  },
  {
   "cell_type": "code",
   "execution_count": 22,
   "metadata": {},
   "outputs": [
    {
     "data": {
      "text/html": [
       "<div>\n",
       "<style scoped>\n",
       "    .dataframe tbody tr th:only-of-type {\n",
       "        vertical-align: middle;\n",
       "    }\n",
       "\n",
       "    .dataframe tbody tr th {\n",
       "        vertical-align: top;\n",
       "    }\n",
       "\n",
       "    .dataframe thead th {\n",
       "        text-align: right;\n",
       "    }\n",
       "</style>\n",
       "<table border=\"1\" class=\"dataframe\">\n",
       "  <thead>\n",
       "    <tr style=\"text-align: right;\">\n",
       "      <th></th>\n",
       "      <th>cocept_id</th>\n",
       "      <th>cnt</th>\n",
       "    </tr>\n",
       "  </thead>\n",
       "  <tbody>\n",
       "    <tr>\n",
       "      <th>0</th>\n",
       "      <td>2564</td>\n",
       "      <td>2176</td>\n",
       "    </tr>\n",
       "    <tr>\n",
       "      <th>1</th>\n",
       "      <td>2604</td>\n",
       "      <td>1979</td>\n",
       "    </tr>\n",
       "    <tr>\n",
       "      <th>2</th>\n",
       "      <td>338</td>\n",
       "      <td>1605</td>\n",
       "    </tr>\n",
       "    <tr>\n",
       "      <th>3</th>\n",
       "      <td>1892</td>\n",
       "      <td>1497</td>\n",
       "    </tr>\n",
       "    <tr>\n",
       "      <th>4</th>\n",
       "      <td>2589</td>\n",
       "      <td>1333</td>\n",
       "    </tr>\n",
       "    <tr>\n",
       "      <th>5</th>\n",
       "      <td>767</td>\n",
       "      <td>1324</td>\n",
       "    </tr>\n",
       "    <tr>\n",
       "      <th>6</th>\n",
       "      <td>392</td>\n",
       "      <td>1252</td>\n",
       "    </tr>\n",
       "    <tr>\n",
       "      <th>7</th>\n",
       "      <td>1528</td>\n",
       "      <td>1231</td>\n",
       "    </tr>\n",
       "    <tr>\n",
       "      <th>8</th>\n",
       "      <td>646</td>\n",
       "      <td>1230</td>\n",
       "    </tr>\n",
       "    <tr>\n",
       "      <th>9</th>\n",
       "      <td>1417</td>\n",
       "      <td>1224</td>\n",
       "    </tr>\n",
       "  </tbody>\n",
       "</table>\n",
       "</div>"
      ],
      "text/plain": [
       "   cocept_id   cnt\n",
       "0       2564  2176\n",
       "1       2604  1979\n",
       "2        338  1605\n",
       "3       1892  1497\n",
       "4       2589  1333\n",
       "5        767  1324\n",
       "6        392  1252\n",
       "7       1528  1231\n",
       "8        646  1230\n",
       "9       1417  1224"
      ]
     },
     "execution_count": 22,
     "metadata": {},
     "output_type": "execute_result"
    }
   ],
   "source": [
    "q1 = \"\"\"SELECT cocept_id,count(phrase_text) cnt \n",
    "          FROM dfData \n",
    "         WHERE doc_type != 'test_type'  \n",
    "         GROUP BY cocept_id \n",
    "         ORDER BY count(phrase_text) DESC \n",
    "         LIMIT 10 \"\"\"\n",
    "\n",
    "df = ps.sqldf(q1, locals())\n",
    "df"
   ]
  },
  {
   "cell_type": "code",
   "execution_count": null,
   "metadata": {},
   "outputs": [],
   "source": []
  },
  {
   "cell_type": "code",
   "execution_count": null,
   "metadata": {},
   "outputs": [],
   "source": []
  },
  {
   "cell_type": "code",
   "execution_count": null,
   "metadata": {},
   "outputs": [],
   "source": []
  },
  {
   "cell_type": "code",
   "execution_count": null,
   "metadata": {},
   "outputs": [],
   "source": []
  },
  {
   "cell_type": "code",
   "execution_count": null,
   "metadata": {},
   "outputs": [],
   "source": []
  },
  {
   "cell_type": "code",
   "execution_count": null,
   "metadata": {},
   "outputs": [],
   "source": []
  },
  {
   "cell_type": "code",
   "execution_count": null,
   "metadata": {},
   "outputs": [],
   "source": []
  },
  {
   "cell_type": "code",
   "execution_count": null,
   "metadata": {},
   "outputs": [],
   "source": []
  },
  {
   "cell_type": "code",
   "execution_count": null,
   "metadata": {},
   "outputs": [],
   "source": []
  }
 ],
 "metadata": {
  "kernelspec": {
   "display_name": "Python 3",
   "language": "python",
   "name": "python3"
  },
  "language_info": {
   "codemirror_mode": {
    "name": "ipython",
    "version": 3
   },
   "file_extension": ".py",
   "mimetype": "text/x-python",
   "name": "python",
   "nbconvert_exporter": "python",
   "pygments_lexer": "ipython3",
   "version": "3.8.5"
  }
 },
 "nbformat": 4,
 "nbformat_minor": 4
}
